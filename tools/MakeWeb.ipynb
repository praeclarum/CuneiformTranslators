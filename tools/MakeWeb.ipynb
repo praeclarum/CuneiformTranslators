{
 "cells": [
  {
   "cell_type": "markdown",
   "id": "a01459ea",
   "metadata": {},
   "source": [
    "# Make Web Site"
   ]
  },
  {
   "cell_type": "code",
   "execution_count": 1,
   "id": "902bef73",
   "metadata": {},
   "outputs": [],
   "source": [
    "import sys, os, io, datetime\n",
    "import json\n",
    "import random\n",
    "import requests\n",
    "import zipfile\n",
    "import glob\n",
    "import pandas as pd\n",
    "from slugify import slugify\n",
    "from tqdm.notebook import tqdm\n",
    "from html import escape"
   ]
  },
  {
   "cell_type": "code",
   "execution_count": 2,
   "id": "ef6812c9",
   "metadata": {},
   "outputs": [],
   "source": [
    "import cdli"
   ]
  },
  {
   "cell_type": "code",
   "execution_count": 3,
   "id": "acbefe00",
   "metadata": {},
   "outputs": [],
   "source": [
    "pd.set_option(\"display.max_columns\", None)"
   ]
  },
  {
   "cell_type": "code",
   "execution_count": 4,
   "id": "c50f4094",
   "metadata": {},
   "outputs": [],
   "source": [
    "supported_langs = set([\"akk\"])"
   ]
  },
  {
   "cell_type": "code",
   "execution_count": 5,
   "id": "63b1ed21",
   "metadata": {},
   "outputs": [
    {
     "data": {
      "text/plain": [
       "'/Users/fak/Dropbox/Projects/CuneiformTranslators/dist'"
      ]
     },
     "execution_count": 5,
     "metadata": {},
     "output_type": "execute_result"
    }
   ],
   "source": [
    "wwwroot = os.path.abspath(\"../dist\")\n",
    "os.makedirs(wwwroot, exist_ok=True)\n",
    "wwwroot"
   ]
  },
  {
   "cell_type": "markdown",
   "id": "4cb499e5",
   "metadata": {},
   "source": [
    "## Download the Catalog"
   ]
  },
  {
   "cell_type": "code",
   "execution_count": null,
   "id": "06749844",
   "metadata": {},
   "outputs": [
    {
     "name": "stdout",
     "output_type": "stream",
     "text": [
      "Downloading https://github.com/cdli-gh/data/raw/master/cdli_cat.csv\n"
     ]
    }
   ],
   "source": [
    "cat = cdli.get_catalog()"
   ]
  },
  {
   "cell_type": "code",
   "execution_count": null,
   "id": "d9250374",
   "metadata": {},
   "outputs": [],
   "source": [
    "cat"
   ]
  },
  {
   "cell_type": "code",
   "execution_count": null,
   "id": "d2eabd7e",
   "metadata": {},
   "outputs": [],
   "source": [
    "len(cat)"
   ]
  },
  {
   "cell_type": "code",
   "execution_count": null,
   "id": "2405be0f",
   "metadata": {},
   "outputs": [],
   "source": [
    "cat.columns"
   ]
  },
  {
   "cell_type": "code",
   "execution_count": null,
   "id": "1b35b31a",
   "metadata": {},
   "outputs": [],
   "source": []
  },
  {
   "cell_type": "code",
   "execution_count": null,
   "id": "e6d8f0f6",
   "metadata": {},
   "outputs": [],
   "source": []
  },
  {
   "cell_type": "markdown",
   "id": "1c0cacea",
   "metadata": {},
   "source": [
    "https://cdli.ucla.edu/search/archival_view.php?ObjectID=P256681"
   ]
  },
  {
   "cell_type": "code",
   "execution_count": null,
   "id": "e284b582",
   "metadata": {},
   "outputs": [],
   "source": [
    "cat[cat[\"id_text\"]==256681]"
   ]
  },
  {
   "cell_type": "markdown",
   "id": "5f5ee404",
   "metadata": {},
   "source": [
    "## Get the Human Transliterations"
   ]
  },
  {
   "cell_type": "code",
   "execution_count": null,
   "id": "05ecf415",
   "metadata": {},
   "outputs": [],
   "source": [
    "all_publications = cdli.get_atf()"
   ]
  },
  {
   "cell_type": "code",
   "execution_count": null,
   "id": "90b1b8f3",
   "metadata": {},
   "outputs": [],
   "source": [
    "print(\"Merging transliterations with catalog\")\n",
    "merged_pubs = cdli.merge_atf_with_catalog(all_publications, cat, tqdm)"
   ]
  },
  {
   "cell_type": "code",
   "execution_count": null,
   "id": "dff0d719",
   "metadata": {},
   "outputs": [],
   "source": [
    "output_pubs = [p for p in merged_pubs if p.language in supported_langs]\n",
    "len(output_pubs)"
   ]
  },
  {
   "cell_type": "markdown",
   "id": "4a42cb4f",
   "metadata": {},
   "source": [
    "## Get the ML Translations"
   ]
  },
  {
   "cell_type": "code",
   "execution_count": null,
   "id": "b2741947",
   "metadata": {},
   "outputs": [],
   "source": [
    "translations_json_path = \"../data/ml_translations.json\"\n",
    "translations = json.loads(str(open(translations_json_path, \"rb\").read(), \"utf8\"))\n",
    "translations = translations[\"akk_to_en\"]\n",
    "len(translations)"
   ]
  },
  {
   "cell_type": "code",
   "execution_count": null,
   "id": "4e9225c3",
   "metadata": {},
   "outputs": [],
   "source": [
    "num_publications = len(cat)\n",
    "num_transliterations = len(output_pubs)\n",
    "num_translations = len([x for x in output_pubs if x.has_translations()])\n",
    "print(\"    num_publications:\", num_publications)\n",
    "print(\"num_transliterations:\", num_transliterations)\n",
    "print(\"    num_translations:\", num_translations)"
   ]
  },
  {
   "cell_type": "markdown",
   "id": "2682c03a",
   "metadata": {},
   "source": [
    "## Find Publications we have translations for"
   ]
  },
  {
   "cell_type": "code",
   "execution_count": null,
   "id": "8a9ba290",
   "metadata": {},
   "outputs": [],
   "source": [
    "src_lang = \"akk\"\n",
    "tgt_lang = \"en\"\n",
    "\n",
    "translated_pubs = []\n",
    "newly_translated_pubs = []\n",
    "\n",
    "for pub in tqdm(output_pubs):\n",
    "    if pub.language != src_lang:\n",
    "        continue\n",
    "    has_new_translations = False\n",
    "    has_ml_translations = True\n",
    "    for a in pub.text_areas:\n",
    "        for l in a.lines:\n",
    "            s = l.text\n",
    "            if len(s) > 0:\n",
    "                has_new_translations = has_new_translations or (tgt_lang not in l.languages)\n",
    "                if s in translations:\n",
    "                    l.languages[\"ml_\"+tgt_lang] = translations[s]\n",
    "                else:\n",
    "                    has_ml_translations = False\n",
    "    if has_ml_translations:\n",
    "        translated_pubs.append(pub)\n",
    "        if has_new_translations:\n",
    "            newly_translated_pubs.append(pub)\n",
    "    \n",
    "            \n",
    "print(len(translated_pubs), \"translated_pubs\")\n",
    "print(len(newly_translated_pubs), \"newly_translated_pubs\")"
   ]
  },
  {
   "cell_type": "code",
   "execution_count": null,
   "id": "81004c3a",
   "metadata": {},
   "outputs": [],
   "source": [
    "newly_translated_pubs[0]"
   ]
  },
  {
   "cell_type": "markdown",
   "id": "8cdf4c54",
   "metadata": {},
   "source": [
    "## Output the HTML"
   ]
  },
  {
   "cell_type": "code",
   "execution_count": null,
   "id": "8db67ff5",
   "metadata": {},
   "outputs": [],
   "source": [
    "def get_file_path(site_path):\n",
    "    return f\"{wwwroot}{site_path}\"\n",
    "\n",
    "def get_page_file_path(site_path):\n",
    "    return f\"{get_file_path(site_path)}.html\"\n",
    "    "
   ]
  },
  {
   "cell_type": "code",
   "execution_count": null,
   "id": "4f3342d8",
   "metadata": {},
   "outputs": [],
   "source": [
    "style = \"\"\"\n",
    "body { font-family: sans-serif; }\n",
    "div.content { margin: 0 auto; max-width: 512px; }\n",
    "body h1 { text-align: center; }\n",
    "p.src { font-size: 80%; font-style: italic;}\n",
    ".otitle { text-align: center; }\n",
    "h1.otitle { margin-top: 1em; padding-top: 1em; border-top:solid 2px rgba(128,128,128,0.5); }\n",
    "\"\"\""
   ]
  },
  {
   "cell_type": "code",
   "execution_count": null,
   "id": "ba8f429e",
   "metadata": {},
   "outputs": [],
   "source": [
    "def header(title, f):\n",
    "    f.write(f\"<html>\\n<head>\\n<title>{escape(title)}</title>\\n<meta name='viewport' content='width=device-width, initial-scale=1'>\\n<style>{style}</style></head>\\n<body>\\n<div class='content'><h1>{escape(title)}</h1>\\n\")\n",
    "    \n",
    "def footer(f):\n",
    "    f.write(f\"</div></body>\\n</html>\")"
   ]
  },
  {
   "cell_type": "code",
   "execution_count": null,
   "id": "b54ec692",
   "metadata": {},
   "outputs": [],
   "source": [
    "\n",
    "\n",
    "def output_pub(p, f):\n",
    "    f.write(f\"<h1 class='otitle'>P{p.id:06}: {' and '.join(cdli.get_genres(p.genre))} {cdli.get_object_type(p.object_type)}</h1>\\n\")\n",
    "    f.write(f\"<p class='otitle'>{p.period}</p>\\n\")\n",
    "    for a in p.text_areas:\n",
    "        if len(a.lines) == 0:\n",
    "            continue\n",
    "        f.write(f\"<section>\\n\")\n",
    "        f.write(f\"<h1>{escape(a.name)}</h1>\\n\")\n",
    "        show_lines = False\n",
    "        if show_lines:\n",
    "            f.write(\"<table>\")\n",
    "            for l in a.lines:\n",
    "                f.write(\"<tr>\")\n",
    "                f.write(f\"<td>{escape(l.text)}</td>\\n\")\n",
    "                if \"ml_en\" in l.languages:\n",
    "                    f.write(f\"<td>{escape(l.languages['ml_en'])}</td>\\n\")\n",
    "                else:\n",
    "                    f.write(f\"<td></td>\\n\")\n",
    "                f.write(\"</tr>\")\n",
    "            f.write(\"</table>\")\n",
    "        else:\n",
    "            s = \" \".join(l.text for l in a.lines)\n",
    "            t = \" \".join((l.languages['ml_en'] if 'ml_en' in l.languages else ' ') for l in a.lines)\n",
    "            f.write(f\"<p class='src'>{escape(s)}</p>\\n\")\n",
    "            f.write(f\"<p class='tgt'>{escape(t)}</p>\\n\")\n",
    "        f.write(f\"</section>\\n\")\n",
    "\n",
    "print(\"Writing /new\")\n",
    "with open(get_page_file_path(\"/new\"), \"wt\") as f:\n",
    "    header(\"ML Translations\", f)\n",
    "    f.write(f\"<p class='otitle'>Translated by <a href=\\\"https://huggingface.co/praeclarum/cuneiform\\\">praeclarum/cuneiform</a></p>\\n\")\n",
    "    newly_translated_pubs.sort(key=lambda a: a.id)\n",
    "    for p in tqdm(newly_translated_pubs):\n",
    "        if \"administrative\" in cdli.get_genres(p.genre):\n",
    "            pass\n",
    "        else:\n",
    "            f.write(f\"<section>\\n\")\n",
    "            output_pub(p, f)        \n",
    "            f.write(f\"</section>\\n\")\n",
    "    footer(f)\n",
    "    \n",
    "print(\"Writing /404\")\n",
    "with open(get_page_file_path(\"/404\"), \"wt\") as f:\n",
    "    header(\"Not Found\", f)\n",
    "    f.write(f\"<p>The page you are looking for is not here.</p>\\n\")\n",
    "    footer(f)\n",
    "    \n",
    "print(\"Writing /\")\n",
    "with open(get_page_file_path(\"/index\"), \"wt\") as f:\n",
    "    header(\"ML Cuneiform Translations\", f)\n",
    "    f.write(f\"<a href=\\\"/new\\\">New Translations</a>\\n\")\n",
    "    footer(f)"
   ]
  },
  {
   "cell_type": "code",
   "execution_count": null,
   "id": "31a47c78",
   "metadata": {},
   "outputs": [],
   "source": [
    "translated_pubs.sort(key=lambda a: a.id)\n",
    "for pub in tqdm(translated_pubs):\n",
    "    page_site_path = f\"/p{pub.id:06}\"\n",
    "    page_file_path = get_page_file_path(page_site_path)\n",
    "#     print(page_file_path)\n",
    "\n"
   ]
  },
  {
   "cell_type": "code",
   "execution_count": null,
   "id": "10d842dc",
   "metadata": {},
   "outputs": [],
   "source": [
    "for f in glob.glob(\"../dist/*\"):\n",
    "    print(f)"
   ]
  },
  {
   "cell_type": "code",
   "execution_count": null,
   "id": "ad953753",
   "metadata": {},
   "outputs": [],
   "source": []
  },
  {
   "cell_type": "code",
   "execution_count": null,
   "id": "0cd7b02b",
   "metadata": {},
   "outputs": [],
   "source": []
  },
  {
   "cell_type": "code",
   "execution_count": null,
   "id": "a4af7efe",
   "metadata": {},
   "outputs": [],
   "source": []
  },
  {
   "cell_type": "code",
   "execution_count": null,
   "id": "bad79482",
   "metadata": {},
   "outputs": [],
   "source": []
  },
  {
   "cell_type": "code",
   "execution_count": null,
   "id": "3411758e",
   "metadata": {},
   "outputs": [],
   "source": []
  }
 ],
 "metadata": {
  "kernelspec": {
   "display_name": "Python 3 (ipykernel)",
   "language": "python",
   "name": "python3"
  },
  "language_info": {
   "codemirror_mode": {
    "name": "ipython",
    "version": 3
   },
   "file_extension": ".py",
   "mimetype": "text/x-python",
   "name": "python",
   "nbconvert_exporter": "python",
   "pygments_lexer": "ipython3",
   "version": "3.9.4"
  }
 },
 "nbformat": 4,
 "nbformat_minor": 5
}
