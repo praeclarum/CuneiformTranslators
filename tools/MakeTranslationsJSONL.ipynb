{
 "cells": [
  {
   "cell_type": "markdown",
   "metadata": {},
   "source": [
    "# Export ATF File Contents from CDLI\n",
    "\n",
    "Downloads: https://cdli.ucla.edu/downloads\n",
    "Languages: http://oracc.museum.upenn.edu/doc/help/languages/index.html\n",
    "\n",
    "Exports:\n",
    "    \n",
    "* "
   ]
  },
  {
   "cell_type": "code",
   "execution_count": 1,
   "metadata": {},
   "outputs": [],
   "source": [
    "import sys, os, io\n",
    "import requests\n",
    "import zipfile\n",
    "import tqdm\n",
    "import json"
   ]
  },
  {
   "cell_type": "code",
   "execution_count": 2,
   "metadata": {},
   "outputs": [],
   "source": [
    "output_json_path = \"../data/translations.jsonl\""
   ]
  },
  {
   "cell_type": "markdown",
   "metadata": {},
   "source": [
    "## Language Support\n",
    "\n",
    "Make a list of old and modern languages that we're interested in."
   ]
  },
  {
   "cell_type": "code",
   "execution_count": 3,
   "metadata": {},
   "outputs": [
    {
     "data": {
      "text/plain": [
       "{'akk',\n",
       " 'akkts',\n",
       " 'arc',\n",
       " 'arcts',\n",
       " 'de',\n",
       " 'elx',\n",
       " 'elxts',\n",
       " 'en',\n",
       " 'es',\n",
       " 'fr',\n",
       " 'grc',\n",
       " 'grcts',\n",
       " 'it',\n",
       " 'peo',\n",
       " 'peots',\n",
       " 'qpn',\n",
       " 'qpnts',\n",
       " 'sux',\n",
       " 'suxts',\n",
       " 'ug',\n",
       " 'ugts'}"
      ]
     },
     "execution_count": 3,
     "metadata": {},
     "output_type": "execute_result"
    }
   ],
   "source": [
    "old_languages = {\n",
    "    \"akk\": \"Akkadian\",\n",
    "    \"sux\": \"Sumerian\",\n",
    "    \"qpn\": \"Proper Nouns\",\n",
    "    \"arc\": \"Aramaic\",\n",
    "    \"elx\": \"Elamite\",\n",
    "    \"grc\": \"Greek\",\n",
    "    \"peo\": \"Old Persian\",\n",
    "    \"ug\": \"Ugaritic\",\n",
    "}\n",
    "modern_languages = {\n",
    "    \"de\": \"German\",\n",
    "    \"en\": \"English\",\n",
    "    \"es\": \"Spanish\",\n",
    "    \"fr\": \"French\",\n",
    "    \"it\": \"Italian\"\n",
    "}\n",
    "language_codes = set(list(modern_languages.keys()) + [x + suffix for x in old_languages.keys() for suffix in [\"\",\"ts\"]])\n",
    "language_codes"
   ]
  },
  {
   "cell_type": "markdown",
   "metadata": {},
   "source": [
    "## Download CDLI"
   ]
  },
  {
   "cell_type": "code",
   "execution_count": 13,
   "metadata": {},
   "outputs": [],
   "source": [
    "atf_url = \"https://cdli.ucla.edu/tools/cdlifiles/cdliatf_unblocked.zip\"\n",
    "atf_zip = zipfile.ZipFile(io.BytesIO(requests.get(atf_url).content))"
   ]
  },
  {
   "cell_type": "code",
   "execution_count": 14,
   "metadata": {},
   "outputs": [
    {
     "name": "stdout",
     "output_type": "stream",
     "text": [
      "&P000001 = CDLI Lexical 000002, ex. 065\n",
      "#atf: lang qpc \n",
      "@tablet \n",
      "@obverse \n",
      "@column 1 \n",
      "$ beginning broken \n",
      "1'. 1(N01) , [...] \n",
      ">>Q000002 014 \n",
      "2'. 1(N01) , ABGAL# \n",
      ">>Q000002 015 \n",
      "3'. 1(N01) , KINGAL# \n",
      ">>Q000002 016 \n",
      "@column 2 \n",
      "$ beginning broken \n",
      "1'. 1(N01) , [...] \n",
      ">>Q000002 030 \n",
      "2'. 1(N01) , GAL~a# UMUN2# \n",
      ">>Q000002 031 \n",
      "3'. 1(N01) , GAL~a UMUN2 KU3~a \n",
      ">>Q000002 032 \n",
      "@column 3 \n",
      "$ beginning broken \n",
      "1'. 1(N01) , DUB~a SANGA~a# \n",
      ">>Q000002 048 \n",
      "2'. 1(N01) , SUG5# SAG# \n",
      ">>Q000002 049 \n",
      "3'. 1(N01) , UB SAG# \n",
      ">>Q000002 050 \n",
      "@reverse \n",
      "1. [N] , [...] \n",
      ">>Q000002 colophon \n",
      " \n",
      "\n",
      "&P000002 = CDLI Lexical 000002, ex. 066\n",
      "#atf: lang qpc \n",
      "@tablet \n",
      "@obverse \n",
      "@column 1 \n",
      "$ beginning broken \n",
      "1'. [1(N01)] , [...] \n",
      ">>Q000002 013 \n",
      "2'. [1(N01)] , GAL~a# SZITA~a1 \n",
      ">>Q000002 014 \n",
      "3'. [1(N01)] , ABGAL# \n",
      ">>Q000002 015 \n",
      "$ rest broken \n",
      "@column 2 \n",
      "$ beginning broken \n",
      "1'. [1(N01)] , [...] NIM~a#? \n",
      ">>Q000002 023 \n"
     ]
    }
   ],
   "source": [
    "atf_lines = str(atf_zip.open(\"cdliatf_unblocked.atf\", \"r\").read(), \"utf8\").split(\"\\n\")\n",
    "for l in atf_lines[:50]:\n",
    "    print(l)"
   ]
  },
  {
   "cell_type": "code",
   "execution_count": 15,
   "metadata": {},
   "outputs": [],
   "source": [
    "class Publication():\n",
    "    def __init__(self, id):\n",
    "        self.id = id\n",
    "        self.text_areas = list()\n",
    "        self.language = None\n",
    "    def __repr__(self):\n",
    "        return f\"Publication({repr(self.id)}, {repr(self.language)}, {repr(self.text_areas)})\"\n",
    "    def has_translations(self):\n",
    "        return any(x.has_translations() for x in self.text_areas)\n",
    "    \n",
    "class TextArea():\n",
    "    def __init__(self, name):\n",
    "        self.name = name\n",
    "        self.lines = list()\n",
    "    def __repr__(self):\n",
    "        return f\"TextArea({repr(self.name)}, {repr(self.lines)})\"\n",
    "    def has_translations(self):\n",
    "        return len(self.lines) > 0 and self.lines[0].has_translations()\n",
    "    \n",
    "class TextLine():\n",
    "    def __init__(self, number, text):\n",
    "        self.number = number\n",
    "        self.text = text\n",
    "        self.languages = dict()\n",
    "    def __repr__(self):\n",
    "        return f\"TextLine({repr(self.number)}, {repr(self.text)}, {repr(self.languages)})\"\n",
    "    def has_translations(self):\n",
    "        for k in self.languages:\n",
    "            v = self.languages[k]\n",
    "            if len(v) > 0:\n",
    "                return True\n",
    "        return False\n",
    "    "
   ]
  },
  {
   "cell_type": "code",
   "execution_count": 16,
   "metadata": {
    "scrolled": false
   },
   "outputs": [
    {
     "name": "stderr",
     "output_type": "stream",
     "text": [
      "100%|██████████| 3012008/3012008 [00:12<00:00, 245049.82it/s]\n"
     ]
    },
    {
     "data": {
      "text/plain": [
       "[Publication('P000001 = CDLI Lexical 000002, ex. 065', 'qpc', [TextArea('tablet', []), TextArea('obverse', []), TextArea('column 1', [TextLine(\"1'.\", '1(N01) , [...]', {}), TextLine(\"2'.\", '1(N01) , ABGAL#', {}), TextLine(\"3'.\", '1(N01) , KINGAL#', {})]), TextArea('column 2', [TextLine(\"1'.\", '1(N01) , [...]', {}), TextLine(\"2'.\", '1(N01) , GAL~a# UMUN2#', {}), TextLine(\"3'.\", '1(N01) , GAL~a UMUN2 KU3~a', {})]), TextArea('column 3', [TextLine(\"1'.\", '1(N01) , DUB~a SANGA~a#', {}), TextLine(\"2'.\", '1(N01) , SUG5# SAG#', {}), TextLine(\"3'.\", '1(N01) , UB SAG#', {})]), TextArea('reverse', [TextLine('1.', '[N] , [...]', {})])]),\n",
       " Publication('P000002 = CDLI Lexical 000002, ex. 066', 'qpc', [TextArea('tablet', []), TextArea('obverse', []), TextArea('column 1', [TextLine(\"1'.\", '[1(N01)] , [...]', {}), TextLine(\"2'.\", '[1(N01)] , GAL~a# SZITA~a1', {}), TextLine(\"3'.\", '[1(N01)] , ABGAL#', {})]), TextArea('column 2', [TextLine(\"1'.\", '[1(N01)] , [...] NIM~a#?', {}), TextLine(\"2'.\", '1(N01) , GAL~a SILA4~b', {}), TextLine(\"3'.\", '1(N01) , GAL~a SZAB~a', {})]), TextArea('column 3', [TextLine(\"1'.\", '[1(N01)] , [...]', {})]), TextArea('reverse', [TextLine('1.', '[N] , [...]', {})])])]"
      ]
     },
     "execution_count": 16,
     "metadata": {},
     "output_type": "execute_result"
    }
   ],
   "source": [
    "publications = []\n",
    "pub = None\n",
    "text = None\n",
    "tline = None\n",
    "all_langs = set()\n",
    "\n",
    "for line in tqdm.tqdm(atf_lines):\n",
    "    line = line.replace(\"\\t\", \" \").strip()\n",
    "    if len(line) < 1:\n",
    "        continue\n",
    "    \n",
    "    if line[0] == \"&\":\n",
    "        pub = Publication(line[1:])\n",
    "        publications.append(pub)\n",
    "    elif line[0] == \"@\":\n",
    "        text = TextArea(line[1:])\n",
    "        pub.text_areas.append(text)\n",
    "    elif line[0].isdigit():\n",
    "#         print(line)\n",
    "        parts = line.split(\" \", 1)\n",
    "        number, t = parts if len(parts) == 2 else (line, \"\")\n",
    "        t = \" \".join(t.strip().split(\" \"))\n",
    "        tline = TextLine(number, t)\n",
    "        text.lines.append(tline)\n",
    "    elif len(line) > 4 and line.startswith(\"#atf: lang \"):\n",
    "        lang = line.split(\" \")[-1]\n",
    "        all_langs.add(lang)\n",
    "        pub.language = lang\n",
    "    elif len(line) > 4 and line.startswith(\"#tr.\"):\n",
    "        parts = line.split(\":\", 1)\n",
    "        lang, t = parts if len(parts) == 2 else (line, \"\")\n",
    "        lang = lang[4:]\n",
    "        if lang == \"ts\" and pub.language is not None:\n",
    "            lang = pub.language + \"ts\"\n",
    "        all_langs.add(lang)\n",
    "        t = \" \".join(t.strip().split(\" \"))\n",
    "        tline.languages[lang] = t\n",
    "    else:\n",
    "#         print(\"Unknown start:\", line[0])\n",
    "        pass\n",
    "\n",
    "publications[:2]"
   ]
  },
  {
   "cell_type": "code",
   "execution_count": 17,
   "metadata": {},
   "outputs": [
    {
     "data": {
      "text/plain": [
       "{' en',\n",
       " ' inspections, sealed documents',\n",
       " ' they shall release them;',\n",
       " '1',\n",
       " '_akk_',\n",
       " '_logo',\n",
       " '_sux',\n",
       " 'akk',\n",
       " 'akkts',\n",
       " 'arc',\n",
       " 'asux',\n",
       " 'ca',\n",
       " 'de',\n",
       " 'dk',\n",
       " 'egy',\n",
       " 'elx',\n",
       " 'en',\n",
       " 'en (he) said',\n",
       " 'en (this weight at) five minas',\n",
       " 'en (this weight at) one-half mina',\n",
       " 'en For Nanna,',\n",
       " 'en I personaly will [...] our gate [...]',\n",
       " 'en Kurub-Isztar, his brother Aszszur-imitti, son of Ikkupija,',\n",
       " 'en Puzur-szadue and Aszszur-makik, son of Luzina, were my witnesses.',\n",
       " 'en Puzur-szadue and Aszszur-malik, son of Luzina,',\n",
       " 'en When the iron and the textiles were sold in Aszszur-malik,',\n",
       " 'en When the money was paid Ammurumbani, Szu-Kubum,',\n",
       " 'en [...]',\n",
       " 'en [...] in accordance with',\n",
       " 'en and I will take [...]',\n",
       " 'en and king of the four world quarters,',\n",
       " 'en curtailment and deduction',\n",
       " 'en dedicated (this).',\n",
       " 'en had drawn away, his wife',\n",
       " 'en he (Enki) had given to him regarding it,',\n",
       " 'en his master,',\n",
       " 'en king of Ur',\n",
       " 'en of my partners [...] the iron [...]',\n",
       " 'en of the iron he brought.',\n",
       " 'en since five days',\n",
       " 'en son of Aszszur-bel-awatim, Aszszur-malik son of Alahum,',\n",
       " 'en the field that I gave he returns to the province,',\n",
       " 'en the mighty man,',\n",
       " 'en they are my witnesses. Seize the men and [lead them] to the Gate of the God',\n",
       " 'en to',\n",
       " 'en went up to the palace together with (me) and I paid the money',\n",
       " 'en whether at a banquet',\n",
       " 'en which I gave to him, Puzur-szadue [...]',\n",
       " 'en who, at the issuing of his order and the giving of his solemn decree',\n",
       " 'en Šulgi,',\n",
       " 'en. (header)',\n",
       " 'es',\n",
       " 'fa',\n",
       " 'fr',\n",
       " 'it',\n",
       " 'nlc',\n",
       " 'peo',\n",
       " 'qcu',\n",
       " 'qeb',\n",
       " 'qpc',\n",
       " 'qpe',\n",
       " 'six',\n",
       " 'sum',\n",
       " 'sux',\n",
       " 'sux&akk',\n",
       " 'suxts',\n",
       " 'tr',\n",
       " 'ts',\n",
       " 'ts ana Marduk bēlišu',\n",
       " 'ts eqel addinaššu ana pīhāti uttēr',\n",
       " 'ts further I had (them) led to you.',\n",
       " 'ug',\n",
       " 'ugts',\n",
       " 'urartian',\n",
       " 'web',\n",
       " 'xhu'}"
      ]
     },
     "execution_count": 17,
     "metadata": {},
     "output_type": "execute_result"
    }
   ],
   "source": [
    "all_langs"
   ]
  },
  {
   "cell_type": "markdown",
   "metadata": {},
   "source": [
    "## Find Publications with Translations"
   ]
  },
  {
   "cell_type": "code",
   "execution_count": 18,
   "metadata": {},
   "outputs": [],
   "source": [
    "for p in publications:\n",
    "    for a in p.text_areas:\n",
    "        n = len(a.lines)\n",
    "        skip = 0\n",
    "        while skip < n and len(a.lines[skip].text) == 0:\n",
    "            skip += 1\n",
    "        if skip > 0:\n",
    "#             print(\"SKIP\", skip, a)\n",
    "            a.lines = a.lines[skip:]    "
   ]
  },
  {
   "cell_type": "code",
   "execution_count": 19,
   "metadata": {},
   "outputs": [
    {
     "data": {
      "text/plain": [
       "(4035, 'translated publications')"
      ]
     },
     "execution_count": 19,
     "metadata": {},
     "output_type": "execute_result"
    }
   ],
   "source": [
    "translated_publications = [x for x in publications if x.language is not None and x.has_translations()]\n",
    "len(translated_publications), \"translated publications\""
   ]
  },
  {
   "cell_type": "code",
   "execution_count": 20,
   "metadata": {},
   "outputs": [
    {
     "data": {
      "text/plain": [
       "Publication('P001282 = ATU 5, pl. 066, W 9579,ai', 'qpc', [TextArea('tablet', []), TextArea('obverse', [TextLine('1.', '3(N01) 3(N08) , U8 UR2# UMBIN~a', {'en': '3 + 3 (lamb) ewes, ...;'}), TextLine('2.', '2(N01) , MASZ GURUSZDA MUSZ3~a', {'en': '2 goats, ...;'})]), TextArea('reverse', [])])"
      ]
     },
     "execution_count": 20,
     "metadata": {},
     "output_type": "execute_result"
    }
   ],
   "source": [
    "translated_publications[0]"
   ]
  },
  {
   "cell_type": "markdown",
   "metadata": {},
   "source": [
    "## Export them to JSON"
   ]
  },
  {
   "cell_type": "code",
   "execution_count": 21,
   "metadata": {
    "scrolled": false
   },
   "outputs": [
    {
     "name": "stderr",
     "output_type": "stream",
     "text": [
      "100%|██████████| 4035/4035 [00:00<00:00, 74842.64it/s]"
     ]
    },
    {
     "name": "stdout",
     "output_type": "stream",
     "text": [
      "6996 translations\n"
     ]
    },
    {
     "name": "stderr",
     "output_type": "stream",
     "text": [
      "\n"
     ]
    },
    {
     "data": {
      "text/plain": [
       "[{'akk': 'szum-ma a-wi-lum me-e ip-te-ma ep-sze-tim sza _a-sza3_ i-te-szu me-e usz-ta-bil2 _1(bur3) GAN2-e_ _1(u) sze gur_ i-ma-ad-da-ad',\n",
       "  'akkts': 'šumma awīlum mê iptēma epšētim ša eqel itēšu mê uštābil ana išten burim ešer kur še’am imaddad',\n",
       "  'en': 'If a man water opened, and whatever work has been done in his neighbor’s field the water has let carry away, per bur3 or field 10 gur of barley he shall measure out.'},\n",
       " {'akk': 'szum-ma _sipa_ a-na sza-am-mi _u8 udu hi-a_ szu-ku-lim it-ti be-el _a-sza3_ la im-ta-gar3-ma ba-lum be-el _a-sza3_ _a-sza3 u8 udu hi-a_ usz-ta-ki-il be-el _a-sza3 a-sza3_-szu i-is,-s,i-id _sipa_ sza i-na ba-lum be-el _a-sza3_ _a-sza3 u8 udu hi-a_ u2-sza-ki-lu e-le-nu-um-ma _1(bur3) GAN2-e_ _2(u) sze gur_ a-na be-el _a-sza3_ i-na-ad-di-in',\n",
       "  'akkts': 'šumma rē’ûm ana šammī ṣēnim šūkulim itti bēl eqlim to graze lā imtagarma balum bēl eqlim eqlam ṣēnam uštākil bēl eqlim eqelšu iṣṣid rē’ûm ša ina balum bēl eqlim eqlam ṣēnam ušākilu elēnumma ana išten burim 20 kur še’am ana bēl eqlim inaddin',\n",
       "  'en': 'If a shepherd with plants sheep and goats to feed with the owner of the field has not agreed, and without the permission of the owner of the field on the field sheep and goats feeds, the owner of the field his field shall harvest and the shepherd who without (the permission) of the owner of the field on the field sheep and goats fed, in addition per bur3 or field 20 gur of barley to the owner of the field shall give.'},\n",
       " {'akk': 'szum-ma isz-tu _u8 udu hi-a_ i-na _a-gar3_ i-te-li-a-nim ka-an-nu ga-ma-ar-tim i-na _abul_ it-ta-ah-la-lu _sipa u8 udu hi-a_ a-na _a-sza3_ id-di-ma _a-sza3 u8 udu hi-a_ usz-ta-ki-il _sipa a-sza3_ u2-sza-ki-lu i-na-s,a-ar-ma i-na _buru14_ _1(bur3) GAN2-e_ _1(gesz2) sze gur_ a-na be-el _a-sza3_ i-ma-ad-da-ad',\n",
       "  'akkts': 'šumma ištu ṣēnum ina ugārim ītelianim kannu gamartim ina abullim ittaḫlalu rē’ûm ṣēnam ana eqlim iddīma eqlam ṣēnam uštākil rē’ûm eqel ušākilu inaṣṣarma ina ebūrim ana išten burim išten šuši kur še’am ana bēl eqlim imaddad',\n",
       "  'en': 'If, after the sheep and goats from the common irrigated area have come up when the pennants announcing the termination of pasturing around the main city-gate are wound the shepherd the sheep and goats into a field releases and in the field the sheep and goats has fed, the shepherd the field where he fed shall guard, and at the harvest per 1 bur3 of field 60 kur of barley to the owner of the field he shall measure out.'},\n",
       " {'akk': 'szum-ma a-wi-lum ba-lum be-el _{gesz}kiri6_ i-na _{gesz}kiri6_ a-wi-lim i-s,a-am ik-ki-is 1/2(disz) _ma-na ku3-babbar_ i-sza-qal',\n",
       "  'akkts': 'šumma awīlum balum bēl kirîm ina kirī awīlim iṣam ikkis mišil mina kaspam išaqqal',\n",
       "  'en': 'If a man without (the permission of) the owner of the date orchard in a date orchard of a man a tree cut down, 1/2 mina of silver he shall weigh out.'},\n",
       " {'akk': 'szum-ma a-wi-lum _a-sza3_ a-na _{gesz}kiri6_ za-qa2-pi2-im a-na _nu-{gesz}kiri6_ id-di-in _nu-{gesz}kiri6_ _{gesz}kiri6_ iz-qu2-up _mu 4(disz)-kam_ _{gesz}kiri6_ u2-ra-ab-ba i-na ha-mu-usz-tim sza-at-tim be-el _{gesz}kiri6_ u3 _nu-{gesz}kiri6_ mi-it-ha-ri-isz i-zu-zu be-el _{gesz}kiri6_ _ha-la_-szu i-na-sa3-aq-ma i-le-qe2',\n",
       "  'akkts': 'šumma awīlum eqlam ana kirîm zaqāpim ana nukaribbim iddin nukaribbum kiriam izqup erbe šanātim kiriam urabba ina ḫamuštim šattim bēl kirîm u nukaribbum mitḫāriš izuzzu bēl kirîm zittašu inassaqma ileqqe',\n",
       "  'en': 'If a man a field as a date orchard to plant to an orchardist gave, and the orchardist the orchard planted, for 4 years the orchard he shall cultivate; in the fifth year, the owner of the orchard and the orchardist (the yield) equally shall divide; the owner of the orchard his share shall select and take.'},\n",
       " {'akk': 'szum-ma _nu-{gesz}kiri6_ _a-sza3_ i-na za-qa2-pi2-im la ig-mur-ma ni-di-tam i-zi-ib ni-di-tam a-na li-ib-bi _ha-la_-szu i-sza-ak-ka-nu-szum',\n",
       "  'akkts': 'šumma nukaribbum eqlam ina zaqāpim lā igmurma nidītam īzib nidītam ana libbi zittišu išakkanūšum',\n",
       "  'en': 'If the orchardist the planting of (the date orchard in) the field did not complete but an uncultivated area left, the uncultivated area in his share they shall set for him.'},\n",
       " {'akk': 'szum-ma _a-sza3_ sza in-na-ad-nu-szum a-na _{gesz}kiri6_ la iz-qu2-up szum-ma _ab-sin2_ _gun a-sza3_ sza sza-na-tim sza in-na-du-u2 _nu-{gesz}kiri6_ a-na be-el _a-sza3_ ki-ma i-te-szu i-ma-ad-da-ad u3 _a-sza3_ szi-ip-ra-am i-ip-pe2-esz-ma a-na be-el _a-sza3_ u2-ta-ar',\n",
       "  'akkts': 'šumma eqlam ša innadnušum ana kirîm lā izqup he did not plant— šumma šer’um bilat eqlim ša šanātim ša innadû nukaribbum ana bēl eqlim like that of his neighbor imaddad u eqlam šipram ippešma ana bēl eqlim utâr',\n",
       "  'en': 'If the field that was given to him as a date orchard if it is arable land, the yield of the field for the years it is left fallow the orchardist to the owner of the field  shall measure out; furthermore the required field work he shall perform, and to the owner of the field return it.'},\n",
       " {'akk': 'szum-ma _a-sza3 dubad_ _a-sza3_ szi-ip-ra-am i-ip-pe2-esz-ma _a-sza3_ be-el _a-sza3_ u2-ta-ar u3 _1(bur3) GAN2-e_ 1(u) _sze gur_ sza sza-at-tim isz-ti-a-at i-ma-ad-da-ad',\n",
       "  'akkts': 'šumma eqlum apītum eqlam šipram ippešma ana bēl eqlim utâr u ana išten burim ešer kur še’am ša šattim ištiat imaddad',\n",
       "  'en': 'If it is fallow land, the required field work he shall perform, and to the owner of the field return it; and per bur3 of field 10 gur barley per year each he shall measure out.'},\n",
       " {'akk': 'szum-ma a-wi-lum _{gesz}kiri6_-szu a-na _nu-{gesz}kiri6_ a-na ru-ku-bi-im id-di-in _nu-{gesz}kiri6_ a-di _{gesz}kiri6_ s,a-ab-tu i-na bi-la-at _{gesz}kiri6_ szi-it-ti-in a-na be-el _{gesz}kiri6_ i-na-ad-di-in sza-lu-usz-tam szu-u2 i-le-qe2',\n",
       "  'akkts': 'šumma awīlum kirāšu ana nukaribbim ana rukkubim iddin nukaribbum adi kirâm ṣabtu ina bilat kirîm šittīn ana bēl kirîm he shall give šaluštam šū ileqqe',\n",
       "  'en': 'If a man his orchard to a orchardist to pollinate (the date palms) gave, the orchardist as long as the orchard he holds, of the yield of the orchard two thirds to the owner of the orchard xxx and one third that one shall take.'},\n",
       " {'akk': 'szum-ma _nu-{gesz}kiri6_ _{gesz}kiri6_ la u2-ra-ak-ki-ib-ma bi-il-tam um-ta-t,i _nu-{gesz}kiri6_ bi-la-at _{gesz}kiri6_ a-na i-te-szu i-ma-ad-da-ad [...] s,i-ba-a-at _ku3-babbar_ ma-la il-qu2-u2 i-sa-ad-dar-ma u4-mi-szu i-ma-an-nu-u2-ma _dam-gar3_-szu i-ip-pa-al',\n",
       "  'akkts': 'šumma nukaribbum kirâm lā urakkibma biltam umtaṭṭi nukaribbum bilat kirîm ana <bēl kirîm kīma> itēšu imaddad [...] ṣibāt kaspim mala ilqû isaddarma ūmīšu imannūma tamkāršu ippal',\n",
       "  'en': 'If the orchardist (date palms in the) orchard did not pollinate, and thus the yield diminished, the orchardist a yield for the orchard to <the owner of the orchard like that of> his neighbor he shall measure out. ... interest of the silver, as much as he took, he shall go about and per his days he shall calculate, and his merchant he shall satisfy.'}]"
      ]
     },
     "execution_count": 21,
     "metadata": {},
     "output_type": "execute_result"
    }
   ],
   "source": [
    "translations = []\n",
    "\n",
    "for p in tqdm.tqdm(translated_publications):\n",
    "    src_lang = p.language\n",
    "    for a in p.text_areas:        \n",
    "        if not a.has_translations():\n",
    "            continue\n",
    "        src_text = \" \".join(x.text for x in a.lines)\n",
    "        tr = {}\n",
    "        if not (src_lang in language_codes):\n",
    "            continue\n",
    "        tr[src_lang] = src_text\n",
    "        langs = list(a.lines[0].languages.keys())\n",
    "        if len(langs) == 0:\n",
    "            print(\"WTF\")\n",
    "        for tgt_lang in langs:\n",
    "            if tgt_lang in language_codes:\n",
    "                tgt_text = \" \".join(x.languages[tgt_lang] if tgt_lang in x.languages else \"\" for x in a.lines)\n",
    "                tr[tgt_lang] = tgt_text\n",
    "        if len(tr) > 1:\n",
    "            translations.append(tr)\n",
    "\n",
    "print(len(translations), \"translations\")\n",
    "translations[100:110]"
   ]
  },
  {
   "cell_type": "code",
   "execution_count": 23,
   "metadata": {},
   "outputs": [],
   "source": [
    "with open(output_json_path, \"wb\") as f:\n",
    "    for t in translations:\n",
    "        f.write(bytes(json.dumps(t), \"utf8\"))\n",
    "        f.write(b\"\\n\")"
   ]
  },
  {
   "cell_type": "code",
   "execution_count": null,
   "metadata": {},
   "outputs": [],
   "source": []
  }
 ],
 "metadata": {
  "kernelspec": {
   "display_name": "Python 3",
   "language": "python",
   "name": "python3"
  },
  "language_info": {
   "codemirror_mode": {
    "name": "ipython",
    "version": 3
   },
   "file_extension": ".py",
   "mimetype": "text/x-python",
   "name": "python",
   "nbconvert_exporter": "python",
   "pygments_lexer": "ipython3",
   "version": "3.9.10"
  }
 },
 "nbformat": 4,
 "nbformat_minor": 4
}
