{
 "cells": [
  {
   "cell_type": "markdown",
   "id": "81f148c0",
   "metadata": {},
   "source": [
    "# Make Translations JSONL\n",
    "\n",
    "Outputs human translations to the data folder."
   ]
  },
  {
   "cell_type": "markdown",
   "id": "ca67a243",
   "metadata": {},
   "source": [
    "http://oracc.museum.upenn.edu/doc/help/editinginatf/primer/inlinetutorial/index.html"
   ]
  },
  {
   "cell_type": "code",
   "execution_count": 1,
   "id": "4e546ff0",
   "metadata": {},
   "outputs": [],
   "source": [
    "import os, sys, math\n",
    "import requests\n",
    "import json\n",
    "import time\n",
    "import random\n",
    "import shutil\n",
    "import zipfile\n",
    "from collections import defaultdict\n",
    "from glob import glob\n",
    "from bs4 import BeautifulSoup\n",
    "from tqdm.notebook import tqdm"
   ]
  },
  {
   "cell_type": "code",
   "execution_count": 2,
   "id": "58398084",
   "metadata": {},
   "outputs": [],
   "source": [
    "import cdli\n",
    "import oracc\n",
    "import languages"
   ]
  },
  {
   "cell_type": "code",
   "execution_count": 3,
   "id": "86cd371d",
   "metadata": {},
   "outputs": [
    {
     "data": {
      "text/plain": [
       "'/Volumes/FrankDisk/oracc_zips'"
      ]
     },
     "execution_count": 3,
     "metadata": {},
     "output_type": "execute_result"
    }
   ],
   "source": [
    "out_dir = os.path.abspath(f\"/Volumes/FrankDisk/oracc_zips\")\n",
    "os.makedirs(out_dir, exist_ok=True)\n",
    "out_dir"
   ]
  },
  {
   "cell_type": "code",
   "execution_count": 4,
   "id": "e2a4f0e0",
   "metadata": {},
   "outputs": [],
   "source": [
    "# This is loaded later. Put here so I don't accidentally run it.\n",
    "oracc_translated_pubs = dict()"
   ]
  },
  {
   "cell_type": "markdown",
   "id": "41dd77ac",
   "metadata": {},
   "source": [
    "## Download ORACC Projects"
   ]
  },
  {
   "cell_type": "code",
   "execution_count": 5,
   "id": "48e1366a",
   "metadata": {},
   "outputs": [
    {
     "data": {
      "application/vnd.jupyter.widget-view+json": {
       "model_id": "0f3a71e980754fb3a77fa73366fba357",
       "version_major": 2,
       "version_minor": 0
      },
      "text/plain": [
       "  0%|          | 0/136 [00:00<?, ?it/s]"
      ]
     },
     "metadata": {},
     "output_type": "display_data"
    }
   ],
   "source": [
    "project_zips = oracc.get_all_project_zips(out_dir, verbose=False, tqdm=tqdm)"
   ]
  },
  {
   "cell_type": "code",
   "execution_count": 6,
   "id": "5773a184",
   "metadata": {},
   "outputs": [
    {
     "name": "stdout",
     "output_type": "stream",
     "text": [
      "115\n"
     ]
    },
    {
     "data": {
      "text/plain": [
       "['/Volumes/FrankDisk/oracc_zips/adsd.zip',\n",
       " '/Volumes/FrankDisk/oracc_zips/adsd-adart1.zip',\n",
       " '/Volumes/FrankDisk/oracc_zips/adsd-adart2.zip']"
      ]
     },
     "execution_count": 6,
     "metadata": {},
     "output_type": "execute_result"
    }
   ],
   "source": [
    "print(len(project_zips))\n",
    "project_zips[:3]"
   ]
  },
  {
   "cell_type": "code",
   "execution_count": 7,
   "id": "d1a4e944",
   "metadata": {},
   "outputs": [
    {
     "data": {
      "application/vnd.jupyter.widget-view+json": {
       "model_id": "c33db6b1d25b40b7856e4ad7c89bbeb7",
       "version_major": 2,
       "version_minor": 0
      },
      "text/plain": [
       "  0%|          | 0/115 [00:00<?, ?it/s]"
      ]
     },
     "metadata": {},
     "output_type": "display_data"
    }
   ],
   "source": [
    "all_corpus_object_ids = oracc.get_all_corpus_object_ids(project_zips[:], tqdm=tqdm)"
   ]
  },
  {
   "cell_type": "code",
   "execution_count": 8,
   "id": "3f5fa61d",
   "metadata": {},
   "outputs": [
    {
     "data": {
      "text/plain": [
       "25522"
      ]
     },
     "execution_count": 8,
     "metadata": {},
     "output_type": "execute_result"
    }
   ],
   "source": [
    "len(all_corpus_object_ids)"
   ]
  },
  {
   "cell_type": "markdown",
   "id": "1c629271",
   "metadata": {},
   "source": [
    "## Load ORACC Transliterations"
   ]
  },
  {
   "cell_type": "code",
   "execution_count": 9,
   "id": "75a5a004",
   "metadata": {},
   "outputs": [
    {
     "data": {
      "application/vnd.jupyter.widget-view+json": {
       "model_id": "dff2e29968d54d2f80007baf7fc1e08b",
       "version_major": 2,
       "version_minor": 0
      },
      "text/plain": [
       "  0%|          | 0/136 [00:00<?, ?it/s]"
      ]
     },
     "metadata": {},
     "output_type": "display_data"
    },
    {
     "name": "stdout",
     "output_type": "stream",
     "text": [
      "Error: (<class 'json.decoder.JSONDecodeError'>, JSONDecodeError('Expecting value: line 1 column 1 (char 0)'), <traceback object at 0x7fd473f53540>)\n",
      "Error: (<class 'json.decoder.JSONDecodeError'>, JSONDecodeError('Expecting value: line 1 column 1 (char 0)'), <traceback object at 0x7fd2a7dbccc0>)\n",
      "Error: (<class 'json.decoder.JSONDecodeError'>, JSONDecodeError('Expecting value: line 1 column 1 (char 0)'), <traceback object at 0x7fd276430140>)\n",
      "Error: (<class 'json.decoder.JSONDecodeError'>, JSONDecodeError('Expecting value: line 1 column 1 (char 0)'), <traceback object at 0x7fd276fcc6c0>)\n",
      "Error: (<class 'json.decoder.JSONDecodeError'>, JSONDecodeError('Expecting value: line 1 column 1 (char 0)'), <traceback object at 0x7fd260238ac0>)\n",
      "Error: (<class 'json.decoder.JSONDecodeError'>, JSONDecodeError('Expecting value: line 1 column 1 (char 0)'), <traceback object at 0x7fd276ffa9c0>)\n",
      "Error: (<class 'json.decoder.JSONDecodeError'>, JSONDecodeError('Expecting value: line 1 column 1 (char 0)'), <traceback object at 0x7fd28123e980>)\n",
      "Error: (<class 'json.decoder.JSONDecodeError'>, JSONDecodeError('Expecting value: line 1 column 1 (char 0)'), <traceback object at 0x7fd281201500>)\n",
      "Error: (<class 'json.decoder.JSONDecodeError'>, JSONDecodeError('Expecting value: line 1 column 1 (char 0)'), <traceback object at 0x7fd3064b70c0>)\n",
      "Error: (<class 'json.decoder.JSONDecodeError'>, JSONDecodeError('Expecting value: line 1 column 1 (char 0)'), <traceback object at 0x7fd2762927c0>)\n",
      "Error: (<class 'json.decoder.JSONDecodeError'>, JSONDecodeError('Expecting value: line 1 column 1 (char 0)'), <traceback object at 0x7fd2ebf2b900>)\n",
      "Error: (<class 'json.decoder.JSONDecodeError'>, JSONDecodeError('Expecting value: line 1 column 1 (char 0)'), <traceback object at 0x7fd2ebf4acc0>)\n",
      "Error: (<class 'json.decoder.JSONDecodeError'>, JSONDecodeError('Expecting value: line 1 column 1 (char 0)'), <traceback object at 0x7fd1f8039980>)\n",
      "Error: (<class 'json.decoder.JSONDecodeError'>, JSONDecodeError('Expecting value: line 1 column 1 (char 0)'), <traceback object at 0x7fd20be0e2c0>)\n",
      "Error: (<class 'json.decoder.JSONDecodeError'>, JSONDecodeError('Expecting value: line 1 column 1 (char 0)'), <traceback object at 0x7fd20e1287c0>)\n",
      "Error: (<class 'json.decoder.JSONDecodeError'>, JSONDecodeError('Expecting value: line 1 column 1 (char 0)'), <traceback object at 0x7fd1c9d68580>)\n",
      "Error: (<class 'json.decoder.JSONDecodeError'>, JSONDecodeError('Expecting value: line 1 column 1 (char 0)'), <traceback object at 0x7fd1c9a6e840>)\n",
      "Error: (<class 'json.decoder.JSONDecodeError'>, JSONDecodeError('Expecting value: line 1 column 1 (char 0)'), <traceback object at 0x7fd0f480cc00>)\n",
      "Error: (<class 'json.decoder.JSONDecodeError'>, JSONDecodeError('Expecting value: line 1 column 1 (char 0)'), <traceback object at 0x7fd0e4f24fc0>)\n",
      "Error: (<class 'json.decoder.JSONDecodeError'>, JSONDecodeError('Expecting value: line 1 column 1 (char 0)'), <traceback object at 0x7fd0e57b9e80>)\n",
      "Error: (<class 'json.decoder.JSONDecodeError'>, JSONDecodeError('Expecting value: line 1 column 1 (char 0)'), <traceback object at 0x7fd0e63dd3c0>)\n",
      "Error: (<class 'json.decoder.JSONDecodeError'>, JSONDecodeError('Expecting value: line 1 column 1 (char 0)'), <traceback object at 0x7fd0e6275800>)\n",
      "Error: (<class 'json.decoder.JSONDecodeError'>, JSONDecodeError('Expecting value: line 1 column 1 (char 0)'), <traceback object at 0x7fd0e6d73280>)\n",
      "Error: (<class 'json.decoder.JSONDecodeError'>, JSONDecodeError('Expecting value: line 1 column 1 (char 0)'), <traceback object at 0x7fd0e7af2700>)\n",
      "Error: (<class 'json.decoder.JSONDecodeError'>, JSONDecodeError('Expecting value: line 1 column 1 (char 0)'), <traceback object at 0x7fd0e7a15900>)\n",
      "Error: (<class 'json.decoder.JSONDecodeError'>, JSONDecodeError('Expecting value: line 1 column 1 (char 0)'), <traceback object at 0x7fd147bd3bc0>)\n",
      "Error: (<class 'json.decoder.JSONDecodeError'>, JSONDecodeError('Expecting value: line 1 column 1 (char 0)'), <traceback object at 0x7fd147bd3a80>)\n",
      "Error: (<class 'json.decoder.JSONDecodeError'>, JSONDecodeError('Expecting value: line 1 column 1 (char 0)'), <traceback object at 0x7fd147aa99c0>)\n",
      "Error: (<class 'json.decoder.JSONDecodeError'>, JSONDecodeError('Expecting value: line 1 column 1 (char 0)'), <traceback object at 0x7fd0a8f82940>)\n",
      "Error: (<class 'json.decoder.JSONDecodeError'>, JSONDecodeError('Expecting value: line 1 column 1 (char 0)'), <traceback object at 0x7fd0aa74ec00>)\n",
      "Error: (<class 'json.decoder.JSONDecodeError'>, JSONDecodeError('Expecting value: line 1 column 1 (char 0)'), <traceback object at 0x7fd0aa74eac0>)\n",
      "Error: (<class 'json.decoder.JSONDecodeError'>, JSONDecodeError('Expecting value: line 1 column 1 (char 0)'), <traceback object at 0x7fd0f659cec0>)\n",
      "Error: (<class 'json.decoder.JSONDecodeError'>, JSONDecodeError('Expecting value: line 1 column 1 (char 0)'), <traceback object at 0x7fd125c57880>)\n",
      "Error: (<class 'json.decoder.JSONDecodeError'>, JSONDecodeError('Expecting value: line 1 column 1 (char 0)'), <traceback object at 0x7fd0abacac80>)\n",
      "Error: (<class 'json.decoder.JSONDecodeError'>, JSONDecodeError('Expecting value: line 1 column 1 (char 0)'), <traceback object at 0x7fd0ac3d6440>)\n",
      "Error: (<class 'json.decoder.JSONDecodeError'>, JSONDecodeError('Expecting value: line 1 column 1 (char 0)'), <traceback object at 0x7fd0ac3d6300>)\n",
      "Error: (<class 'json.decoder.JSONDecodeError'>, JSONDecodeError('Expecting value: line 1 column 1 (char 0)'), <traceback object at 0x7fd0ac55b140>)\n",
      "Error: (<class 'json.decoder.JSONDecodeError'>, JSONDecodeError('Expecting value: line 1 column 1 (char 0)'), <traceback object at 0x7fd0ad234b40>)\n",
      "Error: (<class 'json.decoder.JSONDecodeError'>, JSONDecodeError('Expecting value: line 1 column 1 (char 0)'), <traceback object at 0x7fd0ad875340>)\n",
      "Error: (<class 'json.decoder.JSONDecodeError'>, JSONDecodeError('Expecting value: line 1 column 1 (char 0)'), <traceback object at 0x7fd064a9f840>)\n",
      "Error: (<class 'json.decoder.JSONDecodeError'>, JSONDecodeError('Expecting value: line 1 column 1 (char 0)'), <traceback object at 0x7fd066da4540>)\n"
     ]
    }
   ],
   "source": [
    "oracc_pub_ids_and_langs, transliterated_oracc_corpi = oracc.load_all_project_pub_ids(out_dir, tqdm=tqdm)"
   ]
  },
  {
   "cell_type": "code",
   "execution_count": 10,
   "id": "a61140b9",
   "metadata": {},
   "outputs": [],
   "source": [
    "transliterated_oracc_pub_ids = set(transliterated_oracc_corpi.keys())"
   ]
  },
  {
   "cell_type": "code",
   "execution_count": 11,
   "id": "641ee561",
   "metadata": {},
   "outputs": [
    {
     "name": "stdout",
     "output_type": "stream",
     "text": [
      "132703 oracc pubs\n",
      "21607 oracc transliterated pubs\n"
     ]
    }
   ],
   "source": [
    "print(len(oracc_pub_ids_and_langs), \"oracc pubs\")\n",
    "print(len(transliterated_oracc_pub_ids), \"oracc transliterated pubs\")"
   ]
  },
  {
   "cell_type": "code",
   "execution_count": 12,
   "id": "c93956e0",
   "metadata": {},
   "outputs": [
    {
     "data": {
      "text/plain": [
       "['X900957', 'X900975', 'X900978', 'X987003', 'X999985']"
      ]
     },
     "execution_count": 12,
     "metadata": {},
     "output_type": "execute_result"
    }
   ],
   "source": [
    "sorted(list(transliterated_oracc_pub_ids))[-5:]"
   ]
  },
  {
   "cell_type": "markdown",
   "id": "0ef62040",
   "metadata": {},
   "source": [
    "## Download CDLI for Reference"
   ]
  },
  {
   "cell_type": "code",
   "execution_count": 13,
   "id": "4f136533",
   "metadata": {
    "scrolled": true
   },
   "outputs": [
    {
     "name": "stdout",
     "output_type": "stream",
     "text": [
      "Downloading https://github.com/cdli-gh/data/raw/master/cdliatf_unblocked.atf\n",
      "Parsing atf\n"
     ]
    }
   ],
   "source": [
    "cdli_pubs = cdli.get_atf()"
   ]
  },
  {
   "cell_type": "markdown",
   "id": "89b18b05",
   "metadata": {},
   "source": [
    "## Download ORACC Translations"
   ]
  },
  {
   "cell_type": "code",
   "execution_count": 14,
   "id": "52a01f52",
   "metadata": {},
   "outputs": [
    {
     "data": {
      "application/vnd.jupyter.widget-view+json": {
       "model_id": "8995ec8b7a1a4b509e2fe340ebef289d",
       "version_major": 2,
       "version_minor": 0
      },
      "text/plain": [
       "  0%|          | 0/115 [00:00<?, ?it/s]"
      ]
     },
     "metadata": {},
     "output_type": "display_data"
    },
    {
     "name": "stdout",
     "output_type": "stream",
     "text": [
      "16277 reported translations\n"
     ]
    }
   ],
   "source": [
    "reported_translated_ids = oracc.get_all_translated_object_ids(project_zips, tqdm)\n",
    "print(len(reported_translated_ids), \"reported translations\")"
   ]
  },
  {
   "cell_type": "code",
   "execution_count": 15,
   "id": "a3fac5bf",
   "metadata": {},
   "outputs": [
    {
     "data": {
      "application/vnd.jupyter.widget-view+json": {
       "model_id": "93577b7eb6cd45ac855dce5e73a8a7c6",
       "version_major": 2,
       "version_minor": 0
      },
      "text/plain": [
       "  0%|          | 0/16277 [00:00<?, ?it/s]"
      ]
     },
     "metadata": {},
     "output_type": "display_data"
    }
   ],
   "source": [
    "for pid, oid in tqdm(reported_translated_ids[:]):\n",
    "    tpath = oracc.download_object_translation(out_dir, pid, oid)\n",
    "#     print(tpath)"
   ]
  },
  {
   "cell_type": "code",
   "execution_count": 16,
   "id": "68083012",
   "metadata": {},
   "outputs": [
    {
     "name": "stdout",
     "output_type": "stream",
     "text": [
      "16102\n"
     ]
    },
    {
     "data": {
      "text/plain": [
       "['P010092', 'P010452', 'P010573']"
      ]
     },
     "execution_count": 16,
     "metadata": {},
     "output_type": "execute_result"
    }
   ],
   "source": [
    "all_object_html_paths = oracc.get_all_object_html_paths(out_dir)\n",
    "all_translated_ids = sorted(list(all_object_html_paths.keys()))\n",
    "print(len(all_object_html_paths))\n",
    "all_translated_ids[:3]"
   ]
  },
  {
   "cell_type": "markdown",
   "id": "11a961d3",
   "metadata": {},
   "source": [
    "## Normalize ORACC Transliterations"
   ]
  },
  {
   "cell_type": "code",
   "execution_count": 17,
   "id": "62130e3b",
   "metadata": {},
   "outputs": [],
   "source": [
    "def load_html(path):\n",
    "    with open(path, \"rt\") as f:\n",
    "        return BeautifulSoup(f.read())\n",
    "    \n",
    "def load_html_for_object_id(object_id):\n",
    "#     print(object_id)\n",
    "    return load_html(all_object_html_paths[object_id])\n",
    "\n",
    "\n"
   ]
  },
  {
   "cell_type": "code",
   "execution_count": 18,
   "id": "723d587b",
   "metadata": {
    "scrolled": false
   },
   "outputs": [],
   "source": [
    "def get_object_id_pub(object_id):\n",
    "    pub = cdli.Publication(object_id)\n",
    "    \n",
    "    surface = \"\"\n",
    "    column = \"\"\n",
    "    text_area = None\n",
    "    def add_line(number, cuneiform):\n",
    "        nonlocal surface, column, text_area, pub\n",
    "        if text_area is None:\n",
    "            name = surface\n",
    "            if len(column) > 0:\n",
    "                if len(name) > 0:\n",
    "                    name += \" \" + column\n",
    "                else:\n",
    "                    name = column\n",
    "            text_area = cdli.TextArea(name=name)\n",
    "            pub.text_areas.append(text_area)\n",
    "        line = cdli.TextLine(number=number, text=cuneiform)\n",
    "        text_area.lines.append(line)\n",
    "\n",
    "    html = load_html_for_object_id(object_id)\n",
    "    texts = html.find_all(\"div\", class_=\"text\")\n",
    "    langs = defaultdict(lambda: 0)\n",
    "\n",
    "    for text in texts:\n",
    "        surface = \"\"\n",
    "        column = \"\"\n",
    "        text_area = None\n",
    "        line_index = 0\n",
    "        table = text.find(\"table\", class_=\"transliteration\")\n",
    "        if table is None:\n",
    "            continue\n",
    "        text_title = text.find(\"h1\").text\n",
    "        rows = table.find_all(\"tr\")\n",
    "        for r in rows:\n",
    "            cols = r.find_all(\"td\")\n",
    "            rclasses = r[\"class\"] if r.has_attr(\"class\") else []\n",
    "            if \"h\" in rclasses:\n",
    "                htext = cols[0].text.strip()\n",
    "                if \"surface\" in rclasses:\n",
    "                    surface = htext\n",
    "                    column = \"\"\n",
    "                elif \"column\" in rclasses:\n",
    "                    column = htext\n",
    "                text_area = None\n",
    "                line_index = 0\n",
    "#                 print(\"\")\n",
    "#                 print(object_id, text_title, surface, column)\n",
    "            else:\n",
    "                lnums = [x for x in cols if x.has_attr(\"class\") and \"lnum\" in x[\"class\"]]\n",
    "                if len(lnums) != 1:\n",
    "                    continue\n",
    "                lnum = lnums[0].text.strip() if len(lnums) > 0 else \"\"                \n",
    "                tlits = [x for x in cols if x.has_attr(\"class\") and \"tlit\" in x[\"class\"]]\n",
    "                ntlits = len(tlits)\n",
    "                cs = [x for x in cols if x.has_attr(\"class\") and \"c\" in x[\"class\"]]\n",
    "                xtrs = [x for x in cols if x.has_attr(\"class\") and \"xtr\" in x[\"class\"]]\n",
    "                if ntlits == 1:\n",
    "                    tlit, lang = tlit_to_normalized_ascii(tlits[0])\n",
    "                    langs[lang] += 1\n",
    "                    add_line(lnum, tlit)\n",
    "                    xtr = \"\"\n",
    "                    rowspan = 1\n",
    "                    if len(xtrs) > 0:\n",
    "                        if xtrs[0].has_attr(\"rowspan\"):\n",
    "                            rowspan = int(xtrs[0][\"rowspan\"])\n",
    "                        xtr = xtr_to_en(xtrs[0])\n",
    "                        para = cdli.TextParagraph(line_index, line_index + rowspan)\n",
    "                        para.languages[\"en\"] = xtr\n",
    "                        text_area.paragraphs.append(para)\n",
    "                    line_index += 1\n",
    "                elif len(cs) > 0 and len(cs) == len(xtrs):\n",
    "                    for i, c in enumerate(cs):\n",
    "                        tlit, lang = tlit_to_normalized_ascii(c)\n",
    "                        langs[lang] += 1\n",
    "                        add_line(lnum + f\".{i}\", tlit)\n",
    "                        xtr = xtr_to_en(xtrs[i])\n",
    "                        para = cdli.TextParagraph(line_index, line_index + 1)\n",
    "                        para.languages[\"en\"] = xtr\n",
    "                        text_area.paragraphs.append(para)\n",
    "                        line_index += 1\n",
    "                elif ntlits == 0:\n",
    "                    pass\n",
    "                else:\n",
    "                    raise ValueError(\"Unsupported format: ntlits=\", len(tlits))\n",
    "#                 print(line_index, lnum, \"\\t\", tlit, \"\\t\", rowspan, \"\\t\", xtr)\n",
    "                \n",
    "#                 print(\"row\", r[\"class\"], \"with\", len(cols), \"cols\", [(x[\"class\"] if x.has_attr(\"class\") else []) for x in cols])\n",
    "#         print(\"\")\n",
    "    langs = sorted([(x, langs[x]) for x in langs.keys()], key=lambda x:-x[1])\n",
    "#     print(langs)\n",
    "    pub.language = langs[0][0] if len(langs) > 0 else None\n",
    "    return pub\n",
    "\n",
    "def print_pub_paragraphs(pub, tgt_len=\"en\"):\n",
    "    for a in pub.text_areas:\n",
    "        print(pub.id, a.name)\n",
    "        for p in a.paragraphs:\n",
    "            lines = a.lines[p.start_line_index:p.end_line_index]\n",
    "            cuneiform = \" \".join(x.text for x in lines)\n",
    "            tgt = p.languages[tgt_len]\n",
    "            print(\"   >>>>\", cuneiform)\n",
    "            print(\"   <<<<\", tgt)\n",
    "        print(\"\")\n",
    "        \n",
    "def print_pub_lines(pub, tgt_len=\"en\"):\n",
    "    for a in pub.text_areas:\n",
    "        print(pub.id, a.name)\n",
    "        for line in a.lines:\n",
    "            print(line.text)\n",
    "        print(\"\")\n",
    "        \n",
    "\n",
    "def xtr_to_en(xtr):\n",
    "    ptr = xtr.find(\"p\", class_=\"tr\")\n",
    "    if ptr is None:\n",
    "        return \"\"\n",
    "    cell = ptr.find(\"span\", class_=\"cell\")\n",
    "    if cell is not None:\n",
    "        ptr = cell\n",
    "    return ptr.text.strip()\n",
    "            \n",
    "tlit_ignore_classes = set([\"marker\"])\n",
    "\n",
    "def is_node_sign(node):\n",
    "    if isinstance(node, str):\n",
    "        return node == \".\"\n",
    "    return node.name==\"sup\" or (node.has_attr(\"class\") and \"sign\" in node[\"class\"])\n",
    "\n",
    "def tlit_to_normalized_ascii(tlit):\n",
    "    langs = defaultdict(lambda: 0)\n",
    "    def node_to_str(node, in_sign):\n",
    "        if isinstance(node, str):\n",
    "            return [node]\n",
    "        children_in_sign = False\n",
    "        ignore = False\n",
    "        classes = node[\"class\"] if node.has_attr(\"class\") else []\n",
    "        for c in classes:\n",
    "            ignore = ignore or (c in tlit_ignore_classes)\n",
    "        if ignore:\n",
    "            return []\n",
    "        if node.name == \"span\" and \"sign\" not in classes:\n",
    "            for c in classes:\n",
    "                if c in languages.all_languages:\n",
    "                    langs[c] += 1\n",
    "        parts = []\n",
    "        is_sup = node.name == \"sup\"\n",
    "        is_sign = all(is_node_sign(x) for x in node)\n",
    "        if is_sup:\n",
    "            parts.append(\"{\")\n",
    "            if \"sux\" in node[\"class\"] and node.text == \"m\":\n",
    "                parts.append(\"disz\")\n",
    "                parts.append(\"}\")\n",
    "                return parts\n",
    "        if is_sign and not in_sign:\n",
    "#             parts.append(\"_\")\n",
    "            children_in_sign = True\n",
    "        for c in node:\n",
    "            parts.extend(node_to_str(c, in_sign=in_sign or children_in_sign))\n",
    "#         if is_sign and not in_sign:\n",
    "#             parts.append(\"_\")\n",
    "        if is_sup:\n",
    "            parts.append(\"}\")\n",
    "        return parts\n",
    "    tokens = node_to_str(tlit, in_sign=False)\n",
    "    langs = sorted([(x, langs[x]) for x in langs.keys()], key=lambda x:-x[1])\n",
    "#     print(langs)\n",
    "    lang = langs[0][0] if len(langs) > 0 else \"?\"\n",
    "    return oracc_unicode_words_to_normalized_ascii(tokens), lang\n",
    "\n",
    "# get_object_id_pub(all_translated_ids[12900])"
   ]
  },
  {
   "cell_type": "code",
   "execution_count": 19,
   "id": "34da8a76",
   "metadata": {
    "scrolled": true
   },
   "outputs": [],
   "source": [
    "def oracc_unicode_words_to_normalized_ascii(tokens):\n",
    "#     return repr(tokens)\n",
    "    def proc_token(token):\n",
    "        if token in unicode_atf_to_ascii_atf_token_replacements:\n",
    "            return unicode_atf_to_ascii_atf_token_replacements[token]\n",
    "        for s, t in languages.unicode_atf_to_ascii_atf_replacements:\n",
    "            token = token.replace(s, t)\n",
    "        return token\n",
    "    retokenized = \"\".join(proc_token(x) for x in tokens)\n",
    "    underlined = languages.underline_sign_names(retokenized).strip()\n",
    "    return underlined"
   ]
  },
  {
   "cell_type": "code",
   "execution_count": 20,
   "id": "7854cbed",
   "metadata": {},
   "outputs": [],
   "source": [
    "unicode_atf_to_ascii_atf_token_replacements = {\n",
    "    \"bán\": \"ban2\",\n",
    "    \"buru\": \"bur'u\",\n",
    "    \"èše\": \"esze3\",\n",
    "    \"géš\": \"gesz2\",\n",
    "    \"šár\": \"szar2\",\n",
    "    \"bùr\": \"bur3\",\n",
    "    \"GÁN\": \"GAN2\",\n",
    "    \"sá\": \"sa2\",\n",
    "    \"sìla\": \"sila3\",\n",
    "    \"lú\": \"lu2\",\n",
    "    \"gur₇\": \"guru7\",\n",
    "    \"taka₄\": \"tak4\",\n",
    "    \"líd\": \"lid2\",\n",
    "    \"zíd\": \"zi3\",\n",
    "    \"teŋ₄\": \"ti\",\n",
    "    \"šaru\": \"szar'u\",\n",
    "    \"úš\": \"us2\",\n",
    "    \"kùš\": \"kusz3\",\n",
    "    \"kug\": \"ku3\",\n",
    "    \"sig₁₀\": \"si3\",\n",
    "    \"zid₂\": \"zi3\",\n",
    "    \"gud\": \"gu4\",\n",
    "    \"bí\": \"bi2\",\n",
    "    \"dug₄\": \"du11\",\n",
    "    \"diŋir\": \"dingir\",\n",
    "    \"àm\": \"am3\",\n",
    "    \"íb\": \"ib2\",\n",
    "    \"íl\": \"il2\",\n",
    "    \"su₁₃\": \"su3\",\n",
    "    \"GIR₃\": \"GIRI3\",\n",
    "    \"ŋiri₂\": \"gir2\",\n",
    "    \"IR₃\": \"ARAD2\",\n",
    "    \"ti₇\": \"te\",\n",
    "    \"giggi\": \"kukku5\",\n",
    "    \"sag₁₀\": \"saga\",\n",
    "    \"gurum\": \"gur2\",\n",
    "    \"aḫ₃\": \"had2\",\n",
    "    \"tu₄\": \"tum\",\n",
    "    \"gab₂\": \"kab\",\n",
    "    \"zid\": \"zi\",\n",
    "    \"tum₁₂\": \"tu\",\n",
    "    \"GEME₂\": \"dam\",\n",
    "    \"šag₄\": \"sza3\",\n",
    "    \"kud\": \"ku5\",\n",
    "#     \"bu\": \"pu\",\n",
    "#     \"pu\": \"bu\",\n",
    "}\n",
    "\n",
    "cdli_inconsistencies = {\n",
    "    \"sumun2\": \"sun2\",\n",
    "}\n",
    "\n"
   ]
  },
  {
   "cell_type": "code",
   "execution_count": 21,
   "id": "4d81b504",
   "metadata": {},
   "outputs": [],
   "source": [
    "test_object_ids = [\n",
    "    \"P250815\", # szag4 to sza3, kud to ku5\n",
    "    \"P271132\", # geme2 to dam\n",
    "    \"P332924\", # gab2 to kab, zid to zi, tum12 to tu\n",
    "    \"P271187\", # tu4 to tum, ir3 to ARAD2\n",
    "    \"P271030\", # pu to bu\n",
    "    \"P228726\", # sag10 to saga, gurum to gur2, ah3 to had2\n",
    "    \"P247541\", # giggi to kukku5\n",
    "    \"P503256\", # Links in cuneiform\n",
    "    \"P237767\",\n",
    "    \"P503256\",\n",
    "    \"P237730\",\n",
    "\n",
    "    \"P010627\", # Notes: o ii 66\n",
    "\n",
    "    \"Q000041\",\n",
    "    \"Q000057\",\n",
    "]"
   ]
  },
  {
   "cell_type": "code",
   "execution_count": 22,
   "id": "6a5f44ad",
   "metadata": {},
   "outputs": [
    {
     "name": "stdout",
     "output_type": "stream",
     "text": [
      "P250815 \n",
      "\n",
      "\n",
      "P250815 Obverse\n",
      "5(asz) gur zu2-lum\n",
      "nig2-gar {gesz}kiri6\n",
      "{gesz}kiri6 ib-ni-{d}suen\n",
      "<<{disz}>>ki ib-ni-{d}suen\n",
      "{disz}ar-bi-tu-ra-am\n",
      "szu ba-an-ti\n",
      "{iti}szu-numun-a\n",
      "{gesz}sza3-gesznimbar nu-ba-an-ku5\n",
      "\n",
      "P250815 Reverse\n",
      "{gesz}kid-da gesznimbar\n",
      "szu# ba-an-ti\n",
      "\n"
     ]
    }
   ],
   "source": [
    "for t in test_object_ids[:1]:\n",
    "    print_pub_lines(get_object_id_pub(t))"
   ]
  },
  {
   "cell_type": "markdown",
   "id": "ea199246",
   "metadata": {},
   "source": [
    "## Compare with CDLI Transliterations"
   ]
  },
  {
   "cell_type": "code",
   "execution_count": 23,
   "id": "f6b4eb57",
   "metadata": {},
   "outputs": [
    {
     "data": {
      "text/plain": [
       "(134752, 'cdli pubs')"
      ]
     },
     "execution_count": 23,
     "metadata": {},
     "output_type": "execute_result"
    }
   ],
   "source": [
    "cdli_index = {x.id: x for x in cdli_pubs}\n",
    "cdli_pub_ids = set(cdli_index.keys())\n",
    "len(cdli_pub_ids), \"cdli pubs\""
   ]
  },
  {
   "cell_type": "code",
   "execution_count": 24,
   "id": "78de85be",
   "metadata": {},
   "outputs": [
    {
     "data": {
      "text/plain": [
       "(775, 'common')"
      ]
     },
     "execution_count": 24,
     "metadata": {},
     "output_type": "execute_result"
    }
   ],
   "source": [
    "common_pub_ids = sorted(list(cdli_pub_ids.intersection(all_translated_ids)))\n",
    "len(common_pub_ids), \"common\""
   ]
  },
  {
   "cell_type": "code",
   "execution_count": 25,
   "id": "6be2a00c",
   "metadata": {
    "scrolled": false
   },
   "outputs": [
    {
     "name": "stdout",
     "output_type": "stream",
     "text": [
      "========================================\n",
      "P250815 tablet\n",
      "\n",
      "P250815 obverse\n",
      "5(asz) gur zu2-lum\n",
      "nig2-gar {gesz}kiri6\n",
      "{gesz}kiri6 ib-ni-{d}suen\n",
      "<<disz>> ki ib-ni-{d}suen\n",
      "{disz}ar-bi-tu-ra-am\n",
      "szu ba-an-ti\n",
      "iti szu-numun-a\n",
      "{gesz}sza3-geszimmar nu-ba-an-ku5\n",
      "\n",
      "P250815 reverse\n",
      "{gesz}kid-da gesznimbar\n",
      "szu# ba-an-ti\n",
      "\n",
      "----------------------------------------\n",
      "P250815 \n",
      "\n",
      "\n",
      "P250815 Obverse\n",
      "5(asz) gur zu2-lum\n",
      "nig2-gar {gesz}kiri6\n",
      "{gesz}kiri6 ib-ni-{d}suen\n",
      "<<{disz}>>ki ib-ni-{d}suen\n",
      "{disz}ar-bi-tu-ra-am\n",
      "szu ba-an-ti\n",
      "{iti}szu-numun-a\n",
      "{gesz}sza3-gesznimbar nu-ba-an-ku5\n",
      "\n",
      "P250815 Reverse\n",
      "{gesz}kid-da gesznimbar\n",
      "szu# ba-an-ti\n",
      "\n"
     ]
    }
   ],
   "source": [
    "for pid in common_pub_ids[281:282]:\n",
    "    print(\"=\"*40)\n",
    "    cdli_pub = cdli_index[pid]\n",
    "    print_pub_lines(cdli_pub)\n",
    "    print(\"-\"*40)\n",
    "    oracc_pub = get_object_id_pub(pid)\n",
    "    print_pub_lines(oracc_pub)"
   ]
  },
  {
   "cell_type": "markdown",
   "id": "991c5350",
   "metadata": {},
   "source": [
    "## Load ORACC Translations into Memory"
   ]
  },
  {
   "cell_type": "code",
   "execution_count": 26,
   "id": "7bc72206",
   "metadata": {},
   "outputs": [
    {
     "data": {
      "application/vnd.jupyter.widget-view+json": {
       "model_id": "64659eeca32c44e7a863653a510e77cf",
       "version_major": 2,
       "version_minor": 0
      },
      "text/plain": [
       "  0%|          | 0/16102 [00:00<?, ?it/s]"
      ]
     },
     "metadata": {},
     "output_type": "display_data"
    },
    {
     "data": {
      "text/plain": [
       "[('akk', 9755),\n",
       " ('sux', 2535),\n",
       " ('?', 1812),\n",
       " ('xur', 335),\n",
       " ('peo', 95),\n",
       " ('elx', 8),\n",
       " ('arc', 8),\n",
       " ('grc', 1)]"
      ]
     },
     "execution_count": 26,
     "metadata": {},
     "output_type": "execute_result"
    }
   ],
   "source": [
    "oracc_langs = defaultdict(lambda: 0)\n",
    "\n",
    "random_ids = list(all_translated_ids)\n",
    "random.shuffle(random_ids)\n",
    "\n",
    "for pid in tqdm(random_ids[:]):\n",
    "    p = get_object_id_pub(pid)\n",
    "    oracc_translated_pubs[pid] = p\n",
    "    if p.language is not None:\n",
    "        oracc_langs[p.language] += 1\n",
    "    \n",
    "oracc_langs = sorted([(x, oracc_langs[x]) for x in oracc_langs.keys()], key=lambda x:-x[1])\n",
    "oracc_langs"
   ]
  },
  {
   "cell_type": "code",
   "execution_count": 27,
   "id": "48924f11",
   "metadata": {},
   "outputs": [
    {
     "data": {
      "text/plain": [
       "(16102, 'oracc translated pubs')"
      ]
     },
     "execution_count": 27,
     "metadata": {},
     "output_type": "execute_result"
    }
   ],
   "source": [
    "len(oracc_translated_pubs), \"oracc translated pubs\""
   ]
  },
  {
   "cell_type": "markdown",
   "id": "e1f0a74d",
   "metadata": {},
   "source": [
    "## Show CDLI and ORACC Corpi Stats"
   ]
  },
  {
   "cell_type": "code",
   "execution_count": 28,
   "id": "5c3a648c",
   "metadata": {},
   "outputs": [
    {
     "data": {
      "text/plain": [
       "(5369, 'cdli translated pubs')"
      ]
     },
     "execution_count": 28,
     "metadata": {},
     "output_type": "execute_result"
    }
   ],
   "source": [
    "def cdli_text_area_is_translated(pub, text_area, tgt_lang):\n",
    "    for line in text_area.lines:\n",
    "        if tgt_lang in line.languages:\n",
    "            return True\n",
    "    return False\n",
    "\n",
    "def cdli_pub_is_translated(pub, tgt_lang):\n",
    "    return any(x for x in pub.text_areas if cdli_text_area_is_translated(pub, x, tgt_lang))\n",
    "\n",
    "cdli_translated_pubs = {x.id: x for x in cdli_pubs if cdli_pub_is_translated(x, \"en\")}\n",
    "len(cdli_translated_pubs), \"cdli translated pubs\""
   ]
  },
  {
   "cell_type": "code",
   "execution_count": 29,
   "id": "5759f626",
   "metadata": {},
   "outputs": [
    {
     "name": "stdout",
     "output_type": "stream",
     "text": [
      "                       lang: sux\n",
      "\n",
      "    num transliterated cdli: 99433\n",
      "        num translated cdli: 4153\n",
      " num need translations cdli: 95180\n",
      "\n",
      "                  num oracc: 104256\n",
      "   num transliterated oracc: 5204\n",
      "       num translated oracc: 2535\n",
      "num need translations oracc: 4025\n",
      "------------------------------------------\n",
      "           num publications: 116060\n",
      "       num transliterations: 104151\n",
      "           num translations: 6636\n",
      "      num need translations: 98896\n",
      "==========================================\n",
      "                       lang: akk\n",
      "\n",
      "    num transliterated cdli: 21890\n",
      "        num translated cdli: 976\n",
      " num need translations cdli: 20678\n",
      "\n",
      "                  num oracc: 26993\n",
      "   num transliterated oracc: 16403\n",
      "       num translated oracc: 9755\n",
      "num need translations oracc: 6716\n",
      "------------------------------------------\n",
      "           num publications: 45207\n",
      "       num transliterations: 35724\n",
      "           num translations: 10728\n",
      "      num need translations: 25063\n"
     ]
    }
   ],
   "source": [
    "\n",
    "def show_language_stats(src_lang, tgt_lang=\"en\"):\n",
    "    transliterated_cdli_index = {x.id: x for x in cdli_pubs if x.language == src_lang}\n",
    "    transliterated_cdli_ids = set(transliterated_cdli_index.keys())\n",
    "    transliterated_oracc_index = {x: transliterated_oracc_corpi[x] for x in transliterated_oracc_corpi.keys() if transliterated_oracc_corpi[x][\"lang\"] == src_lang}\n",
    "    transliterated_oracc_ids = set(transliterated_oracc_index.keys())\n",
    "    all_transliterated_ids = transliterated_cdli_ids.union(transliterated_oracc_ids)\n",
    "\n",
    "    translated_cdli_index = {x.id: x for x in cdli_translated_pubs.values() if x.language == src_lang}\n",
    "    translated_cdli_ids = set(translated_cdli_index.keys())\n",
    "    translated_oracc_index = {x: oracc_translated_pubs[x] for x in oracc_translated_pubs.keys() if oracc_translated_pubs[x].language == src_lang}\n",
    "    translated_oracc_ids = set(translated_oracc_index.keys())\n",
    "    all_translated_ids = translated_cdli_ids.union(translated_oracc_ids)\n",
    "    \n",
    "    cdli_needs_translation_ids = transliterated_cdli_ids.difference(all_translated_ids)\n",
    "    oracc_needs_translation_ids = transliterated_oracc_ids.difference(all_translated_ids)\n",
    "    all_needs_translation_ids = cdli_needs_translation_ids.union(oracc_needs_translation_ids)\n",
    "    \n",
    "    oracc_ids = set(x[0] for x in oracc_pub_ids_and_langs if x[1] == src_lang)\n",
    "    all_ids = transliterated_cdli_ids.union(oracc_ids)\n",
    "\n",
    "    print(f\"                       lang: {src_lang}\")\n",
    "    print()\n",
    "    print(f\"    num transliterated cdli: {len(transliterated_cdli_ids)}\")\n",
    "    print(f\"        num translated cdli: {len(translated_cdli_ids)}\")\n",
    "    print(f\" num need translations cdli: {len(cdli_needs_translation_ids)}\")\n",
    "\n",
    "    print()\n",
    "    print(f\"                  num oracc: {len(oracc_ids)}\")\n",
    "    print(f\"   num transliterated oracc: {len(transliterated_oracc_ids)}\")\n",
    "    print(f\"       num translated oracc: {len(translated_oracc_ids)}\")\n",
    "    print(f\"num need translations oracc: {len(oracc_needs_translation_ids)}\")\n",
    "    print(\"-\"*42)\n",
    "    print(f\"           num publications: {len(all_ids)}\")\n",
    "    print(f\"       num transliterations: {len(all_transliterated_ids)}\")\n",
    "    print(f\"           num translations: {len(all_translated_ids)}\")\n",
    "    print(f\"      num need translations: {len(all_needs_translation_ids)}\")\n",
    "\n",
    "show_language_stats(src_lang=\"sux\")\n",
    "print(\"=\"*42)\n",
    "show_language_stats(src_lang=\"akk\")"
   ]
  },
  {
   "cell_type": "code",
   "execution_count": null,
   "id": "a7f13573",
   "metadata": {},
   "outputs": [],
   "source": []
  },
  {
   "cell_type": "code",
   "execution_count": null,
   "id": "3363d004",
   "metadata": {},
   "outputs": [],
   "source": []
  },
  {
   "cell_type": "markdown",
   "id": "075dcceb",
   "metadata": {},
   "source": [
    "## Output Translations"
   ]
  },
  {
   "cell_type": "code",
   "execution_count": 57,
   "id": "95f3f763",
   "metadata": {},
   "outputs": [],
   "source": [
    "translations_out_dir = f\"../data\"\n",
    "os.makedirs(translations_out_dir, exist_ok=True)"
   ]
  },
  {
   "cell_type": "code",
   "execution_count": 59,
   "id": "e4391d4e",
   "metadata": {},
   "outputs": [],
   "source": [
    "def lines_to_paragraphs(self, src_lang, tgt_lang, max_length=128):\n",
    "    self.paragraphs = list()\n",
    "    plen = 0\n",
    "    for iline, line in enumerate(self.lines):\n",
    "        line_len = len(line.text)\n",
    "        if cdli.looks_like_li(line.text, src_lang):\n",
    "            self.paragraphs.append(cdli.TextParagraph(iline, iline+1, \"li\"))\n",
    "            plen = line_len\n",
    "        else:\n",
    "            if len(self.paragraphs) > 0 and self.paragraphs[-1].tag == \"p\" and plen + line_len < max_length:\n",
    "                p = self.paragraphs[-1]\n",
    "                p.end_line_index += 1\n",
    "                plen += line_len\n",
    "            else:\n",
    "                self.paragraphs.append(cdli.TextParagraph(iline, iline+1))\n",
    "                plen = line_len\n",
    "    if any(l for l in self.lines if tgt_lang in l.languages):\n",
    "        for p in self.paragraphs:\n",
    "            lines = self.lines[p.start_line_index:p.end_line_index]\n",
    "            tlines = [(x.languages[tgt_lang] if tgt_lang in x.languages else \"\") for x in lines]\n",
    "            p.languages[tgt_lang] = languages.remove_extraneous_space(\" \".join(tlines))\n",
    "    return self.paragraphs\n",
    "\n"
   ]
  },
  {
   "cell_type": "code",
   "execution_count": 60,
   "id": "b9649528",
   "metadata": {},
   "outputs": [
    {
     "name": "stdout",
     "output_type": "stream",
     "text": [
      "cdli akk with 976 translated publications\n"
     ]
    },
    {
     "data": {
      "application/vnd.jupyter.widget-view+json": {
       "model_id": "c48d4e7968eb4f5c8040d22275635922",
       "version_major": 2,
       "version_minor": 0
      },
      "text/plain": [
       "  0%|          | 0/976 [00:00<?, ?it/s]"
      ]
     },
     "metadata": {},
     "output_type": "display_data"
    },
    {
     "name": "stdout",
     "output_type": "stream",
     "text": [
      "cdli akk longest line length: 508\n",
      "oracc akk with 9755 translated publications\n"
     ]
    },
    {
     "data": {
      "application/vnd.jupyter.widget-view+json": {
       "model_id": "979d25505fdb4452997cf743d58cae17",
       "version_major": 2,
       "version_minor": 0
      },
      "text/plain": [
       "  0%|          | 0/9755 [00:00<?, ?it/s]"
      ]
     },
     "metadata": {},
     "output_type": "display_data"
    },
    {
     "name": "stdout",
     "output_type": "stream",
     "text": [
      "oracc akk longest line length: 5966\n",
      "cdli sux with 4153 translated publications\n"
     ]
    },
    {
     "data": {
      "application/vnd.jupyter.widget-view+json": {
       "model_id": "bf9f6eba7db740d3a7851f3263a4e21d",
       "version_major": 2,
       "version_minor": 0
      },
      "text/plain": [
       "  0%|          | 0/4153 [00:00<?, ?it/s]"
      ]
     },
     "metadata": {},
     "output_type": "display_data"
    },
    {
     "name": "stdout",
     "output_type": "stream",
     "text": [
      "cdli sux longest line length: 788\n",
      "oracc sux with 2535 translated publications\n"
     ]
    },
    {
     "data": {
      "application/vnd.jupyter.widget-view+json": {
       "model_id": "b30b729b1c714d6194d7c0998d2fd05e",
       "version_major": 2,
       "version_minor": 0
      },
      "text/plain": [
       "  0%|          | 0/2535 [00:00<?, ?it/s]"
      ]
     },
     "metadata": {},
     "output_type": "display_data"
    },
    {
     "name": "stdout",
     "output_type": "stream",
     "text": [
      "oracc sux longest line length: 4185\n"
     ]
    },
    {
     "data": {
      "text/plain": [
       "59419"
      ]
     },
     "execution_count": 60,
     "metadata": {},
     "output_type": "execute_result"
    }
   ],
   "source": [
    "def output_translations(corpus_pubs, src_lang, encoding=\"ascii\", tgt_lang=\"en\"):\n",
    "    srcs = set()\n",
    "    translations = []\n",
    "\n",
    "    for corpus, pubs in corpus_pubs:\n",
    "        pubs = [pubs[x] for x in pubs.keys() if pubs[x].language == src_lang]\n",
    "        print(f\"{corpus} {src_lang} with {len(pubs)} translated publications\")\n",
    "        longest_line_len = 0\n",
    "        for pub in tqdm(pubs):\n",
    "            for a in pub.text_areas:\n",
    "                if (corpus == \"cdli\") and len(a.lines) > 0:\n",
    "                    lines_to_paragraphs(a, src_lang, tgt_lang)\n",
    "                for p in a.paragraphs:\n",
    "                    if tgt_lang in p.languages:\n",
    "                        src_lines = [x.text for x in a.lines[p.start_line_index:p.end_line_index]]\n",
    "                        src = \" \".join(src_lines)\n",
    "                        src = languages.remove_blanks(src)\n",
    "                        src = languages.underline_sign_names(src)\n",
    "                        src = languages.dashes_to_dots(src)\n",
    "                        src = languages.remove_extraneous_space(src)\n",
    "                        tgt = p.languages[tgt_lang]\n",
    "                        tgt = tgt.replace(\"[\", \"\").replace(\"]\", \"\").replace(\"(\", \"\").replace(\")\", \"\")\n",
    "                        if len(src) > 0 and languages.target_ok(tgt) and src not in srcs:\n",
    "                            line_len = len(src) + len(tgt)\n",
    "                            longest_line_len = max(line_len, longest_line_len)\n",
    "                            out_line = json.dumps({src_lang:src,tgt_lang:tgt})\n",
    "                            translations.append(out_line)\n",
    "                            srcs.add(src)\n",
    "                        \n",
    "        print(f\"{corpus} {src_lang} longest line length:\", longest_line_len)\n",
    "\n",
    "    path = f\"{translations_out_dir}/translations_{src_lang}_to_{tgt_lang}.jsonl\"\n",
    "\n",
    "    with open(path, \"wt\") as f:\n",
    "        head = \"\"\n",
    "        for out_line in sorted(translations):\n",
    "            f.write(head)\n",
    "            f.write(out_line)\n",
    "            head = \"\\n\"\n",
    "\n",
    "    return len(translations)\n",
    "    \n",
    "corpi = [(\"cdli\", cdli_translated_pubs), (\"oracc\", oracc_translated_pubs)]\n",
    "    \n",
    "output_translations(corpi, \"akk\")\n",
    "output_translations(corpi, \"sux\")\n"
   ]
  },
  {
   "cell_type": "code",
   "execution_count": null,
   "id": "1158a56b",
   "metadata": {},
   "outputs": [],
   "source": []
  },
  {
   "cell_type": "code",
   "execution_count": null,
   "id": "d3f490f9",
   "metadata": {},
   "outputs": [],
   "source": []
  }
 ],
 "metadata": {
  "kernelspec": {
   "display_name": "Python 3 (ipykernel)",
   "language": "python",
   "name": "python3"
  },
  "language_info": {
   "codemirror_mode": {
    "name": "ipython",
    "version": 3
   },
   "file_extension": ".py",
   "mimetype": "text/x-python",
   "name": "python",
   "nbconvert_exporter": "python",
   "pygments_lexer": "ipython3",
   "version": "3.9.4"
  }
 },
 "nbformat": 4,
 "nbformat_minor": 5
}
