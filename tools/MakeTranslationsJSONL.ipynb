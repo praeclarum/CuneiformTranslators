{
 "cells": [
  {
   "cell_type": "markdown",
   "metadata": {},
   "source": [
    "# Export ATF File Contents from CDLI\n",
    "\n",
    "Downloads: https://cdli.ucla.edu/downloads\n",
    "Languages: http://oracc.museum.upenn.edu/doc/help/languages/index.html\n",
    "\n",
    "Exports:\n",
    "    \n",
    "* "
   ]
  },
  {
   "cell_type": "code",
   "execution_count": 1,
   "metadata": {},
   "outputs": [],
   "source": [
    "import sys, os, io\n",
    "import requests\n",
    "import zipfile\n",
    "import tqdm\n",
    "import json"
   ]
  },
  {
   "cell_type": "code",
   "execution_count": 2,
   "metadata": {},
   "outputs": [],
   "source": [
    "output_json_path = \"../data/translations.jsonl\""
   ]
  },
  {
   "cell_type": "markdown",
   "metadata": {},
   "source": [
    "## Language Support\n",
    "\n",
    "Make a list of old and modern languages that we're interested in."
   ]
  },
  {
   "cell_type": "code",
   "execution_count": 3,
   "metadata": {},
   "outputs": [
    {
     "data": {
      "text/plain": [
       "{'akk',\n",
       " 'akkts',\n",
       " 'arc',\n",
       " 'arcts',\n",
       " 'de',\n",
       " 'elx',\n",
       " 'elxts',\n",
       " 'en',\n",
       " 'es',\n",
       " 'fr',\n",
       " 'grc',\n",
       " 'grcts',\n",
       " 'it',\n",
       " 'peo',\n",
       " 'peots',\n",
       " 'qpn',\n",
       " 'qpnts',\n",
       " 'sux',\n",
       " 'suxts',\n",
       " 'ug',\n",
       " 'ugts'}"
      ]
     },
     "execution_count": 3,
     "metadata": {},
     "output_type": "execute_result"
    }
   ],
   "source": [
    "old_languages = {\n",
    "    \"akk\": \"Akkadian\",\n",
    "    \"sux\": \"Sumerian\",\n",
    "    \"qpn\": \"Proper Nouns\",\n",
    "    \"arc\": \"Aramaic\",\n",
    "    \"elx\": \"Elamite\",\n",
    "    \"grc\": \"Greek\",\n",
    "    \"peo\": \"Old Persian\",\n",
    "    \"ug\": \"Ugaritic\",\n",
    "}\n",
    "modern_languages = {\n",
    "    \"de\": \"German\",\n",
    "    \"en\": \"English\",\n",
    "    \"es\": \"Spanish\",\n",
    "    \"fr\": \"French\",\n",
    "    \"it\": \"Italian\"\n",
    "}\n",
    "language_codes = set(list(modern_languages.keys()) + [x + suffix for x in old_languages.keys() for suffix in [\"\",\"ts\"]])\n",
    "language_codes"
   ]
  },
  {
   "cell_type": "markdown",
   "metadata": {},
   "source": [
    "## Download CDLI"
   ]
  },
  {
   "cell_type": "code",
   "execution_count": 4,
   "metadata": {},
   "outputs": [],
   "source": [
    "atf_url = \"https://cdli.ucla.edu/tools/cdlifiles/cdliatf_unblocked.zip\"\n",
    "atf_zip = zipfile.ZipFile(io.BytesIO(requests.get(atf_url).content))"
   ]
  },
  {
   "cell_type": "code",
   "execution_count": 5,
   "metadata": {},
   "outputs": [
    {
     "name": "stdout",
     "output_type": "stream",
     "text": [
      "&P000001 = CDLI Lexical 000002, ex. 065\n",
      "#atf: lang qpc \n",
      "@tablet \n",
      "@obverse \n",
      "@column 1 \n",
      "$ beginning broken \n",
      "1'. 1(N01) , [...] \n",
      ">>Q000002 014 \n",
      "2'. 1(N01) , ABGAL# \n",
      ">>Q000002 015 \n",
      "3'. 1(N01) , KINGAL# \n",
      ">>Q000002 016 \n",
      "@column 2 \n",
      "$ beginning broken \n",
      "1'. 1(N01) , [...] \n",
      ">>Q000002 030 \n",
      "2'. 1(N01) , GAL~a# UMUN2# \n",
      ">>Q000002 031 \n",
      "3'. 1(N01) , GAL~a UMUN2 KU3~a \n",
      ">>Q000002 032 \n",
      "@column 3 \n",
      "$ beginning broken \n",
      "1'. 1(N01) , DUB~a SANGA~a# \n",
      ">>Q000002 048 \n",
      "2'. 1(N01) , SUG5# SAG# \n",
      ">>Q000002 049 \n",
      "3'. 1(N01) , UB SAG# \n",
      ">>Q000002 050 \n",
      "@reverse \n",
      "1. [N] , [...] \n",
      ">>Q000002 colophon \n",
      " \n",
      "\n",
      "&P000002 = CDLI Lexical 000002, ex. 066\n",
      "#atf: lang qpc \n",
      "@tablet \n",
      "@obverse \n",
      "@column 1 \n",
      "$ beginning broken \n",
      "1'. [1(N01)] , [...] \n",
      ">>Q000002 013 \n",
      "2'. [1(N01)] , GAL~a# SZITA~a1 \n",
      ">>Q000002 014 \n",
      "3'. [1(N01)] , ABGAL# \n",
      ">>Q000002 015 \n",
      "$ rest broken \n",
      "@column 2 \n",
      "$ beginning broken \n",
      "1'. [1(N01)] , [...] NIM~a#? \n",
      ">>Q000002 023 \n"
     ]
    }
   ],
   "source": [
    "atf_lines = str(atf_zip.open(\"cdliatf_unblocked.atf\", \"r\").read(), \"utf8\").split(\"\\n\")\n",
    "for l in atf_lines[:50]:\n",
    "    print(l)"
   ]
  },
  {
   "cell_type": "code",
   "execution_count": 6,
   "metadata": {},
   "outputs": [],
   "source": [
    "class Publication():\n",
    "    def __init__(self, id):\n",
    "        self.id = id\n",
    "        self.text_areas = list()\n",
    "        self.language = None\n",
    "    def __repr__(self):\n",
    "        return f\"Publication({repr(self.id)}, {repr(self.language)}, {repr(self.text_areas)})\"\n",
    "    def has_translations(self):\n",
    "        return any(x.has_translations() for x in self.text_areas)\n",
    "    \n",
    "class TextArea():\n",
    "    def __init__(self, name):\n",
    "        self.name = name\n",
    "        self.lines = list()\n",
    "    def __repr__(self):\n",
    "        return f\"TextArea({repr(self.name)}, {repr(self.lines)})\"\n",
    "    def has_translations(self):\n",
    "        return len(self.lines) > 0 and self.lines[0].has_translations()\n",
    "    \n",
    "class TextLine():\n",
    "    def __init__(self, number, text):\n",
    "        self.number = number\n",
    "        self.text = text\n",
    "        self.languages = dict()\n",
    "    def __repr__(self):\n",
    "        return f\"TextLine({repr(self.number)}, {repr(self.text)}, {repr(self.languages)})\"\n",
    "    def has_translations(self):\n",
    "        for k in self.languages:\n",
    "            v = self.languages[k]\n",
    "            if len(v) > 0:\n",
    "                return True\n",
    "        return False\n",
    "    "
   ]
  },
  {
   "cell_type": "code",
   "execution_count": 19,
   "metadata": {
    "scrolled": false
   },
   "outputs": [
    {
     "name": "stderr",
     "output_type": "stream",
     "text": [
      "100%|██████████| 3012008/3012008 [00:15<00:00, 190540.50it/s]\n"
     ]
    },
    {
     "data": {
      "text/plain": [
       "[Publication('P000001', 'qpc', [TextArea('tablet', []), TextArea('obverse', []), TextArea('column 1', [TextLine(\"1'.\", '1(N01) , [...]', {}), TextLine(\"2'.\", '1(N01) , ABGAL#', {}), TextLine(\"3'.\", '1(N01) , KINGAL#', {})]), TextArea('column 2', [TextLine(\"1'.\", '1(N01) , [...]', {}), TextLine(\"2'.\", '1(N01) , GAL~a# UMUN2#', {}), TextLine(\"3'.\", '1(N01) , GAL~a UMUN2 KU3~a', {})]), TextArea('column 3', [TextLine(\"1'.\", '1(N01) , DUB~a SANGA~a#', {}), TextLine(\"2'.\", '1(N01) , SUG5# SAG#', {}), TextLine(\"3'.\", '1(N01) , UB SAG#', {})]), TextArea('reverse', [TextLine('1.', '[N] , [...]', {})])]),\n",
       " Publication('P000002', 'qpc', [TextArea('tablet', []), TextArea('obverse', []), TextArea('column 1', [TextLine(\"1'.\", '[1(N01)] , [...]', {}), TextLine(\"2'.\", '[1(N01)] , GAL~a# SZITA~a1', {}), TextLine(\"3'.\", '[1(N01)] , ABGAL#', {})]), TextArea('column 2', [TextLine(\"1'.\", '[1(N01)] , [...] NIM~a#?', {}), TextLine(\"2'.\", '1(N01) , GAL~a SILA4~b', {}), TextLine(\"3'.\", '1(N01) , GAL~a SZAB~a', {})]), TextArea('column 3', [TextLine(\"1'.\", '[1(N01)] , [...]', {})]), TextArea('reverse', [TextLine('1.', '[N] , [...]', {})])])]"
      ]
     },
     "execution_count": 19,
     "metadata": {},
     "output_type": "execute_result"
    }
   ],
   "source": [
    "publications = []\n",
    "pub = None\n",
    "text = None\n",
    "tline = None\n",
    "all_langs = set()\n",
    "\n",
    "for line in tqdm.tqdm(atf_lines):\n",
    "    line = line.replace(\"\\t\", \" \").strip()\n",
    "    if len(line) < 1:\n",
    "        continue\n",
    "    \n",
    "    if line[0] == \"&\":\n",
    "        pub = Publication(line[1:].split(\" \", 1)[0])\n",
    "        publications.append(pub)\n",
    "    elif line[0] == \"@\":\n",
    "        text = TextArea(line[1:])\n",
    "        pub.text_areas.append(text)\n",
    "    elif line[0].isdigit():\n",
    "#         print(line)\n",
    "        parts = line.split(\" \", 1)\n",
    "        number, t = parts if len(parts) == 2 else (line, \"\")\n",
    "        t = \" \".join(t.strip().split(\" \"))\n",
    "        tline = TextLine(number, t)\n",
    "        text.lines.append(tline)\n",
    "    elif len(line) > 4 and line.startswith(\"#atf: lang \"):\n",
    "        lang = line.split(\" \")[-1]\n",
    "        all_langs.add(lang)\n",
    "        pub.language = lang\n",
    "    elif len(line) > 4 and line.startswith(\"#tr.\"):\n",
    "        parts = line.split(\":\", 1)\n",
    "        lang, t = parts if len(parts) == 2 else (line, \"\")\n",
    "        lang = lang[4:]\n",
    "        if lang == \"ts\" and pub.language is not None:\n",
    "            lang = pub.language + \"ts\"\n",
    "        all_langs.add(lang)\n",
    "        t = \" \".join(t.strip().split(\" \"))\n",
    "        tline.languages[lang] = t\n",
    "    else:\n",
    "#         print(\"Unknown start:\", line[0])\n",
    "        pass\n",
    "\n",
    "publications[:2]"
   ]
  },
  {
   "cell_type": "code",
   "execution_count": 20,
   "metadata": {},
   "outputs": [
    {
     "data": {
      "text/plain": [
       "{' en',\n",
       " ' inspections, sealed documents',\n",
       " ' they shall release them;',\n",
       " '1',\n",
       " '_akk_',\n",
       " '_logo',\n",
       " '_sux',\n",
       " 'akk',\n",
       " 'akkts',\n",
       " 'arc',\n",
       " 'asux',\n",
       " 'ca',\n",
       " 'de',\n",
       " 'dk',\n",
       " 'egy',\n",
       " 'elx',\n",
       " 'en',\n",
       " 'en (he) said',\n",
       " 'en (this weight at) five minas',\n",
       " 'en (this weight at) one-half mina',\n",
       " 'en For Nanna,',\n",
       " 'en I personaly will [...] our gate [...]',\n",
       " 'en Kurub-Isztar, his brother Aszszur-imitti, son of Ikkupija,',\n",
       " 'en Puzur-szadue and Aszszur-makik, son of Luzina, were my witnesses.',\n",
       " 'en Puzur-szadue and Aszszur-malik, son of Luzina,',\n",
       " 'en When the iron and the textiles were sold in Aszszur-malik,',\n",
       " 'en When the money was paid Ammurumbani, Szu-Kubum,',\n",
       " 'en [...]',\n",
       " 'en [...] in accordance with',\n",
       " 'en and I will take [...]',\n",
       " 'en and king of the four world quarters,',\n",
       " 'en curtailment and deduction',\n",
       " 'en dedicated (this).',\n",
       " 'en had drawn away, his wife',\n",
       " 'en he (Enki) had given to him regarding it,',\n",
       " 'en his master,',\n",
       " 'en king of Ur',\n",
       " 'en of my partners [...] the iron [...]',\n",
       " 'en of the iron he brought.',\n",
       " 'en since five days',\n",
       " 'en son of Aszszur-bel-awatim, Aszszur-malik son of Alahum,',\n",
       " 'en the field that I gave he returns to the province,',\n",
       " 'en the mighty man,',\n",
       " 'en they are my witnesses. Seize the men and [lead them] to the Gate of the God',\n",
       " 'en to',\n",
       " 'en went up to the palace together with (me) and I paid the money',\n",
       " 'en whether at a banquet',\n",
       " 'en which I gave to him, Puzur-szadue [...]',\n",
       " 'en who, at the issuing of his order and the giving of his solemn decree',\n",
       " 'en Šulgi,',\n",
       " 'en. (header)',\n",
       " 'es',\n",
       " 'fa',\n",
       " 'fr',\n",
       " 'it',\n",
       " 'nlc',\n",
       " 'peo',\n",
       " 'qcu',\n",
       " 'qeb',\n",
       " 'qpc',\n",
       " 'qpe',\n",
       " 'six',\n",
       " 'sum',\n",
       " 'sux',\n",
       " 'sux&akk',\n",
       " 'suxts',\n",
       " 'tr',\n",
       " 'ts',\n",
       " 'ts ana Marduk bēlišu',\n",
       " 'ts eqel addinaššu ana pīhāti uttēr',\n",
       " 'ts further I had (them) led to you.',\n",
       " 'ug',\n",
       " 'ugts',\n",
       " 'urartian',\n",
       " 'web',\n",
       " 'xhu'}"
      ]
     },
     "execution_count": 20,
     "metadata": {},
     "output_type": "execute_result"
    }
   ],
   "source": [
    "all_langs"
   ]
  },
  {
   "cell_type": "markdown",
   "metadata": {},
   "source": [
    "## Find Publications with Translations"
   ]
  },
  {
   "cell_type": "code",
   "execution_count": 21,
   "metadata": {},
   "outputs": [],
   "source": [
    "for p in publications:\n",
    "    for a in p.text_areas:\n",
    "        n = len(a.lines)\n",
    "        skip = 0\n",
    "        while skip < n and len(a.lines[skip].text) == 0:\n",
    "            skip += 1\n",
    "        if skip > 0:\n",
    "#             print(\"SKIP\", skip, a)\n",
    "            a.lines = a.lines[skip:]    "
   ]
  },
  {
   "cell_type": "code",
   "execution_count": 22,
   "metadata": {},
   "outputs": [
    {
     "data": {
      "text/plain": [
       "(4035, 'translated publications')"
      ]
     },
     "execution_count": 22,
     "metadata": {},
     "output_type": "execute_result"
    }
   ],
   "source": [
    "translated_publications = [x for x in publications if x.language is not None and x.has_translations()]\n",
    "len(translated_publications), \"translated publications\""
   ]
  },
  {
   "cell_type": "code",
   "execution_count": 23,
   "metadata": {},
   "outputs": [
    {
     "data": {
      "text/plain": [
       "Publication('P001282', 'qpc', [TextArea('tablet', []), TextArea('obverse', [TextLine('1.', '3(N01) 3(N08) , U8 UR2# UMBIN~a', {'en': '3 + 3 (lamb) ewes, ...;'}), TextLine('2.', '2(N01) , MASZ GURUSZDA MUSZ3~a', {'en': '2 goats, ...;'})]), TextArea('reverse', [])])"
      ]
     },
     "execution_count": 23,
     "metadata": {},
     "output_type": "execute_result"
    }
   ],
   "source": [
    "translated_publications[0]"
   ]
  },
  {
   "cell_type": "markdown",
   "metadata": {},
   "source": [
    "## Export them to JSON"
   ]
  },
  {
   "cell_type": "code",
   "execution_count": 31,
   "metadata": {},
   "outputs": [],
   "source": [
    "ignore_texts = set([\"xxx\", \"\"])"
   ]
  },
  {
   "cell_type": "code",
   "execution_count": 35,
   "metadata": {
    "scrolled": false
   },
   "outputs": [
    {
     "name": "stderr",
     "output_type": "stream",
     "text": [
      "100%|██████████| 4035/4035 [00:00<00:00, 37397.09it/s]"
     ]
    },
    {
     "name": "stdout",
     "output_type": "stream",
     "text": [
      "74584 translations\n"
     ]
    },
    {
     "name": "stderr",
     "output_type": "stream",
     "text": [
      "\n"
     ]
    },
    {
     "data": {
      "text/plain": [
       "[{'p': 'P001282', 'a': 'obverse', 'l': 0, 'en': '3 + 3 (lamb) ewes, ...;'},\n",
       " {'p': 'P001282', 'a': 'obverse', 'l': 1, 'en': '2 goats, ...;'},\n",
       " {'p': 'P001392',\n",
       "  'a': 'column 1',\n",
       "  'l': 0,\n",
       "  'en': '3 (adult), 2 (child) slaves, female and male: ZATU693.KID;'},\n",
       " {'p': 'P001392',\n",
       "  'a': 'column 1',\n",
       "  'l': 1,\n",
       "  'en': '1 male slave, ZATU693.3(N57);'},\n",
       " {'p': 'P001392', 'a': 'column 1', 'l': 2, 'en': '...'},\n",
       " {'p': 'P003118',\n",
       "  'a': 'column 1',\n",
       "  'l': 0,\n",
       "  'en': '1200 (ninda, ca. 6m), the (first) length,'},\n",
       " {'p': 'P003118', 'a': 'column 1', 'l': 1, 'en': '1200, the (second) length;'},\n",
       " {'p': 'P003118', 'a': 'column 2', 'l': 0, 'en': '930, the (first) width,'},\n",
       " {'p': 'P003118', 'a': 'column 2', 'l': 1, 'en': '870, the (second) width.'},\n",
       " {'p': 'P003118', 'a': 'column 1', 'l': 0, 'en': '990, the (first) length,'}]"
      ]
     },
     "execution_count": 35,
     "metadata": {},
     "output_type": "execute_result"
    }
   ],
   "source": [
    "translations = []\n",
    "\n",
    "for p in tqdm.tqdm(translated_publications):\n",
    "    src_lang = p.language\n",
    "    for a in p.text_areas:        \n",
    "        if not a.has_translations():\n",
    "            continue\n",
    "        for iline, line in enumerate(a.lines):\n",
    "            langs = list(line.languages.keys())\n",
    "            src_text = line.text\n",
    "            if src_text in ignore_texts:\n",
    "                continue\n",
    "            tr = {\"p\": p.id, \"a\": a.name, \"l\": iline }\n",
    "            if src_lang in language_codes:\n",
    "                tr[src_lang] = src_text\n",
    "            for tgt_lang in langs:\n",
    "                if tgt_lang in language_codes:\n",
    "                    tgt_text = line.languages[tgt_lang] if tgt_lang in line.languages else \"\"\n",
    "                    if not (tgt_text in ignore_texts):\n",
    "                        tr[tgt_lang] = tgt_text\n",
    "            if len(tr) > 3:\n",
    "                translations.append(tr)\n",
    "\n",
    "print(len(translations), \"translations\")\n",
    "translations[0:10]"
   ]
  },
  {
   "cell_type": "code",
   "execution_count": 36,
   "metadata": {},
   "outputs": [],
   "source": [
    "with open(output_json_path, \"wb\") as f:\n",
    "    for t in translations:\n",
    "        f.write(bytes(json.dumps(t), \"utf8\"))\n",
    "        f.write(b\"\\n\")"
   ]
  },
  {
   "cell_type": "code",
   "execution_count": null,
   "metadata": {},
   "outputs": [],
   "source": []
  }
 ],
 "metadata": {
  "kernelspec": {
   "display_name": "Python 3",
   "language": "python",
   "name": "python3"
  },
  "language_info": {
   "codemirror_mode": {
    "name": "ipython",
    "version": 3
   },
   "file_extension": ".py",
   "mimetype": "text/x-python",
   "name": "python",
   "nbconvert_exporter": "python",
   "pygments_lexer": "ipython3",
   "version": "3.9.10"
  }
 },
 "nbformat": 4,
 "nbformat_minor": 4
}
