{
 "cells": [
  {
   "cell_type": "markdown",
   "metadata": {},
   "source": [
    "# Export ATF File Contents from CDLI\n",
    "\n",
    "Downloads: https://cdli.ucla.edu/downloads\n",
    "Languages: http://oracc.museum.upenn.edu/doc/help/languages/index.html\n",
    "\n",
    "Exports the human `translations.jsonl` that is used by TrainTranslator to train the neural network."
   ]
  },
  {
   "cell_type": "code",
   "execution_count": 1,
   "metadata": {},
   "outputs": [],
   "source": [
    "import sys, os, io\n",
    "import requests\n",
    "import zipfile\n",
    "from tqdm.notebook import tqdm\n",
    "import json"
   ]
  },
  {
   "cell_type": "code",
   "execution_count": 2,
   "metadata": {},
   "outputs": [],
   "source": [
    "output_json_path = \"../data/translations.jsonl\""
   ]
  },
  {
   "cell_type": "markdown",
   "metadata": {},
   "source": [
    "## Language Support\n",
    "\n",
    "Make a list of old and modern languages that we're interested in."
   ]
  },
  {
   "cell_type": "code",
   "execution_count": 3,
   "metadata": {},
   "outputs": [
    {
     "data": {
      "text/plain": [
       "{'akk',\n",
       " 'akkts',\n",
       " 'arc',\n",
       " 'arcts',\n",
       " 'de',\n",
       " 'elx',\n",
       " 'elxts',\n",
       " 'en',\n",
       " 'es',\n",
       " 'fr',\n",
       " 'grc',\n",
       " 'grcts',\n",
       " 'it',\n",
       " 'peo',\n",
       " 'peots',\n",
       " 'qpn',\n",
       " 'qpnts',\n",
       " 'sux',\n",
       " 'suxts',\n",
       " 'ug',\n",
       " 'ugts'}"
      ]
     },
     "execution_count": 3,
     "metadata": {},
     "output_type": "execute_result"
    }
   ],
   "source": [
    "old_languages = {\n",
    "    \"akk\": \"Akkadian\",\n",
    "    \"sux\": \"Sumerian\",\n",
    "    \"qpn\": \"Proper Nouns\",\n",
    "    \"arc\": \"Aramaic\",\n",
    "    \"elx\": \"Elamite\",\n",
    "    \"grc\": \"Greek\",\n",
    "    \"peo\": \"Old Persian\",\n",
    "    \"ug\": \"Ugaritic\",\n",
    "}\n",
    "modern_languages = {\n",
    "    \"de\": \"German\",\n",
    "    \"en\": \"English\",\n",
    "    \"es\": \"Spanish\",\n",
    "    \"fr\": \"French\",\n",
    "    \"it\": \"Italian\"\n",
    "}\n",
    "language_codes = set(list(modern_languages.keys()) + [x + suffix for x in old_languages.keys() for suffix in [\"\",\"ts\"]])\n",
    "language_codes"
   ]
  },
  {
   "cell_type": "markdown",
   "metadata": {},
   "source": [
    "## Download CDLI"
   ]
  },
  {
   "cell_type": "code",
   "execution_count": 4,
   "metadata": {},
   "outputs": [],
   "source": [
    "import cdli"
   ]
  },
  {
   "cell_type": "code",
   "execution_count": 5,
   "metadata": {},
   "outputs": [
    {
     "name": "stdout",
     "output_type": "stream",
     "text": [
      "Downloading https://github.com/cdli-gh/data/raw/master/cdliatf_unblocked.atf\n",
      "Parsing atf\n"
     ]
    }
   ],
   "source": [
    "publications = cdli.get_atf()"
   ]
  },
  {
   "cell_type": "code",
   "execution_count": 6,
   "metadata": {},
   "outputs": [
    {
     "data": {
      "text/plain": [
       "(134560, 'publications')"
      ]
     },
     "execution_count": 6,
     "metadata": {},
     "output_type": "execute_result"
    }
   ],
   "source": [
    "len(publications), \"publications\""
   ]
  },
  {
   "cell_type": "markdown",
   "metadata": {},
   "source": [
    "## Find Publications with Human Translations"
   ]
  },
  {
   "cell_type": "code",
   "execution_count": 7,
   "metadata": {},
   "outputs": [],
   "source": [
    "# for p in publications:\n",
    "#     for a in p.text_areas:\n",
    "#         n = len(a.lines)\n",
    "#         skip = 0\n",
    "#         while skip < n and len(a.lines[skip].text) == 0:\n",
    "#             skip += 1\n",
    "#         if skip > 0:\n",
    "# #             print(\"SKIP\", skip, a)\n",
    "#             a.lines = a.lines[skip:]    "
   ]
  },
  {
   "cell_type": "code",
   "execution_count": 8,
   "metadata": {},
   "outputs": [
    {
     "data": {
      "text/plain": [
       "(5413, 'translated publications')"
      ]
     },
     "execution_count": 8,
     "metadata": {},
     "output_type": "execute_result"
    }
   ],
   "source": [
    "translated_publications = [x for x in publications if x.language is not None and x.has_translations()]\n",
    "len(translated_publications), \"translated publications\""
   ]
  },
  {
   "cell_type": "code",
   "execution_count": 9,
   "metadata": {},
   "outputs": [
    {
     "data": {
      "text/plain": [
       "Publication('P001282', 'qpc', [TextArea('tablet', []), TextArea('obverse', [TextLine('1.', '3(N01) 3(N08) , U8 UR2# UMBIN~a', {'en': '3 + 3 (lamb) ewes, ...;'}), TextLine('2.', '2(N01) , MASZ GURUSZDA MUSZ3~a', {'en': '2 goats, ...;'})]), TextArea('reverse', [])])"
      ]
     },
     "execution_count": 9,
     "metadata": {},
     "output_type": "execute_result"
    }
   ],
   "source": [
    "translated_publications[0]"
   ]
  },
  {
   "cell_type": "markdown",
   "metadata": {},
   "source": [
    "## Merge Lines to form full sentances"
   ]
  },
  {
   "cell_type": "code",
   "execution_count": 11,
   "metadata": {},
   "outputs": [
    {
     "data": {
      "text/plain": [
       "{'fake', 'other-genre', 'pottery', 'royal/votive'}"
      ]
     },
     "execution_count": 11,
     "metadata": {},
     "output_type": "execute_result"
    }
   ],
   "source": [
    "cdli.get_genres(\" fake; poTTery, other; royal/votive\")"
   ]
  },
  {
   "cell_type": "code",
   "execution_count": 12,
   "metadata": {},
   "outputs": [],
   "source": [
    "ignore_texts = set([\"xxx\", \"\", \"(subscript)\"])"
   ]
  },
  {
   "cell_type": "code",
   "execution_count": 13,
   "metadata": {},
   "outputs": [],
   "source": [
    "def get_publication_raw_lines(p):\n",
    "    translations = []\n",
    "    src_lang = p.language\n",
    "    for a in p.text_areas:        \n",
    "        if not a.has_translations():\n",
    "            continue\n",
    "        for iline, line in enumerate(a.lines):\n",
    "            langs = list(line.languages.keys())\n",
    "            src_text = line.text\n",
    "            if src_text in ignore_texts:\n",
    "                continue\n",
    "            tr = {\"p\": p.id, \"a\": a.name, \"l\": iline }\n",
    "            if src_lang in language_codes:\n",
    "                tr[src_lang] = src_text\n",
    "            for tgt_lang in langs:\n",
    "                if tgt_lang in language_codes:\n",
    "                    tgt_text = line.languages[tgt_lang] if tgt_lang in line.languages else \"\"\n",
    "                    if not (tgt_text in ignore_texts):\n",
    "                        tr[tgt_lang] = tgt_text\n",
    "            if len(tr) > 4:\n",
    "                for lang in language_codes:\n",
    "                    if lang not in tr:\n",
    "                        tr[lang] = None\n",
    "                translations.append(tr)\n",
    "    return translations"
   ]
  },
  {
   "cell_type": "markdown",
   "metadata": {},
   "source": [
    "## Export them to JSON"
   ]
  },
  {
   "cell_type": "code",
   "execution_count": 14,
   "metadata": {
    "scrolled": false
   },
   "outputs": [
    {
     "data": {
      "application/vnd.jupyter.widget-view+json": {
       "model_id": "2135cf5ad1ac48debc7e97580ee2d060",
       "version_major": 2,
       "version_minor": 0
      },
      "text/plain": [
       "  0%|          | 0/5413 [00:00<?, ?it/s]"
      ]
     },
     "metadata": {},
     "output_type": "display_data"
    },
    {
     "name": "stdout",
     "output_type": "stream",
     "text": [
      "91566 translations\n"
     ]
    },
    {
     "data": {
      "text/plain": [
       "[{'p': 'P010481',\n",
       "  'a': 'column 1',\n",
       "  'l': 0,\n",
       "  'sux': '2(u@c) 2(asz@c) uruda ma-na',\n",
       "  'en': '22 mana copper:',\n",
       "  'arcts': None,\n",
       "  'de': None,\n",
       "  'suxts': None,\n",
       "  'arc': None,\n",
       "  'peo': None,\n",
       "  'akkts': None,\n",
       "  'ugts': None,\n",
       "  'qpn': None,\n",
       "  'peots': None,\n",
       "  'ug': None,\n",
       "  'grcts': None,\n",
       "  'qpnts': None,\n",
       "  'elxts': None,\n",
       "  'it': None,\n",
       "  'akk': None,\n",
       "  'elx': None,\n",
       "  'es': None,\n",
       "  'fr': None,\n",
       "  'grc': None},\n",
       " {'p': 'P010481',\n",
       "  'a': 'column 1',\n",
       "  'l': 1,\n",
       "  'sux': 'sa10 GAN2',\n",
       "  'en': '(this is) the price of the field;',\n",
       "  'arcts': None,\n",
       "  'de': None,\n",
       "  'suxts': None,\n",
       "  'arc': None,\n",
       "  'peo': None,\n",
       "  'akkts': None,\n",
       "  'ugts': None,\n",
       "  'qpn': None,\n",
       "  'peots': None,\n",
       "  'ug': None,\n",
       "  'grcts': None,\n",
       "  'qpnts': None,\n",
       "  'elxts': None,\n",
       "  'it': None,\n",
       "  'akk': None,\n",
       "  'elx': None,\n",
       "  'es': None,\n",
       "  'fr': None,\n",
       "  'grc': None},\n",
       " {'p': 'P010481',\n",
       "  'a': 'column 1',\n",
       "  'l': 2,\n",
       "  'sux': '1(esze3@c) 2(iku@c) GAN2-bi',\n",
       "  'en': 'its surface (is) 8 iku;',\n",
       "  'arcts': None,\n",
       "  'de': None,\n",
       "  'suxts': None,\n",
       "  'arc': None,\n",
       "  'peo': None,\n",
       "  'akkts': None,\n",
       "  'ugts': None,\n",
       "  'qpn': None,\n",
       "  'peots': None,\n",
       "  'ug': None,\n",
       "  'grcts': None,\n",
       "  'qpnts': None,\n",
       "  'elxts': None,\n",
       "  'it': None,\n",
       "  'akk': None,\n",
       "  'elx': None,\n",
       "  'es': None,\n",
       "  'fr': None,\n",
       "  'grc': None},\n",
       " {'p': 'P010481',\n",
       "  'a': 'column 1',\n",
       "  'l': 3,\n",
       "  'sux': '1(u@c) 6(asz@c) uruda ma-na',\n",
       "  'en': '16 mana copper:',\n",
       "  'arcts': None,\n",
       "  'de': None,\n",
       "  'suxts': None,\n",
       "  'arc': None,\n",
       "  'peo': None,\n",
       "  'akkts': None,\n",
       "  'ugts': None,\n",
       "  'qpn': None,\n",
       "  'peots': None,\n",
       "  'ug': None,\n",
       "  'grcts': None,\n",
       "  'qpnts': None,\n",
       "  'elxts': None,\n",
       "  'it': None,\n",
       "  'akk': None,\n",
       "  'elx': None,\n",
       "  'es': None,\n",
       "  'fr': None,\n",
       "  'grc': None},\n",
       " {'p': 'P010481',\n",
       "  'a': 'column 1',\n",
       "  'l': 4,\n",
       "  'sux': 'nig2-diri',\n",
       "  'en': '(this is) the additional payment;',\n",
       "  'arcts': None,\n",
       "  'de': None,\n",
       "  'suxts': None,\n",
       "  'arc': None,\n",
       "  'peo': None,\n",
       "  'akkts': None,\n",
       "  'ugts': None,\n",
       "  'qpn': None,\n",
       "  'peots': None,\n",
       "  'ug': None,\n",
       "  'grcts': None,\n",
       "  'qpnts': None,\n",
       "  'elxts': None,\n",
       "  'it': None,\n",
       "  'akk': None,\n",
       "  'elx': None,\n",
       "  'es': None,\n",
       "  'fr': None,\n",
       "  'grc': None},\n",
       " {'p': 'P010481',\n",
       "  'a': 'column 1',\n",
       "  'l': 5,\n",
       "  'sux': '2(asz@c) sze lid2-ga',\n",
       "  'en': '2 lidga-measures of barley:',\n",
       "  'arcts': None,\n",
       "  'de': None,\n",
       "  'suxts': None,\n",
       "  'arc': None,\n",
       "  'peo': None,\n",
       "  'akkts': None,\n",
       "  'ugts': None,\n",
       "  'qpn': None,\n",
       "  'peots': None,\n",
       "  'ug': None,\n",
       "  'grcts': None,\n",
       "  'qpnts': None,\n",
       "  'elxts': None,\n",
       "  'it': None,\n",
       "  'akk': None,\n",
       "  'elx': None,\n",
       "  'es': None,\n",
       "  'fr': None,\n",
       "  'grc': None},\n",
       " {'p': 'P010481',\n",
       "  'a': 'column 1',\n",
       "  'l': 6,\n",
       "  'sux': 'nig2-ba',\n",
       "  'en': '(this is) the gift;',\n",
       "  'arcts': None,\n",
       "  'de': None,\n",
       "  'suxts': None,\n",
       "  'arc': None,\n",
       "  'peo': None,\n",
       "  'akkts': None,\n",
       "  'ugts': None,\n",
       "  'qpn': None,\n",
       "  'peots': None,\n",
       "  'ug': None,\n",
       "  'grcts': None,\n",
       "  'qpnts': None,\n",
       "  'elxts': None,\n",
       "  'it': None,\n",
       "  'akk': None,\n",
       "  'elx': None,\n",
       "  'es': None,\n",
       "  'fr': None,\n",
       "  'grc': None},\n",
       " {'p': 'P010481',\n",
       "  'a': 'column 1',\n",
       "  'l': 7,\n",
       "  'sux': '1(asz@c) tug2 szu',\n",
       "  'en': '1 šu-garment,',\n",
       "  'arcts': None,\n",
       "  'de': None,\n",
       "  'suxts': None,\n",
       "  'arc': None,\n",
       "  'peo': None,\n",
       "  'akkts': None,\n",
       "  'ugts': None,\n",
       "  'qpn': None,\n",
       "  'peots': None,\n",
       "  'ug': None,\n",
       "  'grcts': None,\n",
       "  'qpnts': None,\n",
       "  'elxts': None,\n",
       "  'it': None,\n",
       "  'akk': None,\n",
       "  'elx': None,\n",
       "  'es': None,\n",
       "  'fr': None,\n",
       "  'grc': None},\n",
       " {'p': 'P010481',\n",
       "  'a': 'column 2',\n",
       "  'l': 0,\n",
       "  'sux': '1(asz@c) me-gal2 tug2',\n",
       "  'en': '1 megal-garment:',\n",
       "  'arcts': None,\n",
       "  'de': None,\n",
       "  'suxts': None,\n",
       "  'arc': None,\n",
       "  'peo': None,\n",
       "  'akkts': None,\n",
       "  'ugts': None,\n",
       "  'qpn': None,\n",
       "  'peots': None,\n",
       "  'ug': None,\n",
       "  'grcts': None,\n",
       "  'qpnts': None,\n",
       "  'elxts': None,\n",
       "  'it': None,\n",
       "  'akk': None,\n",
       "  'elx': None,\n",
       "  'es': None,\n",
       "  'fr': None,\n",
       "  'grc': None},\n",
       " {'p': 'P010481',\n",
       "  'a': 'column 2',\n",
       "  'l': 1,\n",
       "  'sux': 'tug2',\n",
       "  'en': '(this is) the garment (payment);',\n",
       "  'arcts': None,\n",
       "  'de': None,\n",
       "  'suxts': None,\n",
       "  'arc': None,\n",
       "  'peo': None,\n",
       "  'akkts': None,\n",
       "  'ugts': None,\n",
       "  'qpn': None,\n",
       "  'peots': None,\n",
       "  'ug': None,\n",
       "  'grcts': None,\n",
       "  'qpnts': None,\n",
       "  'elxts': None,\n",
       "  'it': None,\n",
       "  'akk': None,\n",
       "  'elx': None,\n",
       "  'es': None,\n",
       "  'fr': None,\n",
       "  'grc': None}]"
      ]
     },
     "execution_count": 14,
     "metadata": {},
     "output_type": "execute_result"
    }
   ],
   "source": [
    "translations = []\n",
    "\n",
    "for p in tqdm(translated_publications):\n",
    "    plines = get_publication_raw_lines(p)\n",
    "    translations.extend(plines)\n",
    "\n",
    "print(len(translations), \"translations\")\n",
    "translations[:10]"
   ]
  },
  {
   "cell_type": "code",
   "execution_count": 27,
   "metadata": {},
   "outputs": [],
   "source": [
    "with open(output_json_path, \"wb\") as f:\n",
    "    for t in translations:\n",
    "        f.write(bytes(json.dumps(t), \"utf8\"))\n",
    "        f.write(b\"\\n\")"
   ]
  },
  {
   "cell_type": "code",
   "execution_count": null,
   "metadata": {},
   "outputs": [],
   "source": []
  }
 ],
 "metadata": {
  "kernelspec": {
   "display_name": "Python 3 (ipykernel)",
   "language": "python",
   "name": "python3"
  },
  "language_info": {
   "codemirror_mode": {
    "name": "ipython",
    "version": 3
   },
   "file_extension": ".py",
   "mimetype": "text/x-python",
   "name": "python",
   "nbconvert_exporter": "python",
   "pygments_lexer": "ipython3",
   "version": "3.10.4"
  }
 },
 "nbformat": 4,
 "nbformat_minor": 4
}
