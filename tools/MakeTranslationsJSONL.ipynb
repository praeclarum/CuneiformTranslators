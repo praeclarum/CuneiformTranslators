{
 "cells": [
  {
   "cell_type": "markdown",
   "id": "81f148c0",
   "metadata": {},
   "source": [
    "# Make Translations JSONL\n",
    "\n",
    "Outputs human translations to the data folder."
   ]
  },
  {
   "cell_type": "markdown",
   "id": "ca67a243",
   "metadata": {},
   "source": [
    "http://oracc.museum.upenn.edu/doc/help/editinginatf/primer/inlinetutorial/index.html"
   ]
  },
  {
   "cell_type": "code",
   "execution_count": 1,
   "id": "4e546ff0",
   "metadata": {},
   "outputs": [],
   "source": [
    "import os, sys, math\n",
    "import requests\n",
    "import json\n",
    "import time\n",
    "import random\n",
    "import shutil\n",
    "import zipfile\n",
    "from collections import defaultdict\n",
    "from glob import glob\n",
    "from bs4 import BeautifulSoup\n",
    "from tqdm.notebook import tqdm\n",
    "import importlib"
   ]
  },
  {
   "cell_type": "code",
   "execution_count": 2,
   "id": "58398084",
   "metadata": {},
   "outputs": [],
   "source": [
    "import languages\n",
    "import cdli\n",
    "import oracc"
   ]
  },
  {
   "cell_type": "code",
   "execution_count": 3,
   "id": "86cd371d",
   "metadata": {},
   "outputs": [
    {
     "data": {
      "text/plain": [
       "'/Volumes/FrankDisk/oracc_zips'"
      ]
     },
     "execution_count": 3,
     "metadata": {},
     "output_type": "execute_result"
    }
   ],
   "source": [
    "oracc_dir = os.path.abspath(f\"/Volumes/FrankDisk/oracc_zips\")\n",
    "os.makedirs(oracc_dir, exist_ok=True)\n",
    "oracc_dir"
   ]
  },
  {
   "cell_type": "code",
   "execution_count": 4,
   "id": "b8bc1a16",
   "metadata": {},
   "outputs": [],
   "source": [
    "# This is loaded later. Put here so I don't accidentally run it.\n",
    "oracc_translated_pubs = dict()"
   ]
  },
  {
   "cell_type": "markdown",
   "id": "41dd77ac",
   "metadata": {},
   "source": [
    "## Download ORACC Projects"
   ]
  },
  {
   "cell_type": "code",
   "execution_count": 5,
   "id": "48e1366a",
   "metadata": {},
   "outputs": [
    {
     "data": {
      "application/json": {
       "ascii": false,
       "bar_format": null,
       "colour": null,
       "elapsed": 0.009766101837158203,
       "initial": 0,
       "n": 0,
       "ncols": null,
       "nrows": 24,
       "postfix": null,
       "prefix": "",
       "rate": null,
       "total": 140,
       "unit": "it",
       "unit_divisor": 1000,
       "unit_scale": false
      },
      "application/vnd.jupyter.widget-view+json": {
       "model_id": "359b79423a464e928ea8f73ad091690e",
       "version_major": 2,
       "version_minor": 0
      },
      "text/plain": [
       "  0%|          | 0/140 [00:00<?, ?it/s]"
      ]
     },
     "metadata": {},
     "output_type": "display_data"
    }
   ],
   "source": [
    "project_zips = oracc.get_all_project_zips(oracc_dir, verbose=False, tqdm=tqdm)"
   ]
  },
  {
   "cell_type": "code",
   "execution_count": 6,
   "id": "5773a184",
   "metadata": {},
   "outputs": [
    {
     "name": "stdout",
     "output_type": "stream",
     "text": [
      "119\n"
     ]
    },
    {
     "data": {
      "text/plain": [
       "['/Volumes/FrankDisk/oracc_zips/adsd.zip',\n",
       " '/Volumes/FrankDisk/oracc_zips/adsd-adart1.zip',\n",
       " '/Volumes/FrankDisk/oracc_zips/adsd-adart2.zip']"
      ]
     },
     "execution_count": 6,
     "metadata": {},
     "output_type": "execute_result"
    }
   ],
   "source": [
    "print(len(project_zips))\n",
    "project_zips[:3]"
   ]
  },
  {
   "cell_type": "code",
   "execution_count": 7,
   "id": "d1a4e944",
   "metadata": {},
   "outputs": [
    {
     "data": {
      "application/json": {
       "ascii": false,
       "bar_format": null,
       "colour": null,
       "elapsed": 0.008503913879394531,
       "initial": 0,
       "n": 0,
       "ncols": null,
       "nrows": 24,
       "postfix": null,
       "prefix": "",
       "rate": null,
       "total": 119,
       "unit": "it",
       "unit_divisor": 1000,
       "unit_scale": false
      },
      "application/vnd.jupyter.widget-view+json": {
       "model_id": "da015fb100a843ce8e8c82b2adcb8338",
       "version_major": 2,
       "version_minor": 0
      },
      "text/plain": [
       "  0%|          | 0/119 [00:00<?, ?it/s]"
      ]
     },
     "metadata": {},
     "output_type": "display_data"
    }
   ],
   "source": [
    "all_corpus_object_ids = oracc.get_all_corpus_object_ids(project_zips[:], tqdm=tqdm)"
   ]
  },
  {
   "cell_type": "code",
   "execution_count": 8,
   "id": "f052fdae",
   "metadata": {},
   "outputs": [
    {
     "data": {
      "text/plain": [
       "26374"
      ]
     },
     "execution_count": 8,
     "metadata": {},
     "output_type": "execute_result"
    }
   ],
   "source": [
    "len(all_corpus_object_ids)"
   ]
  },
  {
   "cell_type": "markdown",
   "id": "7da6f43b",
   "metadata": {},
   "source": [
    "## Load ORACC Transliterations"
   ]
  },
  {
   "cell_type": "code",
   "execution_count": 9,
   "id": "500a9f6e",
   "metadata": {},
   "outputs": [
    {
     "data": {
      "application/json": {
       "ascii": false,
       "bar_format": null,
       "colour": null,
       "elapsed": 0.00896906852722168,
       "initial": 0,
       "n": 0,
       "ncols": null,
       "nrows": 24,
       "postfix": null,
       "prefix": "",
       "rate": null,
       "total": 140,
       "unit": "it",
       "unit_divisor": 1000,
       "unit_scale": false
      },
      "application/vnd.jupyter.widget-view+json": {
       "model_id": "ac974052db5042529d685f5dcf7579ef",
       "version_major": 2,
       "version_minor": 0
      },
      "text/plain": [
       "  0%|          | 0/140 [00:00<?, ?it/s]"
      ]
     },
     "metadata": {},
     "output_type": "display_data"
    },
    {
     "name": "stdout",
     "output_type": "stream",
     "text": [
      "Error: (<class 'json.decoder.JSONDecodeError'>, JSONDecodeError('Expecting value: line 1 column 1 (char 0)'), <traceback object at 0x7fcf20dc0780>)\n",
      "Error: (<class 'json.decoder.JSONDecodeError'>, JSONDecodeError('Expecting value: line 1 column 1 (char 0)'), <traceback object at 0x7fccfeaf5380>)\n",
      "Error: (<class 'json.decoder.JSONDecodeError'>, JSONDecodeError('Expecting value: line 1 column 1 (char 0)'), <traceback object at 0x7fcd1b6ad5c0>)\n",
      "Error: (<class 'json.decoder.JSONDecodeError'>, JSONDecodeError('Expecting value: line 1 column 1 (char 0)'), <traceback object at 0x7fcd1b051b80>)\n",
      "Error: (<class 'json.decoder.JSONDecodeError'>, JSONDecodeError('Expecting value: line 1 column 1 (char 0)'), <traceback object at 0x7fcf38049a40>)\n",
      "Error: (<class 'json.decoder.JSONDecodeError'>, JSONDecodeError('Expecting value: line 1 column 1 (char 0)'), <traceback object at 0x7fcd1b039c00>)\n",
      "Error: (<class 'json.decoder.JSONDecodeError'>, JSONDecodeError('Expecting value: line 1 column 1 (char 0)'), <traceback object at 0x7fcd1b026ec0>)\n",
      "Error: (<class 'json.decoder.JSONDecodeError'>, JSONDecodeError('Expecting value: line 1 column 1 (char 0)'), <traceback object at 0x7fcd1b0356c0>)\n",
      "Error: (<class 'json.decoder.JSONDecodeError'>, JSONDecodeError('Expecting value: line 1 column 1 (char 0)'), <traceback object at 0x7fcc9f286b40>)\n",
      "Error: (<class 'json.decoder.JSONDecodeError'>, JSONDecodeError('Expecting value: line 1 column 1 (char 0)'), <traceback object at 0x7fcd1a6cbec0>)\n",
      "Error: (<class 'json.decoder.JSONDecodeError'>, JSONDecodeError('Expecting value: line 1 column 1 (char 0)'), <traceback object at 0x7fcc9f725240>)\n",
      "Error: (<class 'json.decoder.JSONDecodeError'>, JSONDecodeError('Expecting value: line 1 column 1 (char 0)'), <traceback object at 0x7fcf3807cf00>)\n",
      "Error: (<class 'json.decoder.JSONDecodeError'>, JSONDecodeError('Expecting value: line 1 column 1 (char 0)'), <traceback object at 0x7fcc009d1780>)\n",
      "Error: (<class 'json.decoder.JSONDecodeError'>, JSONDecodeError('Expecting value: line 1 column 1 (char 0)'), <traceback object at 0x7fcb938f0880>)\n",
      "Error: (<class 'json.decoder.JSONDecodeError'>, JSONDecodeError('Expecting value: line 1 column 1 (char 0)'), <traceback object at 0x7fcb93f30d80>)\n",
      "Error: (<class 'json.decoder.JSONDecodeError'>, JSONDecodeError('Expecting value: line 1 column 1 (char 0)'), <traceback object at 0x7fcb9ba25100>)\n",
      "Error: (<class 'json.decoder.JSONDecodeError'>, JSONDecodeError('Expecting value: line 1 column 1 (char 0)'), <traceback object at 0x7fcb9c15a340>)\n",
      "Error: (<class 'json.decoder.JSONDecodeError'>, JSONDecodeError('Expecting value: line 1 column 1 (char 0)'), <traceback object at 0x7fcb0822b580>)\n",
      "Error: (<class 'json.decoder.JSONDecodeError'>, JSONDecodeError('Expecting value: line 1 column 1 (char 0)'), <traceback object at 0x7fcb8b026d80>)\n",
      "Error: (<class 'json.decoder.JSONDecodeError'>, JSONDecodeError('Expecting value: line 1 column 1 (char 0)'), <traceback object at 0x7fcaf7533cc0>)\n",
      "Error: (<class 'json.decoder.JSONDecodeError'>, JSONDecodeError('Expecting value: line 1 column 1 (char 0)'), <traceback object at 0x7fcae4918200>)\n",
      "Error: (<class 'json.decoder.JSONDecodeError'>, JSONDecodeError('Expecting value: line 1 column 1 (char 0)'), <traceback object at 0x7fcae48a5640>)\n",
      "Error: (<class 'json.decoder.JSONDecodeError'>, JSONDecodeError('Expecting value: line 1 column 1 (char 0)'), <traceback object at 0x7fcae56940c0>)\n",
      "Error: (<class 'json.decoder.JSONDecodeError'>, JSONDecodeError('Expecting value: line 1 column 1 (char 0)'), <traceback object at 0x7fcae6188540>)\n",
      "Error: (<class 'json.decoder.JSONDecodeError'>, JSONDecodeError('Expecting value: line 1 column 1 (char 0)'), <traceback object at 0x7fcae60ad740>)\n",
      "Error: (<class 'json.decoder.JSONDecodeError'>, JSONDecodeError('Expecting value: line 1 column 1 (char 0)'), <traceback object at 0x7fcae66cfb00>)\n",
      "Error: (<class 'json.decoder.JSONDecodeError'>, JSONDecodeError('Expecting value: line 1 column 1 (char 0)'), <traceback object at 0x7fcae66cfc40>)\n",
      "Error: (<class 'json.decoder.JSONDecodeError'>, JSONDecodeError('Expecting value: line 1 column 1 (char 0)'), <traceback object at 0x7fcbab6ea900>)\n",
      "Error: (<class 'json.decoder.JSONDecodeError'>, JSONDecodeError('Expecting value: line 1 column 1 (char 0)'), <traceback object at 0x7fcae6f3a880>)\n",
      "Error: (<class 'json.decoder.JSONDecodeError'>, JSONDecodeError('Expecting value: line 1 column 1 (char 0)'), <traceback object at 0x7fcac8854b40>)\n",
      "Error: (<class 'json.decoder.JSONDecodeError'>, JSONDecodeError('Expecting value: line 1 column 1 (char 0)'), <traceback object at 0x7fcac8854a00>)\n",
      "Error: (<class 'json.decoder.JSONDecodeError'>, JSONDecodeError('Expecting value: line 1 column 1 (char 0)'), <traceback object at 0x7fcac8f18e00>)\n",
      "Error: (<class 'json.decoder.JSONDecodeError'>, JSONDecodeError('Expecting value: line 1 column 1 (char 0)'), <traceback object at 0x7fcad97327c0>)\n",
      "Error: (<class 'json.decoder.JSONDecodeError'>, JSONDecodeError('Expecting value: line 1 column 1 (char 0)'), <traceback object at 0x7fcac9102bc0>)\n",
      "Error: (<class 'json.decoder.JSONDecodeError'>, JSONDecodeError('Expecting value: line 1 column 1 (char 0)'), <traceback object at 0x7fcac9978380>)\n",
      "Error: (<class 'json.decoder.JSONDecodeError'>, JSONDecodeError('Expecting value: line 1 column 1 (char 0)'), <traceback object at 0x7fcac9978240>)\n",
      "Error: (<class 'json.decoder.JSONDecodeError'>, JSONDecodeError('Expecting value: line 1 column 1 (char 0)'), <traceback object at 0x7fcac9afb080>)\n",
      "Error: (<class 'json.decoder.JSONDecodeError'>, JSONDecodeError('Expecting value: line 1 column 1 (char 0)'), <traceback object at 0x7fcaea321a80>)\n",
      "Error: (<class 'json.decoder.JSONDecodeError'>, JSONDecodeError('Expecting value: line 1 column 1 (char 0)'), <traceback object at 0x7fcac9fb8280>)\n",
      "Error: (<class 'json.decoder.JSONDecodeError'>, JSONDecodeError('Expecting value: line 1 column 1 (char 0)'), <traceback object at 0x7fcb7c50af00>)\n",
      "Error: (<class 'json.decoder.JSONDecodeError'>, JSONDecodeError('Expecting value: line 1 column 1 (char 0)'), <traceback object at 0x7fcab00d9c00>)\n"
     ]
    }
   ],
   "source": [
    "oracc_pub_ids_and_langs, transliterated_oracc_corpi = oracc.load_all_project_pub_ids(oracc_dir, tqdm=tqdm)"
   ]
  },
  {
   "cell_type": "code",
   "execution_count": 10,
   "id": "6481e782",
   "metadata": {},
   "outputs": [],
   "source": [
    "transliterated_oracc_pub_ids = set(transliterated_oracc_corpi.keys())"
   ]
  },
  {
   "cell_type": "code",
   "execution_count": 11,
   "id": "3b2d73dc",
   "metadata": {},
   "outputs": [
    {
     "name": "stdout",
     "output_type": "stream",
     "text": [
      "133312 oracc pubs\n",
      "22076 oracc transliterated pubs\n"
     ]
    }
   ],
   "source": [
    "print(len(oracc_pub_ids_and_langs), \"oracc pubs\")\n",
    "print(len(transliterated_oracc_pub_ids), \"oracc transliterated pubs\")"
   ]
  },
  {
   "cell_type": "code",
   "execution_count": 12,
   "id": "6de64619",
   "metadata": {},
   "outputs": [
    {
     "data": {
      "text/plain": [
       "['X900957', 'X900975', 'X900978', 'X987003', 'X999985']"
      ]
     },
     "execution_count": 12,
     "metadata": {},
     "output_type": "execute_result"
    }
   ],
   "source": [
    "sorted(list(transliterated_oracc_pub_ids))[-5:]"
   ]
  },
  {
   "cell_type": "markdown",
   "id": "0ef62040",
   "metadata": {},
   "source": [
    "## Download CDLI for Reference"
   ]
  },
  {
   "cell_type": "code",
   "execution_count": 13,
   "id": "4f136533",
   "metadata": {
    "scrolled": true
   },
   "outputs": [
    {
     "name": "stdout",
     "output_type": "stream",
     "text": [
      "Downloading https://github.com/cdli-gh/data/raw/master/cdliatf_unblocked.atf\n",
      "Parsing atf\n"
     ]
    }
   ],
   "source": [
    "cdli_pubs = cdli.get_atf()"
   ]
  },
  {
   "cell_type": "markdown",
   "id": "89b18b05",
   "metadata": {},
   "source": [
    "## Download ORACC Translations"
   ]
  },
  {
   "cell_type": "code",
   "execution_count": 14,
   "id": "52a01f52",
   "metadata": {},
   "outputs": [
    {
     "data": {
      "application/json": {
       "ascii": false,
       "bar_format": null,
       "colour": null,
       "elapsed": 0.010957956314086914,
       "initial": 0,
       "n": 0,
       "ncols": null,
       "nrows": 24,
       "postfix": null,
       "prefix": "",
       "rate": null,
       "total": 119,
       "unit": "it",
       "unit_divisor": 1000,
       "unit_scale": false
      },
      "application/vnd.jupyter.widget-view+json": {
       "model_id": "cc87779a807942d4a51c9dafdc86e278",
       "version_major": 2,
       "version_minor": 0
      },
      "text/plain": [
       "  0%|          | 0/119 [00:00<?, ?it/s]"
      ]
     },
     "metadata": {},
     "output_type": "display_data"
    },
    {
     "name": "stdout",
     "output_type": "stream",
     "text": [
      "16777 reported translations\n"
     ]
    }
   ],
   "source": [
    "reported_translated_ids = oracc.get_all_translated_object_ids(project_zips, tqdm)\n",
    "print(len(reported_translated_ids), \"reported translations\")"
   ]
  },
  {
   "cell_type": "code",
   "execution_count": 15,
   "id": "a3fac5bf",
   "metadata": {},
   "outputs": [
    {
     "data": {
      "application/json": {
       "ascii": false,
       "bar_format": null,
       "colour": null,
       "elapsed": 0.008391141891479492,
       "initial": 0,
       "n": 0,
       "ncols": null,
       "nrows": 24,
       "postfix": null,
       "prefix": "",
       "rate": null,
       "total": 16777,
       "unit": "it",
       "unit_divisor": 1000,
       "unit_scale": false
      },
      "application/vnd.jupyter.widget-view+json": {
       "model_id": "2ff30725e0a8419dbd7abbe9d7c01fca",
       "version_major": 2,
       "version_minor": 0
      },
      "text/plain": [
       "  0%|          | 0/16777 [00:00<?, ?it/s]"
      ]
     },
     "metadata": {},
     "output_type": "display_data"
    }
   ],
   "source": [
    "for pid, oid in tqdm(reported_translated_ids[:]):\n",
    "    tpath = oracc.download_object_translation(oracc_dir, pid, oid)\n",
    "#     print(tpath)"
   ]
  },
  {
   "cell_type": "markdown",
   "id": "02d7a2f2",
   "metadata": {},
   "source": [
    "## Test Normalized ORACC Transliterations"
   ]
  },
  {
   "cell_type": "code",
   "execution_count": 16,
   "id": "4d81b504",
   "metadata": {},
   "outputs": [],
   "source": [
    "test_object_ids = [\n",
    "    \"P250815\", # szag4 to sza3, kud to ku5\n",
    "    \"P271132\", # geme2 to dam\n",
    "    \"P332924\", # gab2 to kab, zid to zi, tum12 to tu\n",
    "    \"P271187\", # tu4 to tum, ir3 to ARAD2\n",
    "    \"P271030\", # pu to bu\n",
    "    \"P228726\", # sag10 to saga, gurum to gur2, ah3 to had2\n",
    "    \"P247541\", # giggi to kukku5\n",
    "    \"P503256\", # Links in cuneiform\n",
    "    \"P237767\",\n",
    "    \"P503256\",\n",
    "    \"P237730\",\n",
    "\n",
    "    \"P010627\", # Notes: o ii 66\n",
    "\n",
    "    \"Q000041\",\n",
    "    \"Q000057\",\n",
    "]"
   ]
  },
  {
   "cell_type": "code",
   "execution_count": 17,
   "id": "90e7589f",
   "metadata": {},
   "outputs": [
    {
     "data": {
      "text/plain": [
       "<module 'oracc' from '/Users/fak/Dropbox/Projects/CuneiformTranslators/tools/oracc.py'>"
      ]
     },
     "execution_count": 17,
     "metadata": {},
     "output_type": "execute_result"
    }
   ],
   "source": [
    "importlib.reload(oracc)"
   ]
  },
  {
   "cell_type": "code",
   "execution_count": 18,
   "id": "93323ed6",
   "metadata": {},
   "outputs": [
    {
     "name": "stdout",
     "output_type": "stream",
     "text": [
      "P250815 \n",
      "\n",
      "\n",
      "P250815 Obverse\n",
      "5(asz) gur zu2-lum\n",
      "nig2-gar {gesz}kiri6\n",
      "{gesz}kiri6 ib-ni-{d}suen\n",
      "<<{disz}>>ki ib-ni-{d}suen\n",
      "{disz}ar-bi-tu-ra-am\n",
      "szu ba-an-ti\n",
      "{iti}szu-numun-a\n",
      "{gesz}sza3-gesznimbar nu-ba-an-ku5\n",
      "\n",
      "P250815 Reverse\n",
      "{gesz}kid-da gesznimbar\n",
      "szu# ba-an-ti\n",
      "\n"
     ]
    }
   ],
   "source": [
    "for t in test_object_ids[:1]:\n",
    "    cdli.print_pub_lines(oracc.get_object_id_pub(t, oracc_dir))"
   ]
  },
  {
   "cell_type": "markdown",
   "id": "ea199246",
   "metadata": {},
   "source": [
    "## Compare with CDLI Transliterations"
   ]
  },
  {
   "cell_type": "code",
   "execution_count": 23,
   "id": "f6b4eb57",
   "metadata": {},
   "outputs": [
    {
     "data": {
      "text/plain": [
       "(135201, 'cdli pubs')"
      ]
     },
     "execution_count": 23,
     "metadata": {},
     "output_type": "execute_result"
    }
   ],
   "source": [
    "cdli_index = {x.id: x for x in cdli_pubs}\n",
    "cdli_pub_ids = set(cdli_index.keys())\n",
    "len(cdli_pub_ids), \"cdli pubs\""
   ]
  },
  {
   "cell_type": "code",
   "execution_count": 24,
   "id": "610143d3",
   "metadata": {},
   "outputs": [
    {
     "data": {
      "text/plain": [
       "(16442, 'oracc translated pubs')"
      ]
     },
     "execution_count": 24,
     "metadata": {},
     "output_type": "execute_result"
    }
   ],
   "source": [
    "all_translated_ids = set(oracc.get_all_object_html_paths(oracc_dir).keys())\n",
    "len(all_translated_ids), \"oracc translated pubs\""
   ]
  },
  {
   "cell_type": "code",
   "execution_count": 25,
   "id": "78de85be",
   "metadata": {},
   "outputs": [
    {
     "data": {
      "text/plain": [
       "(775, 'common')"
      ]
     },
     "execution_count": 25,
     "metadata": {},
     "output_type": "execute_result"
    }
   ],
   "source": [
    "common_pub_ids = sorted(list(cdli_pub_ids.intersection(all_translated_ids)))\n",
    "len(common_pub_ids), \"common\""
   ]
  },
  {
   "cell_type": "code",
   "execution_count": 26,
   "id": "6be2a00c",
   "metadata": {
    "scrolled": false
   },
   "outputs": [
    {
     "name": "stdout",
     "output_type": "stream",
     "text": [
      "========================================\n",
      "P250815 tablet\n",
      "\n",
      "P250815 obverse\n",
      "5(asz) gur zu2-lum\n",
      "nig2-gar {gesz}kiri6\n",
      "{gesz}kiri6 ib-ni-{d}suen\n",
      "<<disz>> ki ib-ni-{d}suen\n",
      "{disz}ar-bi-tu-ra-am\n",
      "szu ba-an-ti\n",
      "iti szu-numun-a\n",
      "{gesz}sza3-geszimmar nu-ba-an-ku5\n",
      "\n",
      "P250815 reverse\n",
      "{gesz}kid-da gesznimbar\n",
      "szu# ba-an-ti\n",
      "\n",
      "----------------------------------------\n",
      "P250815 \n",
      "\n",
      "\n",
      "P250815 Obverse\n",
      "5(asz) gur zu2-lum\n",
      "nig2-gar {gesz}kiri6\n",
      "{gesz}kiri6 ib-ni-{d}suen\n",
      "<<{disz}>>ki ib-ni-{d}suen\n",
      "{disz}ar-bi-tu-ra-am\n",
      "szu ba-an-ti\n",
      "{iti}szu-numun-a\n",
      "{gesz}sza3-gesznimbar nu-ba-an-ku5\n",
      "\n",
      "P250815 Reverse\n",
      "{gesz}kid-da gesznimbar\n",
      "szu# ba-an-ti\n",
      "\n"
     ]
    }
   ],
   "source": [
    "for pid in common_pub_ids[281:282]:\n",
    "    print(\"=\"*40)\n",
    "    cdli_pub = cdli_index[pid]\n",
    "    cdli.print_pub_lines(cdli_pub)\n",
    "    print(\"-\"*40)\n",
    "    oracc_pub = oracc.get_object_id_pub(pid, oracc_dir)\n",
    "    cdli.print_pub_lines(oracc_pub)"
   ]
  },
  {
   "cell_type": "markdown",
   "id": "128f05c9",
   "metadata": {},
   "source": [
    "## Load ORACC Translations into Memory"
   ]
  },
  {
   "cell_type": "code",
   "execution_count": 27,
   "id": "7bc72206",
   "metadata": {},
   "outputs": [
    {
     "data": {
      "application/json": {
       "ascii": false,
       "bar_format": null,
       "colour": null,
       "elapsed": 0.009297847747802734,
       "initial": 0,
       "n": 0,
       "ncols": null,
       "nrows": 24,
       "postfix": null,
       "prefix": "",
       "rate": null,
       "total": 16442,
       "unit": "it",
       "unit_divisor": 1000,
       "unit_scale": false
      },
      "application/vnd.jupyter.widget-view+json": {
       "model_id": "bf319993028742fc9fa35460c0de3833",
       "version_major": 2,
       "version_minor": 0
      },
      "text/plain": [
       "  0%|          | 0/16442 [00:00<?, ?it/s]"
      ]
     },
     "metadata": {},
     "output_type": "display_data"
    },
    {
     "data": {
      "text/plain": [
       "[('akk', 10079),\n",
       " ('sux', 2544),\n",
       " ('?', 1818),\n",
       " ('xur', 335),\n",
       " ('peo', 95),\n",
       " ('elx', 8),\n",
       " ('arc', 8),\n",
       " ('grc', 1)]"
      ]
     },
     "execution_count": 27,
     "metadata": {},
     "output_type": "execute_result"
    }
   ],
   "source": [
    "oracc_langs = defaultdict(lambda: 0)\n",
    "\n",
    "random_ids = list(all_translated_ids)\n",
    "random.shuffle(random_ids)\n",
    "\n",
    "for pid in tqdm(random_ids[:]):\n",
    "    p = oracc.get_object_id_pub(pid, oracc_dir)\n",
    "    oracc_translated_pubs[pid] = p\n",
    "    if p.language is not None:\n",
    "        oracc_langs[p.language] += 1\n",
    "    \n",
    "oracc_langs = sorted([(x, oracc_langs[x]) for x in oracc_langs.keys()], key=lambda x:-x[1])\n",
    "oracc_langs"
   ]
  },
  {
   "cell_type": "code",
   "execution_count": 29,
   "id": "595dd46c",
   "metadata": {},
   "outputs": [
    {
     "data": {
      "text/plain": [
       "(16442, 'oracc translated pubs')"
      ]
     },
     "execution_count": 29,
     "metadata": {},
     "output_type": "execute_result"
    }
   ],
   "source": [
    "len(oracc_translated_pubs), \"oracc translated pubs\""
   ]
  },
  {
   "cell_type": "markdown",
   "id": "79566e22",
   "metadata": {},
   "source": [
    "## Show CDLI and ORACC Corpi Stats"
   ]
  },
  {
   "cell_type": "code",
   "execution_count": 30,
   "id": "9a5b5345",
   "metadata": {},
   "outputs": [
    {
     "data": {
      "text/plain": [
       "(5369, 'cdli translated pubs')"
      ]
     },
     "execution_count": 30,
     "metadata": {},
     "output_type": "execute_result"
    }
   ],
   "source": [
    "def cdli_text_area_is_translated(pub, text_area, tgt_lang):\n",
    "    for line in text_area.lines:\n",
    "        if tgt_lang in line.languages:\n",
    "            return True\n",
    "    return False\n",
    "\n",
    "def cdli_pub_is_translated(pub, tgt_lang):\n",
    "    return any(x for x in pub.text_areas if cdli_text_area_is_translated(pub, x, tgt_lang))\n",
    "\n",
    "cdli_translated_pubs = {x.id: x for x in cdli_pubs if cdli_pub_is_translated(x, \"en\")}\n",
    "len(cdli_translated_pubs), \"cdli translated pubs\""
   ]
  },
  {
   "cell_type": "code",
   "execution_count": 40,
   "id": "c93ad902",
   "metadata": {},
   "outputs": [
    {
     "name": "stdout",
     "output_type": "stream",
     "text": [
      "==========================================\n",
      "                   lang: sux\n",
      "\n",
      "    transliterated cdli: 99819\n",
      "        translated cdli: 4153\n",
      " need translations cdli: 95566\n",
      "\n",
      "                  oracc: 104441\n",
      "   transliterated oracc: 5249\n",
      "       translated oracc: 2544\n",
      "need translations oracc: 4069\n",
      "------------------------------------------\n",
      "                  total: 116630\n",
      "   transliterated total: 104582\n",
      "       translated total: 6645\n",
      "need translations total: 99326\n",
      "==========================================\n",
      "                   lang: akk\n",
      "\n",
      "    transliterated cdli: 21953\n",
      "        translated cdli: 976\n",
      " need translations cdli: 20741\n",
      "\n",
      "                  oracc: 27417\n",
      "   transliterated oracc: 16827\n",
      "       translated oracc: 10079\n",
      "need translations oracc: 6816\n",
      "------------------------------------------\n",
      "                  total: 45694\n",
      "   transliterated total: 36211\n",
      "       translated total: 11052\n",
      "need translations total: 25226\n"
     ]
    }
   ],
   "source": [
    "\n",
    "def show_language_stats(src_lang, tgt_lang=\"en\"):\n",
    "    transliterated_cdli_index = {x.id: x for x in cdli_pubs if x.language == src_lang}\n",
    "    transliterated_cdli_ids = set(transliterated_cdli_index.keys())\n",
    "    transliterated_oracc_index = {x: transliterated_oracc_corpi[x] for x in transliterated_oracc_corpi.keys() if transliterated_oracc_corpi[x][\"lang\"] == src_lang}\n",
    "    transliterated_oracc_ids = set(transliterated_oracc_index.keys())\n",
    "    all_transliterated_ids = transliterated_cdli_ids.union(transliterated_oracc_ids)\n",
    "\n",
    "    translated_cdli_index = {x.id: x for x in cdli_translated_pubs.values() if x.language == src_lang}\n",
    "    translated_cdli_ids = set(translated_cdli_index.keys())\n",
    "    translated_oracc_index = {x: oracc_translated_pubs[x] for x in oracc_translated_pubs.keys() if oracc_translated_pubs[x].language == src_lang}\n",
    "    translated_oracc_ids = set(translated_oracc_index.keys())\n",
    "    all_translated_ids = translated_cdli_ids.union(translated_oracc_ids)\n",
    "    \n",
    "    cdli_needs_translation_ids = transliterated_cdli_ids.difference(all_translated_ids)\n",
    "    oracc_needs_translation_ids = transliterated_oracc_ids.difference(all_translated_ids)\n",
    "    all_needs_translation_ids = cdli_needs_translation_ids.union(oracc_needs_translation_ids)\n",
    "    \n",
    "#     cdli_ids = set(x[0] for x in cdli_pub_ids_and_langs if x[1] == src_lang)\n",
    "    oracc_ids = set(x[0] for x in oracc_pub_ids_and_langs if x[1] == src_lang)\n",
    "    all_ids = transliterated_cdli_ids.union(oracc_ids)\n",
    "\n",
    "    print(\"=\"*42)\n",
    "    print(f\"                   lang: {src_lang}\")\n",
    "    print()\n",
    "#     print(f\"                   cdli: {len(cdli_ids)}\")\n",
    "    print(f\"    transliterated cdli: {len(transliterated_cdli_ids)}\")\n",
    "    print(f\"        translated cdli: {len(translated_cdli_ids)}\")\n",
    "    print(f\" need translations cdli: {len(cdli_needs_translation_ids)}\")\n",
    "\n",
    "    print()\n",
    "    print(f\"                  oracc: {len(oracc_ids)}\")\n",
    "    print(f\"   transliterated oracc: {len(transliterated_oracc_ids)}\")\n",
    "    print(f\"       translated oracc: {len(translated_oracc_ids)}\")\n",
    "    print(f\"need translations oracc: {len(oracc_needs_translation_ids)}\")\n",
    "    print(\"-\"*42)\n",
    "    print(f\"                  total: {len(all_ids)}\")\n",
    "    print(f\"   transliterated total: {len(all_transliterated_ids)}\")\n",
    "    print(f\"       translated total: {len(all_translated_ids)}\")\n",
    "    print(f\"need translations total: {len(all_needs_translation_ids)}\")\n",
    "\n",
    "show_language_stats(src_lang=\"sux\")\n",
    "show_language_stats(src_lang=\"akk\")"
   ]
  },
  {
   "cell_type": "code",
   "execution_count": null,
   "id": "f6f5a976",
   "metadata": {},
   "outputs": [],
   "source": []
  },
  {
   "cell_type": "code",
   "execution_count": null,
   "id": "3363d004",
   "metadata": {},
   "outputs": [],
   "source": []
  },
  {
   "cell_type": "markdown",
   "id": "a7553617",
   "metadata": {},
   "source": [
    "## Output Translations"
   ]
  },
  {
   "cell_type": "code",
   "execution_count": 41,
   "id": "e524a4a0",
   "metadata": {},
   "outputs": [],
   "source": [
    "translations_out_dir = f\"../data\"\n",
    "os.makedirs(translations_out_dir, exist_ok=True)"
   ]
  },
  {
   "cell_type": "code",
   "execution_count": 42,
   "id": "93cd55b3",
   "metadata": {},
   "outputs": [
    {
     "name": "stdout",
     "output_type": "stream",
     "text": [
      "cdli akk with 976 translated publications\n"
     ]
    },
    {
     "data": {
      "application/json": {
       "ascii": false,
       "bar_format": null,
       "colour": null,
       "elapsed": 0.008902788162231445,
       "initial": 0,
       "n": 0,
       "ncols": null,
       "nrows": 24,
       "postfix": null,
       "prefix": "",
       "rate": null,
       "total": 976,
       "unit": "it",
       "unit_divisor": 1000,
       "unit_scale": false
      },
      "application/vnd.jupyter.widget-view+json": {
       "model_id": "aab5dfb1cf9e447385ec68da13b2090b",
       "version_major": 2,
       "version_minor": 0
      },
      "text/plain": [
       "  0%|          | 0/976 [00:00<?, ?it/s]"
      ]
     },
     "metadata": {},
     "output_type": "display_data"
    },
    {
     "name": "stdout",
     "output_type": "stream",
     "text": [
      "cdli akk longest line length: 508\n",
      "oracc akk with 10079 translated publications\n"
     ]
    },
    {
     "data": {
      "application/json": {
       "ascii": false,
       "bar_format": null,
       "colour": null,
       "elapsed": 0.007956981658935547,
       "initial": 0,
       "n": 0,
       "ncols": null,
       "nrows": 24,
       "postfix": null,
       "prefix": "",
       "rate": null,
       "total": 10079,
       "unit": "it",
       "unit_divisor": 1000,
       "unit_scale": false
      },
      "application/vnd.jupyter.widget-view+json": {
       "model_id": "3aaa795de3af4e13a7629a21fbcf80a7",
       "version_major": 2,
       "version_minor": 0
      },
      "text/plain": [
       "  0%|          | 0/10079 [00:00<?, ?it/s]"
      ]
     },
     "metadata": {},
     "output_type": "display_data"
    },
    {
     "name": "stdout",
     "output_type": "stream",
     "text": [
      "oracc akk longest line length: 5966\n",
      "cdli sux with 4153 translated publications\n"
     ]
    },
    {
     "data": {
      "application/json": {
       "ascii": false,
       "bar_format": null,
       "colour": null,
       "elapsed": 0.00823664665222168,
       "initial": 0,
       "n": 0,
       "ncols": null,
       "nrows": 24,
       "postfix": null,
       "prefix": "",
       "rate": null,
       "total": 4153,
       "unit": "it",
       "unit_divisor": 1000,
       "unit_scale": false
      },
      "application/vnd.jupyter.widget-view+json": {
       "model_id": "6dd22c6aa3ad4292b653398020b96cd5",
       "version_major": 2,
       "version_minor": 0
      },
      "text/plain": [
       "  0%|          | 0/4153 [00:00<?, ?it/s]"
      ]
     },
     "metadata": {},
     "output_type": "display_data"
    },
    {
     "name": "stdout",
     "output_type": "stream",
     "text": [
      "cdli sux longest line length: 788\n",
      "oracc sux with 2544 translated publications\n"
     ]
    },
    {
     "data": {
      "application/json": {
       "ascii": false,
       "bar_format": null,
       "colour": null,
       "elapsed": 0.008168935775756836,
       "initial": 0,
       "n": 0,
       "ncols": null,
       "nrows": 24,
       "postfix": null,
       "prefix": "",
       "rate": null,
       "total": 2544,
       "unit": "it",
       "unit_divisor": 1000,
       "unit_scale": false
      },
      "application/vnd.jupyter.widget-view+json": {
       "model_id": "f4ab2f60c88a45039486a8c124500ddf",
       "version_major": 2,
       "version_minor": 0
      },
      "text/plain": [
       "  0%|          | 0/2544 [00:00<?, ?it/s]"
      ]
     },
     "metadata": {},
     "output_type": "display_data"
    },
    {
     "name": "stdout",
     "output_type": "stream",
     "text": [
      "oracc sux longest line length: 4185\n"
     ]
    },
    {
     "data": {
      "text/plain": [
       "59700"
      ]
     },
     "execution_count": 42,
     "metadata": {},
     "output_type": "execute_result"
    }
   ],
   "source": [
    "def output_translations(corpus_pubs, src_lang, encoding=\"ascii\", tgt_lang=\"en\"):\n",
    "    srcs = set()\n",
    "    translations = []\n",
    "\n",
    "    for corpus, pubs in corpus_pubs:\n",
    "        pubs = [pubs[x] for x in pubs.keys() if pubs[x].language == src_lang]\n",
    "        print(f\"{corpus} {src_lang} with {len(pubs)} translated publications\")\n",
    "        longest_line_len = 0\n",
    "        for pub in tqdm(pubs):\n",
    "            for a in pub.text_areas:\n",
    "                if (corpus == \"cdli\") and len(a.lines) > 0:\n",
    "                    a.lines_to_paragraphs(src_lang, tgt_lang)\n",
    "                for p in a.paragraphs:\n",
    "                    if tgt_lang in p.languages:\n",
    "                        src_lines = [x.text for x in a.lines[p.start_line_index:p.end_line_index]]\n",
    "                        src = \" \".join(src_lines)\n",
    "                        src = languages.remove_blanks(src)\n",
    "                        src = languages.underline_sign_names(src)\n",
    "                        src = languages.dashes_to_dots(src)\n",
    "                        \n",
    "                        src = languages.remove_extraneous_space(src)\n",
    "                        tgt = p.languages[tgt_lang]\n",
    "                        tgt = tgt.replace(\"[\", \"\").replace(\"]\", \"\").replace(\"(\", \"\").replace(\")\", \"\")\n",
    "                        tgt = tgt.replace(\"\\n\", \" \").replace(\"\\t\", \" \")\n",
    "                        tgt = languages.remove_extraneous_space(tgt)\n",
    "                        if len(src) > 0 and languages.target_ok(tgt) and src not in srcs:\n",
    "                            line_len = len(src) + len(tgt)\n",
    "                            longest_line_len = max(line_len, longest_line_len)\n",
    "                            out_line = json.dumps({src_lang:src,tgt_lang:tgt})\n",
    "                            translations.append(out_line)\n",
    "                            srcs.add(src)\n",
    "                        \n",
    "        print(f\"{corpus} {src_lang} longest line length:\", longest_line_len)\n",
    "\n",
    "    path = f\"{translations_out_dir}/translations_{src_lang}_to_{tgt_lang}.jsonl\"\n",
    "\n",
    "    with open(path, \"wt\") as f:\n",
    "        head = \"\"\n",
    "        for out_line in sorted(translations):\n",
    "            f.write(head)\n",
    "            f.write(out_line)\n",
    "            head = \"\\n\"\n",
    "\n",
    "    return len(translations)\n",
    "    \n",
    "corpi = [(\"cdli\", cdli_translated_pubs), (\"oracc\", oracc_translated_pubs)]\n",
    "    \n",
    "output_translations(corpi, \"akk\")\n",
    "output_translations(corpi, \"sux\")\n"
   ]
  },
  {
   "cell_type": "code",
   "execution_count": null,
   "id": "1158a56b",
   "metadata": {},
   "outputs": [],
   "source": []
  },
  {
   "cell_type": "code",
   "execution_count": null,
   "id": "b3c980a7",
   "metadata": {},
   "outputs": [],
   "source": []
  }
 ],
 "metadata": {
  "kernelspec": {
   "display_name": "Python 3 (ipykernel)",
   "language": "python",
   "name": "python3"
  },
  "language_info": {
   "codemirror_mode": {
    "name": "ipython",
    "version": 3
   },
   "file_extension": ".py",
   "mimetype": "text/x-python",
   "name": "python",
   "nbconvert_exporter": "python",
   "pygments_lexer": "ipython3",
   "version": "3.9.4"
  }
 },
 "nbformat": 4,
 "nbformat_minor": 5
}
