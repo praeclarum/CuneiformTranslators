{
 "cells": [
  {
   "cell_type": "markdown",
   "metadata": {},
   "source": [
    "# Export ATF File Contents from CDLI\n",
    "\n",
    "Downloads: https://cdli.ucla.edu/downloads\n",
    "Languages: http://oracc.museum.upenn.edu/doc/help/languages/index.html\n",
    "\n",
    "Exports:\n",
    "    \n",
    "* "
   ]
  },
  {
   "cell_type": "code",
   "execution_count": 10,
   "metadata": {},
   "outputs": [],
   "source": [
    "import sys, os, io\n",
    "import requests\n",
    "import zipfile\n",
    "from tqdm.notebook import tqdm\n",
    "import json"
   ]
  },
  {
   "cell_type": "code",
   "execution_count": 2,
   "metadata": {},
   "outputs": [],
   "source": [
    "output_json_path = \"../data/translations.jsonl\""
   ]
  },
  {
   "cell_type": "markdown",
   "metadata": {},
   "source": [
    "## Language Support\n",
    "\n",
    "Make a list of old and modern languages that we're interested in."
   ]
  },
  {
   "cell_type": "code",
   "execution_count": 3,
   "metadata": {},
   "outputs": [
    {
     "data": {
      "text/plain": [
       "{'akk',\n",
       " 'akkts',\n",
       " 'arc',\n",
       " 'arcts',\n",
       " 'de',\n",
       " 'elx',\n",
       " 'elxts',\n",
       " 'en',\n",
       " 'es',\n",
       " 'fr',\n",
       " 'grc',\n",
       " 'grcts',\n",
       " 'it',\n",
       " 'peo',\n",
       " 'peots',\n",
       " 'qpn',\n",
       " 'qpnts',\n",
       " 'sux',\n",
       " 'suxts',\n",
       " 'ug',\n",
       " 'ugts'}"
      ]
     },
     "execution_count": 3,
     "metadata": {},
     "output_type": "execute_result"
    }
   ],
   "source": [
    "old_languages = {\n",
    "    \"akk\": \"Akkadian\",\n",
    "    \"sux\": \"Sumerian\",\n",
    "    \"qpn\": \"Proper Nouns\",\n",
    "    \"arc\": \"Aramaic\",\n",
    "    \"elx\": \"Elamite\",\n",
    "    \"grc\": \"Greek\",\n",
    "    \"peo\": \"Old Persian\",\n",
    "    \"ug\": \"Ugaritic\",\n",
    "}\n",
    "modern_languages = {\n",
    "    \"de\": \"German\",\n",
    "    \"en\": \"English\",\n",
    "    \"es\": \"Spanish\",\n",
    "    \"fr\": \"French\",\n",
    "    \"it\": \"Italian\"\n",
    "}\n",
    "language_codes = set(list(modern_languages.keys()) + [x + suffix for x in old_languages.keys() for suffix in [\"\",\"ts\"]])\n",
    "language_codes"
   ]
  },
  {
   "cell_type": "markdown",
   "metadata": {},
   "source": [
    "## Download CDLI"
   ]
  },
  {
   "cell_type": "code",
   "execution_count": 28,
   "metadata": {},
   "outputs": [],
   "source": [
    "import cdli"
   ]
  },
  {
   "cell_type": "code",
   "execution_count": 29,
   "metadata": {},
   "outputs": [
    {
     "name": "stderr",
     "output_type": "stream",
     "text": [
      "100%|██████████████████████████████████████████████████████████████████████████████████| 3541243/3541243 [00:14<00:00, 250180.73it/s]\n"
     ]
    }
   ],
   "source": [
    "publications = cdli.get_publications()"
   ]
  },
  {
   "cell_type": "markdown",
   "metadata": {},
   "source": [
    "## Find Publications with Translations"
   ]
  },
  {
   "cell_type": "code",
   "execution_count": 30,
   "metadata": {},
   "outputs": [],
   "source": [
    "for p in publications:\n",
    "    for a in p.text_areas:\n",
    "        n = len(a.lines)\n",
    "        skip = 0\n",
    "        while skip < n and len(a.lines[skip].text) == 0:\n",
    "            skip += 1\n",
    "        if skip > 0:\n",
    "#             print(\"SKIP\", skip, a)\n",
    "            a.lines = a.lines[skip:]    "
   ]
  },
  {
   "cell_type": "code",
   "execution_count": 31,
   "metadata": {},
   "outputs": [
    {
     "data": {
      "text/plain": [
       "(5412, 'translated publications')"
      ]
     },
     "execution_count": 31,
     "metadata": {},
     "output_type": "execute_result"
    }
   ],
   "source": [
    "translated_publications = [x for x in publications if x.language is not None and x.has_translations()]\n",
    "len(translated_publications), \"translated publications\""
   ]
  },
  {
   "cell_type": "code",
   "execution_count": 32,
   "metadata": {},
   "outputs": [
    {
     "data": {
      "text/plain": [
       "Publication('P001282', 'qpc', [TextArea('tablet', []), TextArea('obverse', [TextLine('1.', '3(N01) 3(N08) , U8 UR2# UMBIN~a', {'en': '3 + 3 (lamb) ewes, ...;'}), TextLine('2.', '2(N01) , MASZ GURUSZDA MUSZ3~a', {'en': '2 goats, ...;'})]), TextArea('reverse', [])])"
      ]
     },
     "execution_count": 32,
     "metadata": {},
     "output_type": "execute_result"
    }
   ],
   "source": [
    "translated_publications[0]"
   ]
  },
  {
   "cell_type": "markdown",
   "metadata": {},
   "source": [
    "## Export them to JSON"
   ]
  },
  {
   "cell_type": "code",
   "execution_count": 37,
   "metadata": {},
   "outputs": [],
   "source": [
    "ignore_texts = set([\"xxx\", \"\", \"(subscript)\"])"
   ]
  },
  {
   "cell_type": "code",
   "execution_count": 38,
   "metadata": {
    "scrolled": false
   },
   "outputs": [
    {
     "data": {
      "application/vnd.jupyter.widget-view+json": {
       "model_id": "83051097e4dd46c7a1354a23b7912d37",
       "version_major": 2,
       "version_minor": 0
      },
      "text/plain": [
       "  0%|          | 0/5412 [00:00<?, ?it/s]"
      ]
     },
     "metadata": {},
     "output_type": "display_data"
    },
    {
     "name": "stdout",
     "output_type": "stream",
     "text": [
      "97825 translations\n"
     ]
    },
    {
     "data": {
      "text/plain": [
       "[{'p': 'P001282', 'a': 'obverse', 'l': 0, 'en': '3 + 3 (lamb) ewes, ...;'},\n",
       " {'p': 'P001282', 'a': 'obverse', 'l': 1, 'en': '2 goats, ...;'},\n",
       " {'p': 'P001392',\n",
       "  'a': 'column 1',\n",
       "  'l': 0,\n",
       "  'en': '3 (adult), 2 (child) slaves, female and male: ZATU693.KID;'},\n",
       " {'p': 'P001392',\n",
       "  'a': 'column 1',\n",
       "  'l': 1,\n",
       "  'en': '1 male slave, ZATU693.3(N57);'},\n",
       " {'p': 'P001392', 'a': 'column 1', 'l': 2, 'en': '...'},\n",
       " {'p': 'P001684',\n",
       "  'a': 'column 1',\n",
       "  'l': 0,\n",
       "  'en': '... 23 female slaves, inspected, ...;'},\n",
       " {'p': 'P001684', 'a': 'column 2', 'l': 0, 'en': '22 ... slaves, ...;'},\n",
       " {'p': 'P001684',\n",
       "  'a': 'reverse',\n",
       "  'l': 0,\n",
       "  'en': '213(?) female and male slaves, ... .'},\n",
       " {'p': 'P003118',\n",
       "  'a': 'column 1',\n",
       "  'l': 0,\n",
       "  'en': '1200 (ninda, ca. 6m), the (first) length,'},\n",
       " {'p': 'P003118', 'a': 'column 1', 'l': 1, 'en': '1200, the (second) length;'}]"
      ]
     },
     "execution_count": 38,
     "metadata": {},
     "output_type": "execute_result"
    }
   ],
   "source": [
    "translations = []\n",
    "\n",
    "for p in tqdm(translated_publications):\n",
    "    src_lang = p.language\n",
    "    for a in p.text_areas:        \n",
    "        if not a.has_translations():\n",
    "            continue\n",
    "        for iline, line in enumerate(a.lines):\n",
    "            langs = list(line.languages.keys())\n",
    "            src_text = line.text\n",
    "            if src_text in ignore_texts:\n",
    "                continue\n",
    "            tr = {\"p\": p.id, \"a\": a.name, \"l\": iline }\n",
    "            if src_lang in language_codes:\n",
    "                tr[src_lang] = src_text\n",
    "            for tgt_lang in langs:\n",
    "                if tgt_lang in language_codes:\n",
    "                    tgt_text = line.languages[tgt_lang] if tgt_lang in line.languages else \"\"\n",
    "                    if not (tgt_text in ignore_texts):\n",
    "                        tr[tgt_lang] = tgt_text\n",
    "            if len(tr) > 3:\n",
    "                translations.append(tr)\n",
    "\n",
    "print(len(translations), \"translations\")\n",
    "translations[0:10]"
   ]
  },
  {
   "cell_type": "code",
   "execution_count": 39,
   "metadata": {},
   "outputs": [],
   "source": [
    "with open(output_json_path, \"wb\") as f:\n",
    "    for t in translations:\n",
    "        f.write(bytes(json.dumps(t), \"utf8\"))\n",
    "        f.write(b\"\\n\")"
   ]
  },
  {
   "cell_type": "code",
   "execution_count": null,
   "metadata": {},
   "outputs": [],
   "source": []
  }
 ],
 "metadata": {
  "kernelspec": {
   "display_name": "Python 3 (ipykernel)",
   "language": "python",
   "name": "python3"
  },
  "language_info": {
   "codemirror_mode": {
    "name": "ipython",
    "version": 3
   },
   "file_extension": ".py",
   "mimetype": "text/x-python",
   "name": "python",
   "nbconvert_exporter": "python",
   "pygments_lexer": "ipython3",
   "version": "3.9.4"
  }
 },
 "nbformat": 4,
 "nbformat_minor": 4
}
