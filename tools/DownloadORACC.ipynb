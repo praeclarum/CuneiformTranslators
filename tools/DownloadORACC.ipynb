{
 "cells": [
  {
   "cell_type": "markdown",
   "id": "560f48fb",
   "metadata": {},
   "source": [
    "# Download ORACC"
   ]
  },
  {
   "cell_type": "code",
   "execution_count": 1,
   "id": "a6548425",
   "metadata": {},
   "outputs": [],
   "source": [
    "import os, sys, math\n",
    "import requests\n",
    "import json\n",
    "import time\n",
    "import random\n",
    "import shutil\n",
    "import zipfile\n",
    "from bs4 import BeautifulSoup\n",
    "from tqdm.notebook import tqdm"
   ]
  },
  {
   "cell_type": "code",
   "execution_count": 2,
   "id": "711516a1",
   "metadata": {},
   "outputs": [],
   "source": [
    "import oracc"
   ]
  },
  {
   "cell_type": "code",
   "execution_count": 3,
   "id": "2103d610",
   "metadata": {},
   "outputs": [
    {
     "data": {
      "text/plain": [
       "'/Volumes/FrankDisk/oracc_zips'"
      ]
     },
     "execution_count": 3,
     "metadata": {},
     "output_type": "execute_result"
    }
   ],
   "source": [
    "out_dir = os.path.abspath(f\"/Volumes/FrankDisk/oracc_zips\")\n",
    "os.makedirs(out_dir, exist_ok=True)\n",
    "out_dir"
   ]
  },
  {
   "cell_type": "markdown",
   "id": "7014a38b",
   "metadata": {},
   "source": [
    "## Download the projects"
   ]
  },
  {
   "cell_type": "code",
   "execution_count": 4,
   "id": "03748211",
   "metadata": {},
   "outputs": [
    {
     "data": {
      "application/vnd.jupyter.widget-view+json": {
       "model_id": "c51289cc6c0440eb9cc8ea3c74beb2b1",
       "version_major": 2,
       "version_minor": 0
      },
      "text/plain": [
       "  0%|          | 0/136 [00:00<?, ?it/s]"
      ]
     },
     "metadata": {},
     "output_type": "display_data"
    }
   ],
   "source": [
    "project_zips = oracc.get_all_project_zips(out_dir, verbose=False, tqdm=tqdm)"
   ]
  },
  {
   "cell_type": "code",
   "execution_count": 5,
   "id": "633022cf",
   "metadata": {},
   "outputs": [
    {
     "name": "stdout",
     "output_type": "stream",
     "text": [
      "115\n"
     ]
    },
    {
     "data": {
      "text/plain": [
       "['/Volumes/FrankDisk/oracc_zips/adsd.zip',\n",
       " '/Volumes/FrankDisk/oracc_zips/adsd-adart1.zip',\n",
       " '/Volumes/FrankDisk/oracc_zips/adsd-adart2.zip']"
      ]
     },
     "execution_count": 5,
     "metadata": {},
     "output_type": "execute_result"
    }
   ],
   "source": [
    "print(len(project_zips))\n",
    "project_zips[:3]"
   ]
  },
  {
   "cell_type": "markdown",
   "id": "b7381992",
   "metadata": {},
   "source": [
    "## Download Translations"
   ]
  },
  {
   "cell_type": "code",
   "execution_count": 6,
   "id": "1f0f2337",
   "metadata": {},
   "outputs": [
    {
     "data": {
      "application/vnd.jupyter.widget-view+json": {
       "model_id": "4577a9a8249e4b71b0c0c204831867c0",
       "version_major": 2,
       "version_minor": 0
      },
      "text/plain": [
       "  0%|          | 0/115 [00:00<?, ?it/s]"
      ]
     },
     "metadata": {},
     "output_type": "display_data"
    }
   ],
   "source": [
    "all_translated_ids = oracc.get_all_translated_object_ids(project_zips, tqdm)"
   ]
  },
  {
   "cell_type": "code",
   "execution_count": 7,
   "id": "2e79a17d",
   "metadata": {},
   "outputs": [
    {
     "name": "stdout",
     "output_type": "stream",
     "text": [
      "16277\n"
     ]
    },
    {
     "data": {
      "text/plain": [
       "[('aemw/ugarit', 'P503427'),\n",
       " ('aemw/ugarit', 'P503428'),\n",
       " ('aemw/ugarit', 'P503429'),\n",
       " ('aemw/ugarit', 'P503430'),\n",
       " ('aemw/ugarit', 'P503431')]"
      ]
     },
     "execution_count": 7,
     "metadata": {},
     "output_type": "execute_result"
    }
   ],
   "source": [
    "print(len(all_translated_ids))\n",
    "all_translated_ids[1_000:1_005]"
   ]
  },
  {
   "cell_type": "code",
   "execution_count": null,
   "id": "58b87b90",
   "metadata": {},
   "outputs": [
    {
     "data": {
      "application/vnd.jupyter.widget-view+json": {
       "model_id": "7e6f07078e8c4eceaf3959b843623f0a",
       "version_major": 2,
       "version_minor": 0
      },
      "text/plain": [
       "  0%|          | 0/16277 [00:00<?, ?it/s]"
      ]
     },
     "metadata": {},
     "output_type": "display_data"
    }
   ],
   "source": [
    "def download_object_translation(out_dir, project_id, object_id):\n",
    "    url = f\"http://oracc.iaas.upenn.edu/{project_id}/{object_id}/html\"\n",
    "    odir = f\"{out_dir}/html/{object_id[:2]}\"\n",
    "    out_path = f\"{odir}/{object_id}.html\"\n",
    "    if os.path.exists(out_path):\n",
    "        return out_path\n",
    "    os.makedirs(odir, exist_ok=True)\n",
    "    html_text = oracc.session.get(url).text\n",
    "    with open(out_path, \"wt\") as f:\n",
    "        f.write(html_text)\n",
    "    return out_path\n",
    "    \n",
    "for pid, oid in tqdm(all_translated_ids[:]):\n",
    "    tpath = download_object_translation(out_dir, pid, oid)\n",
    "#     print(tpath)"
   ]
  },
  {
   "cell_type": "code",
   "execution_count": null,
   "id": "30fbe3d6",
   "metadata": {},
   "outputs": [],
   "source": []
  }
 ],
 "metadata": {
  "kernelspec": {
   "display_name": "Python 3 (ipykernel)",
   "language": "python",
   "name": "python3"
  },
  "language_info": {
   "codemirror_mode": {
    "name": "ipython",
    "version": 3
   },
   "file_extension": ".py",
   "mimetype": "text/x-python",
   "name": "python",
   "nbconvert_exporter": "python",
   "pygments_lexer": "ipython3",
   "version": "3.9.4"
  }
 },
 "nbformat": 4,
 "nbformat_minor": 5
}
