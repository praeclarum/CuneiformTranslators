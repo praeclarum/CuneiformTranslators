{
 "cells": [
  {
   "cell_type": "markdown",
   "id": "66b99586",
   "metadata": {},
   "source": [
    "# Download ORACC"
   ]
  },
  {
   "cell_type": "code",
   "execution_count": 1,
   "id": "0184a2ec",
   "metadata": {},
   "outputs": [],
   "source": [
    "import os, sys, math\n",
    "import requests\n",
    "import json\n",
    "import time\n",
    "import random\n",
    "import shutil\n",
    "from bs4 import BeautifulSoup\n",
    "from tqdm.notebook import tqdm"
   ]
  },
  {
   "cell_type": "code",
   "execution_count": 2,
   "id": "4a5d4480",
   "metadata": {},
   "outputs": [],
   "source": [
    "import oracc"
   ]
  },
  {
   "cell_type": "code",
   "execution_count": 3,
   "id": "8cbbaf22",
   "metadata": {},
   "outputs": [
    {
     "data": {
      "text/plain": [
       "'/Volumes/FrankDisk/oracc_zips'"
      ]
     },
     "execution_count": 3,
     "metadata": {},
     "output_type": "execute_result"
    }
   ],
   "source": [
    "out_dir = os.path.abspath(f\"/Volumes/FrankDisk/oracc_zips\")\n",
    "os.makedirs(out_dir, exist_ok=True)\n",
    "out_dir"
   ]
  },
  {
   "cell_type": "code",
   "execution_count": null,
   "id": "d5408448",
   "metadata": {},
   "outputs": [],
   "source": []
  },
  {
   "cell_type": "markdown",
   "id": "f637e07a",
   "metadata": {},
   "source": [
    "## Download the projects"
   ]
  },
  {
   "cell_type": "code",
   "execution_count": 4,
   "id": "ce0a69ed",
   "metadata": {},
   "outputs": [
    {
     "data": {
      "application/vnd.jupyter.widget-view+json": {
       "model_id": "7c7bfcde82744feabab2f558d9db29ba",
       "version_major": 2,
       "version_minor": 0
      },
      "text/plain": [
       "  0%|          | 0/136 [00:00<?, ?it/s]"
      ]
     },
     "metadata": {},
     "output_type": "display_data"
    }
   ],
   "source": [
    "project_zips = oracc.get_all_project_zips(out_dir, verbose=False, tqdm=tqdm)"
   ]
  },
  {
   "cell_type": "code",
   "execution_count": 5,
   "id": "50a15f7c",
   "metadata": {},
   "outputs": [
    {
     "name": "stdout",
     "output_type": "stream",
     "text": [
      "115\n"
     ]
    },
    {
     "data": {
      "text/plain": [
       "['/Volumes/FrankDisk/oracc_zips/adsd.zip',\n",
       " '/Volumes/FrankDisk/oracc_zips/adsd-adart1.zip',\n",
       " '/Volumes/FrankDisk/oracc_zips/adsd-adart2.zip']"
      ]
     },
     "execution_count": 5,
     "metadata": {},
     "output_type": "execute_result"
    }
   ],
   "source": [
    "print(len(project_zips))\n",
    "project_zips[:3]"
   ]
  },
  {
   "cell_type": "code",
   "execution_count": null,
   "id": "4793b8ae",
   "metadata": {},
   "outputs": [],
   "source": []
  },
  {
   "cell_type": "code",
   "execution_count": null,
   "id": "d3c272a1",
   "metadata": {},
   "outputs": [],
   "source": []
  }
 ],
 "metadata": {
  "kernelspec": {
   "display_name": "Python 3 (ipykernel)",
   "language": "python",
   "name": "python3"
  },
  "language_info": {
   "codemirror_mode": {
    "name": "ipython",
    "version": 3
   },
   "file_extension": ".py",
   "mimetype": "text/x-python",
   "name": "python",
   "nbconvert_exporter": "python",
   "pygments_lexer": "ipython3",
   "version": "3.9.4"
  }
 },
 "nbformat": 4,
 "nbformat_minor": 5
}
