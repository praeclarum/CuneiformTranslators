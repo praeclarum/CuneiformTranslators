{
 "cells": [
  {
   "cell_type": "markdown",
   "id": "2d8a746f",
   "metadata": {},
   "source": [
    "# Download ORACC"
   ]
  },
  {
   "cell_type": "code",
   "execution_count": 53,
   "id": "955bbc69",
   "metadata": {},
   "outputs": [],
   "source": [
    "import os, sys, math\n",
    "import requests\n",
    "import json\n",
    "import time\n",
    "import random\n",
    "import shutil\n",
    "from bs4 import BeautifulSoup\n",
    "from tqdm.notebook import tqdm"
   ]
  },
  {
   "cell_type": "code",
   "execution_count": 42,
   "id": "9d2f4ea6",
   "metadata": {},
   "outputs": [
    {
     "data": {
      "text/plain": [
       "'/Volumes/FrankDisk/oracc_zips'"
      ]
     },
     "execution_count": 42,
     "metadata": {},
     "output_type": "execute_result"
    }
   ],
   "source": [
    "out_dir = os.path.abspath(f\"/Volumes/FrankDisk/oracc_zips\")\n",
    "os.makedirs(out_dir, exist_ok=True)\n",
    "out_dir"
   ]
  },
  {
   "cell_type": "code",
   "execution_count": 46,
   "id": "5deb9e62",
   "metadata": {},
   "outputs": [
    {
     "data": {
      "text/plain": [
       "'/Volumes/FrankDisk/oracc_zips_tmp'"
      ]
     },
     "execution_count": 46,
     "metadata": {},
     "output_type": "execute_result"
    }
   ],
   "source": [
    "tmp_dir = os.path.abspath(f\"/Volumes/FrankDisk/oracc_zips_tmp\")\n",
    "if os.path.exists(tmp_dir):\n",
    "    os.rmdir(tmp_dir)\n",
    "os.makedirs(tmp_dir, exist_ok=False)\n",
    "tmp_dir"
   ]
  },
  {
   "cell_type": "code",
   "execution_count": 13,
   "id": "31d2dbfd",
   "metadata": {},
   "outputs": [],
   "source": [
    "session = requests.Session()"
   ]
  },
  {
   "cell_type": "markdown",
   "id": "2b2ede31",
   "metadata": {},
   "source": [
    "## Get Project List"
   ]
  },
  {
   "cell_type": "code",
   "execution_count": 47,
   "id": "8c8c4e6f",
   "metadata": {},
   "outputs": [],
   "source": [
    "project_ids = session.get(\"http://oracc.museum.upenn.edu/projects.json\").json()[\"public\"]"
   ]
  },
  {
   "cell_type": "code",
   "execution_count": 48,
   "id": "e3fd95cb",
   "metadata": {},
   "outputs": [
    {
     "data": {
      "text/plain": [
       "136"
      ]
     },
     "execution_count": 48,
     "metadata": {},
     "output_type": "execute_result"
    }
   ],
   "source": [
    "len(project_ids)"
   ]
  },
  {
   "cell_type": "code",
   "execution_count": 51,
   "id": "af316a61",
   "metadata": {},
   "outputs": [
    {
     "data": {
      "text/plain": [
       "['rinap/rinap4', 'ribo/bab7scores', 'cams/ludlul', 'oimea', 'saao/saa04']"
      ]
     },
     "execution_count": 51,
     "metadata": {},
     "output_type": "execute_result"
    }
   ],
   "source": [
    "random.shuffle(project_ids)\n",
    "project_ids[:5]"
   ]
  },
  {
   "cell_type": "markdown",
   "id": "ed8d09aa",
   "metadata": {},
   "source": [
    "## Download the projects"
   ]
  },
  {
   "cell_type": "code",
   "execution_count": 52,
   "id": "5fe7b3bf",
   "metadata": {},
   "outputs": [],
   "source": [
    "from requests.packages.urllib3.exceptions import InsecureRequestWarning\n",
    "requests.packages.urllib3.disable_warnings(InsecureRequestWarning)"
   ]
  },
  {
   "cell_type": "code",
   "execution_count": 54,
   "id": "97b9bddc",
   "metadata": {},
   "outputs": [],
   "source": [
    "CHUNK = 16 * 1024\n",
    "\n",
    "def download_project_zip(project_id, verbose=True):\n",
    "    project_zip_name = project_id.replace('/', '-') + \".zip\"\n",
    "    url = \"http://build-oracc.museum.upenn.edu/json/\" + project_zip_name\n",
    "    if verbose:\n",
    "        print(url)\n",
    "    tfile = f\"{tmp_dir}/{project_zip_name}\"\n",
    "    ofile = f\"{out_dir}/{project_zip_name}\"\n",
    "    if os.path.exists(ofile):\n",
    "        return\n",
    "    response = session.get(url, verify=False)\n",
    "    if response.status_code == 200:\n",
    "        if verbose:\n",
    "            print(\"Downloading \" + url + \"...\")\n",
    "        with open(tfile, 'wb') as f:\n",
    "            for c in response.iter_content(chunk_size=CHUNK):\n",
    "                f.write(c)\n",
    "        shutil.move(tfile, ofile)\n",
    "        if verbose:\n",
    "            print(\"Done\")\n",
    "    else:\n",
    "        print(url + \" does not exist.\")"
   ]
  },
  {
   "cell_type": "code",
   "execution_count": 55,
   "id": "9e0a58d7",
   "metadata": {
    "scrolled": false
   },
   "outputs": [
    {
     "name": "stdout",
     "output_type": "stream",
     "text": [
      "http://build-oracc.museum.upenn.edu/json/aemw-amarna.zip\n"
     ]
    }
   ],
   "source": [
    "download_project_zip(\"aemw/amarna\")"
   ]
  },
  {
   "cell_type": "code",
   "execution_count": null,
   "id": "6d988315",
   "metadata": {},
   "outputs": [
    {
     "data": {
      "application/vnd.jupyter.widget-view+json": {
       "model_id": "6bda9afbc2394f938f64a631da48c902",
       "version_major": 2,
       "version_minor": 0
      },
      "text/plain": [
       "  0%|          | 0/136 [00:00<?, ?it/s]"
      ]
     },
     "metadata": {},
     "output_type": "display_data"
    },
    {
     "name": "stdout",
     "output_type": "stream",
     "text": [
      "http://build-oracc.museum.upenn.edu/json/rinap-rinap4.zip\n",
      "Downloading http://build-oracc.museum.upenn.edu/json/rinap-rinap4.zip...\n",
      "Done\n",
      "http://build-oracc.museum.upenn.edu/json/ribo-bab7scores.zip\n",
      "Downloading http://build-oracc.museum.upenn.edu/json/ribo-bab7scores.zip...\n",
      "Done\n",
      "http://build-oracc.museum.upenn.edu/json/cams-ludlul.zip\n",
      "http://build-oracc.museum.upenn.edu/json/cams-ludlul.zip does not exist.\n",
      "http://build-oracc.museum.upenn.edu/json/oimea.zip\n",
      "Downloading http://build-oracc.museum.upenn.edu/json/oimea.zip...\n",
      "Done\n",
      "http://build-oracc.museum.upenn.edu/json/saao-saa04.zip\n",
      "Downloading http://build-oracc.museum.upenn.edu/json/saao-saa04.zip...\n",
      "Done\n",
      "http://build-oracc.museum.upenn.edu/json/asbp.zip\n",
      "Downloading http://build-oracc.museum.upenn.edu/json/asbp.zip...\n",
      "Done\n",
      "http://build-oracc.museum.upenn.edu/json/ribo-babylon10.zip\n",
      "Downloading http://build-oracc.museum.upenn.edu/json/ribo-babylon10.zip...\n",
      "Done\n",
      "http://build-oracc.museum.upenn.edu/json/cdli.zip\n",
      "http://build-oracc.museum.upenn.edu/json/cdli.zip does not exist.\n",
      "http://build-oracc.museum.upenn.edu/json/saao-saa06.zip\n",
      "Downloading http://build-oracc.museum.upenn.edu/json/saao-saa06.zip...\n",
      "Done\n",
      "http://build-oracc.museum.upenn.edu/json/lacost.zip\n",
      "http://build-oracc.museum.upenn.edu/json/lacost.zip does not exist.\n",
      "http://build-oracc.museum.upenn.edu/json/btto.zip\n",
      "Downloading http://build-oracc.museum.upenn.edu/json/btto.zip...\n",
      "Done\n",
      "http://build-oracc.museum.upenn.edu/json/amgg.zip\n",
      "http://build-oracc.museum.upenn.edu/json/amgg.zip does not exist.\n",
      "http://build-oracc.museum.upenn.edu/json/contrib.zip\n",
      "http://build-oracc.museum.upenn.edu/json/contrib.zip does not exist.\n",
      "http://build-oracc.museum.upenn.edu/json/rimanum.zip\n",
      "http://build-oracc.museum.upenn.edu/json/rimanum.zip does not exist.\n",
      "http://build-oracc.museum.upenn.edu/json/ecut.zip\n",
      "Downloading http://build-oracc.museum.upenn.edu/json/ecut.zip...\n",
      "Done\n",
      "http://build-oracc.museum.upenn.edu/json/aemw-amarna.zip\n",
      "http://build-oracc.museum.upenn.edu/json/adsd.zip\n",
      "http://build-oracc.museum.upenn.edu/json/saao-saa19.zip\n",
      "Downloading http://build-oracc.museum.upenn.edu/json/saao-saa19.zip...\n",
      "Done\n",
      "http://build-oracc.museum.upenn.edu/json/cams.zip\n",
      "http://build-oracc.museum.upenn.edu/json/cams.zip does not exist.\n",
      "http://build-oracc.museum.upenn.edu/json/ribo-babylon2.zip\n",
      "Downloading http://build-oracc.museum.upenn.edu/json/ribo-babylon2.zip...\n",
      "Done\n",
      "http://build-oracc.museum.upenn.edu/json/riao.zip\n",
      "Downloading http://build-oracc.museum.upenn.edu/json/riao.zip...\n",
      "Done\n",
      "http://build-oracc.museum.upenn.edu/json/saao-saa20.zip\n",
      "Downloading http://build-oracc.museum.upenn.edu/json/saao-saa20.zip...\n",
      "Done\n",
      "http://build-oracc.museum.upenn.edu/json/saao-saa08.zip\n",
      "Downloading http://build-oracc.museum.upenn.edu/json/saao-saa08.zip...\n",
      "Done\n",
      "http://build-oracc.museum.upenn.edu/json/saao-saa11.zip\n",
      "Downloading http://build-oracc.museum.upenn.edu/json/saao-saa11.zip...\n",
      "Done\n",
      "http://build-oracc.museum.upenn.edu/json/saao-saa15.zip\n",
      "Downloading http://build-oracc.museum.upenn.edu/json/saao-saa15.zip...\n",
      "Done\n",
      "http://build-oracc.museum.upenn.edu/json/obta.zip\n",
      "Downloading http://build-oracc.museum.upenn.edu/json/obta.zip...\n",
      "Done\n",
      "http://build-oracc.museum.upenn.edu/json/atae-assur.zip\n",
      "Downloading http://build-oracc.museum.upenn.edu/json/atae-assur.zip...\n",
      "Done\n",
      "http://build-oracc.museum.upenn.edu/json/rinap-rinap3.zip\n",
      "Downloading http://build-oracc.museum.upenn.edu/json/rinap-rinap3.zip...\n",
      "Done\n",
      "http://build-oracc.museum.upenn.edu/json/cmawro-cmawr3.zip\n",
      "Downloading http://build-oracc.museum.upenn.edu/json/cmawro-cmawr3.zip...\n",
      "Done\n",
      "http://build-oracc.museum.upenn.edu/json/atae-samal.zip\n",
      "Downloading http://build-oracc.museum.upenn.edu/json/atae-samal.zip...\n",
      "Done\n",
      "http://build-oracc.museum.upenn.edu/json/ario.zip\n",
      "http://build-oracc.museum.upenn.edu/json/saao.zip\n"
     ]
    }
   ],
   "source": [
    "for p in tqdm(project_ids):\n",
    "    download_project_zip(p, verbose=True)"
   ]
  },
  {
   "cell_type": "code",
   "execution_count": null,
   "id": "4b2fdf73",
   "metadata": {},
   "outputs": [],
   "source": []
  }
 ],
 "metadata": {
  "kernelspec": {
   "display_name": "Python 3 (ipykernel)",
   "language": "python",
   "name": "python3"
  },
  "language_info": {
   "codemirror_mode": {
    "name": "ipython",
    "version": 3
   },
   "file_extension": ".py",
   "mimetype": "text/x-python",
   "name": "python",
   "nbconvert_exporter": "python",
   "pygments_lexer": "ipython3",
   "version": "3.9.4"
  }
 },
 "nbformat": 4,
 "nbformat_minor": 5
}
