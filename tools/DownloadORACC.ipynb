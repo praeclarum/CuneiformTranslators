{
 "cells": [
  {
   "cell_type": "markdown",
   "id": "c5e13947",
   "metadata": {},
   "source": [
    "# Download ORACC"
   ]
  },
  {
   "cell_type": "code",
   "execution_count": 1,
   "id": "2ac0d451",
   "metadata": {},
   "outputs": [],
   "source": [
    "import os, sys, math\n",
    "import requests\n",
    "import json\n",
    "import time\n",
    "import random\n",
    "import shutil\n",
    "import zipfile\n",
    "from bs4 import BeautifulSoup\n",
    "from tqdm.notebook import tqdm"
   ]
  },
  {
   "cell_type": "code",
   "execution_count": 2,
   "id": "2fb13b23",
   "metadata": {},
   "outputs": [],
   "source": [
    "import oracc"
   ]
  },
  {
   "cell_type": "code",
   "execution_count": 3,
   "id": "74bfda02",
   "metadata": {},
   "outputs": [
    {
     "data": {
      "text/plain": [
       "'/Volumes/FrankDisk/oracc_zips'"
      ]
     },
     "execution_count": 3,
     "metadata": {},
     "output_type": "execute_result"
    }
   ],
   "source": [
    "out_dir = os.path.abspath(f\"/Volumes/FrankDisk/oracc_zips\")\n",
    "os.makedirs(out_dir, exist_ok=True)\n",
    "out_dir"
   ]
  },
  {
   "cell_type": "markdown",
   "id": "ab8e1a64",
   "metadata": {},
   "source": [
    "## Download Projects"
   ]
  },
  {
   "cell_type": "code",
   "execution_count": 4,
   "id": "81e66b6b",
   "metadata": {},
   "outputs": [
    {
     "data": {
      "application/vnd.jupyter.widget-view+json": {
       "model_id": "252e86aec4c044ffa447da07962499b6",
       "version_major": 2,
       "version_minor": 0
      },
      "text/plain": [
       "  0%|          | 0/136 [00:00<?, ?it/s]"
      ]
     },
     "metadata": {},
     "output_type": "display_data"
    }
   ],
   "source": [
    "project_zips = oracc.get_all_project_zips(out_dir, verbose=False, tqdm=tqdm)"
   ]
  },
  {
   "cell_type": "code",
   "execution_count": 5,
   "id": "5746a563",
   "metadata": {},
   "outputs": [
    {
     "name": "stdout",
     "output_type": "stream",
     "text": [
      "115\n"
     ]
    },
    {
     "data": {
      "text/plain": [
       "['/Volumes/FrankDisk/oracc_zips/adsd.zip',\n",
       " '/Volumes/FrankDisk/oracc_zips/adsd-adart1.zip',\n",
       " '/Volumes/FrankDisk/oracc_zips/adsd-adart2.zip']"
      ]
     },
     "execution_count": 5,
     "metadata": {},
     "output_type": "execute_result"
    }
   ],
   "source": [
    "print(len(project_zips))\n",
    "project_zips[:3]"
   ]
  },
  {
   "cell_type": "markdown",
   "id": "84fefdb4",
   "metadata": {},
   "source": [
    "## Download Translations"
   ]
  },
  {
   "cell_type": "code",
   "execution_count": 6,
   "id": "94b6f421",
   "metadata": {},
   "outputs": [
    {
     "data": {
      "application/vnd.jupyter.widget-view+json": {
       "model_id": "7d38ecd8dd3a48e4b92b08b3ebcd1734",
       "version_major": 2,
       "version_minor": 0
      },
      "text/plain": [
       "  0%|          | 0/115 [00:00<?, ?it/s]"
      ]
     },
     "metadata": {},
     "output_type": "display_data"
    }
   ],
   "source": [
    "all_translated_ids = oracc.get_all_translated_object_ids(project_zips, tqdm)"
   ]
  },
  {
   "cell_type": "code",
   "execution_count": 7,
   "id": "5edb5252",
   "metadata": {},
   "outputs": [
    {
     "data": {
      "application/vnd.jupyter.widget-view+json": {
       "model_id": "64bf2dbe3d4840ed868943938379891d",
       "version_major": 2,
       "version_minor": 0
      },
      "text/plain": [
       "  0%|          | 0/16277 [00:00<?, ?it/s]"
      ]
     },
     "metadata": {},
     "output_type": "display_data"
    }
   ],
   "source": [
    "for pid, oid in tqdm(all_translated_ids[:]):\n",
    "    tpath = oracc.download_object_translation(out_dir, pid, oid)\n",
    "#     print(tpath)"
   ]
  },
  {
   "cell_type": "markdown",
   "id": "c7d5dd71",
   "metadata": {},
   "source": [
    "## Calculate How Many are Untranslated"
   ]
  },
  {
   "cell_type": "code",
   "execution_count": 8,
   "id": "0bf80ce8",
   "metadata": {},
   "outputs": [
    {
     "data": {
      "application/vnd.jupyter.widget-view+json": {
       "model_id": "dad1af3b9cbe4261a38e0710471eea34",
       "version_major": 2,
       "version_minor": 0
      },
      "text/plain": [
       "  0%|          | 0/115 [00:00<?, ?it/s]"
      ]
     },
     "metadata": {},
     "output_type": "display_data"
    }
   ],
   "source": [
    "all_corpus_object_ids = oracc.get_all_corpus_object_ids(project_zips[:], tqdm=tqdm)"
   ]
  },
  {
   "cell_type": "code",
   "execution_count": 10,
   "id": "aeea2adf",
   "metadata": {},
   "outputs": [
    {
     "name": "stdout",
     "output_type": "stream",
     "text": [
      "25522 objects in ORACC\n",
      "16277 translated objects in ORACC\n",
      "9245 untranslated objects in ORACC\n"
     ]
    }
   ],
   "source": [
    "print(len(all_corpus_object_ids), \"objects in ORACC\")\n",
    "print(len(all_translated_ids), \"translated objects in ORACC\")\n",
    "print(len(all_corpus_object_ids) - len(all_translated_ids), \"untranslated objects in ORACC\")"
   ]
  },
  {
   "cell_type": "code",
   "execution_count": null,
   "id": "c9e0a062",
   "metadata": {},
   "outputs": [],
   "source": []
  }
 ],
 "metadata": {
  "kernelspec": {
   "display_name": "Python 3 (ipykernel)",
   "language": "python",
   "name": "python3"
  },
  "language_info": {
   "codemirror_mode": {
    "name": "ipython",
    "version": 3
   },
   "file_extension": ".py",
   "mimetype": "text/x-python",
   "name": "python",
   "nbconvert_exporter": "python",
   "pygments_lexer": "ipython3",
   "version": "3.9.4"
  }
 },
 "nbformat": 4,
 "nbformat_minor": 5
}
