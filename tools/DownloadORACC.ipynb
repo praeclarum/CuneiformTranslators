{
 "cells": [
  {
   "cell_type": "markdown",
   "id": "f30cc060",
   "metadata": {},
   "source": [
    "# Download ORACC"
   ]
  },
  {
   "cell_type": "code",
   "execution_count": 1,
   "id": "75e055e5",
   "metadata": {},
   "outputs": [],
   "source": [
    "import os, sys, math\n",
    "import requests\n",
    "import json\n",
    "import time\n",
    "import random\n",
    "import shutil\n",
    "from bs4 import BeautifulSoup\n",
    "from tqdm.notebook import tqdm"
   ]
  },
  {
   "cell_type": "code",
   "execution_count": 2,
   "id": "035ee433",
   "metadata": {},
   "outputs": [],
   "source": [
    "import oracc"
   ]
  },
  {
   "cell_type": "code",
   "execution_count": 3,
   "id": "9be16cab",
   "metadata": {},
   "outputs": [],
   "source": [
    "root_out_dir = \"/Volumes/FrankDisk\""
   ]
  },
  {
   "cell_type": "code",
   "execution_count": 4,
   "id": "cddddf6a",
   "metadata": {},
   "outputs": [
    {
     "data": {
      "text/plain": [
       "'/Volumes/FrankDisk/oracc_zips'"
      ]
     },
     "execution_count": 4,
     "metadata": {},
     "output_type": "execute_result"
    }
   ],
   "source": [
    "out_dir = os.path.abspath(f\"{root_out_dir}/oracc_zips\")\n",
    "os.makedirs(out_dir, exist_ok=True)\n",
    "out_dir"
   ]
  },
  {
   "cell_type": "markdown",
   "id": "2aed7de2",
   "metadata": {},
   "source": [
    "## Get Project List"
   ]
  },
  {
   "cell_type": "code",
   "execution_count": 5,
   "id": "11b02028",
   "metadata": {},
   "outputs": [],
   "source": [
    "project_ids = oracc.get_project_ids()"
   ]
  },
  {
   "cell_type": "code",
   "execution_count": 6,
   "id": "1de111dd",
   "metadata": {},
   "outputs": [
    {
     "data": {
      "text/plain": [
       "136"
      ]
     },
     "execution_count": 6,
     "metadata": {},
     "output_type": "execute_result"
    }
   ],
   "source": [
    "len(project_ids)"
   ]
  },
  {
   "cell_type": "code",
   "execution_count": 7,
   "id": "1f40f780",
   "metadata": {},
   "outputs": [
    {
     "data": {
      "text/plain": [
       "['asbp/ninmed', 'saao/saa20', 'rinap/scores', 'caspo', 'blms']"
      ]
     },
     "execution_count": 7,
     "metadata": {},
     "output_type": "execute_result"
    }
   ],
   "source": [
    "random.shuffle(project_ids)\n",
    "project_ids[:5]"
   ]
  },
  {
   "cell_type": "markdown",
   "id": "f0399cb3",
   "metadata": {},
   "source": [
    "## Download the projects"
   ]
  },
  {
   "cell_type": "code",
   "execution_count": 8,
   "id": "483e0fcb",
   "metadata": {
    "scrolled": false
   },
   "outputs": [
    {
     "name": "stdout",
     "output_type": "stream",
     "text": [
      "http://build-oracc.museum.upenn.edu/json/aemw-amarna.zip\n"
     ]
    },
    {
     "data": {
      "text/plain": [
       "'/Volumes/FrankDisk/oracc_zips/aemw-amarna.zip'"
      ]
     },
     "execution_count": 8,
     "metadata": {},
     "output_type": "execute_result"
    }
   ],
   "source": [
    "oracc.download_project_zip(\"aemw/amarna\", out_dir)"
   ]
  },
  {
   "cell_type": "code",
   "execution_count": 9,
   "id": "01b080c5",
   "metadata": {
    "scrolled": false
   },
   "outputs": [
    {
     "data": {
      "application/vnd.jupyter.widget-view+json": {
       "model_id": "660e5524a3f84b2394cabc82fb9192f8",
       "version_major": 2,
       "version_minor": 0
      },
      "text/plain": [
       "  0%|          | 0/136 [00:00<?, ?it/s]"
      ]
     },
     "metadata": {},
     "output_type": "display_data"
    },
    {
     "name": "stdout",
     "output_type": "stream",
     "text": [
      "http://build-oracc.museum.upenn.edu/json/asbp-ninmed.zip\n",
      "http://build-oracc.museum.upenn.edu/json/saao-saa20.zip\n",
      "http://build-oracc.museum.upenn.edu/json/rinap-scores.zip\n",
      "http://build-oracc.museum.upenn.edu/json/caspo.zip\n",
      "http://build-oracc.museum.upenn.edu/json/blms.zip\n",
      "http://build-oracc.museum.upenn.edu/json/saao-knpp.zip\n",
      "http://build-oracc.museum.upenn.edu/json/atae-imgurenlil.zip\n",
      "http://build-oracc.museum.upenn.edu/json/rimanum.zip\n",
      "http://build-oracc.museum.upenn.edu/json/rimanum.zip does not exist.\n",
      "http://build-oracc.museum.upenn.edu/json/glass.zip\n",
      "http://build-oracc.museum.upenn.edu/json/ribo-sources.zip\n",
      "http://build-oracc.museum.upenn.edu/json/atae-durkatlimmu.zip\n",
      "http://build-oracc.museum.upenn.edu/json/contrib-amarna.zip\n",
      "http://build-oracc.museum.upenn.edu/json/contrib-amarna.zip does not exist.\n",
      "http://build-oracc.museum.upenn.edu/json/atae-guzana.zip\n",
      "http://build-oracc.museum.upenn.edu/json/contrib-lambert.zip\n",
      "http://build-oracc.museum.upenn.edu/json/contrib-lambert.zip does not exist.\n",
      "http://build-oracc.museum.upenn.edu/json/babcity.zip\n",
      "http://build-oracc.museum.upenn.edu/json/tsae.zip\n",
      "http://build-oracc.museum.upenn.edu/json/cams-selbi.zip\n",
      "http://build-oracc.museum.upenn.edu/json/cams-selbi.zip does not exist.\n",
      "http://build-oracc.museum.upenn.edu/json/ribo-babylon6.zip\n",
      "http://build-oracc.museum.upenn.edu/json/saao-saa01.zip\n",
      "http://build-oracc.museum.upenn.edu/json/lovelyrics.zip\n",
      "http://build-oracc.museum.upenn.edu/json/lovelyrics.zip does not exist.\n",
      "http://build-oracc.museum.upenn.edu/json/rinap-rinap5p1.zip\n",
      "http://build-oracc.museum.upenn.edu/json/rinap-rinap5p1.zip does not exist.\n",
      "http://build-oracc.museum.upenn.edu/json/atae-samal.zip\n",
      "http://build-oracc.museum.upenn.edu/json/dcclt-ebla.zip\n",
      "http://build-oracc.museum.upenn.edu/json/amgg.zip\n",
      "http://build-oracc.museum.upenn.edu/json/amgg.zip does not exist.\n",
      "http://build-oracc.museum.upenn.edu/json/atae-burmarina.zip\n",
      "http://build-oracc.museum.upenn.edu/json/arrim.zip\n",
      "http://build-oracc.museum.upenn.edu/json/arrim.zip does not exist.\n",
      "http://build-oracc.museum.upenn.edu/json/adsd-adart2.zip\n",
      "http://build-oracc.museum.upenn.edu/json/ribo-babylon10.zip\n",
      "http://build-oracc.museum.upenn.edu/json/saao.zip\n",
      "http://build-oracc.museum.upenn.edu/json/riao.zip\n",
      "http://build-oracc.museum.upenn.edu/json/cmawro.zip\n",
      "http://build-oracc.museum.upenn.edu/json/saao-aebp.zip\n",
      "http://build-oracc.museum.upenn.edu/json/saao-saa21.zip\n",
      "http://build-oracc.museum.upenn.edu/json/oimea.zip\n",
      "http://build-oracc.museum.upenn.edu/json/suhu.zip\n",
      "http://build-oracc.museum.upenn.edu/json/saao-saa12.zip\n",
      "http://build-oracc.museum.upenn.edu/json/ribo-babylon4.zip\n",
      "http://build-oracc.museum.upenn.edu/json/obel.zip\n",
      "http://build-oracc.museum.upenn.edu/json/neo.zip\n",
      "http://build-oracc.museum.upenn.edu/json/cams-ludlul.zip\n",
      "http://build-oracc.museum.upenn.edu/json/cams-ludlul.zip does not exist.\n",
      "http://build-oracc.museum.upenn.edu/json/ario.zip\n",
      "http://build-oracc.museum.upenn.edu/json/dcclt-nineveh.zip\n",
      "http://build-oracc.museum.upenn.edu/json/cams-barutu.zip\n",
      "http://build-oracc.museum.upenn.edu/json/cams-barutu.zip does not exist.\n",
      "http://build-oracc.museum.upenn.edu/json/btto.zip\n",
      "http://build-oracc.museum.upenn.edu/json/saao-saa05.zip\n",
      "http://build-oracc.museum.upenn.edu/json/atae-szibaniba.zip\n",
      "http://build-oracc.museum.upenn.edu/json/atae-assur.zip\n",
      "http://build-oracc.museum.upenn.edu/json/dcclt-jena.zip\n",
      "http://build-oracc.museum.upenn.edu/json/ribo-babylon7.zip\n",
      "http://build-oracc.museum.upenn.edu/json/ribo-bab7scores.zip\n",
      "http://build-oracc.museum.upenn.edu/json/caspo-akkpm.zip\n",
      "http://build-oracc.museum.upenn.edu/json/rinap-sources.zip\n",
      "http://build-oracc.museum.upenn.edu/json/saao-saas2.zip\n",
      "http://build-oracc.museum.upenn.edu/json/saao-saa02.zip\n",
      "http://build-oracc.museum.upenn.edu/json/cmawro-cmawr3.zip\n",
      "http://build-oracc.museum.upenn.edu/json/adsd-adart1.zip\n",
      "http://build-oracc.museum.upenn.edu/json/epsd2.zip\n",
      "http://build-oracc.museum.upenn.edu/json/saao-saa08.zip\n",
      "http://build-oracc.museum.upenn.edu/json/rinap-rinap4.zip\n",
      "http://build-oracc.museum.upenn.edu/json/atae-huzirina.zip\n",
      "http://build-oracc.museum.upenn.edu/json/etcsri.zip\n",
      "http://build-oracc.museum.upenn.edu/json/nimrud.zip\n",
      "http://build-oracc.museum.upenn.edu/json/obta.zip\n",
      "http://build-oracc.museum.upenn.edu/json/atae-tilbarsip.zip\n",
      "http://build-oracc.museum.upenn.edu/json/saao-saa10.zip\n",
      "http://build-oracc.museum.upenn.edu/json/adsd.zip\n",
      "http://build-oracc.museum.upenn.edu/json/saao-saa14.zip\n",
      "http://build-oracc.museum.upenn.edu/json/dccmt.zip\n",
      "http://build-oracc.museum.upenn.edu/json/aemw.zip\n",
      "http://build-oracc.museum.upenn.edu/json/saao-saa07.zip\n",
      "http://build-oracc.museum.upenn.edu/json/cmawro-cmawr1.zip\n",
      "http://build-oracc.museum.upenn.edu/json/atae-mallanate.zip\n",
      "http://build-oracc.museum.upenn.edu/json/cams-etana.zip\n",
      "http://build-oracc.museum.upenn.edu/json/cams-etana.zip does not exist.\n",
      "http://build-oracc.museum.upenn.edu/json/lacost.zip\n",
      "http://build-oracc.museum.upenn.edu/json/lacost.zip does not exist.\n",
      "http://build-oracc.museum.upenn.edu/json/ctij.zip\n",
      "http://build-oracc.museum.upenn.edu/json/ctij.zip does not exist.\n",
      "http://build-oracc.museum.upenn.edu/json/cams-gkab.zip\n",
      "http://build-oracc.museum.upenn.edu/json/adsd-adart6.zip\n",
      "http://build-oracc.museum.upenn.edu/json/saao-saa06.zip\n",
      "http://build-oracc.museum.upenn.edu/json/ribo.zip\n",
      "http://build-oracc.museum.upenn.edu/json/aemw-amarna.zip\n",
      "http://build-oracc.museum.upenn.edu/json/xcat.zip\n",
      "http://build-oracc.museum.upenn.edu/json/atae-kalhu.zip\n",
      "http://build-oracc.museum.upenn.edu/json/contrib.zip\n",
      "http://build-oracc.museum.upenn.edu/json/contrib.zip does not exist.\n",
      "http://build-oracc.museum.upenn.edu/json/rinap-rinap1.zip\n",
      "http://build-oracc.museum.upenn.edu/json/dcclt.zip\n",
      "http://build-oracc.museum.upenn.edu/json/saao-saa13.zip\n",
      "http://build-oracc.museum.upenn.edu/json/rinap.zip\n",
      "http://build-oracc.museum.upenn.edu/json/saao-saa04.zip\n",
      "http://build-oracc.museum.upenn.edu/json/doc.zip\n",
      "http://build-oracc.museum.upenn.edu/json/cams-akno.zip\n",
      "http://build-oracc.museum.upenn.edu/json/cams-akno.zip does not exist.\n",
      "http://build-oracc.museum.upenn.edu/json/saao-saa15.zip\n",
      "http://build-oracc.museum.upenn.edu/json/ccpo.zip\n",
      "http://build-oracc.museum.upenn.edu/json/atae-kunalia.zip\n",
      "http://build-oracc.museum.upenn.edu/json/nere.zip\n",
      "http://build-oracc.museum.upenn.edu/json/atae-nineveh.zip\n",
      "http://build-oracc.museum.upenn.edu/json/adsd-adart3.zip\n",
      "http://build-oracc.museum.upenn.edu/json/asbp-rlasb.zip\n",
      "http://build-oracc.museum.upenn.edu/json/saao-saa03.zip\n",
      "http://build-oracc.museum.upenn.edu/json/rinap-rinap3.zip\n",
      "http://build-oracc.museum.upenn.edu/json/aemw-alalakh-idrimi.zip\n",
      "http://build-oracc.museum.upenn.edu/json/rinap-rinap2.zip\n",
      "http://build-oracc.museum.upenn.edu/json/ribo-babylon2.zip\n",
      "http://build-oracc.museum.upenn.edu/json/cams.zip\n",
      "http://build-oracc.museum.upenn.edu/json/cams.zip does not exist.\n",
      "http://build-oracc.museum.upenn.edu/json/atae-tuszhan.zip\n",
      "http://build-oracc.museum.upenn.edu/json/ribo-babylon3.zip\n",
      "http://build-oracc.museum.upenn.edu/json/ecut.zip\n",
      "http://build-oracc.museum.upenn.edu/json/saao-saa18.zip\n",
      "http://build-oracc.museum.upenn.edu/json/saao-saa16.zip\n",
      "http://build-oracc.museum.upenn.edu/json/asbp.zip\n",
      "http://build-oracc.museum.upenn.edu/json/armep.zip\n",
      "http://build-oracc.museum.upenn.edu/json/aemw-ugarit.zip\n",
      "http://build-oracc.museum.upenn.edu/json/saao-saa11.zip\n",
      "http://build-oracc.museum.upenn.edu/json/qcat.zip\n",
      "http://build-oracc.museum.upenn.edu/json/atae-durszarrukin.zip\n",
      "http://build-oracc.museum.upenn.edu/json/obmc.zip\n",
      "http://build-oracc.museum.upenn.edu/json/cams-anzu.zip\n",
      "http://build-oracc.museum.upenn.edu/json/cams-anzu.zip does not exist.\n",
      "http://build-oracc.museum.upenn.edu/json/rinap-rinap5.zip\n",
      "http://build-oracc.museum.upenn.edu/json/cams-tlab.zip\n",
      "http://build-oracc.museum.upenn.edu/json/cams-tlab.zip does not exist.\n",
      "http://build-oracc.museum.upenn.edu/json/ribo-babylon5.zip\n",
      "http://build-oracc.museum.upenn.edu/json/tcma.zip\n",
      "http://build-oracc.museum.upenn.edu/json/cdli.zip\n",
      "http://build-oracc.museum.upenn.edu/json/cdli.zip does not exist.\n",
      "http://build-oracc.museum.upenn.edu/json/pnao.zip\n",
      "http://build-oracc.museum.upenn.edu/json/pnao.zip does not exist.\n",
      "http://build-oracc.museum.upenn.edu/json/dcclt-signlists.zip\n",
      "http://build-oracc.museum.upenn.edu/json/akklove.zip\n"
     ]
    },
    {
     "name": "stdout",
     "output_type": "stream",
     "text": [
      "http://build-oracc.museum.upenn.edu/json/akklove.zip does not exist.\n",
      "http://build-oracc.museum.upenn.edu/json/hbtin.zip\n",
      "http://build-oracc.museum.upenn.edu/json/saao-saa19.zip\n",
      "http://build-oracc.museum.upenn.edu/json/saao-saa17.zip\n",
      "http://build-oracc.museum.upenn.edu/json/ogsl.zip\n",
      "http://build-oracc.museum.upenn.edu/json/atae.zip\n",
      "http://build-oracc.museum.upenn.edu/json/cmawro-maqlu.zip\n",
      "http://build-oracc.museum.upenn.edu/json/atae-marqasu.zip\n",
      "http://build-oracc.museum.upenn.edu/json/dsst.zip\n",
      "http://build-oracc.museum.upenn.edu/json/ribo-babylon8.zip\n",
      "http://build-oracc.museum.upenn.edu/json/cmawro-cmawr2.zip\n",
      "http://build-oracc.museum.upenn.edu/json/saao-saa09.zip\n",
      "http://build-oracc.museum.upenn.edu/json/ckst.zip\n"
     ]
    }
   ],
   "source": [
    "for p in tqdm(project_ids):\n",
    "    oracc.download_project_zip(p, out_dir, verbose=True)"
   ]
  },
  {
   "cell_type": "code",
   "execution_count": 10,
   "id": "54db5e48",
   "metadata": {},
   "outputs": [],
   "source": [
    "tmp_dir = f\"{out_dir}/tmp\"\n",
    "if os.path.exists(tmp_dir):\n",
    "    os.rmdir(tmp_dir)"
   ]
  },
  {
   "cell_type": "code",
   "execution_count": null,
   "id": "ec0a34b2",
   "metadata": {},
   "outputs": [],
   "source": []
  }
 ],
 "metadata": {
  "kernelspec": {
   "display_name": "Python 3 (ipykernel)",
   "language": "python",
   "name": "python3"
  },
  "language_info": {
   "codemirror_mode": {
    "name": "ipython",
    "version": 3
   },
   "file_extension": ".py",
   "mimetype": "text/x-python",
   "name": "python",
   "nbconvert_exporter": "python",
   "pygments_lexer": "ipython3",
   "version": "3.9.4"
  }
 },
 "nbformat": 4,
 "nbformat_minor": 5
}
