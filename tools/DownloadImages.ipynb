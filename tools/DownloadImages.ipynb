{
 "cells": [
  {
   "cell_type": "markdown",
   "id": "a01459ea",
   "metadata": {},
   "source": [
    "# Download Images"
   ]
  },
  {
   "cell_type": "code",
   "execution_count": 5,
   "id": "902bef73",
   "metadata": {},
   "outputs": [],
   "source": [
    "import sys, os, io, datetime\n",
    "import json\n",
    "import random\n",
    "import requests\n",
    "import zipfile\n",
    "import glob\n",
    "import re\n",
    "import pandas as pd\n",
    "from slugify import slugify\n",
    "from tqdm.notebook import tqdm\n",
    "from html import escape\n",
    "from collections import defaultdict"
   ]
  },
  {
   "cell_type": "code",
   "execution_count": 6,
   "id": "ef6812c9",
   "metadata": {},
   "outputs": [],
   "source": [
    "import cdli\n",
    "import languages"
   ]
  },
  {
   "cell_type": "code",
   "execution_count": 7,
   "id": "acbefe00",
   "metadata": {},
   "outputs": [],
   "source": [
    "pd.set_option(\"display.max_columns\", None)"
   ]
  },
  {
   "cell_type": "code",
   "execution_count": 8,
   "id": "c50f4094",
   "metadata": {},
   "outputs": [],
   "source": [
    "supported_langs = set([\"akk\", \"sux\"])"
   ]
  },
  {
   "cell_type": "code",
   "execution_count": 35,
   "id": "63b1ed21",
   "metadata": {},
   "outputs": [
    {
     "data": {
      "text/plain": [
       "'/Volumes/FrankDisk/cdli_photos'"
      ]
     },
     "execution_count": 35,
     "metadata": {},
     "output_type": "execute_result"
    }
   ],
   "source": [
    "photos_dir = os.path.abspath(\"/Volumes/FrankDisk/cdli_photos\")\n",
    "os.makedirs(photos_dir, exist_ok=True)\n",
    "photos_dir"
   ]
  },
  {
   "cell_type": "code",
   "execution_count": 37,
   "id": "92ee84ef",
   "metadata": {},
   "outputs": [
    {
     "data": {
      "text/plain": [
       "'/Volumes/FrankDisk/cdli_bad_photos'"
      ]
     },
     "execution_count": 37,
     "metadata": {},
     "output_type": "execute_result"
    }
   ],
   "source": [
    "bad_photos_dir = os.path.abspath(\"/Volumes/FrankDisk/cdli_bad_photos\")\n",
    "os.makedirs(bad_photos_dir, exist_ok=True)\n",
    "bad_photos_dir"
   ]
  },
  {
   "cell_type": "markdown",
   "id": "5f5ee404",
   "metadata": {},
   "source": [
    "## Get the Human Transliterations"
   ]
  },
  {
   "cell_type": "code",
   "execution_count": 38,
   "id": "05ecf415",
   "metadata": {},
   "outputs": [
    {
     "name": "stdout",
     "output_type": "stream",
     "text": [
      "Downloading https://github.com/cdli-gh/data/raw/master/cdliatf_unblocked.atf\n",
      "Parsing atf\n"
     ]
    }
   ],
   "source": [
    "all_publications = cdli.get_atf()"
   ]
  },
  {
   "cell_type": "markdown",
   "id": "868a70a4",
   "metadata": {},
   "source": [
    "## Start a web session"
   ]
  },
  {
   "cell_type": "code",
   "execution_count": 39,
   "id": "897ce081",
   "metadata": {},
   "outputs": [],
   "source": [
    "http = requests.Session()"
   ]
  },
  {
   "cell_type": "code",
   "execution_count": 40,
   "id": "5939fa8f",
   "metadata": {},
   "outputs": [
    {
     "data": {
      "text/plain": [
       "'<!DOCTYPE html>\\n<!--[if IEMobile 7]><html class=\"iem7\"  lang=\"en\" dir=\"ltr\"><![endif]-->\\n<!--[if lte'"
      ]
     },
     "execution_count": 40,
     "metadata": {},
     "output_type": "execute_result"
    }
   ],
   "source": [
    "http.get(\"https://cdli.ucla.edu\").text[:100]"
   ]
  },
  {
   "cell_type": "markdown",
   "id": "4a42cb4f",
   "metadata": {},
   "source": [
    "## Download the photos"
   ]
  },
  {
   "cell_type": "code",
   "execution_count": 41,
   "id": "9b8f551d",
   "metadata": {},
   "outputs": [],
   "source": [
    "def pp(pid): return f\"{photos_dir}/{pid}.jpg\"\n",
    "def bad_pp(pid): return f\"{bad_photos_dir}/{pid}.jpg\""
   ]
  },
  {
   "cell_type": "code",
   "execution_count": 42,
   "id": "665c45d4",
   "metadata": {},
   "outputs": [],
   "source": [
    "def download_photo(pid):\n",
    "    resp = http.get(f\"https://cdli.ucla.edu/dl/photo/{pid}.jpg\")\n",
    "    if resp.status_code != 200:\n",
    "        with open(bad_pp(pid), \"wb\") as f:\n",
    "            f.write(resp.content)\n",
    "    else:\n",
    "        with open(pp(pid), \"wb\") as f:\n",
    "            f.write(resp.content)\n",
    "\n",
    "download_photo(\"P238563\")"
   ]
  },
  {
   "cell_type": "code",
   "execution_count": 43,
   "id": "b2741947",
   "metadata": {},
   "outputs": [
    {
     "data": {
      "text/plain": [
       "(120489, 'needed')"
      ]
     },
     "execution_count": 43,
     "metadata": {},
     "output_type": "execute_result"
    }
   ],
   "source": [
    "needed_photos = { x.id for x in all_publications if len(str(x.id)) > 1 and not (os.path.exists(pp(x.id)) or os.path.exists(bad_pp(x.id))) }\n",
    "len(needed_photos), \"needed\""
   ]
  },
  {
   "cell_type": "code",
   "execution_count": 44,
   "id": "8b08a9c7",
   "metadata": {},
   "outputs": [
    {
     "data": {
      "application/vnd.jupyter.widget-view+json": {
       "model_id": "4486aac078514358962a797b28058b20",
       "version_major": 2,
       "version_minor": 0
      },
      "text/plain": [
       "  0%|          | 0/120489 [00:00<?, ?it/s]"
      ]
     },
     "metadata": {},
     "output_type": "display_data"
    }
   ],
   "source": [
    "for p in tqdm(needed_photos):\n",
    "    download_photo(p)"
   ]
  },
  {
   "cell_type": "code",
   "execution_count": 21,
   "id": "ba8f429e",
   "metadata": {},
   "outputs": [],
   "source": [
    "def header(title, f):\n",
    "    f.write(f\"<html>\\n<head>\\n<title>{escape(title)}</title>\\n<meta name='viewport' content='width=device-width, initial-scale=1'>\\n<style>{style}</style></head>\\n\")\n",
    "    f.write(f\"<body>\\n<div class='content'><h1>{escape(title)}</h1>\\n\")\n",
    "    f.write(f\"<p class='otitle'>ML Translations by <a href=\\\"https://huggingface.co/praeclarum/cuneiform\\\">praeclarum/cuneiform</a></p>\\n\")\n",
    "    \n",
    "def footer(f):\n",
    "    f.write(f\"</div></body>\\n</html>\")"
   ]
  },
  {
   "cell_type": "code",
   "execution_count": 22,
   "id": "bb66f0eb",
   "metadata": {},
   "outputs": [],
   "source": [
    "def start_page(path, title):\n",
    "    file_path = get_page_file_path(path)\n",
    "    file_dir = os.path.dirname(file_path)\n",
    "    os.makedirs(file_dir, exist_ok=True)\n",
    "    f = open(file_path, \"wt\")\n",
    "#     print(f\"Writing {path} at {file_path}\")\n",
    "    header(title, f)\n",
    "    return f\n",
    "\n",
    "def end_page(f):\n",
    "    footer(f)"
   ]
  },
  {
   "cell_type": "code",
   "execution_count": 23,
   "id": "f1d6dac7",
   "metadata": {},
   "outputs": [],
   "source": [
    "def output_browser(path, pubs, ignore_dims, f):\n",
    "    next_pages = []\n",
    "    if len(pubs) == 0:\n",
    "        return next_pages\n",
    "    f.write(f\"<section>\\n\")\n",
    "    for dname, dselect in browser_dimensions:\n",
    "        if dname in ignore_dims:\n",
    "            continue\n",
    "        vgroups = defaultdict(lambda: [])\n",
    "        for p in pubs:\n",
    "            for v in dselect(p):\n",
    "                vgroups[v].append(p)\n",
    "        if len(vgroups) < 2:\n",
    "            continue\n",
    "        f.write(f\"<h1>{escape(dname)}</h1>\\n\")    \n",
    "        for gv in vgroups.keys():\n",
    "            gpubs = vgroups[gv]\n",
    "            if len(gpubs) > 0:\n",
    "                next_pages.append((dname, gv, gpubs))\n",
    "                f.write(f\"<a href='{path}/{gv}/'>{len(gpubs)} {escape(gv)}</a>\\n\")\n",
    "    f.write(f\"</section>\\n\")\n",
    "    f.write(f\"<section>\\n\")\n",
    "    max_on_page = 200\n",
    "    if len(pubs) <= max_on_page or len(next_pages) == 0:\n",
    "        for p in pubs:\n",
    "            output_pub(p, f)        \n",
    "    else:\n",
    "        f.write(f\"<p>{len(pubs)} publications. Narrow the list to less than {max_on_page} by choosing links above.</p>\\n\")\n",
    "    f.write(f\"</section>\\n\")\n",
    "    return next_pages\n",
    "\n",
    "def output_browser_page(path, dim_value, pubs, ignore_dims):\n",
    "    with start_page(path + \"/index\", f\"{len(pubs)} {escape(dim_value)}\") as f:\n",
    "        next_pages = output_browser(path, pubs, ignore_dims, f)\n",
    "        end_page(f)\n",
    "    for gk, gv, gpubs in next_pages:\n",
    "        ignores = set(ignore_dims)\n",
    "        ignores.add(gk)\n",
    "        output_browser_page(f\"{path}/{gv}\", gv, gpubs, ignores)\n"
   ]
  },
  {
   "cell_type": "code",
   "execution_count": 24,
   "id": "4f3342d8",
   "metadata": {},
   "outputs": [],
   "source": [
    "style = \"\"\"\n",
    "body { font-family: sans-serif; }\n",
    "div.content { margin: 0 auto; max-width: 512px; }\n",
    "h1 { text-align: center; }\n",
    "p.src { font-size: 80%; font-style: italic;}\n",
    ".otitle { text-align: center; }\n",
    "h1.otitle { margin-top: 1em; padding-top: 1em; border-top:solid 2px rgba(128,128,128,0.5); }\n",
    ".langid {\n",
    "    font-size: 80%; font-weight: bold; \n",
    "    background-color: rgba(128,128,128,0.25); border-radius:0.2em;\n",
    "    padding: 0 0; min-width: 5em; display: inline-block;\n",
    "    text-align: center; margin-right: 1em;\n",
    "}\n",
    ".lang-akkts, .lang-elxts, .lang-suxts, .lang-akk, .lang-elx, .lang-sux {\n",
    "    font-style: italic; font-size: 80%;\n",
    "    opacity: 0.75;\n",
    "    }\n",
    ".lang-en { opacity: 0.5; font-size: 80%; }\n",
    ".lang-ml_en {}\n",
    ".line:hover { background-color: rgba(255, 255, 128, 1.0); }\n",
    ".text { margin-top: 2em; line-height: 1.2em; }\n",
    "\"\"\""
   ]
  },
  {
   "cell_type": "code",
   "execution_count": 25,
   "id": "11643981",
   "metadata": {},
   "outputs": [
    {
     "data": {
      "text/plain": [
       "{'akk': 'Akkadian',\n",
       " 'sux': 'Sumerian',\n",
       " 'qpn': 'Proper Nouns',\n",
       " 'arc': 'Aramaic',\n",
       " 'elx': 'Elamite',\n",
       " 'grc': 'Greek',\n",
       " 'peo': 'Old Persian',\n",
       " 'ug': 'Ugaritic'}"
      ]
     },
     "execution_count": 25,
     "metadata": {},
     "output_type": "execute_result"
    }
   ],
   "source": [
    "languages.old_languages"
   ]
  },
  {
   "cell_type": "code",
   "execution_count": 26,
   "id": "f22c3608",
   "metadata": {},
   "outputs": [
    {
     "data": {
      "text/plain": [
       "'𒆠 𒈾lu5𒋫 𒌨nigar{𒃻} szu 𒁀𒋾 iti maszda3gu7 𒈬 us2𒊓 𒆠masz{𒆠} 𒁀hul'"
      ]
     },
     "execution_count": 26,
     "metadata": {},
     "output_type": "execute_result"
    }
   ],
   "source": [
    "languages.cuneiform_text_to_unicode(\"ki na-lu5-ta ur-nigar{gar} szu ba-ti iti masz-da3-gu7 mu us2-sa ki-masz{ki} ba-hul\", \"sux\")"
   ]
  },
  {
   "cell_type": "code",
   "execution_count": 28,
   "id": "5b9b85f6",
   "metadata": {},
   "outputs": [
    {
     "data": {
      "text/plain": [
       "'iti'"
      ]
     },
     "execution_count": 28,
     "metadata": {},
     "output_type": "execute_result"
    }
   ],
   "source": [
    "languages.cuneiform_text_to_unicode(\"iti\", \"sux\")"
   ]
  },
  {
   "cell_type": "code",
   "execution_count": null,
   "id": "cfc8f984",
   "metadata": {},
   "outputs": [],
   "source": []
  },
  {
   "cell_type": "code",
   "execution_count": 35,
   "id": "109c8207",
   "metadata": {},
   "outputs": [],
   "source": [
    "language_sort = {\n",
    "    \"akk\": 0,\n",
    "#     \"akkts\": 1,\n",
    "#     \"elx\": 2,\n",
    "#     \"elxts\": 3,\n",
    "    \"sux\": 4,\n",
    "#     \"suxts\": 5,\n",
    "    \"ml_en\": 100,\n",
    "    \"en\": 1000,\n",
    "#     \"fr\": 1001,\n",
    "}\n",
    "\n",
    "bad_translators = {\"uncertain\", \"NaN\", \"no translation\", \"\", \"check\"}\n",
    "\n",
    "li_start_re = re.compile(r\"^\\[?_?\\d+(/\\d+)?\\((asz|ban2|barig|disz|gesz2|iku|u)(@c)?\\)\\]?\")\n",
    "\n",
    "def looks_like_li(line, lang):\n",
    "    return li_start_re.match(line)\n",
    "\n",
    "def lines_to_paragraphs(lines, lang):\n",
    "    paragraphs = []\n",
    "    for iline, line in enumerate(lines):\n",
    "        if looks_like_li(line.text, lang):\n",
    "            paragraphs.append((\"li\", iline, iline+1))\n",
    "        else:\n",
    "            if len(paragraphs) > 0 and paragraphs[-1][0] == \"p\":\n",
    "                p = paragraphs[-1]\n",
    "                p = (p[0], p[1], p[2]+1)\n",
    "                paragraphs[-1] = p\n",
    "            else:\n",
    "                paragraphs.append((\"p\", iline, iline+1))\n",
    "    return paragraphs\n",
    "\n",
    "def paragraphs_to_html(paragraphs, text_lines):\n",
    "    html = []\n",
    "    for tag, line_start_index, line_end_index in paragraphs:\n",
    "        html.append(f\"<{tag}>\")\n",
    "        for i in range(line_start_index, line_end_index):\n",
    "            html.append(f\"<span class='line line-{i}'>{escape(text_lines[i])}</span>\\n\")\n",
    "        html.append(f\"</{tag}>\\n\")\n",
    "    return \"\".join(html)\n",
    "\n",
    "def output_pub(p, f):\n",
    "    f.write(f\"<h1 class='otitle'>P{p.id:06}: {' and '.join(cdli.get_genres(p.genre))} {cdli.get_object_type(p.object_type)}</h1>\\n\")\n",
    "    f.write(f\"<p class='otitle'>{p.period} <a href='https://cdli.ucla.edu/search/archival_view.php?ObjectID=P{p.id:06}'>CDLI</a></p>\\n\")\n",
    "    areas_with_lines = [x for x in p.text_areas if any(x.lines)]\n",
    "    for a in areas_with_lines:\n",
    "        f.write(f\"<section>\\n\")\n",
    "        if len(areas_with_lines) > 1:\n",
    "            f.write(f\"<h1>{escape(a.name)}</h1>\\n\")\n",
    "        show_lines = False\n",
    "        if show_lines:\n",
    "            f.write(\"<table>\")\n",
    "            for l in a.lines:\n",
    "                f.write(\"<tr>\")\n",
    "                f.write(f\"<td>{escape(l.text)}</td>\\n\")\n",
    "                if \"ml_en\" in l.languages:\n",
    "                    f.write(f\"<td>{escape(l.languages['ml_en'])}</td>\\n\")\n",
    "                else:\n",
    "                    f.write(f\"<td></td>\\n\")\n",
    "                f.write(\"</tr>\")\n",
    "            f.write(\"</table>\")\n",
    "        else:\n",
    "            paragraphs = lines_to_paragraphs(a.lines, p.language)\n",
    "            texts = {p.language: paragraphs_to_html(paragraphs, [l.text for l in a.lines])}\n",
    "            langs = set()\n",
    "            for l in a.lines:\n",
    "                for lang in l.languages:\n",
    "                    if lang in language_sort:\n",
    "                        langs.add(lang)\n",
    "            for lang in langs:\n",
    "                texts[lang] = paragraphs_to_html(paragraphs, [l.languages[lang] if lang in l.languages else \" \" for l in a.lines])\n",
    "            langs.add(p.language)\n",
    "#             f.write(f\"<p><pre>{escape(repr(paragraphs))}</pre></p> \")\n",
    "#             if \"akkts\" in langs and \"akk\" in langs:\n",
    "#                 langs.remove(\"akk\")\n",
    "#             if \"suxts\" in langs and \"sux\" in langs:\n",
    "#                 langs.remove(\"sux\")\n",
    "            langs = sorted(list(langs), key=lambda x:language_sort[x])\n",
    "            for lang in langs:\n",
    "                f.write(f\"<div class='lang-{lang} text'><span class='langid'>{lang}</span> \")\n",
    "                f.write(texts[lang])\n",
    "                if lang == tgt_lang and p.translation_source not in bad_translators:\n",
    "                    f.write(f\"<span class='human-translation-credit'>(translated by {escape(p.translation_source)})</credit>\")\n",
    "                f.write(f\"</div>\\n\")\n",
    "        f.write(f\"</section>\\n\")"
   ]
  },
  {
   "cell_type": "code",
   "execution_count": 36,
   "id": "52fbff9a",
   "metadata": {},
   "outputs": [],
   "source": [
    "#!rm -r /Users/fak/Dropbox/Projects/CuneiformTranslators/dist"
   ]
  },
  {
   "cell_type": "code",
   "execution_count": 37,
   "id": "b54ec692",
   "metadata": {
    "scrolled": false
   },
   "outputs": [
    {
     "name": "stdout",
     "output_type": "stream",
     "text": [
      "Writing /\n"
     ]
    },
    {
     "data": {
      "application/vnd.jupyter.widget-view+json": {
       "model_id": "fbb46f7a97e540eb90fe251715f37013",
       "version_major": 2,
       "version_minor": 0
      },
      "text/plain": [
       "  0%|          | 0/52 [00:00<?, ?it/s]"
      ]
     },
     "metadata": {},
     "output_type": "display_data"
    },
    {
     "name": "stdout",
     "output_type": "stream",
     "text": [
      "../dist/akk\n",
      "../dist/omen\n",
      "../dist/other-genre\n",
      "../dist/tablet\n",
      "../dist/index.html\n",
      "../dist/lexical\n",
      "../dist/uncertain\n",
      "../dist/hellenistic\n",
      "../dist/ur-iii\n",
      "../dist/barrel\n",
      "../dist/private-votive\n",
      "../dist/old-akkadian\n",
      "../dist/prism\n",
      "../dist/404.html\n",
      "../dist/cone\n",
      "../dist/ed-i-ii\n",
      "../dist/letter\n",
      "../dist/other-period\n",
      "../dist/early-neo-babylonian\n",
      "../dist/old-babylonian\n",
      "../dist/ed-iiib\n",
      "../dist/seal\n",
      "../dist/other-object\n",
      "../dist/neo-babylonian\n",
      "../dist/astronomical\n",
      "../dist/early-old-babylonian\n",
      "../dist/bulla\n",
      "../dist/neo-assyrian\n",
      "../dist/old-assyrian\n",
      "../dist/achaemenid\n",
      "../dist/ebla\n",
      "../dist/sux\n",
      "../dist/administrative\n",
      "../dist/middle-assyrian\n",
      "../dist/brick\n",
      "../dist/vessel\n",
      "../dist/sealing\n",
      "../dist/ritual\n",
      "../dist/royal-monumental\n",
      "../dist/mathematical\n",
      "../dist/prayer-incantation\n",
      "../dist/fake\n",
      "../dist/middle-babylonian\n",
      "../dist/lagash-ii\n",
      "../dist/legal\n",
      "../dist/middle-hittite\n",
      "../dist/school\n",
      "../dist/cylinder\n",
      "../dist/tag\n",
      "../dist/middle-elamite\n",
      "../dist/block\n",
      "../dist/literary\n",
      "../dist/scientific\n",
      "../dist/ed-iiia\n"
     ]
    }
   ],
   "source": [
    "\n",
    "\n",
    "with start_page(\"/404\", \"Not Found\") as f:\n",
    "    f.write(f\"<p>The page you are looking for is not here.</p>\\n\")\n",
    "    footer(f)\n",
    "    \n",
    "print(\"Writing /\")\n",
    "with start_page(\"/index\", \"ML Cuneiform Translations\") as f:\n",
    "    pubs = translated_pubs\n",
    "    by_lang = defaultdict(lambda: [])\n",
    "    for p in pubs:\n",
    "        by_lang[p.language].append(p)\n",
    "    f.write(f\"<section><h1>language</h1></section>\")\n",
    "    next_pages = []\n",
    "    for lang in sorted(list(by_lang.keys())):\n",
    "        gpubs = by_lang[lang]\n",
    "        f.write(f\"<a href='/{lang}/'>{len(gpubs)} {escape(lang)}</a>\\n\")\n",
    "        next_pages.append((\"language\", lang, gpubs))\n",
    "    f.write(f\"</section>\")\n",
    "    next_pages.extend(output_browser(\"\", pubs, \"\", f))\n",
    "    footer(f)\n",
    "    \n",
    "for gk, gv, gpubs in tqdm(next_pages):\n",
    "    output_browser_page(f\"/{gv}\", gv, gpubs, set([gk]))\n",
    "    \n",
    "for f in glob.glob(\"../dist/*\"):\n",
    "    print(f)"
   ]
  },
  {
   "cell_type": "code",
   "execution_count": null,
   "id": "ad953753",
   "metadata": {},
   "outputs": [],
   "source": []
  },
  {
   "cell_type": "code",
   "execution_count": null,
   "id": "0cd7b02b",
   "metadata": {},
   "outputs": [],
   "source": []
  },
  {
   "cell_type": "code",
   "execution_count": null,
   "id": "a4af7efe",
   "metadata": {},
   "outputs": [],
   "source": []
  },
  {
   "cell_type": "code",
   "execution_count": null,
   "id": "bad79482",
   "metadata": {},
   "outputs": [],
   "source": []
  },
  {
   "cell_type": "code",
   "execution_count": null,
   "id": "3411758e",
   "metadata": {},
   "outputs": [],
   "source": []
  },
  {
   "cell_type": "code",
   "execution_count": null,
   "id": "29fe8d60",
   "metadata": {},
   "outputs": [],
   "source": []
  }
 ],
 "metadata": {
  "kernelspec": {
   "display_name": "Python 3 (ipykernel)",
   "language": "python",
   "name": "python3"
  },
  "language_info": {
   "codemirror_mode": {
    "name": "ipython",
    "version": 3
   },
   "file_extension": ".py",
   "mimetype": "text/x-python",
   "name": "python",
   "nbconvert_exporter": "python",
   "pygments_lexer": "ipython3",
   "version": "3.9.4"
  }
 },
 "nbformat": 4,
 "nbformat_minor": 5
}
