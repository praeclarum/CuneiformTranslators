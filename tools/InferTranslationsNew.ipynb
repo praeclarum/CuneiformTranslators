{
 "cells": [
  {
   "cell_type": "markdown",
   "id": "4fc91511",
   "metadata": {},
   "source": [
    "# Infer\n",
    "\n",
    "First, make paragraphs from lines (unwrap), then wrap to the limits of the network"
   ]
  },
  {
   "cell_type": "code",
   "execution_count": 35,
   "id": "28f9b8a1",
   "metadata": {},
   "outputs": [],
   "source": [
    "import sys, os, datetime\n",
    "import json\n",
    "import torch\n",
    "import random\n",
    "from tqdm.notebook import tqdm\n",
    "from transformers import AutoTokenizer, AutoModelForSeq2SeqLM, TranslationPipeline\n",
    "from collections import defaultdict\n",
    "\n"
   ]
  },
  {
   "cell_type": "code",
   "execution_count": 36,
   "id": "1f96035a",
   "metadata": {},
   "outputs": [],
   "source": [
    "import cdli\n",
    "import languages\n",
    "import oracc"
   ]
  },
  {
   "cell_type": "code",
   "execution_count": 7,
   "id": "61d0039e",
   "metadata": {},
   "outputs": [],
   "source": [
    "os.environ[\"TOKENIZERS_PARALLELISM\"] = \"false\""
   ]
  },
  {
   "cell_type": "code",
   "execution_count": 3,
   "id": "982f75d3",
   "metadata": {},
   "outputs": [],
   "source": [
    "src_langs = set([\"akk\", \"sux\"])\n",
    "tgt_langs = set([\"en\"])"
   ]
  },
  {
   "cell_type": "code",
   "execution_count": 4,
   "id": "51b168db",
   "metadata": {},
   "outputs": [],
   "source": [
    "model_id = \"praeclarum/cuneiform\"\n",
    "model_revision = \"1ba74c8dcf6d1839b0a56589a53dfb5c20ca84f2\""
   ]
  },
  {
   "cell_type": "code",
   "execution_count": 5,
   "id": "06d4fcd7",
   "metadata": {},
   "outputs": [],
   "source": [
    "batch_size = 8\n",
    "device = \"cpu\""
   ]
  },
  {
   "cell_type": "markdown",
   "id": "d1616e0d",
   "metadata": {},
   "source": [
    "## Load Existing Translations"
   ]
  },
  {
   "cell_type": "code",
   "execution_count": 6,
   "id": "55e594ba",
   "metadata": {},
   "outputs": [],
   "source": [
    "output_json_path = \"../data/ml_translations.json\""
   ]
  },
  {
   "cell_type": "code",
   "execution_count": 7,
   "id": "388db15d",
   "metadata": {},
   "outputs": [
    {
     "data": {
      "text/plain": [
       "dict_keys(['model_id', 'model_revision', 'akk_to_en', 'sux_to_en'])"
      ]
     },
     "execution_count": 7,
     "metadata": {},
     "output_type": "execute_result"
    }
   ],
   "source": [
    "old_translations = json.loads(str(open(output_json_path, \"rb\").read(), \"utf8\"))\n",
    "old_translations.keys()"
   ]
  },
  {
   "cell_type": "code",
   "execution_count": 8,
   "id": "dbee98ed",
   "metadata": {},
   "outputs": [
    {
     "data": {
      "text/plain": [
       "dict_keys(['model_id', 'model_revision', 'akk_to_en', 'sux_to_en'])"
      ]
     },
     "execution_count": 8,
     "metadata": {},
     "output_type": "execute_result"
    }
   ],
   "source": [
    "new_translations = dict(old_translations)\n",
    "new_translations.keys()"
   ]
  },
  {
   "cell_type": "code",
   "execution_count": 9,
   "id": "b324b1df",
   "metadata": {},
   "outputs": [],
   "source": [
    "def sample_translations():\n",
    "    for s_lang in src_langs:\n",
    "        for t_lang in tgt_langs:\n",
    "            st_key = f\"{s_lang}_to_{t_lang}\"\n",
    "            if st_key in new_translations:\n",
    "                translations = new_translations[st_key]\n",
    "                print(len(translations), f\"{st_key} translations\")\n",
    "                print([(x, translations[x]) for x in translations][:10])"
   ]
  },
  {
   "cell_type": "code",
   "execution_count": 10,
   "id": "d2b84c37",
   "metadata": {},
   "outputs": [
    {
     "name": "stdout",
     "output_type": "stream",
     "text": [
      "50000 sux_to_en translations\n",
      "[('\" [...] = %a [at]-ta', '..'), ('\" [...] ~ [...] = %a [u4]-du-ru-u2', '..'), ('\" [...] ~ [...] = %a szu-ub-tum', '..'), ('\" [...] ~ [...] = %a {d}en-lil2', 'of Enlil'), ('\" [...] ~ |SU.LU.SZE3|# = %a lu-up-pu-um', '..'), ('\" [...] ~ |X.X.LAL| = %a na-du-u2-um', '..'), ('\" [...] ~ |X.X.SI| = %a ku-ur-ku-u2-um', '..'), ('\" [ba]-e# = %a za-zum', '..'), ('\" [ga2-e] = %a [a]-na#?-ku-u2', 'I shall make secure'), ('\" [za-e] = %a at#-ta', 'you')]\n",
      "380004 akk_to_en translations\n",
      "[('# A2    \" x#        ~ A2', '..'), ('# GI    \" x#-x#     ~ GI', '..'), ('# GI4   \" [...]     ~ GI4', '..'), ('# a2    \" [x]-a     ~ A2', '..'), ('# da    \" da-a      ~ DA', '..'), ('# gi    \" gi        ~ GI', '..'), ('# gilim \" gi-li!-im ~ |GI%GI|', 'the reed, the reed, the ...'), ('# kab   \" ka-ab#    ~ KAB', '..'), ('# ki2   \" ki        ~ GI', '..'), ('# si2   \" si        ~ ZI', '..')]\n"
     ]
    }
   ],
   "source": [
    "sample_translations()"
   ]
  },
  {
   "cell_type": "markdown",
   "id": "ada5268c",
   "metadata": {},
   "source": [
    "## Load the Model"
   ]
  },
  {
   "cell_type": "code",
   "execution_count": 11,
   "id": "b41e0d6e",
   "metadata": {},
   "outputs": [
    {
     "data": {
      "application/json": {
       "ascii": false,
       "bar_format": null,
       "colour": null,
       "elapsed": 0.02164292335510254,
       "initial": 0,
       "n": 0,
       "ncols": null,
       "nrows": 24,
       "postfix": null,
       "prefix": "Downloading tokenizer_config.json",
       "rate": null,
       "total": 1923,
       "unit": "B",
       "unit_divisor": 1024,
       "unit_scale": true
      },
      "application/vnd.jupyter.widget-view+json": {
       "model_id": "a724693ae3614324bbda8c5087e69201",
       "version_major": 2,
       "version_minor": 0
      },
      "text/plain": [
       "Downloading tokenizer_config.json:   0%|          | 0.00/1.88k [00:00<?, ?B/s]"
      ]
     },
     "metadata": {},
     "output_type": "display_data"
    },
    {
     "data": {
      "application/json": {
       "ascii": false,
       "bar_format": null,
       "colour": null,
       "elapsed": 0.008053064346313477,
       "initial": 0,
       "n": 0,
       "ncols": null,
       "nrows": 24,
       "postfix": null,
       "prefix": "Downloading tokenizer.json",
       "rate": null,
       "total": 2422095,
       "unit": "B",
       "unit_divisor": 1024,
       "unit_scale": true
      },
      "application/vnd.jupyter.widget-view+json": {
       "model_id": "c30335aadb7346fe8aed06735da70898",
       "version_major": 2,
       "version_minor": 0
      },
      "text/plain": [
       "Downloading tokenizer.json:   0%|          | 0.00/2.31M [00:00<?, ?B/s]"
      ]
     },
     "metadata": {},
     "output_type": "display_data"
    },
    {
     "data": {
      "application/json": {
       "ascii": false,
       "bar_format": null,
       "colour": null,
       "elapsed": 0.008337736129760742,
       "initial": 0,
       "n": 0,
       "ncols": null,
       "nrows": 24,
       "postfix": null,
       "prefix": "Downloading special_tokens_map.json",
       "rate": null,
       "total": 1786,
       "unit": "B",
       "unit_divisor": 1024,
       "unit_scale": true
      },
      "application/vnd.jupyter.widget-view+json": {
       "model_id": "568920a78f1d46fd801bed1aed63ef2d",
       "version_major": 2,
       "version_minor": 0
      },
      "text/plain": [
       "Downloading special_tokens_map.json:   0%|          | 0.00/1.74k [00:00<?, ?B/s]"
      ]
     },
     "metadata": {},
     "output_type": "display_data"
    },
    {
     "data": {
      "text/plain": [
       "256"
      ]
     },
     "execution_count": 11,
     "metadata": {},
     "output_type": "execute_result"
    }
   ],
   "source": [
    "tokenizer = AutoTokenizer.from_pretrained(model_id, revision=model_revision, device=device)\n",
    "model_max_length = tokenizer.model_max_length\n",
    "model_max_length"
   ]
  },
  {
   "cell_type": "code",
   "execution_count": 12,
   "id": "fcdfb82a",
   "metadata": {
    "scrolled": true
   },
   "outputs": [
    {
     "data": {
      "application/json": {
       "ascii": false,
       "bar_format": null,
       "colour": null,
       "elapsed": 0.00799703598022461,
       "initial": 0,
       "n": 0,
       "ncols": null,
       "nrows": 24,
       "postfix": null,
       "prefix": "Downloading config.json",
       "rate": null,
       "total": 1424,
       "unit": "B",
       "unit_divisor": 1024,
       "unit_scale": true
      },
      "application/vnd.jupyter.widget-view+json": {
       "model_id": "504c84aa931e40728b368a1b8d777069",
       "version_major": 2,
       "version_minor": 0
      },
      "text/plain": [
       "Downloading config.json:   0%|          | 0.00/1.39k [00:00<?, ?B/s]"
      ]
     },
     "execution_count": 12,
     "metadata": {},
     "output_type": "display_data"
    },
    {
     "data": {
      "application/json": {
       "ascii": false,
       "bar_format": null,
       "colour": null,
       "elapsed": 0.008124828338623047,
       "initial": 0,
       "n": 0,
       "ncols": null,
       "nrows": 24,
       "postfix": null,
       "prefix": "Downloading pytorch_model.bin",
       "rate": null,
       "total": 891697151,
       "unit": "B",
       "unit_divisor": 1024,
       "unit_scale": true
      },
      "application/vnd.jupyter.widget-view+json": {
       "model_id": "e2ee19f27026495f8e530916761fd19a",
       "version_major": 2,
       "version_minor": 0
      },
      "text/plain": [
       "Downloading pytorch_model.bin:   0%|          | 0.00/850M [00:00<?, ?B/s]"
      ]
     },
     "metadata": {},
     "output_type": "display_data"
    }
   ],
   "source": [
    "model = AutoModelForSeq2SeqLM.from_pretrained(model_id, revision=model_revision, max_length=tokenizer.model_max_length)\n",
    "model = model.to(device)\n",
    "model"
   ]
  },
  {
   "cell_type": "code",
   "execution_count": 13,
   "id": "c0902776",
   "metadata": {},
   "outputs": [],
   "source": [
    "pipeline = TranslationPipeline(model=model, tokenizer=tokenizer, device=0)"
   ]
  },
  {
   "cell_type": "code",
   "execution_count": 14,
   "id": "13b57bda",
   "metadata": {},
   "outputs": [],
   "source": [
    "print(pipeline(\"translate Akkadian to English: 1(disz){d}szul3-ma-nu-_sag man gal?_-u2 _man_ dan-nu _man kisz_\"))\n",
    "print(pipeline(\"translate Akkadian to English: ra-bi-isz e-pu-usz\"))"
   ]
  },
  {
   "cell_type": "markdown",
   "id": "31c42721",
   "metadata": {},
   "source": [
    "## Load Transliterations to Translate"
   ]
  },
  {
   "cell_type": "markdown",
   "id": "37377b14",
   "metadata": {},
   "source": [
    "## Load ORACC"
   ]
  },
  {
   "cell_type": "code",
   "execution_count": 20,
   "id": "9af29ebd",
   "metadata": {},
   "outputs": [
    {
     "data": {
      "text/plain": [
       "'/home/fak/nn/Data/oracc_zips'"
      ]
     },
     "execution_count": 20,
     "metadata": {},
     "output_type": "execute_result"
    }
   ],
   "source": [
    "# oracc_dir = os.path.abspath(f\"/Volumes/FrankDisk/oracc_zips\")\n",
    "oracc_dir = os.path.abspath(f\"/home/fak/nn/Data/oracc_zips\")\n",
    "oracc_dir"
   ]
  },
  {
   "cell_type": "code",
   "execution_count": 22,
   "id": "381f9736",
   "metadata": {},
   "outputs": [
    {
     "data": {
      "application/vnd.jupyter.widget-view+json": {
       "model_id": "1ae74ea6153c4d61a2dbda887eeee1fe",
       "version_major": 2,
       "version_minor": 0
      },
      "text/plain": [
       "  0%|          | 0/139 [00:00<?, ?it/s]"
      ]
     },
     "metadata": {},
     "output_type": "display_data"
    }
   ],
   "source": [
    "project_zips = oracc.get_all_project_zips(oracc_dir, verbose=False, tqdm=tqdm)"
   ]
  },
  {
   "cell_type": "code",
   "execution_count": 23,
   "id": "a9671485",
   "metadata": {},
   "outputs": [
    {
     "name": "stdout",
     "output_type": "stream",
     "text": [
      "118\n"
     ]
    },
    {
     "data": {
      "text/plain": [
       "['/home/fak/nn/Data/oracc_zips/adsd.zip',\n",
       " '/home/fak/nn/Data/oracc_zips/adsd-adart1.zip',\n",
       " '/home/fak/nn/Data/oracc_zips/adsd-adart2.zip']"
      ]
     },
     "execution_count": 23,
     "metadata": {},
     "output_type": "execute_result"
    }
   ],
   "source": [
    "print(len(project_zips))\n",
    "project_zips[:3]"
   ]
  },
  {
   "cell_type": "code",
   "execution_count": 24,
   "id": "42f9b4d4",
   "metadata": {},
   "outputs": [
    {
     "data": {
      "application/vnd.jupyter.widget-view+json": {
       "model_id": "75ad2827adf14c1ba2cf3a11ac318efc",
       "version_major": 2,
       "version_minor": 0
      },
      "text/plain": [
       "  0%|          | 0/118 [00:00<?, ?it/s]"
      ]
     },
     "metadata": {},
     "output_type": "display_data"
    }
   ],
   "source": [
    "all_corpus_object_ids = oracc.get_all_corpus_object_ids(project_zips[:], tqdm=tqdm)"
   ]
  },
  {
   "cell_type": "code",
   "execution_count": 26,
   "id": "3aa80eeb",
   "metadata": {},
   "outputs": [
    {
     "data": {
      "text/plain": [
       "[('adsd/adart1', 'X102611'),\n",
       " ('adsd/adart1', 'X102612'),\n",
       " ('adsd/adart1', 'X102613'),\n",
       " ('adsd/adart1', 'X102620'),\n",
       " ('adsd/adart1', 'X102630'),\n",
       " ('adsd/adart1', 'X102640'),\n",
       " ('adsd/adart1', 'X102661'),\n",
       " ('adsd/adart1', 'X102662'),\n",
       " ('adsd/adart1', 'X102701'),\n",
       " ('adsd/adart1', 'X102702')]"
      ]
     },
     "execution_count": 26,
     "metadata": {},
     "output_type": "execute_result"
    }
   ],
   "source": [
    "all_corpus_object_ids[:10]"
   ]
  },
  {
   "cell_type": "code",
   "execution_count": 28,
   "id": "05b0a182",
   "metadata": {},
   "outputs": [
    {
     "data": {
      "text/plain": [
       "26150"
      ]
     },
     "execution_count": 28,
     "metadata": {},
     "output_type": "execute_result"
    }
   ],
   "source": [
    "len(all_corpus_object_ids)"
   ]
  },
  {
   "cell_type": "code",
   "execution_count": 29,
   "id": "95d1c92f",
   "metadata": {},
   "outputs": [
    {
     "data": {
      "application/vnd.jupyter.widget-view+json": {
       "model_id": "4e7d01f88c344a3f94533e2a8a61ac20",
       "version_major": 2,
       "version_minor": 0
      },
      "text/plain": [
       "  0%|          | 0/139 [00:00<?, ?it/s]"
      ]
     },
     "metadata": {},
     "output_type": "display_data"
    },
    {
     "name": "stdout",
     "output_type": "stream",
     "text": [
      "Error: (<class 'json.decoder.JSONDecodeError'>, JSONDecodeError('Expecting value: line 1 column 1 (char 0)'), <traceback object at 0x7fadca2888c0>)\n",
      "Error: (<class 'json.decoder.JSONDecodeError'>, JSONDecodeError('Expecting value: line 1 column 1 (char 0)'), <traceback object at 0x7fac6d1f2bc0>)\n",
      "Error: (<class 'json.decoder.JSONDecodeError'>, JSONDecodeError('Expecting value: line 1 column 1 (char 0)'), <traceback object at 0x7fac6cde5a80>)\n",
      "Error: (<class 'json.decoder.JSONDecodeError'>, JSONDecodeError('Expecting value: line 1 column 1 (char 0)'), <traceback object at 0x7fac6cde11c0>)\n",
      "Error: (<class 'json.decoder.JSONDecodeError'>, JSONDecodeError('Expecting value: line 1 column 1 (char 0)'), <traceback object at 0x7fac6cc5a440>)\n",
      "Error: (<class 'json.decoder.JSONDecodeError'>, JSONDecodeError('Expecting value: line 1 column 1 (char 0)'), <traceback object at 0x7fac6cdf0b00>)\n",
      "Error: (<class 'json.decoder.JSONDecodeError'>, JSONDecodeError('Expecting value: line 1 column 1 (char 0)'), <traceback object at 0x7fac6c51cf00>)\n",
      "Error: (<class 'json.decoder.JSONDecodeError'>, JSONDecodeError('Expecting value: line 1 column 1 (char 0)'), <traceback object at 0x7fac6ce32580>)\n",
      "Error: (<class 'json.decoder.JSONDecodeError'>, JSONDecodeError('Expecting value: line 1 column 1 (char 0)'), <traceback object at 0x7fac6c504f00>)\n",
      "Error: (<class 'json.decoder.JSONDecodeError'>, JSONDecodeError('Expecting value: line 1 column 1 (char 0)'), <traceback object at 0x7fac6c504cc0>)\n",
      "Error: (<class 'json.decoder.JSONDecodeError'>, JSONDecodeError('Expecting value: line 1 column 1 (char 0)'), <traceback object at 0x7fac6c65c280>)\n",
      "Error: (<class 'json.decoder.JSONDecodeError'>, JSONDecodeError('Expecting value: line 1 column 1 (char 0)'), <traceback object at 0x7fac6cc12f80>)\n",
      "Error: (<class 'json.decoder.JSONDecodeError'>, JSONDecodeError('Expecting value: line 1 column 1 (char 0)'), <traceback object at 0x7fac21a1c100>)\n",
      "Error: (<class 'json.decoder.JSONDecodeError'>, JSONDecodeError('Expecting value: line 1 column 1 (char 0)'), <traceback object at 0x7fabbdf35c40>)\n",
      "Error: (<class 'json.decoder.JSONDecodeError'>, JSONDecodeError('Expecting value: line 1 column 1 (char 0)'), <traceback object at 0x7fabbd47ee40>)\n",
      "Error: (<class 'json.decoder.JSONDecodeError'>, JSONDecodeError('Expecting value: line 1 column 1 (char 0)'), <traceback object at 0x7fabb52559c0>)\n",
      "Error: (<class 'json.decoder.JSONDecodeError'>, JSONDecodeError('Expecting value: line 1 column 1 (char 0)'), <traceback object at 0x7fabb5046dc0>)\n",
      "Error: (<class 'json.decoder.JSONDecodeError'>, JSONDecodeError('Expecting value: line 1 column 1 (char 0)'), <traceback object at 0x7fab51709640>)\n",
      "Error: (<class 'json.decoder.JSONDecodeError'>, JSONDecodeError('Expecting value: line 1 column 1 (char 0)'), <traceback object at 0x7fab2bb0df00>)\n",
      "Error: (<class 'json.decoder.JSONDecodeError'>, JSONDecodeError('Expecting value: line 1 column 1 (char 0)'), <traceback object at 0x7fab2b28c5c0>)\n",
      "Error: (<class 'json.decoder.JSONDecodeError'>, JSONDecodeError('Expecting value: line 1 column 1 (char 0)'), <traceback object at 0x7fab2a9515c0>)\n",
      "Error: (<class 'json.decoder.JSONDecodeError'>, JSONDecodeError('Expecting value: line 1 column 1 (char 0)'), <traceback object at 0x7fab2a9aa180>)\n",
      "Error: (<class 'json.decoder.JSONDecodeError'>, JSONDecodeError('Expecting value: line 1 column 1 (char 0)'), <traceback object at 0x7fab29ed5e40>)\n",
      "Error: (<class 'json.decoder.JSONDecodeError'>, JSONDecodeError('Expecting value: line 1 column 1 (char 0)'), <traceback object at 0x7fab29489840>)\n",
      "Error: (<class 'json.decoder.JSONDecodeError'>, JSONDecodeError('Expecting value: line 1 column 1 (char 0)'), <traceback object at 0x7fab29404600>)\n",
      "Error: (<class 'json.decoder.JSONDecodeError'>, JSONDecodeError('Expecting value: line 1 column 1 (char 0)'), <traceback object at 0x7fab28f3dc40>)\n",
      "Error: (<class 'json.decoder.JSONDecodeError'>, JSONDecodeError('Expecting value: line 1 column 1 (char 0)'), <traceback object at 0x7fab28f3db00>)\n",
      "Error: (<class 'json.decoder.JSONDecodeError'>, JSONDecodeError('Expecting value: line 1 column 1 (char 0)'), <traceback object at 0x7fab28d6b440>)\n",
      "Error: (<class 'json.decoder.JSONDecodeError'>, JSONDecodeError('Expecting value: line 1 column 1 (char 0)'), <traceback object at 0x7fab27e06380>)\n",
      "Error: (<class 'json.decoder.JSONDecodeError'>, JSONDecodeError('Expecting value: line 1 column 1 (char 0)'), <traceback object at 0x7fab26a23300>)\n",
      "Error: (<class 'json.decoder.JSONDecodeError'>, JSONDecodeError('Expecting value: line 1 column 1 (char 0)'), <traceback object at 0x7fab26a231c0>)\n",
      "Error: (<class 'json.decoder.JSONDecodeError'>, JSONDecodeError('Expecting value: line 1 column 1 (char 0)'), <traceback object at 0x7fab262f2fc0>)\n",
      "Error: (<class 'json.decoder.JSONDecodeError'>, JSONDecodeError('Expecting value: line 1 column 1 (char 0)'), <traceback object at 0x7fab25760d00>)\n",
      "Error: (<class 'json.decoder.JSONDecodeError'>, JSONDecodeError('Expecting value: line 1 column 1 (char 0)'), <traceback object at 0x7fab246b2ec0>)\n",
      "Error: (<class 'json.decoder.JSONDecodeError'>, JSONDecodeError('Expecting value: line 1 column 1 (char 0)'), <traceback object at 0x7fab24227080>)\n",
      "Error: (<class 'json.decoder.JSONDecodeError'>, JSONDecodeError('Expecting value: line 1 column 1 (char 0)'), <traceback object at 0x7fab24226f40>)\n",
      "Error: (<class 'json.decoder.JSONDecodeError'>, JSONDecodeError('Expecting value: line 1 column 1 (char 0)'), <traceback object at 0x7fab23da6900>)\n",
      "Error: (<class 'json.decoder.JSONDecodeError'>, JSONDecodeError('Expecting value: line 1 column 1 (char 0)'), <traceback object at 0x7fab2329db80>)\n",
      "Error: (<class 'json.decoder.JSONDecodeError'>, JSONDecodeError('Expecting value: line 1 column 1 (char 0)'), <traceback object at 0x7fab22f25540>)\n",
      "Error: (<class 'json.decoder.JSONDecodeError'>, JSONDecodeError('Expecting value: line 1 column 1 (char 0)'), <traceback object at 0x7faaf93bdc40>)\n",
      "Error: (<class 'json.decoder.JSONDecodeError'>, JSONDecodeError('Expecting value: line 1 column 1 (char 0)'), <traceback object at 0x7faaf77bf340>)\n"
     ]
    }
   ],
   "source": [
    "oracc_pub_ids_and_langs, transliterated_oracc_corpi = oracc.load_all_project_pub_ids(oracc_dir, tqdm=tqdm)"
   ]
  },
  {
   "cell_type": "code",
   "execution_count": 71,
   "id": "f7faee1c",
   "metadata": {},
   "outputs": [],
   "source": [
    "transliterated_oracc_pub_ids = set(transliterated_oracc_corpi.keys())"
   ]
  },
  {
   "cell_type": "code",
   "execution_count": 31,
   "id": "4f418fc1",
   "metadata": {},
   "outputs": [
    {
     "name": "stdout",
     "output_type": "stream",
     "text": [
      "133088 oracc pubs\n",
      "21852 oracc transliterated pubs\n"
     ]
    }
   ],
   "source": [
    "print(len(oracc_pub_ids_and_langs), \"oracc pubs\")\n",
    "print(len(transliterated_oracc_pub_ids), \"oracc transliterated pubs\")"
   ]
  },
  {
   "cell_type": "code",
   "execution_count": 32,
   "id": "3f24e92e",
   "metadata": {},
   "outputs": [
    {
     "data": {
      "application/vnd.jupyter.widget-view+json": {
       "model_id": "9e6672247e274ea3b3279185aca286ae",
       "version_major": 2,
       "version_minor": 0
      },
      "text/plain": [
       "  0%|          | 0/118 [00:00<?, ?it/s]"
      ]
     },
     "metadata": {},
     "output_type": "display_data"
    },
    {
     "name": "stdout",
     "output_type": "stream",
     "text": [
      "16553 reported translations\n"
     ]
    }
   ],
   "source": [
    "reported_translated_ids = oracc.get_all_translated_object_ids(project_zips, tqdm)\n",
    "print(len(reported_translated_ids), \"reported translations\")"
   ]
  },
  {
   "cell_type": "code",
   "execution_count": 82,
   "id": "ace89ab0",
   "metadata": {},
   "outputs": [
    {
     "data": {
      "text/plain": [
       "('adsd/adart1', 'X102611')"
      ]
     },
     "execution_count": 82,
     "metadata": {},
     "output_type": "execute_result"
    }
   ],
   "source": [
    "list(reported_translated_ids)[0]"
   ]
  },
  {
   "cell_type": "code",
   "execution_count": 79,
   "id": "43fcac39",
   "metadata": {},
   "outputs": [
    {
     "data": {
      "text/plain": [
       "'Q007950'"
      ]
     },
     "execution_count": 79,
     "metadata": {},
     "output_type": "execute_result"
    }
   ],
   "source": [
    "list(transliterated_oracc_pub_ids)[0]"
   ]
  },
  {
   "cell_type": "code",
   "execution_count": 92,
   "id": "417142e3",
   "metadata": {},
   "outputs": [],
   "source": [
    "transliterated_oracc_pids_and_oids = \\\n",
    "    [(x[\"corpus\"][\"project\"], x[\"corpus\"][\"textid\"]) for x in transliterated_oracc_corpi.values()]"
   ]
  },
  {
   "cell_type": "code",
   "execution_count": 93,
   "id": "795f3fb4",
   "metadata": {},
   "outputs": [
    {
     "data": {
      "text/plain": [
       "('adsd/adart1', 'X103813')"
      ]
     },
     "execution_count": 93,
     "metadata": {},
     "output_type": "execute_result"
    }
   ],
   "source": [
    "transliterated_oracc_pids_and_oids[0]"
   ]
  },
  {
   "cell_type": "code",
   "execution_count": 94,
   "id": "863e34ae",
   "metadata": {},
   "outputs": [
    {
     "data": {
      "application/vnd.jupyter.widget-view+json": {
       "model_id": "bb66db511804466fa8752ea783641f0d",
       "version_major": 2,
       "version_minor": 0
      },
      "text/plain": [
       "  0%|          | 0/21852 [00:00<?, ?it/s]"
      ]
     },
     "metadata": {},
     "output_type": "display_data"
    }
   ],
   "source": [
    "for pid, oid in tqdm(transliterated_oracc_pids_and_oids[:]):\n",
    "    tpath = oracc.download_object_translation(oracc_dir, pid, oid)"
   ]
  },
  {
   "cell_type": "code",
   "execution_count": 38,
   "id": "104b05b7",
   "metadata": {},
   "outputs": [
    {
     "data": {
      "text/plain": [
       "(16218, 'oracc translated pubs')"
      ]
     },
     "execution_count": 38,
     "metadata": {},
     "output_type": "execute_result"
    }
   ],
   "source": [
    "oracc_translated_ids = set(oracc.get_all_object_html_paths(oracc_dir).keys())\n",
    "len(oracc_translated_ids), \"oracc translated pubs\""
   ]
  },
  {
   "cell_type": "code",
   "execution_count": 76,
   "id": "eac69d63",
   "metadata": {},
   "outputs": [
    {
     "data": {
      "application/vnd.jupyter.widget-view+json": {
       "model_id": "9161ab97de664e46a364d769b4803725",
       "version_major": 2,
       "version_minor": 0
      },
      "text/plain": [
       "  0%|          | 0/21852 [00:00<?, ?it/s]"
      ]
     },
     "metadata": {},
     "output_type": "display_data"
    },
    {
     "ename": "KeyError",
     "evalue": "'P514585'",
     "output_type": "error",
     "traceback": [
      "\u001b[0;31m---------------------------------------------------------------------------\u001b[0m",
      "\u001b[0;31mKeyError\u001b[0m                                  Traceback (most recent call last)",
      "Input \u001b[0;32mIn [76]\u001b[0m, in \u001b[0;36m<cell line: 4>\u001b[0;34m()\u001b[0m\n\u001b[1;32m      2\u001b[0m oracc_langs \u001b[38;5;241m=\u001b[39m defaultdict(\u001b[38;5;28;01mlambda\u001b[39;00m: \u001b[38;5;241m0\u001b[39m)\n\u001b[1;32m      4\u001b[0m \u001b[38;5;28;01mfor\u001b[39;00m pid \u001b[38;5;129;01min\u001b[39;00m tqdm(transliterated_oracc_pub_ids):\n\u001b[0;32m----> 5\u001b[0m     p \u001b[38;5;241m=\u001b[39m \u001b[43moracc\u001b[49m\u001b[38;5;241;43m.\u001b[39;49m\u001b[43mget_object_id_pub\u001b[49m\u001b[43m(\u001b[49m\u001b[43mpid\u001b[49m\u001b[43m,\u001b[49m\u001b[43m \u001b[49m\u001b[43moracc_dir\u001b[49m\u001b[43m)\u001b[49m\n\u001b[1;32m      6\u001b[0m     oracc_transliterated_pubs[pid] \u001b[38;5;241m=\u001b[39m p\n\u001b[1;32m      7\u001b[0m     \u001b[38;5;28;01mif\u001b[39;00m p\u001b[38;5;241m.\u001b[39mlanguage \u001b[38;5;129;01mis\u001b[39;00m \u001b[38;5;129;01mnot\u001b[39;00m \u001b[38;5;28;01mNone\u001b[39;00m:\n",
      "File \u001b[0;32m~/Projects/CuneiformTranslators/tools/oracc.py:251\u001b[0m, in \u001b[0;36mget_object_id_pub\u001b[0;34m(object_id, oracc_dir)\u001b[0m\n\u001b[1;32m    248\u001b[0m     line \u001b[38;5;241m=\u001b[39m cdli\u001b[38;5;241m.\u001b[39mTextLine(number\u001b[38;5;241m=\u001b[39mnumber, text\u001b[38;5;241m=\u001b[39mcuneiform)\n\u001b[1;32m    249\u001b[0m     text_area\u001b[38;5;241m.\u001b[39mlines\u001b[38;5;241m.\u001b[39mappend(line)\n\u001b[0;32m--> 251\u001b[0m html \u001b[38;5;241m=\u001b[39m \u001b[43mload_html_for_object_id\u001b[49m\u001b[43m(\u001b[49m\u001b[43mobject_id\u001b[49m\u001b[43m,\u001b[49m\u001b[43m \u001b[49m\u001b[43moracc_dir\u001b[49m\u001b[43m)\u001b[49m\n\u001b[1;32m    252\u001b[0m texts \u001b[38;5;241m=\u001b[39m html\u001b[38;5;241m.\u001b[39mfind_all(\u001b[38;5;124m\"\u001b[39m\u001b[38;5;124mdiv\u001b[39m\u001b[38;5;124m\"\u001b[39m, class_\u001b[38;5;241m=\u001b[39m\u001b[38;5;124m\"\u001b[39m\u001b[38;5;124mtext\u001b[39m\u001b[38;5;124m\"\u001b[39m)\n\u001b[1;32m    253\u001b[0m langs \u001b[38;5;241m=\u001b[39m defaultdict(\u001b[38;5;28;01mlambda\u001b[39;00m: \u001b[38;5;241m0\u001b[39m)\n",
      "File \u001b[0;32m~/Projects/CuneiformTranslators/tools/oracc.py:229\u001b[0m, in \u001b[0;36mload_html_for_object_id\u001b[0;34m(object_id, oracc_dir)\u001b[0m\n\u001b[1;32m    228\u001b[0m \u001b[38;5;28;01mdef\u001b[39;00m \u001b[38;5;21mload_html_for_object_id\u001b[39m(object_id, oracc_dir):\n\u001b[0;32m--> 229\u001b[0m     \u001b[38;5;28;01mreturn\u001b[39;00m load_html(\u001b[43mget_all_object_html_paths\u001b[49m\u001b[43m(\u001b[49m\u001b[43moracc_dir\u001b[49m\u001b[43m)\u001b[49m\u001b[43m[\u001b[49m\u001b[43mobject_id\u001b[49m\u001b[43m]\u001b[49m)\n",
      "\u001b[0;31mKeyError\u001b[0m: 'P514585'"
     ]
    }
   ],
   "source": [
    "oracc_transliterated_pubs = dict()\n",
    "oracc_langs = defaultdict(lambda: 0)\n",
    "\n",
    "for pid in tqdm(transliterated_oracc_pub_ids):\n",
    "    p = oracc.get_object_id_pub(pid, oracc_dir)\n",
    "    oracc_transliterated_pubs[pid] = p\n",
    "    if p.language is not None:\n",
    "        oracc_langs[p.language] += 1\n",
    "    \n",
    "oracc_langs = sorted([(x, oracc_langs[x]) for x in oracc_langs.keys()], key=lambda x:-x[1])\n",
    "oracc_langs"
   ]
  },
  {
   "cell_type": "markdown",
   "id": "a86545b0",
   "metadata": {},
   "source": [
    "## Load CDLI"
   ]
  },
  {
   "cell_type": "code",
   "execution_count": 43,
   "id": "a3c0593b",
   "metadata": {},
   "outputs": [
    {
     "name": "stdout",
     "output_type": "stream",
     "text": [
      "Downloading https://github.com/cdli-gh/data/raw/master/cdliatf_unblocked.atf\n",
      "Parsing atf\n"
     ]
    },
    {
     "data": {
      "text/plain": [
       "135256"
      ]
     },
     "execution_count": 43,
     "metadata": {},
     "output_type": "execute_result"
    }
   ],
   "source": [
    "cdli_pubs = cdli.get_atf()\n",
    "len(publications)"
   ]
  },
  {
   "cell_type": "code",
   "execution_count": 46,
   "id": "a46d47a4",
   "metadata": {},
   "outputs": [
    {
     "data": {
      "text/plain": [
       "Publication('P005633', 'qpc', [TextArea('obverse', [], []), TextArea('column 1', [TextLine('1.', '1(N14) , GAR', {}), TextLine('2.', '1(N01@f) , KASZ~a SZE~a', {}), TextLine('3.', ', TU~b GU4 A', {})], [])])"
      ]
     },
     "execution_count": 46,
     "metadata": {},
     "output_type": "execute_result"
    }
   ],
   "source": [
    "publications[5000]"
   ]
  },
  {
   "cell_type": "code",
   "execution_count": 47,
   "id": "1481fc55",
   "metadata": {},
   "outputs": [
    {
     "data": {
      "text/plain": [
       "(5369, 'cdli translated pubs')"
      ]
     },
     "execution_count": 47,
     "metadata": {},
     "output_type": "execute_result"
    }
   ],
   "source": [
    "def cdli_text_area_is_translated(pub, text_area, tgt_lang):\n",
    "    for line in text_area.lines:\n",
    "        if tgt_lang in line.languages:\n",
    "            return True\n",
    "    return False\n",
    "\n",
    "def cdli_pub_is_translated(pub, tgt_lang):\n",
    "    return any(x for x in pub.text_areas if cdli_text_area_is_translated(pub, x, tgt_lang))\n",
    "\n",
    "cdli_translated_pubs = {x.id: x for x in cdli_pubs if cdli_pub_is_translated(x, \"en\")}\n",
    "len(cdli_translated_pubs), \"cdli translated pubs\""
   ]
  },
  {
   "cell_type": "code",
   "execution_count": 50,
   "id": "e3c98622",
   "metadata": {},
   "outputs": [],
   "source": [
    "def cdli_lines_to_paragraphs(self, src_lang, tgt_lang, max_length=128):\n",
    "    self.paragraphs = list()\n",
    "    plen = 0\n",
    "    for iline, line in enumerate(self.lines):\n",
    "        line_len = len(line.text)\n",
    "        if cdli.looks_like_li(line.text, src_lang):\n",
    "            self.paragraphs.append(cdli.TextParagraph(iline, iline+1, \"li\"))\n",
    "            plen = line_len\n",
    "        else:\n",
    "            if len(self.paragraphs) > 0 and self.paragraphs[-1].tag == \"p\" and plen + line_len < max_length:\n",
    "                p = self.paragraphs[-1]\n",
    "                p.end_line_index += 1\n",
    "                plen += line_len\n",
    "            else:\n",
    "                self.paragraphs.append(cdli.TextParagraph(iline, iline+1))\n",
    "                plen = line_len\n",
    "    if any(l for l in self.lines if tgt_lang in l.languages):\n",
    "        for p in self.paragraphs:\n",
    "            lines = self.lines[p.start_line_index:p.end_line_index]\n",
    "            tlines = [(x.languages[tgt_lang] if tgt_lang in x.languages else \"\") for x in lines]\n",
    "            p.languages[tgt_lang] = languages.remove_extraneous_space(\" \".join(tlines))\n",
    "    return self.paragraphs"
   ]
  },
  {
   "cell_type": "markdown",
   "id": "ec678bcc",
   "metadata": {},
   "source": [
    "## Find just the transliterations"
   ]
  },
  {
   "cell_type": "code",
   "execution_count": 61,
   "id": "859790ba",
   "metadata": {},
   "outputs": [
    {
     "name": "stdout",
     "output_type": "stream",
     "text": [
      "sux 99819\n",
      "akk 21953\n"
     ]
    }
   ],
   "source": [
    "def get_all_transliterated_pubs(src_lang):\n",
    "    transliterated_cdli_index = {x.id: x for x in cdli_pubs if x.language == src_lang}\n",
    "    transliterated_cdli_ids = set(transliterated_cdli_index.keys())\n",
    "    transliterated_oracc_index = {x: transliterated_oracc_corpi[x] for x in transliterated_oracc_corpi.keys() if transliterated_oracc_corpi[x][\"lang\"] == src_lang}\n",
    "    transliterated_oracc_ids = set(transliterated_oracc_index.keys())\n",
    "    all_ids = set(transliterated_cdli_ids)\n",
    "    all_ids.union(transliterated_oracc_ids)\n",
    "    return all_ids, transliterated_cdli_index, transliterated_oracc_index\n",
    "\n",
    "all_transliterated_pubs = {\n",
    "    \"sux\": get_all_transliterated_pubs(\"sux\"),\n",
    "    \"akk\": get_all_transliterated_pubs(\"akk\")\n",
    "}\n",
    "print(\"sux\", len(all_transliterated_pubs[\"sux\"][0]))\n",
    "print(\"akk\", len(all_transliterated_pubs[\"akk\"][0]))"
   ]
  },
  {
   "cell_type": "markdown",
   "id": "44291a7f",
   "metadata": {},
   "source": [
    "## Build Need Translation List"
   ]
  },
  {
   "cell_type": "code",
   "execution_count": 70,
   "id": "44f7a90c",
   "metadata": {},
   "outputs": [
    {
     "data": {
      "application/vnd.jupyter.widget-view+json": {
       "model_id": "5e22c427bb1c4d60ba310a38c808ac41",
       "version_major": 2,
       "version_minor": 0
      },
      "text/plain": [
       "  0%|          | 0/99819 [00:00<?, ?it/s]"
      ]
     },
     "metadata": {},
     "output_type": "display_data"
    },
    {
     "name": "stdout",
     "output_type": "stream",
     "text": [
      "<class 'dict'>\n",
      "{'corpus': {'type': 'cdl', 'project': 'dcclt', 'source': 'http://oracc.org/dcclt', 'license': 'This data is released under the CC0 license', 'license-url': 'https://creativecommons.org/publicdomain/zero/1.0/', 'more-info': 'http://oracc.org/doc/opendata/', 'UTC-timestamp': '2022-06-26T00:39:08', 'textid': 'P010567', 'cdl': [{'node': 'c', 'type': 'text', 'id': 'P010567.U0', 'cdl': [{'node': 'd', 'subtype': 'tablet', 'type': 'object', 'ref': 'P010567.x41.1', 'label': 'x41'}, {'node': 'd', 'subtype': 'obverse', 'type': 'surface', 'ref': 'P010567.o.2', 'label': 'o'}, {'node': 'd', 'subtype': 'column 1o', 'type': 'column', 'ref': 'P010567.o.i.3', 'n': '1', 'label': 'o i'}, {'node': 'c', 'type': 'discourse', 'subtype': 'body', 'id': 'P010567.U1', 'cdl': [{'node': 'c', 'type': 'sentence', 'implicit': 'yes', 'id': 'P010567.U2', 'label': 'o i 1', 'cdl': [{'node': 'd', 'type': 'line-start', 'ref': 'P010567.4', 'n': '1', 'label': 'o i 1'}, {'node': 'l', 'frag': '{d}sud₃-kur-ra-diri', 'id': 'P010567.l063c0', 'ref': 'P010567.4.1', 'inst': '%sux:{d}sud₃-kur-ra-diri=', 'f': {'lang': 'sux', 'form': '{d}sud₃-kur-ra-diri', 'gdl': [{'det': 'semantic', 'pos': 'pre', 'seq': [{'v': 'd', 'id': 'P010567.4.1.0'}]}, {'v': 'sud₃', 'id': 'P010567.4.1.1', 'delim': '-'}, {'v': 'kur', 'id': 'P010567.4.1.2', 'delim': '-'}, {'v': 'ra', 'id': 'P010567.4.1.3', 'delim': '-'}, {'v': 'diri', 'id': 'P010567.4.1.4'}]}, 'props': [{'name': 'field', 'group': 'env', 'ngram': '-1', 'ref': 'P010567.4.1'}, {'name': 'discourse', 'group': 'env', 'value': 'body', 'ngram': '-1', 'ref': 'P010567.4.1'}]}]}, {'node': 'c', 'type': 'sentence', 'implicit': 'yes', 'tag': '#auto', 'id': 'P010567.U4', 'label': 'o i 2', 'cdl': [{'node': 'd', 'type': 'line-start', 'ref': 'P010567.5', 'n': '2', 'label': 'o i 2'}, {'node': 'l', 'frag': '{d}e-lum-[an]-dul₃-[(...)]', 'id': 'P010567.l063c1', 'ref': 'P010567.5.1', 'inst': '%sux:{d}e-lum-an-dul₃-x=', 'f': {'lang': 'sux', 'form': '{d}e-lum-an-dul₃-x', 'gdl': [{'det': 'semantic', 'pos': 'pre', 'seq': [{'v': 'd', 'id': 'P010567.5.1.0'}]}, {'v': 'e', 'id': 'P010567.5.1.1', 'delim': '-'}, {'v': 'lum', 'id': 'P010567.5.1.2', 'delim': '-'}, {'v': 'an', 'id': 'P010567.5.1.3', 'breakStart': '1', 'o': ']', 'queried': '1', 'break': 'missing', 'breakEnd': 'P010567.5.1.3', 'delim': '-'}, {'v': 'dul₃', 'id': 'P010567.5.1.4', 'delim': '-'}, {'x': 'ellipsis', 'id': 'P010567.5.1.5', 'breakStart': '1', 'statusStart': 'P010567.5.1.5', 'break': 'missing', 'o': ')]', 'breakEnd': 'P010567.5.1.5'}]}, 'props': [{'name': 'field', 'group': 'env', 'ngram': '-1', 'ref': 'P010567.5.1'}, {'name': 'discourse', 'group': 'env', 'value': 'body', 'ngram': '-1', 'ref': 'P010567.5.1'}]}]}, {'node': 'c', 'type': 'sentence', 'implicit': 'yes', 'tag': '#auto', 'id': 'P010567.U6', 'label': 'o i 3', 'cdl': [{'node': 'd', 'type': 'line-start', 'ref': 'P010567.6', 'n': '3', 'label': 'o i 3'}, {'node': 'l', 'frag': '[...]-še₃-[...]', 'id': 'P010567.l063c2', 'ref': 'P010567.6.1', 'inst': '%sux:x-še₃-x=', 'f': {'lang': 'sux', 'form': 'x-še₃-x', 'gdl': [{'x': 'ellipsis', 'id': 'P010567.6.1.0', 'breakStart': '1', 'break': 'missing', 'o': ']', 'breakEnd': 'P010567.6.1.0', 'delim': '-'}, {'v': 'še₃', 'id': 'P010567.6.1.1', 'delim': '-'}, {'x': 'ellipsis', 'id': 'P010567.6.1.2', 'breakStart': '1', 'break': 'missing', 'o': ']', 'breakEnd': 'P010567.6.1.2'}]}, 'props': [{'name': 'field', 'group': 'env', 'ngram': '-1', 'ref': 'P010567.6.1'}, {'name': 'discourse', 'group': 'env', 'value': 'body', 'ngram': '-1', 'ref': 'P010567.6.1'}]}]}, {'node': 'c', 'type': 'sentence', 'implicit': 'yes', 'tag': '#auto', 'id': 'P010567.U8', 'label': 'o i 4', 'cdl': [{'node': 'd', 'type': 'line-start', 'ref': 'P010567.7', 'n': '4', 'label': 'o i 4'}, {'node': 'l', 'frag': '[...]', 'id': 'P010567.l063c3', 'ref': 'P010567.7.1', 'inst': '%sux:x=', 'f': {'lang': 'sux', 'form': 'x', 'gdl': [{'x': 'ellipsis', 'id': 'P010567.7.1.0', 'breakStart': '1', 'break': 'missing', 'o': ']', 'breakEnd': 'P010567.7.1.0'}]}, 'props': [{'name': 'field', 'group': 'env', 'ngram': '-1', 'ref': 'P010567.7.1'}, {'name': 'discourse', 'group': 'env', 'value': 'body', 'ngram': '-1', 'ref': 'P010567.7.1'}]}, {'node': 'd', 'subtype': 'column 2o', 'type': 'column', 'ref': 'P010567.o.ii.8', 'n': '2', 'label': 'o ii'}]}, {'node': 'c', 'type': 'sentence', 'implicit': 'yes', 'tag': '#auto', 'id': 'P010567.U10', 'label': 'o ii 1', 'cdl': [{'node': 'd', 'type': 'line-start', 'ref': 'P010567.9', 'n': '1', 'label': 'o ii 1'}, {'node': 'l', 'frag': '{d}e-lum-aga₃-zi', 'id': 'P010567.l063c4', 'ref': 'P010567.9.1', 'inst': '%sux:{d}e-lum-aga₃-zi=', 'f': {'lang': 'sux', 'form': '{d}e-lum-aga₃-zi', 'gdl': [{'det': 'semantic', 'pos': 'pre', 'seq': [{'v': 'd', 'id': 'P010567.9.1.0'}]}, {'v': 'e', 'id': 'P010567.9.1.1', 'delim': '-'}, {'v': 'lum', 'id': 'P010567.9.1.2', 'delim': '-'}, {'v': 'aga₃', 'id': 'P010567.9.1.3', 'delim': '-'}, {'v': 'zi', 'id': 'P010567.9.1.4'}]}, 'props': [{'name': 'field', 'group': 'env', 'ngram': '-1', 'ref': 'P010567.9.1'}, {'name': 'discourse', 'group': 'env', 'value': 'body', 'ngram': '-1', 'ref': 'P010567.9.1'}]}]}, {'node': 'c', 'type': 'sentence', 'implicit': 'yes', 'tag': '#auto', 'id': 'P010567.U12', 'label': 'o ii 2', 'cdl': [{'node': 'd', 'type': 'line-start', 'ref': 'P010567.10', 'n': '2', 'label': 'o ii 2'}, {'node': 'l', 'frag': '{d}e₂-ša₃-an-dul₃-lal₃', 'id': 'P010567.l063c5', 'ref': 'P010567.10.1', 'inst': '%sux:{d}e₂-ša₃-an-dul₃-lal₃=', 'f': {'lang': 'sux', 'form': '{d}e₂-ša₃-an-dul₃-lal₃', 'gdl': [{'det': 'semantic', 'pos': 'pre', 'seq': [{'v': 'd', 'id': 'P010567.10.1.0'}]}, {'v': 'e₂', 'id': 'P010567.10.1.1', 'delim': '-'}, {'v': 'ša₃', 'id': 'P010567.10.1.2', 'delim': '-'}, {'v': 'an', 'id': 'P010567.10.1.3', 'delim': '-'}, {'v': 'dul₃', 'id': 'P010567.10.1.4', 'delim': '-'}, {'v': 'lal₃', 'id': 'P010567.10.1.5'}]}, 'props': [{'name': 'field', 'group': 'env', 'ngram': '-1', 'ref': 'P010567.10.1'}, {'name': 'discourse', 'group': 'env', 'value': 'body', 'ngram': '-1', 'ref': 'P010567.10.1'}]}]}, {'node': 'c', 'type': 'sentence', 'implicit': 'yes', 'tag': '#auto', 'id': 'P010567.U14', 'label': 'o ii 3', 'cdl': [{'node': 'd', 'type': 'line-start', 'ref': 'P010567.11', 'n': '3', 'label': 'o ii 3'}, {'node': 'l', 'frag': '{d}e-lum-⸢šud₃⸣-da', 'id': 'P010567.l063c6', 'ref': 'P010567.11.1', 'inst': '%sux:{d}e-lum-šud₃-da=', 'f': {'lang': 'sux', 'form': '{d}e-lum-šud₃-da', 'gdl': [{'det': 'semantic', 'pos': 'pre', 'seq': [{'v': 'd', 'id': 'P010567.11.1.0'}]}, {'v': 'e', 'id': 'P010567.11.1.1', 'delim': '-'}, {'v': 'lum', 'id': 'P010567.11.1.2', 'delim': '-'}, {'v': 'šud₃', 'id': 'P010567.11.1.3', 'break': 'damaged', 'queried': '1', 'ho': '1', 'delim': '-', 'hc': '1'}, {'v': 'da', 'id': 'P010567.11.1.4'}]}, 'props': [{'name': 'field', 'group': 'env', 'ngram': '-1', 'ref': 'P010567.11.1'}, {'name': 'discourse', 'group': 'env', 'value': 'body', 'ngram': '-1', 'ref': 'P010567.11.1'}]}]}, {'node': 'c', 'type': 'sentence', 'implicit': 'yes', 'tag': '#auto', 'id': 'P010567.U16', 'label': 'o ii 4', 'cdl': [{'node': 'd', 'type': 'line-start', 'ref': 'P010567.12', 'n': '4', 'label': 'o ii 4'}, {'node': 'l', 'frag': '{d}nin-AB-{an}anzuₓ(MI){mušen}', 'id': 'P010567.l063c7', 'ref': 'P010567.12.1', 'inst': '%sux:{d}nin-AB-{an}anzuₓ(MI){mušen}=', 'f': {'lang': 'sux', 'form': '{d}nin-AB-{an}anzuₓ(MI){mušen}', 'gdl': [{'det': 'semantic', 'pos': 'pre', 'seq': [{'v': 'd', 'id': 'P010567.12.1.0'}]}, {'v': 'nin', 'id': 'P010567.12.1.1', 'delim': '-'}, {'s': 'AB', 'id': 'P010567.12.1.2', 'delim': '-'}, {'det': 'semantic', 'pos': 'pre', 'seq': [{'v': 'an', 'id': 'P010567.12.1.3'}]}, {'q': 'anzuₓ(MI)', 'id': 'P010567.12.1.4', 'qualified': [{'v': 'anzuₓ'}, {'s': 'MI'}]}, {'det': 'semantic', 'pos': 'post', 'seq': [{'v': 'mušen', 'id': 'P010567.12.1.5'}]}]}, 'props': [{'name': 'field', 'group': 'env', 'ngram': '-1', 'ref': 'P010567.12.1'}, {'name': 'discourse', 'group': 'env', 'value': 'body', 'ngram': '-1', 'ref': 'P010567.12.1'}]}, {'node': 'd', 'subtype': 'column 3o', 'type': 'column', 'ref': 'P010567.o.iii.13', 'n': '3', 'label': 'o iii'}, {'node': 'd', 'type': 'nonx', 'ref': 'P010567.14', 'strict': '1', 'extent': 'n', 'scope': 'line', 'state': 'blank'}, {'node': 'd', 'subtype': 'reverse', 'type': 'surface', 'ref': 'P010567.r.15', 'label': 'r'}, {'node': 'd', 'type': 'nonx', 'ref': 'P010567.16', 'strict': '1', 'extent': 'n', 'scope': 'line', 'state': 'blank'}]}]}]}]}, 'lang': 'sux'}\n"
     ]
    },
    {
     "ename": "AttributeError",
     "evalue": "'dict' object has no attribute 'text_areas'",
     "output_type": "error",
     "traceback": [
      "\u001b[0;31m---------------------------------------------------------------------------\u001b[0m",
      "\u001b[0;31mAttributeError\u001b[0m                            Traceback (most recent call last)",
      "Input \u001b[0;32mIn [70]\u001b[0m, in \u001b[0;36m<cell line: 17>\u001b[0;34m()\u001b[0m\n\u001b[1;32m     14\u001b[0m                 \u001b[38;5;28;01mif\u001b[39;00m (corpus \u001b[38;5;241m==\u001b[39m \u001b[38;5;124m\"\u001b[39m\u001b[38;5;124mcdli\u001b[39m\u001b[38;5;124m\"\u001b[39m) \u001b[38;5;129;01mand\u001b[39;00m \u001b[38;5;28mlen\u001b[39m(a\u001b[38;5;241m.\u001b[39mlines) \u001b[38;5;241m>\u001b[39m \u001b[38;5;241m0\u001b[39m:\n\u001b[1;32m     15\u001b[0m                     a\u001b[38;5;241m.\u001b[39mlines_to_paragraphs(src_lang, tgt_lang)\n\u001b[0;32m---> 17\u001b[0m \u001b[43mget_needed_translations\u001b[49m\u001b[43m(\u001b[49m\u001b[38;5;124;43m\"\u001b[39;49m\u001b[38;5;124;43msux\u001b[39;49m\u001b[38;5;124;43m\"\u001b[39;49m\u001b[43m)\u001b[49m\n",
      "Input \u001b[0;32mIn [70]\u001b[0m, in \u001b[0;36mget_needed_translations\u001b[0;34m(src_lang, encoding, tgt_lang)\u001b[0m\n\u001b[1;32m     11\u001b[0m     \u001b[38;5;28mprint\u001b[39m(\u001b[38;5;28mtype\u001b[39m(pub))\n\u001b[1;32m     12\u001b[0m     \u001b[38;5;28mprint\u001b[39m(pub)\n\u001b[0;32m---> 13\u001b[0m \u001b[38;5;28;01mfor\u001b[39;00m a \u001b[38;5;129;01min\u001b[39;00m \u001b[43mpub\u001b[49m\u001b[38;5;241;43m.\u001b[39;49m\u001b[43mtext_areas\u001b[49m:\n\u001b[1;32m     14\u001b[0m     \u001b[38;5;28;01mif\u001b[39;00m (corpus \u001b[38;5;241m==\u001b[39m \u001b[38;5;124m\"\u001b[39m\u001b[38;5;124mcdli\u001b[39m\u001b[38;5;124m\"\u001b[39m) \u001b[38;5;129;01mand\u001b[39;00m \u001b[38;5;28mlen\u001b[39m(a\u001b[38;5;241m.\u001b[39mlines) \u001b[38;5;241m>\u001b[39m \u001b[38;5;241m0\u001b[39m:\n\u001b[1;32m     15\u001b[0m         a\u001b[38;5;241m.\u001b[39mlines_to_paragraphs(src_lang, tgt_lang)\n",
      "\u001b[0;31mAttributeError\u001b[0m: 'dict' object has no attribute 'text_areas'"
     ]
    }
   ],
   "source": [
    "def get_needed_translations(src_lang, encoding=\"ascii\", tgt_lang=\"en\"):\n",
    "    pub_ids, cdli_pubs, oracc_pubs = all_transliterated_pubs[src_lang]\n",
    "    corpi = [\"cdli\", \"oracc\"]\n",
    "    for pub_id in tqdm(pub_ids):\n",
    "        for corpus_index, corpus in enumerate(corpi):\n",
    "            pubs = cdli_pubs if corpus_index == 0 else oracc_pubs\n",
    "            if pub_id not in pubs:\n",
    "                continue\n",
    "            pub = pubs[pub_id]\n",
    "            if corpus_index == 1:\n",
    "                print(type(pub))\n",
    "                print(pub)\n",
    "            for a in pub.text_areas:\n",
    "                if (corpus == \"cdli\") and len(a.lines) > 0:\n",
    "                    a.lines_to_paragraphs(src_lang, tgt_lang)\n",
    "    \n",
    "get_needed_translations(\"sux\")"
   ]
  },
  {
   "cell_type": "code",
   "execution_count": null,
   "id": "8ceb6885",
   "metadata": {},
   "outputs": [],
   "source": [
    "def get_corpus_need_translations(corpus_pubs, src_lang, encoding=\"ascii\", tgt_lang=\"en\"):\n",
    "    srcs = set()\n",
    "    translations = []\n",
    "\n",
    "    for corpus, pubs in corpus_pubs:\n",
    "        pubs = [pubs[x] for x in pubs.keys() if pubs[x].language == src_lang]\n",
    "        print(f\"{corpus} {src_lang} with {len(pubs)} translated publications\")\n",
    "        longest_line_len = 0\n",
    "        for pub in tqdm(pubs):\n",
    "            for a in pub.text_areas:\n",
    "                if (corpus == \"cdli\") and len(a.lines) > 0:\n",
    "                    a.lines_to_paragraphs(src_lang, tgt_lang)\n",
    "                for p in a.paragraphs:\n",
    "                    if tgt_lang in p.languages:\n",
    "                        src_lines = [x.text for x in a.lines[p.start_line_index:p.end_line_index]]\n",
    "                        src = \" \".join(src_lines)\n",
    "                        src = languages.remove_blanks(src)\n",
    "                        src = languages.underline_sign_names(src)\n",
    "                        src = languages.dashes_to_dots(src)\n",
    "                        \n",
    "                        src = languages.remove_extraneous_space(src)\n",
    "                        tgt = p.languages[tgt_lang]\n",
    "                        tgt = tgt.replace(\"[\", \"\").replace(\"]\", \"\").replace(\"(\", \"\").replace(\")\", \"\")\n",
    "                        tgt = tgt.replace(\"\\n\", \" \").replace(\"\\t\", \" \")\n",
    "                        tgt = languages.remove_extraneous_space(tgt)\n",
    "                        if len(src) > 0 and languages.target_ok(tgt) and src not in srcs:\n",
    "                            line_len = len(src) + len(tgt)\n",
    "                            longest_line_len = max(line_len, longest_line_len)\n",
    "                            out_line = json.dumps({src_lang:src,tgt_lang:tgt})\n",
    "                            translations.append(out_line)\n",
    "                            srcs.add(src)\n",
    "                            \n",
    "corpi = [(\"cdli\", cdli_pubs), (\"oracc\", oracc_translated_pubs)]\n",
    "    \n",
    "output_translations(corpi, \"akk\")\n",
    "output_translations(corpi, \"sux\")\n"
   ]
  },
  {
   "cell_type": "code",
   "execution_count": 17,
   "id": "dacd9569",
   "metadata": {},
   "outputs": [
    {
     "name": "stdout",
     "output_type": "stream",
     "text": [
      "1 need translation\n",
      "dict_keys(['model_id', 'model_revision', 'akk_to_en', 'sux_to_en'])\n"
     ]
    },
    {
     "data": {
      "application/vnd.jupyter.widget-view+json": {
       "model_id": "86b7825d07e14b3eb7509d6ad89de0c1",
       "version_major": 2,
       "version_minor": 0
      },
      "text/plain": [
       "  0%|          | 0/1 [00:00<?, ?it/s]"
      ]
     },
     "metadata": {},
     "output_type": "display_data"
    }
   ],
   "source": [
    "def get_need_translation():\n",
    "    pubs_to_translate = []\n",
    "    for src_lang in src_langs:\n",
    "        for tgt_lang in tgt_langs:\n",
    "            for p in publications:\n",
    "                if p.language == src_lang and any(tgt_lang in line.languages for a in p.text_areas for line in a.lines):\n",
    "                    pubs_to_translate.append((src_lang, tgt_lang, p))\n",
    "\n",
    "\n",
    "    batch = []\n",
    "    need_translation = [batch]\n",
    "\n",
    "    for (src_lang, tgt_lang, p) in pubs_to_translate:\n",
    "        st_key = f\"{src_lang}_to_{tgt_lang}\"\n",
    "        if st_key not in new_translations:\n",
    "            translations = {}\n",
    "            new_translations[st_key] = translations\n",
    "        else:\n",
    "            translations = new_translations[st_key]\n",
    "        for a in p.text_areas:\n",
    "            for l in a.lines:\n",
    "                if len(l.text) > 0 and l.text not in translations:\n",
    "                    batch.append((src_lang, tgt_lang, l.text))\n",
    "                    if len(batch) == batch_size:\n",
    "                        batch = []\n",
    "                        need_translation.append(batch)\n",
    "    return need_translation\n",
    "\n",
    "need_translation = get_need_translation()\n",
    "\n",
    "print(len(need_translation), \"need translation\")\n",
    "print(new_translations.keys())\n",
    "\n",
    "for batch in tqdm(need_translation):\n",
    "    qs = [f\"translate {languages.all_languages[src_lang]} to {languages.all_languages[tgt_lang]}: \" + text for src_lang, tgt_lang, text in batch]\n",
    "    r = pipeline(qs)\n",
    "    for i, (src_lang, tgt_lang, s) in enumerate(batch):\n",
    "        st_key = f\"{src_lang}_to_{tgt_lang}\"\n",
    "        translations = new_translations[st_key]\n",
    "        t = r[i]['translation_text']\n",
    "#         print(i, s, t)\n",
    "        translations[s] = t"
   ]
  },
  {
   "cell_type": "code",
   "execution_count": 18,
   "id": "1c45ef46",
   "metadata": {},
   "outputs": [
    {
     "name": "stdout",
     "output_type": "stream",
     "text": [
      "50000 sux_to_en translations\n",
      "[('\" [...] = %a [at]-ta', '..'), ('\" [...] ~ [...] = %a [u4]-du-ru-u2', '..'), ('\" [...] ~ [...] = %a szu-ub-tum', '..'), ('\" [...] ~ [...] = %a {d}en-lil2', 'of Enlil'), ('\" [...] ~ |SU.LU.SZE3|# = %a lu-up-pu-um', '..'), ('\" [...] ~ |X.X.LAL| = %a na-du-u2-um', '..'), ('\" [...] ~ |X.X.SI| = %a ku-ur-ku-u2-um', '..'), ('\" [ba]-e# = %a za-zum', '..'), ('\" [ga2-e] = %a [a]-na#?-ku-u2', 'I shall make secure'), ('\" [za-e] = %a at#-ta', 'you')]\n",
      "380004 akk_to_en translations\n",
      "[('# A2    \" x#        ~ A2', '..'), ('# GI    \" x#-x#     ~ GI', '..'), ('# GI4   \" [...]     ~ GI4', '..'), ('# a2    \" [x]-a     ~ A2', '..'), ('# da    \" da-a      ~ DA', '..'), ('# gi    \" gi        ~ GI', '..'), ('# gilim \" gi-li!-im ~ |GI%GI|', 'the reed, the reed, the ...'), ('# kab   \" ka-ab#    ~ KAB', '..'), ('# ki2   \" ki        ~ GI', '..'), ('# si2   \" si        ~ ZI', '..')]\n"
     ]
    }
   ],
   "source": [
    "sample_translations()"
   ]
  },
  {
   "cell_type": "markdown",
   "id": "727c5dec",
   "metadata": {},
   "source": [
    "## Save the Translations"
   ]
  },
  {
   "cell_type": "code",
   "execution_count": 19,
   "id": "e19455b8",
   "metadata": {},
   "outputs": [],
   "source": [
    "def write_translations(f):\n",
    "    f.write(\"{\\n\")\n",
    "    f.write(f\"\\\"model_id\\\":\\\"{model_id}\\\",\\n\")\n",
    "    f.write(f\"\\\"model_revision\\\":\\\"{model_revision}\\\"\")\n",
    "    for st_key in sorted([x for x in new_translations if not x.startswith(\"model_\")]):\n",
    "        f.write(f\",\\n\\\"{st_key}\\\":{{\\n\")\n",
    "        translations = new_translations[st_key]\n",
    "        head = \"\"\n",
    "        for s in sorted(list(translations.keys())):\n",
    "            f.write(head)\n",
    "            f.write(json.dumps(s))\n",
    "            f.write(\": \")\n",
    "            f.write(json.dumps(translations[s]))\n",
    "            head = \",\\n\"\n",
    "        f.write(\"}\")\n",
    "    f.write(\"}\\n\")\n",
    "    \n",
    "# write_translations(sys.stdout)"
   ]
  },
  {
   "cell_type": "code",
   "execution_count": null,
   "id": "0da2e4c9",
   "metadata": {},
   "outputs": [],
   "source": []
  },
  {
   "cell_type": "code",
   "execution_count": 20,
   "id": "00f5c738",
   "metadata": {},
   "outputs": [],
   "source": [
    "with open(output_json_path, \"wt\") as f:\n",
    "    write_translations(f)"
   ]
  },
  {
   "cell_type": "code",
   "execution_count": 21,
   "id": "5f514837",
   "metadata": {},
   "outputs": [
    {
     "name": "stdout",
     "output_type": "stream",
     "text": [
      "total 63108\r\n",
      "drwxrwxr-x 2 fak fak     4096 Jul 21 19:46 .\r\n",
      "drwxrwxr-x 6 fak fak     4096 Jul 20 02:50 ..\r\n",
      "-rw-rw-r-- 1 fak fak 29968338 Jul 21 19:47 ml_translations.json\r\n",
      "-rw-rw-r-- 1 fak fak 34640969 Jul 19 18:54 translations.jsonl\r\n"
     ]
    }
   ],
   "source": [
    "!ls -al ../data"
   ]
  },
  {
   "cell_type": "code",
   "execution_count": 22,
   "id": "99ab2087",
   "metadata": {},
   "outputs": [
    {
     "name": "stdout",
     "output_type": "stream",
     "text": [
      "380004\n",
      "50000\n"
     ]
    }
   ],
   "source": [
    "new_json = json.load(open(output_json_path, \"rt\"))\n",
    "print(len(new_json[\"akk_to_en\"]))\n",
    "print(len(new_json[\"sux_to_en\"]))"
   ]
  },
  {
   "cell_type": "code",
   "execution_count": null,
   "id": "aeb261ff",
   "metadata": {},
   "outputs": [],
   "source": []
  }
 ],
 "metadata": {
  "kernelspec": {
   "display_name": "Python 3 (ipykernel)",
   "language": "python",
   "name": "python3"
  },
  "language_info": {
   "codemirror_mode": {
    "name": "ipython",
    "version": 3
   },
   "file_extension": ".py",
   "mimetype": "text/x-python",
   "name": "python",
   "nbconvert_exporter": "python",
   "pygments_lexer": "ipython3",
   "version": "3.9.4"
  }
 },
 "nbformat": 4,
 "nbformat_minor": 5
}
