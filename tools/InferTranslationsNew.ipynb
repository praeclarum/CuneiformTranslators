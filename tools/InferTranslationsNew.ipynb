{
 "cells": [
  {
   "cell_type": "markdown",
   "id": "4fc91511",
   "metadata": {},
   "source": [
    "# Infer\n",
    "\n",
    "First, make paragraphs from lines (unwrap), then wrap to the limits of the network"
   ]
  },
  {
   "cell_type": "code",
   "execution_count": 6,
   "id": "28f9b8a1",
   "metadata": {},
   "outputs": [],
   "source": [
    "import sys, os, datetime\n",
    "import json\n",
    "import torch\n",
    "import random\n",
    "from tqdm.notebook import tqdm\n",
    "from transformers import AutoTokenizer, AutoModelForSeq2SeqLM, TranslationPipeline\n",
    "import cdli\n",
    "import languages\n",
    "import oracc"
   ]
  },
  {
   "cell_type": "code",
   "execution_count": 7,
   "id": "61d0039e",
   "metadata": {},
   "outputs": [],
   "source": [
    "os.environ[\"TOKENIZERS_PARALLELISM\"] = \"false\""
   ]
  },
  {
   "cell_type": "code",
   "execution_count": 8,
   "id": "982f75d3",
   "metadata": {},
   "outputs": [],
   "source": [
    "src_langs = set([\"akk\", \"sux\"])\n",
    "tgt_langs = set([\"en\"])"
   ]
  },
  {
   "cell_type": "code",
   "execution_count": 9,
   "id": "51b168db",
   "metadata": {},
   "outputs": [],
   "source": [
    "model_id = \"praeclarum/cuneiform\"\n",
    "model_revision = \"1ba74c8dcf6d1839b0a56589a53dfb5c20ca84f2\""
   ]
  },
  {
   "cell_type": "code",
   "execution_count": 10,
   "id": "06d4fcd7",
   "metadata": {},
   "outputs": [],
   "source": [
    "batch_size = 8\n",
    "device = \"cpu\""
   ]
  },
  {
   "cell_type": "markdown",
   "id": "d1616e0d",
   "metadata": {},
   "source": [
    "## Load Existing Translations"
   ]
  },
  {
   "cell_type": "code",
   "execution_count": 11,
   "id": "55e594ba",
   "metadata": {},
   "outputs": [],
   "source": [
    "output_json_path = \"../data/ml_translations.json\""
   ]
  },
  {
   "cell_type": "code",
   "execution_count": 12,
   "id": "388db15d",
   "metadata": {},
   "outputs": [
    {
     "data": {
      "text/plain": [
       "dict_keys(['model_id', 'model_revision', 'akk_to_en', 'sux_to_en'])"
      ]
     },
     "execution_count": 12,
     "metadata": {},
     "output_type": "execute_result"
    }
   ],
   "source": [
    "old_translations = json.loads(str(open(output_json_path, \"rb\").read(), \"utf8\"))\n",
    "old_translations.keys()"
   ]
  },
  {
   "cell_type": "code",
   "execution_count": 13,
   "id": "dbee98ed",
   "metadata": {},
   "outputs": [
    {
     "data": {
      "text/plain": [
       "dict_keys(['model_id', 'model_revision', 'akk_to_en', 'sux_to_en'])"
      ]
     },
     "execution_count": 13,
     "metadata": {},
     "output_type": "execute_result"
    }
   ],
   "source": [
    "new_translations = dict(old_translations)\n",
    "new_translations.keys()"
   ]
  },
  {
   "cell_type": "code",
   "execution_count": 14,
   "id": "b324b1df",
   "metadata": {},
   "outputs": [],
   "source": [
    "def sample_translations():\n",
    "    for s_lang in src_langs:\n",
    "        for t_lang in tgt_langs:\n",
    "            st_key = f\"{s_lang}_to_{t_lang}\"\n",
    "            if st_key in new_translations:\n",
    "                translations = new_translations[st_key]\n",
    "                print(len(translations), f\"{st_key} translations\")\n",
    "                print([(x, translations[x]) for x in translations][:10])"
   ]
  },
  {
   "cell_type": "code",
   "execution_count": 15,
   "id": "d2b84c37",
   "metadata": {},
   "outputs": [
    {
     "name": "stdout",
     "output_type": "stream",
     "text": [
      "50000 sux_to_en translations\n",
      "[('\" [...] = %a [at]-ta', '..'), ('\" [...] ~ [...] = %a [u4]-du-ru-u2', '..'), ('\" [...] ~ [...] = %a szu-ub-tum', '..'), ('\" [...] ~ [...] = %a {d}en-lil2', 'of Enlil'), ('\" [...] ~ |SU.LU.SZE3|# = %a lu-up-pu-um', '..'), ('\" [...] ~ |X.X.LAL| = %a na-du-u2-um', '..'), ('\" [...] ~ |X.X.SI| = %a ku-ur-ku-u2-um', '..'), ('\" [ba]-e# = %a za-zum', '..'), ('\" [ga2-e] = %a [a]-na#?-ku-u2', 'I shall make secure'), ('\" [za-e] = %a at#-ta', 'you')]\n",
      "380004 akk_to_en translations\n",
      "[('# A2    \" x#        ~ A2', '..'), ('# GI    \" x#-x#     ~ GI', '..'), ('# GI4   \" [...]     ~ GI4', '..'), ('# a2    \" [x]-a     ~ A2', '..'), ('# da    \" da-a      ~ DA', '..'), ('# gi    \" gi        ~ GI', '..'), ('# gilim \" gi-li!-im ~ |GI%GI|', 'the reed, the reed, the ...'), ('# kab   \" ka-ab#    ~ KAB', '..'), ('# ki2   \" ki        ~ GI', '..'), ('# si2   \" si        ~ ZI', '..')]\n"
     ]
    }
   ],
   "source": [
    "sample_translations()"
   ]
  },
  {
   "cell_type": "markdown",
   "id": "ada5268c",
   "metadata": {},
   "source": [
    "## Load the Model"
   ]
  },
  {
   "cell_type": "code",
   "execution_count": 16,
   "id": "b41e0d6e",
   "metadata": {},
   "outputs": [
    {
     "data": {
      "application/json": {
       "ascii": false,
       "bar_format": null,
       "colour": null,
       "elapsed": 0.02164292335510254,
       "initial": 0,
       "n": 0,
       "ncols": null,
       "nrows": 24,
       "postfix": null,
       "prefix": "Downloading tokenizer_config.json",
       "rate": null,
       "total": 1923,
       "unit": "B",
       "unit_divisor": 1024,
       "unit_scale": true
      },
      "application/vnd.jupyter.widget-view+json": {
       "model_id": "a724693ae3614324bbda8c5087e69201",
       "version_major": 2,
       "version_minor": 0
      },
      "text/plain": [
       "Downloading tokenizer_config.json:   0%|          | 0.00/1.88k [00:00<?, ?B/s]"
      ]
     },
     "metadata": {},
     "output_type": "display_data"
    },
    {
     "data": {
      "application/json": {
       "ascii": false,
       "bar_format": null,
       "colour": null,
       "elapsed": 0.008053064346313477,
       "initial": 0,
       "n": 0,
       "ncols": null,
       "nrows": 24,
       "postfix": null,
       "prefix": "Downloading tokenizer.json",
       "rate": null,
       "total": 2422095,
       "unit": "B",
       "unit_divisor": 1024,
       "unit_scale": true
      },
      "application/vnd.jupyter.widget-view+json": {
       "model_id": "c30335aadb7346fe8aed06735da70898",
       "version_major": 2,
       "version_minor": 0
      },
      "text/plain": [
       "Downloading tokenizer.json:   0%|          | 0.00/2.31M [00:00<?, ?B/s]"
      ]
     },
     "metadata": {},
     "output_type": "display_data"
    },
    {
     "data": {
      "application/json": {
       "ascii": false,
       "bar_format": null,
       "colour": null,
       "elapsed": 0.008337736129760742,
       "initial": 0,
       "n": 0,
       "ncols": null,
       "nrows": 24,
       "postfix": null,
       "prefix": "Downloading special_tokens_map.json",
       "rate": null,
       "total": 1786,
       "unit": "B",
       "unit_divisor": 1024,
       "unit_scale": true
      },
      "application/vnd.jupyter.widget-view+json": {
       "model_id": "568920a78f1d46fd801bed1aed63ef2d",
       "version_major": 2,
       "version_minor": 0
      },
      "text/plain": [
       "Downloading special_tokens_map.json:   0%|          | 0.00/1.74k [00:00<?, ?B/s]"
      ]
     },
     "metadata": {},
     "output_type": "display_data"
    },
    {
     "data": {
      "text/plain": [
       "256"
      ]
     },
     "execution_count": 16,
     "metadata": {},
     "output_type": "execute_result"
    }
   ],
   "source": [
    "tokenizer = AutoTokenizer.from_pretrained(model_id, revision=model_revision, device=device)\n",
    "model_max_length = tokenizer.model_max_length\n",
    "model_max_length"
   ]
  },
  {
   "cell_type": "code",
   "execution_count": null,
   "id": "fcdfb82a",
   "metadata": {
    "scrolled": true
   },
   "outputs": [
    {
     "data": {
      "application/json": {
       "ascii": false,
       "bar_format": null,
       "colour": null,
       "elapsed": 0.00799703598022461,
       "initial": 0,
       "n": 0,
       "ncols": null,
       "nrows": 24,
       "postfix": null,
       "prefix": "Downloading config.json",
       "rate": null,
       "total": 1424,
       "unit": "B",
       "unit_divisor": 1024,
       "unit_scale": true
      },
      "application/vnd.jupyter.widget-view+json": {
       "model_id": "504c84aa931e40728b368a1b8d777069",
       "version_major": 2,
       "version_minor": 0
      },
      "text/plain": [
       "Downloading config.json:   0%|          | 0.00/1.39k [00:00<?, ?B/s]"
      ]
     },
     "metadata": {},
     "output_type": "display_data"
    },
    {
     "data": {
      "application/json": {
       "ascii": false,
       "bar_format": null,
       "colour": null,
       "elapsed": 0.008124828338623047,
       "initial": 0,
       "n": 0,
       "ncols": null,
       "nrows": 24,
       "postfix": null,
       "prefix": "Downloading pytorch_model.bin",
       "rate": null,
       "total": 891697151,
       "unit": "B",
       "unit_divisor": 1024,
       "unit_scale": true
      },
      "application/vnd.jupyter.widget-view+json": {
       "model_id": "e2ee19f27026495f8e530916761fd19a",
       "version_major": 2,
       "version_minor": 0
      },
      "text/plain": [
       "Downloading pytorch_model.bin:   0%|          | 0.00/850M [00:00<?, ?B/s]"
      ]
     },
     "metadata": {},
     "output_type": "display_data"
    }
   ],
   "source": [
    "model = AutoModelForSeq2SeqLM.from_pretrained(model_id, revision=model_revision, max_length=tokenizer.model_max_length)\n",
    "model = model.to(device)\n",
    "model"
   ]
  },
  {
   "cell_type": "code",
   "execution_count": null,
   "id": "c0902776",
   "metadata": {},
   "outputs": [],
   "source": [
    "pipeline = TranslationPipeline(model=model, tokenizer=tokenizer, device=0)"
   ]
  },
  {
   "cell_type": "code",
   "execution_count": null,
   "id": "13b57bda",
   "metadata": {},
   "outputs": [],
   "source": [
    "print(pipeline(\"translate Akkadian to English: 1(disz){d}szul3-ma-nu-_sag man gal?_-u2 _man_ dan-nu _man kisz_\"))\n",
    "print(pipeline(\"translate Akkadian to English: ra-bi-isz e-pu-usz\"))"
   ]
  },
  {
   "cell_type": "markdown",
   "id": "31c42721",
   "metadata": {},
   "source": [
    "## Load Transliterations to Translate"
   ]
  },
  {
   "cell_type": "code",
   "execution_count": 19,
   "id": "cb9aed03",
   "metadata": {},
   "outputs": [],
   "source": []
  },
  {
   "cell_type": "code",
   "execution_count": null,
   "id": "9af29ebd",
   "metadata": {},
   "outputs": [],
   "source": [
    "oracc_dir = os.path.abspath(f\"/Volumes/FrankDisk/oracc_zips\")\n",
    "oracc_dir"
   ]
  },
  {
   "cell_type": "code",
   "execution_count": 15,
   "id": "a3c0593b",
   "metadata": {},
   "outputs": [
    {
     "name": "stdout",
     "output_type": "stream",
     "text": [
      "Downloading https://github.com/cdli-gh/data/raw/master/cdliatf_unblocked.atf\n",
      "Parsing atf\n"
     ]
    },
    {
     "data": {
      "text/plain": [
       "134710"
      ]
     },
     "execution_count": 15,
     "metadata": {},
     "output_type": "execute_result"
    }
   ],
   "source": [
    "publications = cdli.get_atf()\n",
    "len(publications)"
   ]
  },
  {
   "cell_type": "code",
   "execution_count": 16,
   "id": "a46d47a4",
   "metadata": {},
   "outputs": [
    {
     "data": {
      "text/plain": [
       "Publication('P005633', 'qpc', [TextArea('obverse', []), TextArea('column 1', [TextLine('1.', '1(N14) , GAR', {}), TextLine('2.', '1(N01@f) , KASZ~a SZE~a', {}), TextLine('3.', ', TU~b GU4 A', {})])])"
      ]
     },
     "execution_count": 16,
     "metadata": {},
     "output_type": "execute_result"
    }
   ],
   "source": [
    "publications[5000]"
   ]
  },
  {
   "cell_type": "code",
   "execution_count": 17,
   "id": "dacd9569",
   "metadata": {},
   "outputs": [
    {
     "name": "stdout",
     "output_type": "stream",
     "text": [
      "1 need translation\n",
      "dict_keys(['model_id', 'model_revision', 'akk_to_en', 'sux_to_en'])\n"
     ]
    },
    {
     "data": {
      "application/vnd.jupyter.widget-view+json": {
       "model_id": "86b7825d07e14b3eb7509d6ad89de0c1",
       "version_major": 2,
       "version_minor": 0
      },
      "text/plain": [
       "  0%|          | 0/1 [00:00<?, ?it/s]"
      ]
     },
     "metadata": {},
     "output_type": "display_data"
    }
   ],
   "source": [
    "def get_need_translation():\n",
    "    pubs_to_translate = []\n",
    "    for src_lang in src_langs:\n",
    "        for tgt_lang in tgt_langs:\n",
    "            for p in publications:\n",
    "                if p.language == src_lang and any(tgt_lang in line.languages for a in p.text_areas for line in a.lines):\n",
    "                    pubs_to_translate.append((src_lang, tgt_lang, p))\n",
    "\n",
    "\n",
    "    batch = []\n",
    "    need_translation = [batch]\n",
    "\n",
    "    for (src_lang, tgt_lang, p) in pubs_to_translate:\n",
    "        st_key = f\"{src_lang}_to_{tgt_lang}\"\n",
    "        if st_key not in new_translations:\n",
    "            translations = {}\n",
    "            new_translations[st_key] = translations\n",
    "        else:\n",
    "            translations = new_translations[st_key]\n",
    "        for a in p.text_areas:\n",
    "            for l in a.lines:\n",
    "                if len(l.text) > 0 and l.text not in translations:\n",
    "                    batch.append((src_lang, tgt_lang, l.text))\n",
    "                    if len(batch) == batch_size:\n",
    "                        batch = []\n",
    "                        need_translation.append(batch)\n",
    "    return need_translation\n",
    "\n",
    "need_translation = get_need_translation()\n",
    "\n",
    "print(len(need_translation), \"need translation\")\n",
    "print(new_translations.keys())\n",
    "\n",
    "for batch in tqdm(need_translation):\n",
    "    qs = [f\"translate {languages.all_languages[src_lang]} to {languages.all_languages[tgt_lang]}: \" + text for src_lang, tgt_lang, text in batch]\n",
    "    r = pipeline(qs)\n",
    "    for i, (src_lang, tgt_lang, s) in enumerate(batch):\n",
    "        st_key = f\"{src_lang}_to_{tgt_lang}\"\n",
    "        translations = new_translations[st_key]\n",
    "        t = r[i]['translation_text']\n",
    "#         print(i, s, t)\n",
    "        translations[s] = t"
   ]
  },
  {
   "cell_type": "code",
   "execution_count": 18,
   "id": "1c45ef46",
   "metadata": {},
   "outputs": [
    {
     "name": "stdout",
     "output_type": "stream",
     "text": [
      "50000 sux_to_en translations\n",
      "[('\" [...] = %a [at]-ta', '..'), ('\" [...] ~ [...] = %a [u4]-du-ru-u2', '..'), ('\" [...] ~ [...] = %a szu-ub-tum', '..'), ('\" [...] ~ [...] = %a {d}en-lil2', 'of Enlil'), ('\" [...] ~ |SU.LU.SZE3|# = %a lu-up-pu-um', '..'), ('\" [...] ~ |X.X.LAL| = %a na-du-u2-um', '..'), ('\" [...] ~ |X.X.SI| = %a ku-ur-ku-u2-um', '..'), ('\" [ba]-e# = %a za-zum', '..'), ('\" [ga2-e] = %a [a]-na#?-ku-u2', 'I shall make secure'), ('\" [za-e] = %a at#-ta', 'you')]\n",
      "380004 akk_to_en translations\n",
      "[('# A2    \" x#        ~ A2', '..'), ('# GI    \" x#-x#     ~ GI', '..'), ('# GI4   \" [...]     ~ GI4', '..'), ('# a2    \" [x]-a     ~ A2', '..'), ('# da    \" da-a      ~ DA', '..'), ('# gi    \" gi        ~ GI', '..'), ('# gilim \" gi-li!-im ~ |GI%GI|', 'the reed, the reed, the ...'), ('# kab   \" ka-ab#    ~ KAB', '..'), ('# ki2   \" ki        ~ GI', '..'), ('# si2   \" si        ~ ZI', '..')]\n"
     ]
    }
   ],
   "source": [
    "sample_translations()"
   ]
  },
  {
   "cell_type": "markdown",
   "id": "727c5dec",
   "metadata": {},
   "source": [
    "## Save the Translations"
   ]
  },
  {
   "cell_type": "code",
   "execution_count": 19,
   "id": "e19455b8",
   "metadata": {},
   "outputs": [],
   "source": [
    "def write_translations(f):\n",
    "    f.write(\"{\\n\")\n",
    "    f.write(f\"\\\"model_id\\\":\\\"{model_id}\\\",\\n\")\n",
    "    f.write(f\"\\\"model_revision\\\":\\\"{model_revision}\\\"\")\n",
    "    for st_key in sorted([x for x in new_translations if not x.startswith(\"model_\")]):\n",
    "        f.write(f\",\\n\\\"{st_key}\\\":{{\\n\")\n",
    "        translations = new_translations[st_key]\n",
    "        head = \"\"\n",
    "        for s in sorted(list(translations.keys())):\n",
    "            f.write(head)\n",
    "            f.write(json.dumps(s))\n",
    "            f.write(\": \")\n",
    "            f.write(json.dumps(translations[s]))\n",
    "            head = \",\\n\"\n",
    "        f.write(\"}\")\n",
    "    f.write(\"}\\n\")\n",
    "    \n",
    "# write_translations(sys.stdout)"
   ]
  },
  {
   "cell_type": "code",
   "execution_count": null,
   "id": "0da2e4c9",
   "metadata": {},
   "outputs": [],
   "source": []
  },
  {
   "cell_type": "code",
   "execution_count": 20,
   "id": "00f5c738",
   "metadata": {},
   "outputs": [],
   "source": [
    "with open(output_json_path, \"wt\") as f:\n",
    "    write_translations(f)"
   ]
  },
  {
   "cell_type": "code",
   "execution_count": 21,
   "id": "5f514837",
   "metadata": {},
   "outputs": [
    {
     "name": "stdout",
     "output_type": "stream",
     "text": [
      "total 63108\r\n",
      "drwxrwxr-x 2 fak fak     4096 Jul 21 19:46 .\r\n",
      "drwxrwxr-x 6 fak fak     4096 Jul 20 02:50 ..\r\n",
      "-rw-rw-r-- 1 fak fak 29968338 Jul 21 19:47 ml_translations.json\r\n",
      "-rw-rw-r-- 1 fak fak 34640969 Jul 19 18:54 translations.jsonl\r\n"
     ]
    }
   ],
   "source": [
    "!ls -al ../data"
   ]
  },
  {
   "cell_type": "code",
   "execution_count": 22,
   "id": "99ab2087",
   "metadata": {},
   "outputs": [
    {
     "name": "stdout",
     "output_type": "stream",
     "text": [
      "380004\n",
      "50000\n"
     ]
    }
   ],
   "source": [
    "new_json = json.load(open(output_json_path, \"rt\"))\n",
    "print(len(new_json[\"akk_to_en\"]))\n",
    "print(len(new_json[\"sux_to_en\"]))"
   ]
  },
  {
   "cell_type": "code",
   "execution_count": null,
   "id": "aeb261ff",
   "metadata": {},
   "outputs": [],
   "source": []
  }
 ],
 "metadata": {
  "kernelspec": {
   "display_name": "Python 3 (ipykernel)",
   "language": "python",
   "name": "python3"
  },
  "language_info": {
   "codemirror_mode": {
    "name": "ipython",
    "version": 3
   },
   "file_extension": ".py",
   "mimetype": "text/x-python",
   "name": "python",
   "nbconvert_exporter": "python",
   "pygments_lexer": "ipython3",
   "version": "3.9.4"
  }
 },
 "nbformat": 4,
 "nbformat_minor": 5
}
