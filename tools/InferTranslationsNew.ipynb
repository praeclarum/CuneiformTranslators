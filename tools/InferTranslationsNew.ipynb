{
 "cells": [
  {
   "cell_type": "markdown",
   "id": "4fc91511",
   "metadata": {},
   "source": [
    "# Infer\n",
    "\n",
    "First, make paragraphs from lines (unwrap), then wrap to the limits of the network"
   ]
  },
  {
   "cell_type": "code",
   "execution_count": 1,
   "id": "28f9b8a1",
   "metadata": {},
   "outputs": [
    {
     "name": "stderr",
     "output_type": "stream",
     "text": [
      "2023-06-05 12:15:44.508388: I tensorflow/core/platform/cpu_feature_guard.cc:193] This TensorFlow binary is optimized with oneAPI Deep Neural Network Library (oneDNN) to use the following CPU instructions in performance-critical operations:  AVX2 FMA\n",
      "To enable them in other operations, rebuild TensorFlow with the appropriate compiler flags.\n",
      "2023-06-05 12:15:45.165977: E tensorflow/stream_executor/cuda/cuda_blas.cc:2981] Unable to register cuBLAS factory: Attempting to register factory for plugin cuBLAS when one has already been registered\n",
      "2023-06-05 12:15:46.257469: W tensorflow/stream_executor/platform/default/dso_loader.cc:64] Could not load dynamic library 'libnvinfer.so.7'; dlerror: libnvinfer.so.7: cannot open shared object file: No such file or directory; LD_LIBRARY_PATH: /usr/local/cuda-11.7/lib64:\n",
      "2023-06-05 12:15:46.257577: W tensorflow/stream_executor/platform/default/dso_loader.cc:64] Could not load dynamic library 'libnvinfer_plugin.so.7'; dlerror: libnvinfer_plugin.so.7: cannot open shared object file: No such file or directory; LD_LIBRARY_PATH: /usr/local/cuda-11.7/lib64:\n",
      "2023-06-05 12:15:46.257582: W tensorflow/compiler/tf2tensorrt/utils/py_utils.cc:38] TF-TRT Warning: Cannot dlopen some TensorRT libraries. If you would like to use Nvidia GPU with TensorRT, please make sure the missing libraries mentioned above are installed properly.\n"
     ]
    }
   ],
   "source": [
    "import sys, os, datetime\n",
    "import json\n",
    "import torch\n",
    "import random\n",
    "from tqdm.notebook import tqdm\n",
    "from transformers import AutoTokenizer, AutoModelForSeq2SeqLM, TranslationPipeline\n",
    "from collections import defaultdict\n",
    "import zipfile"
   ]
  },
  {
   "cell_type": "code",
   "execution_count": 2,
   "id": "5bb5e83b",
   "metadata": {},
   "outputs": [],
   "source": [
    "import languages"
   ]
  },
  {
   "cell_type": "code",
   "execution_count": 3,
   "id": "61d0039e",
   "metadata": {},
   "outputs": [],
   "source": [
    "os.environ[\"TOKENIZERS_PARALLELISM\"] = \"false\""
   ]
  },
  {
   "cell_type": "code",
   "execution_count": 4,
   "id": "982f75d3",
   "metadata": {},
   "outputs": [],
   "source": [
    "src_langs = set([\"akk\", \"sux\"])\n",
    "tgt_langs = set([\"en\"])"
   ]
  },
  {
   "cell_type": "code",
   "execution_count": 5,
   "id": "51b168db",
   "metadata": {},
   "outputs": [],
   "source": [
    "model_id = \"praeclarum/cuneiform\"\n",
    "# model_revision = \"1ba74c8dcf6d1839b0a56589a53dfb5c20ca84f2\"\n",
    "model_revision = \"7a60be19efe61bf4adf873eb86f864ea7bfb4876\""
   ]
  },
  {
   "cell_type": "code",
   "execution_count": 6,
   "id": "06d4fcd7",
   "metadata": {},
   "outputs": [],
   "source": [
    "batch_size = 16\n",
    "device = \"cuda\" if torch.has_cuda else \"cpu\"\n",
    "device_id = 0 if device == \"cuda\" else -1"
   ]
  },
  {
   "cell_type": "code",
   "execution_count": 7,
   "id": "1ec28e75",
   "metadata": {},
   "outputs": [
    {
     "name": "stdout",
     "output_type": "stream",
     "text": [
      "Mon Jun  5 12:15:52 2023       \n",
      "+-----------------------------------------------------------------------------+\n",
      "| NVIDIA-SMI 515.105.01   Driver Version: 515.105.01   CUDA Version: 11.7     |\n",
      "|-------------------------------+----------------------+----------------------+\n",
      "| GPU  Name        Persistence-M| Bus-Id        Disp.A | Volatile Uncorr. ECC |\n",
      "| Fan  Temp  Perf  Pwr:Usage/Cap|         Memory-Usage | GPU-Util  Compute M. |\n",
      "|                               |                      |               MIG M. |\n",
      "|===============================+======================+======================|\n",
      "|   0  NVIDIA GeForce ...  On   | 00000000:01:00.0  On |                  N/A |\n",
      "|  0%   33C    P8    19W / 350W |    451MiB / 24576MiB |      0%      Default |\n",
      "|                               |                      |                  N/A |\n",
      "+-------------------------------+----------------------+----------------------+\n",
      "                                                                               \n",
      "+-----------------------------------------------------------------------------+\n",
      "| Processes:                                                                  |\n",
      "|  GPU   GI   CI        PID   Type   Process name                  GPU Memory |\n",
      "|        ID   ID                                                   Usage      |\n",
      "|=============================================================================|\n",
      "|    0   N/A  N/A      1109      G   /usr/lib/xorg/Xorg                 70MiB |\n",
      "|    0   N/A  N/A      1354    C+G   ...ome-remote-desktop-daemon      255MiB |\n",
      "|    0   N/A  N/A      1390      G   /usr/bin/gnome-shell              121MiB |\n",
      "+-----------------------------------------------------------------------------+\n"
     ]
    }
   ],
   "source": [
    "!nvidia-smi"
   ]
  },
  {
   "cell_type": "markdown",
   "id": "d1616e0d",
   "metadata": {},
   "source": [
    "## Load Existing Translations"
   ]
  },
  {
   "cell_type": "code",
   "execution_count": 8,
   "id": "55e594ba",
   "metadata": {},
   "outputs": [],
   "source": [
    "output_json_path = \"../data/ml_translations.json\"\n",
    "output_zip_path = output_json_path.replace(\".json\", \".zip\")"
   ]
  },
  {
   "cell_type": "code",
   "execution_count": 9,
   "id": "388db15d",
   "metadata": {},
   "outputs": [
    {
     "data": {
      "text/plain": [
       "553291"
      ]
     },
     "execution_count": 9,
     "metadata": {},
     "output_type": "execute_result"
    }
   ],
   "source": [
    "with open(output_zip_path, \"rb\") as zipf:\n",
    "    with zipfile.ZipFile(zipf) as zf:\n",
    "        name = [x for x in zf.namelist() if x.endswith(\".json\")][0]\n",
    "        with zf.open(name) as f:\n",
    "            old_translations = json.loads(str(f.read(), \"utf8\"))\n",
    "old_translations.keys()\n",
    "len(old_translations[\"sux_to_en\"])"
   ]
  },
  {
   "cell_type": "code",
   "execution_count": 10,
   "id": "dbee98ed",
   "metadata": {},
   "outputs": [
    {
     "data": {
      "text/plain": [
       "dict_keys(['model_id', 'model_revision', 'akk_to_en', 'sux_to_en'])"
      ]
     },
     "execution_count": 10,
     "metadata": {},
     "output_type": "execute_result"
    }
   ],
   "source": [
    "new_translations = dict(old_translations)\n",
    "new_translations.keys()\n"
   ]
  },
  {
   "cell_type": "code",
   "execution_count": 11,
   "id": "a8d6be6c",
   "metadata": {},
   "outputs": [],
   "source": [
    "if new_translations[\"model_revision\"] != model_revision:\n",
    "    print(\"Clearing defunct translations\")\n",
    "    for s_lang in src_langs:\n",
    "        for t_lang in tgt_langs:\n",
    "            st_key = f\"{s_lang}_to_{t_lang}\"\n",
    "            new_translations[st_key] = {}"
   ]
  },
  {
   "cell_type": "code",
   "execution_count": 12,
   "id": "b324b1df",
   "metadata": {},
   "outputs": [],
   "source": [
    "def sample_translations():\n",
    "    for s_lang in src_langs:\n",
    "        for t_lang in tgt_langs:\n",
    "            st_key = f\"{s_lang}_to_{t_lang}\"\n",
    "            if st_key in new_translations:\n",
    "                translations = new_translations[st_key]\n",
    "                print(len(translations), f\"{st_key} translations\")\n",
    "                print([(x, translations[x]) for x in translations][:10])"
   ]
  },
  {
   "cell_type": "code",
   "execution_count": 13,
   "id": "d2b84c37",
   "metadata": {},
   "outputs": [
    {
     "name": "stdout",
     "output_type": "stream",
     "text": [
      "553291 sux_to_en translations\n",
      "[('\" [...] ~ [...] = %a [u4]-du-ru-u2 \" [...] ~ [...] = %a {d}en-lil2 \" [...] ~ [...] = %a szu-ub-tum', '... ... ... ...'), ('\" [...] ~ |_x-x-lal_| = %a na-du-u2-um \" [...] ~ |_x-x-si_| = %a ku-ur-ku-u2-um \" [...] ~ |_su-lu-sze3_|# = %a lu-up-pu-um', '... ... ... ... ...'), ('\" [ba]-e# = %a za-zum \" [za-e] = %a at#-ta \" [ga2-e] = %a [a]-na#?-ku-u2 \" [...] = %a [at]-ta', 'you are'), ('# \" ~ _munsub #_ \" ~ _alan# #_ \" ~ _alan #_ \" ~ |_masz-gu2-gar3_| # zubx(|_masz-gu2-gar3_|) \" zu-ub ~ |_masz-gu2-gar3_| = %a zu-bu-um', 'a kind of acquatic animal a kind of insect a kind of insect a kind of insect a kind of insect a kind of insect a kind of insect a kind of insect a kind of insect a kind of insect a kind of insect a kind of insect a kind of insect a kind of insect a kind of insect a kind of insect a kind of insect a kind of insect a kind of insect a kind of insect a kind of insect a kind of insect a kind of insect a kind of insect a kind of insect a kind of insect a kind of insect a kind of insect a kind of insect a kind of insect a kind of insect a kind of insect a kind of insect a kind of insect a kind of insect a kind of insect a kind of insect a kind of insect a kind of insect a kind of insect a kind of insect a kind of insect a kind of insect a kind of insect a kind of insect a kind of insect a kind of insect a kind of insect a kind of insect a kind of insect a kind of insect a kind of insect a kind of insect a kind of insect a kind of insect a kind of insect a kind of insect a kind of insect a kind of insect a kind of insect a kind of insect a kind of insect a kind of insect a kind of insect a kind of insect a kind of insect a kind of insect a kind of insect a kind of insect a kind of insect a kind of insect a kind of insect a kind of insect a kind of insect a kind of insect a kind of insect a kind of insect a kind of insect a kind of insect a kind of insect a kind of insect a kind of insect a kind of insect a kind of insect a kind of insect a kind of insect a kind of insect a kind of insect a feces a feces a feces a feces a feces a feces a feces a feces a feces a feces a feces'), ('# \" ~ _tu #_ \" ~ |_sze-nun&nun_| # \" ~ _naga #_ \" ~ _szinig #_ \" ~ |_igi-naga_| # \" ~ _in #_ \" ~ |_sze-ab2_xTAB| # \" ~ |_sze-ab2_xGUD| # \" ~ _sar_', '... ... ... ... ... ... ... ... ... ...'), ('# \" ~ |_lal2_xSAR| # \" ~ |_u2-sar_| # \" ~ _sar_', 'a kind of plant'), ('# %e szuba2 ~ = %a re#-ia-um # %e szuba2 ~ = %a {d}da-mu # nir7 ~ |_za_-gin2@g| = %a hu#-la-lum', 'a kind of acquatic animal a kind of acquatic animal a kind of acquatic animal a kind of acquatic animal a kind of acquatic animal'), ('# <(u3)> ku \" ~ = %a s,a-la-lum # ku \" ~ = %a s,a-la-pu-um', 'a kind of acquatic animal'), ('# = %a ru-ub-bu-u2 # e3 ~ = %a e-ru-u2-um # e3 ~ = %a a-ma-<<x>>-rum', 'to go out to go out to'), ('# = %a szu-pu-u2-um # e3 ~ = %a sza-ka-kum # e3 ~ = %a za-qa2-nu-um', 'to go out to go out to be a part of the throne')]\n",
      "293029 akk_to_en translations\n",
      "[('# _gi_ \" x#-x# ~ _gi # gi4_ \" [...] ~ _gi4 #_ gilim \" gi-li!-im ~ |_gi_%_gi_| # kab \" ka-ab# ~ _kab #_ da \" da-a ~ _da_', 'reed reed reed reed reed reed reed reed reed reed reed reed reed reed reed reed reed reed reed reed reed reed reed reed reed reed reed reed reed reed reed reed reed reed reed reed reed reed reed reed reed reed reed reed reed reed reed reed reed reed reed reed reed reed reed reed reed reed reed reed reed reed reed reed reed reed reed reed reed reed reed reed reed reed reed reed reed reed reed reed reed reed reed reed reed reed reed reed reed reed reed reed reed reed reed reed reed reed reed reed reed reed reed reed reed reed reed reed reed reed reed reed reed reed reed reed reed reed reed reed reed reed reed reed reed reed reed ree'), ('# a2 \" [x]-a ~ _a2 # a2_ \" x# ~ _a2_', '... ... ... ... ... ...'), ('# zi \" zi ~ _zi #_ zi \" zi-i ~ _zi #_ si2 \" si ~ _zi #_ gi \" gi ~ _gi #_ ki2 \" ki ~ _gi_', 'a kind of reed ... a kind of reed ... a kind of reed ... a kind of reed ... a kind of reed ... a kind of reed ... a kind of reed ... a kind of reed'), ('%arc prsz', 'a kind of stag'), ('%hu za-ak-ku %akk sza te-e-szi# [...] x sza _si_ sza _ku3#?-sig17#?_ u2#-ku#-[ri-sza ...] u3# ur-u2-da2-szu sza# _si_ [...]', 'a ... of ... ... of gold ... and its city-wall of ... ...'), ('%s u4# 2(u)? 6(disz)? <kam>', 'the 26th? day'), ('%s {d}nidaba _ka_ diri#? {d}marduk pa-t,e-er e-il#-ti {d}marduk pa-ni {d}marduk i#?-na %s e2-sag-il2 %a lu!-mur!(_hi_)', \"'May I see Nidaba, the surpassing one of Marduk, the one who is entrusted with the oath of Marduk, before Marduk, in the Esagil.\"), ('%xhu su2-us-su2-la-ah-hu sza _zabar-mesz_ sza e2-kal2-li3 [i]-na#* _szu_ {disz}i-[ri]-bi#-_dingir_ _lu2 dam#-[gar3]_', '... of bronze ... of the storehouse, from Irib-il, the merchant.'), ('%xhu szu-u2-li sza _kak-tag2-ga5_ szi-la-an-nu sza esz-szu sza e2-kal2-li3 sza {iri}nu-zi a-na _szu_-ti', '... of the ... of the ..., the ilannu of the new building of the Kallu of Nuzi, into the hands'), ('& & & & & ha-de-a-me-er#-[{d}utu]', '... ade-amer-ama')]\n"
     ]
    }
   ],
   "source": [
    "sample_translations()"
   ]
  },
  {
   "cell_type": "markdown",
   "id": "ada5268c",
   "metadata": {},
   "source": [
    "## Load the Model"
   ]
  },
  {
   "cell_type": "code",
   "execution_count": 14,
   "id": "b41e0d6e",
   "metadata": {},
   "outputs": [
    {
     "data": {
      "text/plain": [
       "512"
      ]
     },
     "execution_count": 14,
     "metadata": {},
     "output_type": "execute_result"
    }
   ],
   "source": [
    "tokenizer = AutoTokenizer.from_pretrained(model_id, revision=model_revision, device=device)\n",
    "model_max_length = tokenizer.model_max_length\n",
    "model_max_length"
   ]
  },
  {
   "cell_type": "code",
   "execution_count": 15,
   "id": "fcdfb82a",
   "metadata": {
    "scrolled": false
   },
   "outputs": [],
   "source": [
    "model = AutoModelForSeq2SeqLM.from_pretrained(model_id, revision=model_revision, max_length=tokenizer.model_max_length)\n",
    "model = model.to(device)\n",
    "# model"
   ]
  },
  {
   "cell_type": "code",
   "execution_count": 16,
   "id": "c0902776",
   "metadata": {},
   "outputs": [],
   "source": [
    "pipeline = TranslationPipeline(model=model, tokenizer=tokenizer, batch_size=batch_size, device=device_id)"
   ]
  },
  {
   "cell_type": "code",
   "execution_count": 17,
   "id": "13b57bda",
   "metadata": {},
   "outputs": [
    {
     "name": "stdout",
     "output_type": "stream",
     "text": [
      "[{'translation_text': 'ulmanu-re, great king, strong king, king of the universe,'}]\n",
      "[{'translation_text': 'I built it anew.'}]\n"
     ]
    }
   ],
   "source": [
    "print(pipeline(\"translate Akkadian to English: 1(disz){d}szul3-ma-nu-_sag man gal?_-u2 _man_ dan-nu _man kisz_\"))\n",
    "print(pipeline(\"translate Akkadian to English: ra-bi-isz e-pu-usz\"))"
   ]
  },
  {
   "cell_type": "markdown",
   "id": "31c42721",
   "metadata": {},
   "source": [
    "## Load Transliterations to Translate"
   ]
  },
  {
   "cell_type": "code",
   "execution_count": 18,
   "id": "1b7bf11a",
   "metadata": {},
   "outputs": [],
   "source": [
    "import corpi\n",
    "import cdli"
   ]
  },
  {
   "cell_type": "code",
   "execution_count": 19,
   "id": "09b649ac",
   "metadata": {},
   "outputs": [
    {
     "data": {
      "text/plain": [
       "<module 'corpi' from '/home/fak/Projects/CuneiformTranslators/tools/corpi.py'>"
      ]
     },
     "execution_count": 19,
     "metadata": {},
     "output_type": "execute_result"
    }
   ],
   "source": [
    "import importlib\n",
    "importlib.reload(corpi)"
   ]
  },
  {
   "cell_type": "markdown",
   "id": "37377b14",
   "metadata": {},
   "source": [
    "## Load ORACC"
   ]
  },
  {
   "cell_type": "code",
   "execution_count": 20,
   "id": "8cce8c25",
   "metadata": {},
   "outputs": [
    {
     "data": {
      "text/plain": [
       "<module 'cdli' from '/home/fak/Projects/CuneiformTranslators/tools/cdli.py'>"
      ]
     },
     "execution_count": 20,
     "metadata": {},
     "output_type": "execute_result"
    }
   ],
   "source": [
    "importlib.reload(cdli)"
   ]
  },
  {
   "cell_type": "code",
   "execution_count": 21,
   "id": "9af29ebd",
   "metadata": {},
   "outputs": [
    {
     "data": {
      "text/plain": [
       "'/Volumes/FrankDisk/oracc_zips'"
      ]
     },
     "execution_count": 21,
     "metadata": {},
     "output_type": "execute_result"
    }
   ],
   "source": [
    "oracc_dir = os.path.abspath(f\"/Volumes/FrankDisk/oracc_zips\")\n",
    "# oracc_dir = os.path.abspath(f\"/home/fak/nn/Data/oracc_zips\")\n",
    "oracc_dir"
   ]
  },
  {
   "cell_type": "code",
   "execution_count": 22,
   "id": "381f9736",
   "metadata": {},
   "outputs": [],
   "source": [
    "oracc_corpus = corpi.ORACC(oracc_dir)"
   ]
  },
  {
   "cell_type": "markdown",
   "id": "a86545b0",
   "metadata": {},
   "source": [
    "## Load CDLI"
   ]
  },
  {
   "cell_type": "code",
   "execution_count": 23,
   "id": "a3c0593b",
   "metadata": {},
   "outputs": [],
   "source": [
    "cdli_corpus = corpi.CDLI()"
   ]
  },
  {
   "cell_type": "markdown",
   "id": "ec678bcc",
   "metadata": {},
   "source": [
    "## Find just the transliterations"
   ]
  },
  {
   "cell_type": "code",
   "execution_count": 24,
   "id": "859790ba",
   "metadata": {},
   "outputs": [
    {
     "name": "stdout",
     "output_type": "stream",
     "text": [
      "sux 103075\n",
      "akk 31747\n"
     ]
    }
   ],
   "source": [
    "def get_all_transliterated_pubs(src_lang):\n",
    "    transliterated_cdli_index = cdli_corpus.get_pubs_with_lang(src_lang)\n",
    "    transliterated_cdli_ids = set(transliterated_cdli_index.keys())\n",
    "    transliterated_oracc_index = oracc_corpus.get_pubs_with_lang(src_lang)\n",
    "    transliterated_oracc_ids = set(transliterated_oracc_index.keys())\n",
    "    all_ids = set(transliterated_oracc_ids)\n",
    "    all_ids = all_ids.union(transliterated_cdli_ids)\n",
    "    return all_ids, transliterated_cdli_index, transliterated_oracc_index\n",
    "\n",
    "all_transliterated_pubs = {\n",
    "    \"sux\": get_all_transliterated_pubs(\"sux\"),\n",
    "    \"akk\": get_all_transliterated_pubs(\"akk\")\n",
    "}\n",
    "print(\"sux\", len(all_transliterated_pubs[\"sux\"][0]))\n",
    "print(\"akk\", len(all_transliterated_pubs[\"akk\"][0]))"
   ]
  },
  {
   "cell_type": "markdown",
   "id": "44291a7f",
   "metadata": {},
   "source": [
    "## Build Need Translation List"
   ]
  },
  {
   "cell_type": "code",
   "execution_count": 25,
   "id": "8ceb6885",
   "metadata": {},
   "outputs": [
    {
     "data": {
      "application/vnd.jupyter.widget-view+json": {
       "model_id": "0ab4b393f46e4749a81e0f074f56fa77",
       "version_major": 2,
       "version_minor": 0
      },
      "text/plain": [
       "  0%|          | 0/103075 [00:00<?, ?it/s]"
      ]
     },
     "metadata": {},
     "output_type": "display_data"
    },
    {
     "name": "stdout",
     "output_type": "stream",
     "text": [
      "sux max line length 458\n"
     ]
    },
    {
     "data": {
      "application/vnd.jupyter.widget-view+json": {
       "model_id": "01bbbc52bc4f41f9a61a39296b4d1355",
       "version_major": 2,
       "version_minor": 0
      },
      "text/plain": [
       "  0%|          | 0/31747 [00:00<?, ?it/s]"
      ]
     },
     "metadata": {},
     "output_type": "display_data"
    },
    {
     "name": "stdout",
     "output_type": "stream",
     "text": [
      "akk max line length 522\n",
      "524319 sux needs translation\n",
      "275751 akk needs translation\n"
     ]
    }
   ],
   "source": [
    "def get_need_translations(src_lang, encoding=\"ascii\", tgt_lang=\"en\"):\n",
    "    srcs = set()\n",
    "\n",
    "    pub_ids, transliterated_cdli_index, transliterated_oracc_index = all_transliterated_pubs[src_lang]\n",
    "    max_line_length = 0\n",
    "\n",
    "    for pub_id in tqdm(pub_ids):\n",
    "        corpus = \"cdli\" if pub_id in transliterated_cdli_index else \"oracc\"\n",
    "        if corpus == \"cdli\":\n",
    "            pub = transliterated_cdli_index[pub_id]\n",
    "        else:\n",
    "            # print(pub_id, \"in oracc\")\n",
    "            pub = transliterated_oracc_index[pub_id]\n",
    "        for a in pub.text_areas:\n",
    "            if (corpus == \"cdli\") and len(a.lines) > 0 and len(a.paragraphs) == 0:\n",
    "                a.lines_to_paragraphs(src_lang, tgt_lang)\n",
    "            paras = a.paragraphs_to_lines()\n",
    "            for p in paras:\n",
    "                for si,ei,line in p:\n",
    "                    if len(line) > max_line_length:\n",
    "                        max_line_length = len(line)\n",
    "                    srcs.add(line)\n",
    "    print(src_lang, \"max line length\", max_line_length)\n",
    "    return srcs\n",
    "needs_translation = {     \n",
    "    \"sux\": get_need_translations(\"sux\"),\n",
    "    \"akk\": get_need_translations(\"akk\"),\n",
    "}\n",
    "print(len(needs_translation[\"sux\"]), \"sux needs translation\")\n",
    "print(len(needs_translation[\"akk\"]), \"akk needs translation\")\n"
   ]
  },
  {
   "cell_type": "code",
   "execution_count": 26,
   "id": "c7b88abd",
   "metadata": {},
   "outputs": [
    {
     "data": {
      "text/plain": [
       "['[_en_]-ia{*} É{*}—[_dingir_{?}-_mesz_{?}] sza _uru_-kàl-[zi x]-_mesz_{*}# szak-nu#',\n",
       " '[_e2 nig2-gur11_ sza e2-sag-il2 ip-tu]-u2# _ku3-sig17 ku3-babbar_ ni-siq#-ti# _na4#-mesz#_ a-na _man_ elam#-ma#{ki#}',\n",
       " 'be-el-[ti{?}-ia{?} x x x x x x] qi-x#+[x x x x x x x x x]',\n",
       " '[_masz-masz_-_igi_ n n ... _ge6 25_ ina _zalag2_ sin ar2 _mul2_]-ar2-sza2-_alla_-sza2-_ulu3 2 kusz3_ sin 1/2 _kusz3_ ana _ulu3 sig ge6 26_ ina _zalag2_ sin ina _igi lugal 2 kusz3#_ sin 1 _kusz3_ ana _ulu3 sig#_',\n",
       " 'sza la ni-bi ul-tu qer-bi-szu2#-un#',\n",
       " 'u3 sin-mu-ba-li2-it, di-in _e2 {d}utu [di]-ku5-mesz_ {disz}sin#-i-qi2-sza-am {disz}{d}utu-li-wi-ir!',\n",
       " '02 GÚ a{*}-na{*}# [x]-ru{?}# A—_sig_ a-na gu{*}-zip{*}-pi LÚ-_gisz_{*}-_ban_{*}-_tag_{*}',\n",
       " '[_igi_ {m}x x x]+x# LÚ{v}-MÁ-_du-du uru_-szi-szil-a-a',\n",
       " '{d}na-ra-am-{d}suen lugal a-ga-de3{ki}',\n",
       " '_{gesz}esi {gesz}tug2_ {gesz}mu-suk-kan-ni _{gesz}eren {gesz}szur-min3_ a-na mu-szab _lugal_-ti-ia u mul-ta-u-ti be-lu-ti-ia']"
      ]
     },
     "execution_count": 26,
     "metadata": {},
     "output_type": "execute_result"
    }
   ],
   "source": [
    "list(needs_translation[\"akk\"])[:10]"
   ]
  },
  {
   "cell_type": "code",
   "execution_count": 29,
   "id": "c4c4b43b",
   "metadata": {},
   "outputs": [
    {
     "name": "stdout",
     "output_type": "stream",
     "text": [
      "800,070 to translate\n"
     ]
    },
    {
     "data": {
      "application/vnd.jupyter.widget-view+json": {
       "model_id": "8232cdaf988e4bc29141e5a129d88439",
       "version_major": 2,
       "version_minor": 0
      },
      "text/plain": [
       "  0%|          | 0/524319 [00:00<?, ?it/s]"
      ]
     },
     "metadata": {},
     "output_type": "display_data"
    },
    {
     "data": {
      "application/vnd.jupyter.widget-view+json": {
       "model_id": "6b86cd3629504447a027031ed9ac3a43",
       "version_major": 2,
       "version_minor": 0
      },
      "text/plain": [
       "  0%|          | 0/275751 [00:00<?, ?it/s]"
      ]
     },
     "metadata": {},
     "output_type": "display_data"
    },
    {
     "name": "stdout",
     "output_type": "stream",
     "text": [
      "8,754 left to translate\n"
     ]
    }
   ],
   "source": [
    "tgt_lang = \"en\"\n",
    "\n",
    "def get_translations():\n",
    "    for src_lang in src_langs:\n",
    "        st_key = f\"{src_lang}_to_{tgt_lang}\"\n",
    "        news = new_translations[st_key]\n",
    "        # print(list(olds)[:10])\n",
    "        for src in tqdm(needs_translation[src_lang]):\n",
    "            if src not in news:\n",
    "                yield (src_lang, tgt_lang, src, f\"translate {languages.all_languages[src_lang]} to {languages.all_languages[tgt_lang]}: \" + src)\n",
    "\n",
    "num_need_translate = sum([len(x) for x in needs_translation.values()])\n",
    "print(f\"{num_need_translate:,} to translate\")\n",
    "to_translate = list(get_translations())\n",
    "print(f\"{len(to_translate):,} left to translate\")\n",
    "                \n",
    "def get_translations_gen():\n",
    "    for src_lang, tft_lang, s, q in tqdm(to_translate):\n",
    "        yield q"
   ]
  },
  {
   "cell_type": "code",
   "execution_count": 30,
   "id": "dacd9569",
   "metadata": {},
   "outputs": [
    {
     "data": {
      "application/vnd.jupyter.widget-view+json": {
       "model_id": "5ff6ce4731af448b806bfd5fe136fb70",
       "version_major": 2,
       "version_minor": 0
      },
      "text/plain": [
       "  0%|          | 0/8754 [00:00<?, ?it/s]"
      ]
     },
     "metadata": {},
     "output_type": "display_data"
    }
   ],
   "source": [
    "r = pipeline(get_translations_gen())\n",
    "for i, tr in enumerate(r):\n",
    "    src_lang, tft_lang, s, q = to_translate[i]\n",
    "    st_key = f\"{src_lang}_to_{tgt_lang}\"\n",
    "    translations = new_translations[st_key]\n",
    "    t = tr[0]['translation_text']\n",
    "    translations[s] = t\n"
   ]
  },
  {
   "cell_type": "code",
   "execution_count": 31,
   "id": "1c45ef46",
   "metadata": {},
   "outputs": [
    {
     "name": "stdout",
     "output_type": "stream",
     "text": [
      "553296 sux_to_en translations\n",
      "[('\" [...] ~ [...] = %a [u4]-du-ru-u2 \" [...] ~ [...] = %a {d}en-lil2 \" [...] ~ [...] = %a szu-ub-tum', '... ... ... ...'), ('\" [...] ~ |_x-x-lal_| = %a na-du-u2-um \" [...] ~ |_x-x-si_| = %a ku-ur-ku-u2-um \" [...] ~ |_su-lu-sze3_|# = %a lu-up-pu-um', '... ... ... ... ...'), ('\" [ba]-e# = %a za-zum \" [za-e] = %a at#-ta \" [ga2-e] = %a [a]-na#?-ku-u2 \" [...] = %a [at]-ta', 'you are'), ('# \" ~ _munsub #_ \" ~ _alan# #_ \" ~ _alan #_ \" ~ |_masz-gu2-gar3_| # zubx(|_masz-gu2-gar3_|) \" zu-ub ~ |_masz-gu2-gar3_| = %a zu-bu-um', 'a kind of acquatic animal a kind of insect a kind of insect a kind of insect a kind of insect a kind of insect a kind of insect a kind of insect a kind of insect a kind of insect a kind of insect a kind of insect a kind of insect a kind of insect a kind of insect a kind of insect a kind of insect a kind of insect a kind of insect a kind of insect a kind of insect a kind of insect a kind of insect a kind of insect a kind of insect a kind of insect a kind of insect a kind of insect a kind of insect a kind of insect a kind of insect a kind of insect a kind of insect a kind of insect a kind of insect a kind of insect a kind of insect a kind of insect a kind of insect a kind of insect a kind of insect a kind of insect a kind of insect a kind of insect a kind of insect a kind of insect a kind of insect a kind of insect a kind of insect a kind of insect a kind of insect a kind of insect a kind of insect a kind of insect a kind of insect a kind of insect a kind of insect a kind of insect a kind of insect a kind of insect a kind of insect a kind of insect a kind of insect a kind of insect a kind of insect a kind of insect a kind of insect a kind of insect a kind of insect a kind of insect a kind of insect a kind of insect a kind of insect a kind of insect a kind of insect a kind of insect a kind of insect a kind of insect a kind of insect a kind of insect a kind of insect a kind of insect a kind of insect a kind of insect a kind of insect a kind of insect a kind of insect a kind of insect a feces a feces a feces a feces a feces a feces a feces a feces a feces a feces a feces'), ('# \" ~ _tu #_ \" ~ |_sze-nun&nun_| # \" ~ _naga #_ \" ~ _szinig #_ \" ~ |_igi-naga_| # \" ~ _in #_ \" ~ |_sze-ab2_xTAB| # \" ~ |_sze-ab2_xGUD| # \" ~ _sar_', '... ... ... ... ... ... ... ... ... ...'), ('# \" ~ |_lal2_xSAR| # \" ~ |_u2-sar_| # \" ~ _sar_', 'a kind of plant'), ('# %e szuba2 ~ = %a re#-ia-um # %e szuba2 ~ = %a {d}da-mu # nir7 ~ |_za_-gin2@g| = %a hu#-la-lum', 'a kind of acquatic animal a kind of acquatic animal a kind of acquatic animal a kind of acquatic animal a kind of acquatic animal'), ('# <(u3)> ku \" ~ = %a s,a-la-lum # ku \" ~ = %a s,a-la-pu-um', 'a kind of acquatic animal'), ('# = %a ru-ub-bu-u2 # e3 ~ = %a e-ru-u2-um # e3 ~ = %a a-ma-<<x>>-rum', 'to go out to go out to'), ('# = %a szu-pu-u2-um # e3 ~ = %a sza-ka-kum # e3 ~ = %a za-qa2-nu-um', 'to go out to go out to be a part of the throne')]\n",
      "301778 akk_to_en translations\n",
      "[('# _gi_ \" x#-x# ~ _gi # gi4_ \" [...] ~ _gi4 #_ gilim \" gi-li!-im ~ |_gi_%_gi_| # kab \" ka-ab# ~ _kab #_ da \" da-a ~ _da_', 'reed reed reed reed reed reed reed reed reed reed reed reed reed reed reed reed reed reed reed reed reed reed reed reed reed reed reed reed reed reed reed reed reed reed reed reed reed reed reed reed reed reed reed reed reed reed reed reed reed reed reed reed reed reed reed reed reed reed reed reed reed reed reed reed reed reed reed reed reed reed reed reed reed reed reed reed reed reed reed reed reed reed reed reed reed reed reed reed reed reed reed reed reed reed reed reed reed reed reed reed reed reed reed reed reed reed reed reed reed reed reed reed reed reed reed reed reed reed reed reed reed reed reed reed reed reed reed ree'), ('# a2 \" [x]-a ~ _a2 # a2_ \" x# ~ _a2_', '... ... ... ... ... ...'), ('# zi \" zi ~ _zi #_ zi \" zi-i ~ _zi #_ si2 \" si ~ _zi #_ gi \" gi ~ _gi #_ ki2 \" ki ~ _gi_', 'a kind of reed ... a kind of reed ... a kind of reed ... a kind of reed ... a kind of reed ... a kind of reed ... a kind of reed ... a kind of reed'), ('%arc prsz', 'a kind of stag'), ('%hu za-ak-ku %akk sza te-e-szi# [...] x sza _si_ sza _ku3#?-sig17#?_ u2#-ku#-[ri-sza ...] u3# ur-u2-da2-szu sza# _si_ [...]', 'a ... of ... ... of gold ... and its city-wall of ... ...'), ('%s u4# 2(u)? 6(disz)? <kam>', 'the 26th? day'), ('%s {d}nidaba _ka_ diri#? {d}marduk pa-t,e-er e-il#-ti {d}marduk pa-ni {d}marduk i#?-na %s e2-sag-il2 %a lu!-mur!(_hi_)', \"'May I see Nidaba, the surpassing one of Marduk, the one who is entrusted with the oath of Marduk, before Marduk, in the Esagil.\"), ('%xhu su2-us-su2-la-ah-hu sza _zabar-mesz_ sza e2-kal2-li3 [i]-na#* _szu_ {disz}i-[ri]-bi#-_dingir_ _lu2 dam#-[gar3]_', '... of bronze ... of the storehouse, from Irib-il, the merchant.'), ('%xhu szu-u2-li sza _kak-tag2-ga5_ szi-la-an-nu sza esz-szu sza e2-kal2-li3 sza {iri}nu-zi a-na _szu_-ti', '... of the ... of the ..., the ilannu of the new building of the Kallu of Nuzi, into the hands'), ('& & & & & ha-de-a-me-er#-[{d}utu]', '... ade-amer-ama')]\n"
     ]
    }
   ],
   "source": [
    "sample_translations()"
   ]
  },
  {
   "cell_type": "markdown",
   "id": "727c5dec",
   "metadata": {},
   "source": [
    "## Save the Translations"
   ]
  },
  {
   "cell_type": "code",
   "execution_count": 32,
   "id": "e19455b8",
   "metadata": {},
   "outputs": [],
   "source": [
    "def write_translations(f):\n",
    "    f.write(\"{\\n\")\n",
    "    f.write(f\"\\\"model_id\\\":\\\"{model_id}\\\",\\n\")\n",
    "    f.write(f\"\\\"model_revision\\\":\\\"{model_revision}\\\"\")\n",
    "    for st_key in sorted([x for x in new_translations if not x.startswith(\"model_\")]):\n",
    "        f.write(f\",\\n\\\"{st_key}\\\":{{\\n\")\n",
    "        translations = new_translations[st_key]\n",
    "        head = \"\"\n",
    "        for s in sorted(list(translations.keys())):\n",
    "            f.write(head)\n",
    "            f.write(json.dumps(s))\n",
    "            f.write(\": \")\n",
    "            f.write(json.dumps(translations[s]))\n",
    "            head = \",\\n\"\n",
    "        f.write(\"}\")\n",
    "    f.write(\"}\\n\")\n",
    "    \n",
    "# write_translations(sys.stdout)"
   ]
  },
  {
   "cell_type": "code",
   "execution_count": 33,
   "id": "00f5c738",
   "metadata": {},
   "outputs": [],
   "source": [
    "with open(output_json_path, \"wt\") as f:\n",
    "    write_translations(f)"
   ]
  },
  {
   "cell_type": "code",
   "execution_count": null,
   "id": "0da2e4c9",
   "metadata": {},
   "outputs": [],
   "source": []
  },
  {
   "cell_type": "code",
   "execution_count": 37,
   "id": "3f0c3fac",
   "metadata": {},
   "outputs": [],
   "source": [
    "import zipfile\n",
    "\n",
    "def compress(zip_name, file_to_zip):\n",
    "    if os.path.exists(zip_name):\n",
    "        os.unlink(zip_name)\n",
    "    # Create a new zip file and add files to it\n",
    "    with zipfile.ZipFile(zip_name, 'w', compression=zipfile.ZIP_DEFLATED) as zf:\n",
    "        zf.write(file_to_zip)\n",
    "    os.unlink(file_to_zip)\n",
    "\n",
    "compress('../data/ml_translations.zip', '../data/ml_translations.json')"
   ]
  },
  {
   "cell_type": "code",
   "execution_count": 39,
   "id": "5f514837",
   "metadata": {},
   "outputs": [
    {
     "name": "stdout",
     "output_type": "stream",
     "text": [
      "total 105132\r\n",
      "drwxrwxr-x  2 fak fak     4096 Jun  5 12:26 .\r\n",
      "drwxrwxr-x 10 fak fak     4096 Jun  1 13:42 ..\r\n",
      "-rw-rw-r--  1 fak fak 24652099 Jun  5 11:54 cdli_pubs.zip\r\n",
      "-rw-rw-r--  1 fak fak    56450 Jul 25  2022 dataset_index.json\r\n",
      "-rw-rw-r--  1 fak fak 32382385 Jun  5 12:26 ml_translations.zip\r\n",
      "-rw-rw-r--  1 fak fak 13461354 Jun  5 11:54 oracc_pubs.zip\r\n",
      "-rw-rw-r--  1 fak fak 29155935 May 31 12:30 translations_akk_to_en.jsonl\r\n",
      "-rw-rw-r--  1 fak fak  7927025 May 31 12:30 translations_sux_to_en.jsonl\r\n"
     ]
    }
   ],
   "source": [
    "!ls -al ../data"
   ]
  },
  {
   "cell_type": "code",
   "execution_count": 40,
   "id": "99ab2087",
   "metadata": {},
   "outputs": [
    {
     "ename": "FileNotFoundError",
     "evalue": "[Errno 2] No such file or directory: '../data/ml_translations.json'",
     "output_type": "error",
     "traceback": [
      "\u001b[0;31m---------------------------------------------------------------------------\u001b[0m",
      "\u001b[0;31mFileNotFoundError\u001b[0m                         Traceback (most recent call last)",
      "Input \u001b[0;32mIn [40]\u001b[0m, in \u001b[0;36m<cell line: 1>\u001b[0;34m()\u001b[0m\n\u001b[0;32m----> 1\u001b[0m new_json \u001b[38;5;241m=\u001b[39m json\u001b[38;5;241m.\u001b[39mload(\u001b[38;5;28;43mopen\u001b[39;49m\u001b[43m(\u001b[49m\u001b[43moutput_json_path\u001b[49m\u001b[43m,\u001b[49m\u001b[43m \u001b[49m\u001b[38;5;124;43m\"\u001b[39;49m\u001b[38;5;124;43mrt\u001b[39;49m\u001b[38;5;124;43m\"\u001b[39;49m\u001b[43m)\u001b[49m)\n\u001b[1;32m      2\u001b[0m \u001b[38;5;28mprint\u001b[39m(\u001b[38;5;28mlen\u001b[39m(new_json[\u001b[38;5;124m\"\u001b[39m\u001b[38;5;124makk_to_en\u001b[39m\u001b[38;5;124m\"\u001b[39m]))\n\u001b[1;32m      3\u001b[0m \u001b[38;5;28mprint\u001b[39m(\u001b[38;5;28mlen\u001b[39m(new_json[\u001b[38;5;124m\"\u001b[39m\u001b[38;5;124msux_to_en\u001b[39m\u001b[38;5;124m\"\u001b[39m]))\n",
      "\u001b[0;31mFileNotFoundError\u001b[0m: [Errno 2] No such file or directory: '../data/ml_translations.json'"
     ]
    }
   ],
   "source": [
    "new_json = json.load(open(output_json_path, \"rt\"))\n",
    "print(len(new_json[\"akk_to_en\"]))\n",
    "print(len(new_json[\"sux_to_en\"]))"
   ]
  },
  {
   "cell_type": "code",
   "execution_count": null,
   "id": "aeb261ff",
   "metadata": {},
   "outputs": [],
   "source": []
  }
 ],
 "metadata": {
  "kernelspec": {
   "display_name": "Python 3 (ipykernel)",
   "language": "python",
   "name": "python3"
  },
  "language_info": {
   "codemirror_mode": {
    "name": "ipython",
    "version": 3
   },
   "file_extension": ".py",
   "mimetype": "text/x-python",
   "name": "python",
   "nbconvert_exporter": "python",
   "pygments_lexer": "ipython3",
   "version": "3.10.6"
  }
 },
 "nbformat": 4,
 "nbformat_minor": 5
}
