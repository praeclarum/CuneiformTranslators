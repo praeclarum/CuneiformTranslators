{
 "cells": [
  {
   "attachments": {},
   "cell_type": "markdown",
   "id": "4fc91511",
   "metadata": {},
   "source": [
    "# Infer\n",
    "\n",
    "First, make paragraphs from lines (unwrap), then wrap to the limits of the network"
   ]
  },
  {
   "cell_type": "code",
   "execution_count": 1,
   "id": "28f9b8a1",
   "metadata": {},
   "outputs": [],
   "source": [
    "import sys, os, datetime\n",
    "import json\n",
    "import torch\n",
    "import random\n",
    "from tqdm.notebook import tqdm\n",
    "from transformers import AutoTokenizer, AutoModelForSeq2SeqLM, TranslationPipeline\n",
    "from collections import defaultdict\n",
    "import zipfile"
   ]
  },
  {
   "cell_type": "code",
   "execution_count": 2,
   "id": "5bb5e83b",
   "metadata": {},
   "outputs": [],
   "source": [
    "import languages"
   ]
  },
  {
   "cell_type": "code",
   "execution_count": 3,
   "id": "61d0039e",
   "metadata": {},
   "outputs": [],
   "source": [
    "os.environ[\"TOKENIZERS_PARALLELISM\"] = \"false\""
   ]
  },
  {
   "cell_type": "code",
   "execution_count": 4,
   "id": "982f75d3",
   "metadata": {},
   "outputs": [],
   "source": [
    "src_langs = set([\"akk\", \"sux\"])\n",
    "tgt_langs = set([\"en\"])"
   ]
  },
  {
   "cell_type": "code",
   "execution_count": 5,
   "id": "51b168db",
   "metadata": {},
   "outputs": [],
   "source": [
    "model_id = \"praeclarum/cuneiform\"\n",
    "# model_revision = \"1ba74c8dcf6d1839b0a56589a53dfb5c20ca84f2\"\n",
    "model_revision = \"7a60be19efe61bf4adf873eb86f864ea7bfb4876\""
   ]
  },
  {
   "cell_type": "code",
   "execution_count": 6,
   "id": "06d4fcd7",
   "metadata": {},
   "outputs": [],
   "source": [
    "batch_size = 16\n",
    "device = \"cuda\" if torch.has_cuda else \"cpu\"\n",
    "device_id = 0 if device == \"cuda\" else -1"
   ]
  },
  {
   "cell_type": "code",
   "execution_count": 7,
   "id": "1ec28e75",
   "metadata": {},
   "outputs": [
    {
     "name": "stdout",
     "output_type": "stream",
     "text": [
      "/bin/bash: nvidia-smi: command not found\n"
     ]
    }
   ],
   "source": [
    "!nvidia-smi"
   ]
  },
  {
   "attachments": {},
   "cell_type": "markdown",
   "id": "d1616e0d",
   "metadata": {},
   "source": [
    "## Load Existing Translations"
   ]
  },
  {
   "cell_type": "code",
   "execution_count": 8,
   "id": "55e594ba",
   "metadata": {},
   "outputs": [],
   "source": [
    "output_json_path = \"../data/ml_translations.json\"\n",
    "output_zip_path = output_json_path.replace(\".json\", \".zip\")"
   ]
  },
  {
   "cell_type": "code",
   "execution_count": 9,
   "id": "388db15d",
   "metadata": {},
   "outputs": [
    {
     "data": {
      "text/plain": [
       "553296"
      ]
     },
     "execution_count": 9,
     "metadata": {},
     "output_type": "execute_result"
    }
   ],
   "source": [
    "with open(output_zip_path, \"rb\") as zipf:\n",
    "    with zipfile.ZipFile(zipf) as zf:\n",
    "        name = [x for x in zf.namelist() if x.endswith(\".json\")][0]\n",
    "        with zf.open(name) as f:\n",
    "            old_translations = json.loads(str(f.read(), \"utf8\"))\n",
    "old_translations.keys()\n",
    "len(old_translations[\"sux_to_en\"])"
   ]
  },
  {
   "cell_type": "code",
   "execution_count": 10,
   "id": "dbee98ed",
   "metadata": {},
   "outputs": [
    {
     "data": {
      "text/plain": [
       "dict_keys(['model_id', 'model_revision', 'akk_to_en', 'sux_to_en'])"
      ]
     },
     "execution_count": 10,
     "metadata": {},
     "output_type": "execute_result"
    }
   ],
   "source": [
    "new_translations = dict(old_translations)\n",
    "new_translations.keys()\n"
   ]
  },
  {
   "cell_type": "code",
   "execution_count": 11,
   "id": "a8d6be6c",
   "metadata": {},
   "outputs": [],
   "source": [
    "if new_translations[\"model_revision\"] != model_revision:\n",
    "    print(\"Clearing defunct translations\")\n",
    "    for s_lang in src_langs:\n",
    "        for t_lang in tgt_langs:\n",
    "            st_key = f\"{s_lang}_to_{t_lang}\"\n",
    "            new_translations[st_key] = {}"
   ]
  },
  {
   "cell_type": "code",
   "execution_count": 12,
   "id": "b324b1df",
   "metadata": {},
   "outputs": [],
   "source": [
    "def sample_translations():\n",
    "    for s_lang in src_langs:\n",
    "        for t_lang in tgt_langs:\n",
    "            st_key = f\"{s_lang}_to_{t_lang}\"\n",
    "            if st_key in new_translations:\n",
    "                translations = new_translations[st_key]\n",
    "                print(len(translations), f\"{st_key} translations\")\n",
    "                print([(x, translations[x]) for x in translations][:10])"
   ]
  },
  {
   "cell_type": "code",
   "execution_count": 13,
   "id": "d2b84c37",
   "metadata": {},
   "outputs": [
    {
     "name": "stdout",
     "output_type": "stream",
     "text": [
      "553296 sux_to_en translations\n",
      "[('\" [...] ~ [...] = %a [u4]-du-ru-u2 \" [...] ~ [...] = %a {d}en-lil2 \" [...] ~ [...] = %a szu-ub-tum', '... ... ... ...'), ('\" [...] ~ |_x-x-lal_| = %a na-du-u2-um \" [...] ~ |_x-x-si_| = %a ku-ur-ku-u2-um \" [...] ~ |_su-lu-sze3_|# = %a lu-up-pu-um', '... ... ... ... ...'), ('\" [ba]-e# = %a za-zum \" [za-e] = %a at#-ta \" [ga2-e] = %a [a]-na#?-ku-u2 \" [...] = %a [at]-ta', 'you are'), ('# \" ~ _munsub #_ \" ~ _alan# #_ \" ~ _alan #_ \" ~ |_masz-gu2-gar3_| # zubx(|_masz-gu2-gar3_|) \" zu-ub ~ |_masz-gu2-gar3_| = %a zu-bu-um', 'a kind of acquatic animal a kind of insect a kind of insect a kind of insect a kind of insect a kind of insect a kind of insect a kind of insect a kind of insect a kind of insect a kind of insect a kind of insect a kind of insect a kind of insect a kind of insect a kind of insect a kind of insect a kind of insect a kind of insect a kind of insect a kind of insect a kind of insect a kind of insect a kind of insect a kind of insect a kind of insect a kind of insect a kind of insect a kind of insect a kind of insect a kind of insect a kind of insect a kind of insect a kind of insect a kind of insect a kind of insect a kind of insect a kind of insect a kind of insect a kind of insect a kind of insect a kind of insect a kind of insect a kind of insect a kind of insect a kind of insect a kind of insect a kind of insect a kind of insect a kind of insect a kind of insect a kind of insect a kind of insect a kind of insect a kind of insect a kind of insect a kind of insect a kind of insect a kind of insect a kind of insect a kind of insect a kind of insect a kind of insect a kind of insect a kind of insect a kind of insect a kind of insect a kind of insect a kind of insect a kind of insect a kind of insect a kind of insect a kind of insect a kind of insect a kind of insect a kind of insect a kind of insect a kind of insect a kind of insect a kind of insect a kind of insect a kind of insect a kind of insect a kind of insect a kind of insect a kind of insect a kind of insect a kind of insect a feces a feces a feces a feces a feces a feces a feces a feces a feces a feces a feces'), ('# \" ~ _tu #_ \" ~ |_sze-nun&nun_| # \" ~ _naga #_ \" ~ _szinig #_ \" ~ |_igi-naga_| # \" ~ _in #_ \" ~ |_sze-ab2_xTAB| # \" ~ |_sze-ab2_xGUD| # \" ~ _sar_', '... ... ... ... ... ... ... ... ... ...'), ('# \" ~ |_lal2_xSAR| # \" ~ |_u2-sar_| # \" ~ _sar_', 'a kind of plant'), ('# %e szuba2 ~ = %a re#-ia-um # %e szuba2 ~ = %a {d}da-mu # nir7 ~ |_za_-gin2@g| = %a hu#-la-lum', 'a kind of acquatic animal a kind of acquatic animal a kind of acquatic animal a kind of acquatic animal a kind of acquatic animal'), ('# <(u3)> ku \" ~ = %a s,a-la-lum # ku \" ~ = %a s,a-la-pu-um', 'a kind of acquatic animal'), ('# = %a ru-ub-bu-u2 # e3 ~ = %a e-ru-u2-um # e3 ~ = %a a-ma-<<x>>-rum', 'to go out to go out to'), ('# = %a szu-pu-u2-um # e3 ~ = %a sza-ka-kum # e3 ~ = %a za-qa2-nu-um', 'to go out to go out to be a part of the throne')]\n",
      "301778 akk_to_en translations\n",
      "[('# _gi_ \" x#-x# ~ _gi # gi4_ \" [...] ~ _gi4 #_ gilim \" gi-li!-im ~ |_gi_%_gi_| # kab \" ka-ab# ~ _kab #_ da \" da-a ~ _da_', 'reed reed reed reed reed reed reed reed reed reed reed reed reed reed reed reed reed reed reed reed reed reed reed reed reed reed reed reed reed reed reed reed reed reed reed reed reed reed reed reed reed reed reed reed reed reed reed reed reed reed reed reed reed reed reed reed reed reed reed reed reed reed reed reed reed reed reed reed reed reed reed reed reed reed reed reed reed reed reed reed reed reed reed reed reed reed reed reed reed reed reed reed reed reed reed reed reed reed reed reed reed reed reed reed reed reed reed reed reed reed reed reed reed reed reed reed reed reed reed reed reed reed reed reed reed reed reed ree'), ('# a2 \" [x]-a ~ _a2 # a2_ \" x# ~ _a2_', '... ... ... ... ... ...'), ('# zi \" zi ~ _zi #_ zi \" zi-i ~ _zi #_ si2 \" si ~ _zi #_ gi \" gi ~ _gi #_ ki2 \" ki ~ _gi_', 'a kind of reed ... a kind of reed ... a kind of reed ... a kind of reed ... a kind of reed ... a kind of reed ... a kind of reed ... a kind of reed'), ('%arc prsz', 'a kind of stag'), ('%hu za-ak-ku %akk sza te-e-szi# [...] x sza _si_ sza _ku3#?-sig17#?_ u2#-ku#-[ri-sza ...] u3# ur-u2-da2-szu sza# _si_ [...]', 'a ... of ... ... of gold ... and its city-wall of ... ...'), ('%s u4# 2(u)? 6(disz)? <kam>', 'the 26th? day'), ('%s {d}nidaba _ka_ diri#? {d}marduk pa-t,e-er e-il#-ti {d}marduk pa-ni {d}marduk i#?-na %s e2-sag-il2 %a lu!-mur!(_hi_)', \"'May I see Nidaba, the surpassing one of Marduk, the one who is entrusted with the oath of Marduk, before Marduk, in the Esagil.\"), ('%xhu su2-us-su2-la-ah-hu sza _zabar-mesz_ sza e2-kal2-li3 [i]-na#* _szu_ {disz}i-[ri]-bi#-_dingir_ _lu2 dam#-[gar3]_', '... of bronze ... of the storehouse, from Irib-il, the merchant.'), ('%xhu szu-u2-li sza _kak-tag2-ga5_ szi-la-an-nu sza esz-szu sza e2-kal2-li3 sza {iri}nu-zi a-na _szu_-ti', '... of the ... of the ..., the ilannu of the new building of the Kallu of Nuzi, into the hands'), ('& & & & & ha-de-a-me-er#-[{d}utu]', '... ade-amer-ama')]\n"
     ]
    }
   ],
   "source": [
    "sample_translations()"
   ]
  },
  {
   "attachments": {},
   "cell_type": "markdown",
   "id": "ada5268c",
   "metadata": {},
   "source": [
    "## Load the Model"
   ]
  },
  {
   "cell_type": "code",
   "execution_count": 14,
   "id": "b41e0d6e",
   "metadata": {},
   "outputs": [
    {
     "data": {
      "text/plain": [
       "512"
      ]
     },
     "execution_count": 14,
     "metadata": {},
     "output_type": "execute_result"
    }
   ],
   "source": [
    "tokenizer = AutoTokenizer.from_pretrained(model_id, revision=model_revision, device=device)\n",
    "model_max_length = tokenizer.model_max_length\n",
    "model_max_length"
   ]
  },
  {
   "cell_type": "code",
   "execution_count": 15,
   "id": "fcdfb82a",
   "metadata": {
    "scrolled": false
   },
   "outputs": [],
   "source": [
    "model = AutoModelForSeq2SeqLM.from_pretrained(model_id, revision=model_revision, max_length=tokenizer.model_max_length)\n",
    "model = model.to(device)\n",
    "# model"
   ]
  },
  {
   "cell_type": "code",
   "execution_count": 16,
   "id": "c0902776",
   "metadata": {},
   "outputs": [],
   "source": [
    "pipeline = TranslationPipeline(model=model, tokenizer=tokenizer, batch_size=batch_size, device=device_id)"
   ]
  },
  {
   "cell_type": "code",
   "execution_count": 17,
   "id": "13b57bda",
   "metadata": {},
   "outputs": [
    {
     "name": "stdout",
     "output_type": "stream",
     "text": [
      "[{'translation_text': 'ulmanu-re, great king, strong king, king of the universe,'}]\n",
      "[{'translation_text': 'I built it anew.'}]\n"
     ]
    }
   ],
   "source": [
    "print(pipeline(\"translate Akkadian to English: 1(disz){d}szul3-ma-nu-_sag man gal?_-u2 _man_ dan-nu _man kisz_\"))\n",
    "print(pipeline(\"translate Akkadian to English: ra-bi-isz e-pu-usz\"))"
   ]
  },
  {
   "attachments": {},
   "cell_type": "markdown",
   "id": "31c42721",
   "metadata": {},
   "source": [
    "## Load Transliterations to Translate"
   ]
  },
  {
   "cell_type": "code",
   "execution_count": 18,
   "id": "1b7bf11a",
   "metadata": {},
   "outputs": [],
   "source": [
    "import corpi\n",
    "import cdli"
   ]
  },
  {
   "cell_type": "code",
   "execution_count": 19,
   "id": "09b649ac",
   "metadata": {},
   "outputs": [
    {
     "data": {
      "text/plain": [
       "<module 'corpi' from '/Users/fak/Dropbox/Projects/CuneiformTranslators/tools/corpi.py'>"
      ]
     },
     "execution_count": 19,
     "metadata": {},
     "output_type": "execute_result"
    }
   ],
   "source": [
    "import importlib\n",
    "importlib.reload(corpi)"
   ]
  },
  {
   "attachments": {},
   "cell_type": "markdown",
   "id": "37377b14",
   "metadata": {},
   "source": [
    "## Load ORACC"
   ]
  },
  {
   "cell_type": "code",
   "execution_count": 20,
   "id": "8cce8c25",
   "metadata": {},
   "outputs": [
    {
     "data": {
      "text/plain": [
       "<module 'cdli' from '/Users/fak/Dropbox/Projects/CuneiformTranslators/tools/cdli.py'>"
      ]
     },
     "execution_count": 20,
     "metadata": {},
     "output_type": "execute_result"
    }
   ],
   "source": [
    "importlib.reload(cdli)"
   ]
  },
  {
   "cell_type": "code",
   "execution_count": 21,
   "id": "9af29ebd",
   "metadata": {},
   "outputs": [
    {
     "data": {
      "text/plain": [
       "'/Volumes/FrankDisk/oracc_zips'"
      ]
     },
     "execution_count": 21,
     "metadata": {},
     "output_type": "execute_result"
    }
   ],
   "source": [
    "oracc_dir = os.path.abspath(f\"/Volumes/FrankDisk/oracc_zips\")\n",
    "# oracc_dir = os.path.abspath(f\"/home/fak/nn/Data/oracc_zips\")\n",
    "oracc_dir"
   ]
  },
  {
   "cell_type": "code",
   "execution_count": 22,
   "id": "381f9736",
   "metadata": {},
   "outputs": [],
   "source": [
    "oracc_corpus = corpi.ORACC(oracc_dir)"
   ]
  },
  {
   "attachments": {},
   "cell_type": "markdown",
   "id": "a86545b0",
   "metadata": {},
   "source": [
    "## Load CDLI"
   ]
  },
  {
   "cell_type": "code",
   "execution_count": 23,
   "id": "a3c0593b",
   "metadata": {},
   "outputs": [],
   "source": [
    "cdli_corpus = corpi.CDLI()"
   ]
  },
  {
   "attachments": {},
   "cell_type": "markdown",
   "id": "db3a7bb0",
   "metadata": {},
   "source": [
    "## Merge"
   ]
  },
  {
   "cell_type": "code",
   "execution_count": 24,
   "id": "1cb83b23",
   "metadata": {},
   "outputs": [
    {
     "name": "stdout",
     "output_type": "stream",
     "text": [
      "Found 134796 unique publications\n"
     ]
    }
   ],
   "source": [
    "all_pubs = corpi.merge_corpus_pubs(\n",
    "    [\n",
    "        (\"oracc\", oracc_corpus.oracc_pubs.values()),\n",
    "        (\"cdli\", cdli_corpus.cdli_pubs.values())\n",
    "    ], src_langs)\n",
    "print(f\"Found {len(all_pubs)} unique publications\")"
   ]
  },
  {
   "attachments": {},
   "cell_type": "markdown",
   "id": "44291a7f",
   "metadata": {},
   "source": [
    "## Build Need Translation List"
   ]
  },
  {
   "cell_type": "code",
   "execution_count": 25,
   "id": "8ceb6885",
   "metadata": {},
   "outputs": [
    {
     "data": {
      "application/json": {
       "ascii": false,
       "bar_format": null,
       "colour": null,
       "elapsed": 0.02810072898864746,
       "initial": 0,
       "n": 0,
       "ncols": null,
       "nrows": null,
       "postfix": null,
       "prefix": "",
       "rate": null,
       "total": 134796,
       "unit": "it",
       "unit_divisor": 1000,
       "unit_scale": false
      },
      "application/vnd.jupyter.widget-view+json": {
       "model_id": "ddec74aeb0e04de8a8d3c395707e1962",
       "version_major": 2,
       "version_minor": 0
      },
      "text/plain": [
       "  0%|          | 0/134796 [00:00<?, ?it/s]"
      ]
     },
     "metadata": {},
     "output_type": "display_data"
    },
    {
     "name": "stdout",
     "output_type": "stream",
     "text": [
      "sux max line length 458\n"
     ]
    },
    {
     "data": {
      "application/json": {
       "ascii": false,
       "bar_format": null,
       "colour": null,
       "elapsed": 0.006995201110839844,
       "initial": 0,
       "n": 0,
       "ncols": null,
       "nrows": null,
       "postfix": null,
       "prefix": "",
       "rate": null,
       "total": 134796,
       "unit": "it",
       "unit_divisor": 1000,
       "unit_scale": false
      },
      "application/vnd.jupyter.widget-view+json": {
       "model_id": "cc5ee0368d194a0cad9c68183e4a4959",
       "version_major": 2,
       "version_minor": 0
      },
      "text/plain": [
       "  0%|          | 0/134796 [00:00<?, ?it/s]"
      ]
     },
     "metadata": {},
     "output_type": "display_data"
    },
    {
     "name": "stdout",
     "output_type": "stream",
     "text": [
      "akk max line length 522\n",
      "524319 sux needs translation\n",
      "275741 akk needs translation\n"
     ]
    }
   ],
   "source": [
    "def get_need_translations(src_lang, encoding=\"ascii\", tgt_lang=\"en\"):\n",
    "    srcs = set()\n",
    "\n",
    "    max_line_length = 0\n",
    "\n",
    "    for pub_id in tqdm(all_pubs.keys()):\n",
    "        pub = all_pubs[pub_id]\n",
    "        if pub.language != src_lang:\n",
    "            continue\n",
    "        corpus = pub.corpus\n",
    "        for a in pub.text_areas:\n",
    "            if (corpus == \"cdli\") and len(a.lines) > 0 and len(a.paragraphs) == 0:\n",
    "                a.lines_to_paragraphs(src_lang, tgt_lang)\n",
    "            paras = a.paragraphs_to_lines()\n",
    "            for p in paras:\n",
    "                for si,ei,line in p:\n",
    "                    if len(line) > max_line_length:\n",
    "                        max_line_length = len(line)\n",
    "                    srcs.add(line)\n",
    "    print(src_lang, \"max line length\", max_line_length)\n",
    "    return srcs\n",
    "needs_translation = {     \n",
    "    \"sux\": get_need_translations(\"sux\"),\n",
    "    \"akk\": get_need_translations(\"akk\"),\n",
    "}\n",
    "print(len(needs_translation[\"sux\"]), \"sux needs translation\")\n",
    "print(len(needs_translation[\"akk\"]), \"akk needs translation\")\n"
   ]
  },
  {
   "cell_type": "code",
   "execution_count": 30,
   "id": "c7b88abd",
   "metadata": {},
   "outputs": [
    {
     "data": {
      "text/plain": [
       "['{munus}ru-ba-a-ia _ba-usz2_ {munus}a-ba-ra-ka-tum _nig2-szu_ dingir-ka-an',\n",
       " \"[...] s,e#-e-ni sza2 _ugu buru5_ ma-a'-du [x x]-la# a#-na# _kur_ an-szar2{ki} [...] szu#-sza2-an _iri!(_zu_)-ma_-dak-tu2\",\n",
       " 'ma-la2 t,up-pi2-ka3 ha-ar-mi3-im sza-asz2-qu2-lam5 na-sa3-qum lu ku-a-um t,up-pi2-a szi2-ta-me-a-ma szu-ma a-ma-la2 t,up-pi2-a',\n",
       " '[...]-a-szur _ku3-babbar_ [...] a-ta [... i-ku]-pi3#-a-szur [a-pu-uh3 ...] x _ku3-babbar_ [sza]-asz2-qu2-[lim? u3] t,up-pi3-im',\n",
       " 'za-i-ri-szu i-na-ar gi-me-er-szu-nu isz-ki-isz _dingir_-ni _lugal_ isz-nun-na{ki} la sze-mu a-wa-ti-szu i-ik-mi in {gesz}si-gar',\n",
       " 'a-hu-szi-na a-na a-pil-i3-li2-szu _dumu-ni_ i-zu-zi u2-ul i-tu-ru-ma be-el hu-bu-li-szu a-hu-szi-na u2-ul i-s,a-ba-tu',\n",
       " '_DISZ na ninda gu7 kasz nag#_-ma _na [bi_ ...] _gi-gid2 mur-mesz gig_ {u2#}[x ...] _ka_-szu2 ta-kap-par [...]',\n",
       " '{d}utu-na-s,ir',\n",
       " 'nar#-bi-ka# [lu-sza2-pi da3-li2-li2]-ka# lud-lul',\n",
       " \"[e-zib] szá lu-'u-ú-tú _ki m_ÁSZ _dib_-_mesz_-ma ú-[le-'u-ú]\"]"
      ]
     },
     "execution_count": 30,
     "metadata": {},
     "output_type": "execute_result"
    }
   ],
   "source": [
    "list(needs_translation[\"akk\"])[:10]"
   ]
  },
  {
   "cell_type": "code",
   "execution_count": 31,
   "id": "c4c4b43b",
   "metadata": {},
   "outputs": [
    {
     "name": "stdout",
     "output_type": "stream",
     "text": [
      "800,060 to translate\n"
     ]
    },
    {
     "data": {
      "application/json": {
       "ascii": false,
       "bar_format": null,
       "colour": null,
       "elapsed": 0.008813142776489258,
       "initial": 0,
       "n": 0,
       "ncols": null,
       "nrows": null,
       "postfix": null,
       "prefix": "",
       "rate": null,
       "total": 524319,
       "unit": "it",
       "unit_divisor": 1000,
       "unit_scale": false
      },
      "application/vnd.jupyter.widget-view+json": {
       "model_id": "fbef281798fa4187bce3972e2470c033",
       "version_major": 2,
       "version_minor": 0
      },
      "text/plain": [
       "  0%|          | 0/524319 [00:00<?, ?it/s]"
      ]
     },
     "metadata": {},
     "output_type": "display_data"
    },
    {
     "data": {
      "application/json": {
       "ascii": false,
       "bar_format": null,
       "colour": null,
       "elapsed": 0.00816202163696289,
       "initial": 0,
       "n": 0,
       "ncols": null,
       "nrows": null,
       "postfix": null,
       "prefix": "",
       "rate": null,
       "total": 275741,
       "unit": "it",
       "unit_divisor": 1000,
       "unit_scale": false
      },
      "application/vnd.jupyter.widget-view+json": {
       "model_id": "d9eac3cde4824026994ce2fc246d88c3",
       "version_major": 2,
       "version_minor": 0
      },
      "text/plain": [
       "  0%|          | 0/275741 [00:00<?, ?it/s]"
      ]
     },
     "metadata": {},
     "output_type": "display_data"
    },
    {
     "name": "stdout",
     "output_type": "stream",
     "text": [
      "0 left to translate\n"
     ]
    }
   ],
   "source": [
    "tgt_lang = \"en\"\n",
    "\n",
    "def get_translations():\n",
    "    for src_lang in src_langs:\n",
    "        st_key = f\"{src_lang}_to_{tgt_lang}\"\n",
    "        news = new_translations[st_key]\n",
    "        # print(list(olds)[:10])\n",
    "        for src in tqdm(needs_translation[src_lang]):\n",
    "            if src not in news:\n",
    "                yield (src_lang, tgt_lang, src, f\"translate {languages.all_languages[src_lang]} to {languages.all_languages[tgt_lang]}: \" + src)\n",
    "\n",
    "num_need_translate = sum([len(x) for x in needs_translation.values()])\n",
    "print(f\"{num_need_translate:,} to translate\")\n",
    "to_translate = list(get_translations())\n",
    "print(f\"{len(to_translate):,} left to translate\")\n",
    "                \n",
    "def get_translations_gen():\n",
    "    for src_lang, tft_lang, s, q in tqdm(to_translate):\n",
    "        yield q"
   ]
  },
  {
   "cell_type": "code",
   "execution_count": 32,
   "id": "dacd9569",
   "metadata": {},
   "outputs": [
    {
     "data": {
      "application/json": {
       "ascii": false,
       "bar_format": null,
       "colour": null,
       "elapsed": 0.007957935333251953,
       "initial": 0,
       "n": 0,
       "ncols": null,
       "nrows": null,
       "postfix": null,
       "prefix": "",
       "rate": null,
       "total": 0,
       "unit": "it",
       "unit_divisor": 1000,
       "unit_scale": false
      },
      "application/vnd.jupyter.widget-view+json": {
       "model_id": "e3f1075f0d774927915f7cc3fd863ec2",
       "version_major": 2,
       "version_minor": 0
      },
      "text/plain": [
       "0it [00:00, ?it/s]"
      ]
     },
     "metadata": {},
     "output_type": "display_data"
    }
   ],
   "source": [
    "r = pipeline(get_translations_gen())\n",
    "for i, tr in enumerate(r):\n",
    "    src_lang, tft_lang, s, q = to_translate[i]\n",
    "    st_key = f\"{src_lang}_to_{tgt_lang}\"\n",
    "    translations = new_translations[st_key]\n",
    "    t = tr[0]['translation_text']\n",
    "    translations[s] = t\n"
   ]
  },
  {
   "cell_type": "code",
   "execution_count": 33,
   "id": "1c45ef46",
   "metadata": {},
   "outputs": [
    {
     "name": "stdout",
     "output_type": "stream",
     "text": [
      "553296 sux_to_en translations\n",
      "[('\" [...] ~ [...] = %a [u4]-du-ru-u2 \" [...] ~ [...] = %a {d}en-lil2 \" [...] ~ [...] = %a szu-ub-tum', '... ... ... ...'), ('\" [...] ~ |_x-x-lal_| = %a na-du-u2-um \" [...] ~ |_x-x-si_| = %a ku-ur-ku-u2-um \" [...] ~ |_su-lu-sze3_|# = %a lu-up-pu-um', '... ... ... ... ...'), ('\" [ba]-e# = %a za-zum \" [za-e] = %a at#-ta \" [ga2-e] = %a [a]-na#?-ku-u2 \" [...] = %a [at]-ta', 'you are'), ('# \" ~ _munsub #_ \" ~ _alan# #_ \" ~ _alan #_ \" ~ |_masz-gu2-gar3_| # zubx(|_masz-gu2-gar3_|) \" zu-ub ~ |_masz-gu2-gar3_| = %a zu-bu-um', 'a kind of acquatic animal a kind of insect a kind of insect a kind of insect a kind of insect a kind of insect a kind of insect a kind of insect a kind of insect a kind of insect a kind of insect a kind of insect a kind of insect a kind of insect a kind of insect a kind of insect a kind of insect a kind of insect a kind of insect a kind of insect a kind of insect a kind of insect a kind of insect a kind of insect a kind of insect a kind of insect a kind of insect a kind of insect a kind of insect a kind of insect a kind of insect a kind of insect a kind of insect a kind of insect a kind of insect a kind of insect a kind of insect a kind of insect a kind of insect a kind of insect a kind of insect a kind of insect a kind of insect a kind of insect a kind of insect a kind of insect a kind of insect a kind of insect a kind of insect a kind of insect a kind of insect a kind of insect a kind of insect a kind of insect a kind of insect a kind of insect a kind of insect a kind of insect a kind of insect a kind of insect a kind of insect a kind of insect a kind of insect a kind of insect a kind of insect a kind of insect a kind of insect a kind of insect a kind of insect a kind of insect a kind of insect a kind of insect a kind of insect a kind of insect a kind of insect a kind of insect a kind of insect a kind of insect a kind of insect a kind of insect a kind of insect a kind of insect a kind of insect a kind of insect a kind of insect a kind of insect a kind of insect a kind of insect a feces a feces a feces a feces a feces a feces a feces a feces a feces a feces a feces'), ('# \" ~ _tu #_ \" ~ |_sze-nun&nun_| # \" ~ _naga #_ \" ~ _szinig #_ \" ~ |_igi-naga_| # \" ~ _in #_ \" ~ |_sze-ab2_xTAB| # \" ~ |_sze-ab2_xGUD| # \" ~ _sar_', '... ... ... ... ... ... ... ... ... ...'), ('# \" ~ |_lal2_xSAR| # \" ~ |_u2-sar_| # \" ~ _sar_', 'a kind of plant'), ('# %e szuba2 ~ = %a re#-ia-um # %e szuba2 ~ = %a {d}da-mu # nir7 ~ |_za_-gin2@g| = %a hu#-la-lum', 'a kind of acquatic animal a kind of acquatic animal a kind of acquatic animal a kind of acquatic animal a kind of acquatic animal'), ('# <(u3)> ku \" ~ = %a s,a-la-lum # ku \" ~ = %a s,a-la-pu-um', 'a kind of acquatic animal'), ('# = %a ru-ub-bu-u2 # e3 ~ = %a e-ru-u2-um # e3 ~ = %a a-ma-<<x>>-rum', 'to go out to go out to'), ('# = %a szu-pu-u2-um # e3 ~ = %a sza-ka-kum # e3 ~ = %a za-qa2-nu-um', 'to go out to go out to be a part of the throne')]\n",
      "301778 akk_to_en translations\n",
      "[('# _gi_ \" x#-x# ~ _gi # gi4_ \" [...] ~ _gi4 #_ gilim \" gi-li!-im ~ |_gi_%_gi_| # kab \" ka-ab# ~ _kab #_ da \" da-a ~ _da_', 'reed reed reed reed reed reed reed reed reed reed reed reed reed reed reed reed reed reed reed reed reed reed reed reed reed reed reed reed reed reed reed reed reed reed reed reed reed reed reed reed reed reed reed reed reed reed reed reed reed reed reed reed reed reed reed reed reed reed reed reed reed reed reed reed reed reed reed reed reed reed reed reed reed reed reed reed reed reed reed reed reed reed reed reed reed reed reed reed reed reed reed reed reed reed reed reed reed reed reed reed reed reed reed reed reed reed reed reed reed reed reed reed reed reed reed reed reed reed reed reed reed reed reed reed reed reed reed ree'), ('# a2 \" [x]-a ~ _a2 # a2_ \" x# ~ _a2_', '... ... ... ... ... ...'), ('# zi \" zi ~ _zi #_ zi \" zi-i ~ _zi #_ si2 \" si ~ _zi #_ gi \" gi ~ _gi #_ ki2 \" ki ~ _gi_', 'a kind of reed ... a kind of reed ... a kind of reed ... a kind of reed ... a kind of reed ... a kind of reed ... a kind of reed ... a kind of reed'), ('%arc prsz', 'a kind of stag'), ('%hu za-ak-ku %akk sza te-e-szi# [...] x sza _si_ sza _ku3#?-sig17#?_ u2#-ku#-[ri-sza ...] u3# ur-u2-da2-szu sza# _si_ [...]', 'a ... of ... ... of gold ... and its city-wall of ... ...'), ('%s u4# 2(u)? 6(disz)? <kam>', 'the 26th? day'), ('%s {d}nidaba _ka_ diri#? {d}marduk pa-t,e-er e-il#-ti {d}marduk pa-ni {d}marduk i#?-na %s e2-sag-il2 %a lu!-mur!(_hi_)', \"'May I see Nidaba, the surpassing one of Marduk, the one who is entrusted with the oath of Marduk, before Marduk, in the Esagil.\"), ('%xhu su2-us-su2-la-ah-hu sza _zabar-mesz_ sza e2-kal2-li3 [i]-na#* _szu_ {disz}i-[ri]-bi#-_dingir_ _lu2 dam#-[gar3]_', '... of bronze ... of the storehouse, from Irib-il, the merchant.'), ('%xhu szu-u2-li sza _kak-tag2-ga5_ szi-la-an-nu sza esz-szu sza e2-kal2-li3 sza {iri}nu-zi a-na _szu_-ti', '... of the ... of the ..., the ilannu of the new building of the Kallu of Nuzi, into the hands'), ('& & & & & ha-de-a-me-er#-[{d}utu]', '... ade-amer-ama')]\n"
     ]
    }
   ],
   "source": [
    "sample_translations()"
   ]
  },
  {
   "attachments": {},
   "cell_type": "markdown",
   "id": "727c5dec",
   "metadata": {},
   "source": [
    "## Save the Translations"
   ]
  },
  {
   "cell_type": "code",
   "execution_count": 30,
   "id": "e19455b8",
   "metadata": {},
   "outputs": [],
   "source": [
    "def write_translations(f):\n",
    "    f.write(\"{\\n\")\n",
    "    f.write(f\"\\\"model_id\\\":\\\"{model_id}\\\",\\n\")\n",
    "    f.write(f\"\\\"model_revision\\\":\\\"{model_revision}\\\"\")\n",
    "    for st_key in sorted([x for x in new_translations if not x.startswith(\"model_\")]):\n",
    "        f.write(f\",\\n\\\"{st_key}\\\":{{\\n\")\n",
    "        translations = new_translations[st_key]\n",
    "        head = \"\"\n",
    "        for s in sorted(list(translations.keys())):\n",
    "            f.write(head)\n",
    "            f.write(json.dumps(s))\n",
    "            f.write(\": \")\n",
    "            f.write(json.dumps(translations[s]))\n",
    "            head = \",\\n\"\n",
    "        f.write(\"}\")\n",
    "    f.write(\"}\\n\")\n",
    "    \n",
    "# write_translations(sys.stdout)"
   ]
  },
  {
   "cell_type": "code",
   "execution_count": 33,
   "id": "00f5c738",
   "metadata": {},
   "outputs": [],
   "source": [
    "with open(output_json_path, \"wt\") as f:\n",
    "    write_translations(f)"
   ]
  },
  {
   "cell_type": "code",
   "execution_count": null,
   "id": "0da2e4c9",
   "metadata": {},
   "outputs": [],
   "source": []
  },
  {
   "cell_type": "code",
   "execution_count": 37,
   "id": "3f0c3fac",
   "metadata": {},
   "outputs": [],
   "source": [
    "import zipfile\n",
    "\n",
    "def compress(zip_name, file_to_zip):\n",
    "    if os.path.exists(zip_name):\n",
    "        os.unlink(zip_name)\n",
    "    # Create a new zip file and add files to it\n",
    "    with zipfile.ZipFile(zip_name, 'w', compression=zipfile.ZIP_DEFLATED) as zf:\n",
    "        zf.write(file_to_zip)\n",
    "    os.unlink(file_to_zip)\n",
    "\n",
    "compress('../data/ml_translations.zip', '../data/ml_translations.json')"
   ]
  },
  {
   "cell_type": "code",
   "execution_count": 39,
   "id": "5f514837",
   "metadata": {},
   "outputs": [
    {
     "name": "stdout",
     "output_type": "stream",
     "text": [
      "total 105132\r\n",
      "drwxrwxr-x  2 fak fak     4096 Jun  5 12:26 .\r\n",
      "drwxrwxr-x 10 fak fak     4096 Jun  1 13:42 ..\r\n",
      "-rw-rw-r--  1 fak fak 24652099 Jun  5 11:54 cdli_pubs.zip\r\n",
      "-rw-rw-r--  1 fak fak    56450 Jul 25  2022 dataset_index.json\r\n",
      "-rw-rw-r--  1 fak fak 32382385 Jun  5 12:26 ml_translations.zip\r\n",
      "-rw-rw-r--  1 fak fak 13461354 Jun  5 11:54 oracc_pubs.zip\r\n",
      "-rw-rw-r--  1 fak fak 29155935 May 31 12:30 translations_akk_to_en.jsonl\r\n",
      "-rw-rw-r--  1 fak fak  7927025 May 31 12:30 translations_sux_to_en.jsonl\r\n"
     ]
    }
   ],
   "source": [
    "!ls -al ../data"
   ]
  },
  {
   "cell_type": "code",
   "execution_count": 40,
   "id": "99ab2087",
   "metadata": {},
   "outputs": [
    {
     "ename": "FileNotFoundError",
     "evalue": "[Errno 2] No such file or directory: '../data/ml_translations.json'",
     "output_type": "error",
     "traceback": [
      "\u001b[0;31m---------------------------------------------------------------------------\u001b[0m",
      "\u001b[0;31mFileNotFoundError\u001b[0m                         Traceback (most recent call last)",
      "Input \u001b[0;32mIn [40]\u001b[0m, in \u001b[0;36m<cell line: 1>\u001b[0;34m()\u001b[0m\n\u001b[0;32m----> 1\u001b[0m new_json \u001b[38;5;241m=\u001b[39m json\u001b[38;5;241m.\u001b[39mload(\u001b[38;5;28;43mopen\u001b[39;49m\u001b[43m(\u001b[49m\u001b[43moutput_json_path\u001b[49m\u001b[43m,\u001b[49m\u001b[43m \u001b[49m\u001b[38;5;124;43m\"\u001b[39;49m\u001b[38;5;124;43mrt\u001b[39;49m\u001b[38;5;124;43m\"\u001b[39;49m\u001b[43m)\u001b[49m)\n\u001b[1;32m      2\u001b[0m \u001b[38;5;28mprint\u001b[39m(\u001b[38;5;28mlen\u001b[39m(new_json[\u001b[38;5;124m\"\u001b[39m\u001b[38;5;124makk_to_en\u001b[39m\u001b[38;5;124m\"\u001b[39m]))\n\u001b[1;32m      3\u001b[0m \u001b[38;5;28mprint\u001b[39m(\u001b[38;5;28mlen\u001b[39m(new_json[\u001b[38;5;124m\"\u001b[39m\u001b[38;5;124msux_to_en\u001b[39m\u001b[38;5;124m\"\u001b[39m]))\n",
      "\u001b[0;31mFileNotFoundError\u001b[0m: [Errno 2] No such file or directory: '../data/ml_translations.json'"
     ]
    }
   ],
   "source": [
    "new_json = json.load(open(output_json_path, \"rt\"))\n",
    "print(len(new_json[\"akk_to_en\"]))\n",
    "print(len(new_json[\"sux_to_en\"]))"
   ]
  },
  {
   "cell_type": "code",
   "execution_count": null,
   "id": "aeb261ff",
   "metadata": {},
   "outputs": [],
   "source": []
  }
 ],
 "metadata": {
  "kernelspec": {
   "display_name": "Python 3 (ipykernel)",
   "language": "python",
   "name": "python3"
  },
  "language_info": {
   "codemirror_mode": {
    "name": "ipython",
    "version": 3
   },
   "file_extension": ".py",
   "mimetype": "text/x-python",
   "name": "python",
   "nbconvert_exporter": "python",
   "pygments_lexer": "ipython3",
   "version": "3.9.4"
  }
 },
 "nbformat": 4,
 "nbformat_minor": 5
}
