{
 "cells": [
  {
   "cell_type": "markdown",
   "id": "4fc91511",
   "metadata": {},
   "source": [
    "# Infer\n",
    "\n",
    "First, make paragraphs from lines (unwrap), then wrap to the limits of the network"
   ]
  },
  {
   "cell_type": "code",
   "execution_count": 1,
   "id": "28f9b8a1",
   "metadata": {},
   "outputs": [
    {
     "name": "stderr",
     "output_type": "stream",
     "text": [
      "2023-06-02 15:02:35.454757: I tensorflow/core/platform/cpu_feature_guard.cc:193] This TensorFlow binary is optimized with oneAPI Deep Neural Network Library (oneDNN) to use the following CPU instructions in performance-critical operations:  AVX2 FMA\n",
      "To enable them in other operations, rebuild TensorFlow with the appropriate compiler flags.\n",
      "2023-06-02 15:02:35.567594: E tensorflow/stream_executor/cuda/cuda_blas.cc:2981] Unable to register cuBLAS factory: Attempting to register factory for plugin cuBLAS when one has already been registered\n",
      "2023-06-02 15:02:35.966865: W tensorflow/stream_executor/platform/default/dso_loader.cc:64] Could not load dynamic library 'libnvinfer.so.7'; dlerror: libnvinfer.so.7: cannot open shared object file: No such file or directory; LD_LIBRARY_PATH: /usr/local/cuda-11.7/lib64:\n",
      "2023-06-02 15:02:35.966909: W tensorflow/stream_executor/platform/default/dso_loader.cc:64] Could not load dynamic library 'libnvinfer_plugin.so.7'; dlerror: libnvinfer_plugin.so.7: cannot open shared object file: No such file or directory; LD_LIBRARY_PATH: /usr/local/cuda-11.7/lib64:\n",
      "2023-06-02 15:02:35.966914: W tensorflow/compiler/tf2tensorrt/utils/py_utils.cc:38] TF-TRT Warning: Cannot dlopen some TensorRT libraries. If you would like to use Nvidia GPU with TensorRT, please make sure the missing libraries mentioned above are installed properly.\n"
     ]
    }
   ],
   "source": [
    "import sys, os, datetime\n",
    "import json\n",
    "import torch\n",
    "import random\n",
    "from tqdm.notebook import tqdm\n",
    "from transformers import AutoTokenizer, AutoModelForSeq2SeqLM, TranslationPipeline\n",
    "from collections import defaultdict\n"
   ]
  },
  {
   "cell_type": "code",
   "execution_count": 2,
   "id": "5bb5e83b",
   "metadata": {},
   "outputs": [],
   "source": [
    "import languages"
   ]
  },
  {
   "cell_type": "code",
   "execution_count": 3,
   "id": "61d0039e",
   "metadata": {},
   "outputs": [],
   "source": [
    "os.environ[\"TOKENIZERS_PARALLELISM\"] = \"false\""
   ]
  },
  {
   "cell_type": "code",
   "execution_count": 4,
   "id": "982f75d3",
   "metadata": {},
   "outputs": [],
   "source": [
    "src_langs = set([\"akk\", \"sux\"])\n",
    "tgt_langs = set([\"en\"])"
   ]
  },
  {
   "cell_type": "code",
   "execution_count": 5,
   "id": "51b168db",
   "metadata": {},
   "outputs": [],
   "source": [
    "model_id = \"praeclarum/cuneiform\"\n",
    "# model_revision = \"1ba74c8dcf6d1839b0a56589a53dfb5c20ca84f2\"\n",
    "model_revision = \"7a60be19efe61bf4adf873eb86f864ea7bfb4876\""
   ]
  },
  {
   "cell_type": "code",
   "execution_count": 6,
   "id": "06d4fcd7",
   "metadata": {},
   "outputs": [],
   "source": [
    "batch_size = 16\n",
    "device = \"cuda\""
   ]
  },
  {
   "cell_type": "markdown",
   "id": "d1616e0d",
   "metadata": {},
   "source": [
    "## Load Existing Translations"
   ]
  },
  {
   "cell_type": "code",
   "execution_count": 7,
   "id": "55e594ba",
   "metadata": {},
   "outputs": [],
   "source": [
    "output_json_path = \"../data/ml_translations.json\""
   ]
  },
  {
   "cell_type": "code",
   "execution_count": 8,
   "id": "388db15d",
   "metadata": {},
   "outputs": [
    {
     "data": {
      "text/plain": [
       "dict_keys(['model_id', 'model_revision', 'akk_to_en', 'sux_to_en'])"
      ]
     },
     "execution_count": 8,
     "metadata": {},
     "output_type": "execute_result"
    }
   ],
   "source": [
    "old_translations = json.loads(str(open(output_json_path, \"rb\").read(), \"utf8\"))\n",
    "old_translations.keys()"
   ]
  },
  {
   "cell_type": "code",
   "execution_count": 9,
   "id": "dbee98ed",
   "metadata": {},
   "outputs": [],
   "source": [
    "new_translations = dict(old_translations)\n",
    "new_translations.keys()\n",
    "for s_lang in src_langs:\n",
    "    for t_lang in tgt_langs:\n",
    "        st_key = f\"{s_lang}_to_{t_lang}\"\n",
    "        new_translations[st_key] = {}"
   ]
  },
  {
   "cell_type": "code",
   "execution_count": 12,
   "id": "b324b1df",
   "metadata": {},
   "outputs": [],
   "source": [
    "def sample_translations():\n",
    "    for s_lang in src_langs:\n",
    "        for t_lang in tgt_langs:\n",
    "            st_key = f\"{s_lang}_to_{t_lang}\"\n",
    "            if st_key in new_translations:\n",
    "                translations = new_translations[st_key]\n",
    "                print(len(translations), f\"{st_key} translations\")\n",
    "                print([(x, translations[x]) for x in translations][:10])"
   ]
  },
  {
   "cell_type": "code",
   "execution_count": 13,
   "id": "d2b84c37",
   "metadata": {},
   "outputs": [
    {
     "name": "stdout",
     "output_type": "stream",
     "text": [
      "0 sux_to_en translations\n",
      "[]\n",
      "0 akk_to_en translations\n",
      "[]\n"
     ]
    }
   ],
   "source": [
    "sample_translations()"
   ]
  },
  {
   "cell_type": "markdown",
   "id": "ada5268c",
   "metadata": {},
   "source": [
    "## Load the Model"
   ]
  },
  {
   "cell_type": "code",
   "execution_count": 14,
   "id": "b41e0d6e",
   "metadata": {},
   "outputs": [
    {
     "data": {
      "application/vnd.jupyter.widget-view+json": {
       "model_id": "3013161d8c584ac9b2082ca3f205c3da",
       "version_major": 2,
       "version_minor": 0
      },
      "text/plain": [
       "Downloading:   0%|          | 0.00/1.88k [00:00<?, ?B/s]"
      ]
     },
     "metadata": {},
     "output_type": "display_data"
    },
    {
     "data": {
      "application/vnd.jupyter.widget-view+json": {
       "model_id": "c72a9eaa33d2464bb77b64d2b49c0f6c",
       "version_major": 2,
       "version_minor": 0
      },
      "text/plain": [
       "Downloading:   0%|          | 0.00/2.31M [00:00<?, ?B/s]"
      ]
     },
     "metadata": {},
     "output_type": "display_data"
    },
    {
     "data": {
      "application/vnd.jupyter.widget-view+json": {
       "model_id": "aa927361af8f4cfaa3763e44472a2547",
       "version_major": 2,
       "version_minor": 0
      },
      "text/plain": [
       "Downloading:   0%|          | 0.00/1.74k [00:00<?, ?B/s]"
      ]
     },
     "metadata": {},
     "output_type": "display_data"
    },
    {
     "data": {
      "text/plain": [
       "512"
      ]
     },
     "execution_count": 14,
     "metadata": {},
     "output_type": "execute_result"
    }
   ],
   "source": [
    "tokenizer = AutoTokenizer.from_pretrained(model_id, revision=model_revision, device=device)\n",
    "model_max_length = tokenizer.model_max_length\n",
    "model_max_length"
   ]
  },
  {
   "cell_type": "code",
   "execution_count": 15,
   "id": "fcdfb82a",
   "metadata": {
    "scrolled": true
   },
   "outputs": [
    {
     "data": {
      "application/vnd.jupyter.widget-view+json": {
       "model_id": "900755b15edf4fd890b2a45c2b3df8f2",
       "version_major": 2,
       "version_minor": 0
      },
      "text/plain": [
       "Downloading:   0%|          | 0.00/1.41k [00:00<?, ?B/s]"
      ]
     },
     "metadata": {},
     "output_type": "display_data"
    },
    {
     "data": {
      "application/vnd.jupyter.widget-view+json": {
       "model_id": "b541598ddcfc40249c073f1d66c746bc",
       "version_major": 2,
       "version_minor": 0
      },
      "text/plain": [
       "Downloading:   0%|          | 0.00/850M [00:00<?, ?B/s]"
      ]
     },
     "metadata": {},
     "output_type": "display_data"
    }
   ],
   "source": [
    "model = AutoModelForSeq2SeqLM.from_pretrained(model_id, revision=model_revision, max_length=tokenizer.model_max_length)\n",
    "model = model.to(device)\n",
    "# model"
   ]
  },
  {
   "cell_type": "code",
   "execution_count": 76,
   "id": "c0902776",
   "metadata": {},
   "outputs": [],
   "source": [
    "pipeline = TranslationPipeline(model=model, tokenizer=tokenizer, batch_size=batch_size, device=0)"
   ]
  },
  {
   "cell_type": "code",
   "execution_count": 77,
   "id": "13b57bda",
   "metadata": {},
   "outputs": [
    {
     "name": "stdout",
     "output_type": "stream",
     "text": [
      "[{'translation_text': 'ulmanu-re, great king, strong king, king of the universe,'}]\n",
      "[{'translation_text': 'I built it anew.'}]\n"
     ]
    }
   ],
   "source": [
    "print(pipeline(\"translate Akkadian to English: 1(disz){d}szul3-ma-nu-_sag man gal?_-u2 _man_ dan-nu _man kisz_\"))\n",
    "print(pipeline(\"translate Akkadian to English: ra-bi-isz e-pu-usz\"))"
   ]
  },
  {
   "cell_type": "markdown",
   "id": "31c42721",
   "metadata": {},
   "source": [
    "## Load Transliterations to Translate"
   ]
  },
  {
   "cell_type": "code",
   "execution_count": 22,
   "id": "1b7bf11a",
   "metadata": {},
   "outputs": [],
   "source": [
    "import corpi\n",
    "import cdli"
   ]
  },
  {
   "cell_type": "code",
   "execution_count": 23,
   "id": "09b649ac",
   "metadata": {},
   "outputs": [
    {
     "data": {
      "text/plain": [
       "<module 'corpi' from '/home/fak/Projects/CuneiformTranslators/tools/corpi.py'>"
      ]
     },
     "execution_count": 23,
     "metadata": {},
     "output_type": "execute_result"
    }
   ],
   "source": [
    "import importlib\n",
    "importlib.reload(corpi)"
   ]
  },
  {
   "cell_type": "markdown",
   "id": "37377b14",
   "metadata": {},
   "source": [
    "## Load ORACC"
   ]
  },
  {
   "cell_type": "code",
   "execution_count": 24,
   "id": "8cce8c25",
   "metadata": {},
   "outputs": [
    {
     "data": {
      "text/plain": [
       "<module 'cdli' from '/home/fak/Projects/CuneiformTranslators/tools/cdli.py'>"
      ]
     },
     "execution_count": 24,
     "metadata": {},
     "output_type": "execute_result"
    }
   ],
   "source": [
    "importlib.reload(cdli)"
   ]
  },
  {
   "cell_type": "code",
   "execution_count": 25,
   "id": "9af29ebd",
   "metadata": {},
   "outputs": [
    {
     "data": {
      "text/plain": [
       "'/Volumes/FrankDisk/oracc_zips'"
      ]
     },
     "execution_count": 25,
     "metadata": {},
     "output_type": "execute_result"
    }
   ],
   "source": [
    "oracc_dir = os.path.abspath(f\"/Volumes/FrankDisk/oracc_zips\")\n",
    "# oracc_dir = os.path.abspath(f\"/home/fak/nn/Data/oracc_zips\")\n",
    "oracc_dir"
   ]
  },
  {
   "cell_type": "code",
   "execution_count": 27,
   "id": "381f9736",
   "metadata": {},
   "outputs": [],
   "source": [
    "oracc_corpus = corpi.ORACC(oracc_dir)"
   ]
  },
  {
   "cell_type": "markdown",
   "id": "a86545b0",
   "metadata": {},
   "source": [
    "## Load CDLI"
   ]
  },
  {
   "cell_type": "code",
   "execution_count": 28,
   "id": "a3c0593b",
   "metadata": {},
   "outputs": [
    {
     "name": "stdout",
     "output_type": "stream",
     "text": [
      "Downloading https://github.com/cdli-gh/data/raw/master/cdliatf_unblocked.atf\n",
      "Parsing atf\n"
     ]
    }
   ],
   "source": [
    "cdli_corpus = corpi.CDLI()"
   ]
  },
  {
   "cell_type": "markdown",
   "id": "ec678bcc",
   "metadata": {},
   "source": [
    "## Find just the transliterations"
   ]
  },
  {
   "cell_type": "code",
   "execution_count": 29,
   "id": "859790ba",
   "metadata": {},
   "outputs": [
    {
     "name": "stdout",
     "output_type": "stream",
     "text": [
      "sux 104444\n",
      "akk 32259\n"
     ]
    }
   ],
   "source": [
    "def get_all_transliterated_pubs(src_lang):\n",
    "    transliterated_cdli_index = cdli_corpus.get_pubs_with_lang(src_lang)\n",
    "    transliterated_cdli_ids = set(transliterated_cdli_index.keys())\n",
    "    transliterated_oracc_index = oracc_corpus.get_pubs_with_lang(src_lang)\n",
    "    transliterated_oracc_ids = set(transliterated_oracc_index.keys())\n",
    "    all_ids = set(transliterated_oracc_ids)\n",
    "    all_ids = all_ids.union(transliterated_cdli_ids)\n",
    "    return all_ids, transliterated_cdli_index, transliterated_oracc_index\n",
    "\n",
    "all_transliterated_pubs = {\n",
    "    \"sux\": get_all_transliterated_pubs(\"sux\"),\n",
    "    \"akk\": get_all_transliterated_pubs(\"akk\")\n",
    "}\n",
    "print(\"sux\", len(all_transliterated_pubs[\"sux\"][0]))\n",
    "print(\"akk\", len(all_transliterated_pubs[\"akk\"][0]))"
   ]
  },
  {
   "cell_type": "markdown",
   "id": "44291a7f",
   "metadata": {},
   "source": [
    "## Build Need Translation List"
   ]
  },
  {
   "cell_type": "code",
   "execution_count": 30,
   "id": "8ceb6885",
   "metadata": {},
   "outputs": [
    {
     "data": {
      "application/vnd.jupyter.widget-view+json": {
       "model_id": "638561608a7d46efa04d45f326a7aea2",
       "version_major": 2,
       "version_minor": 0
      },
      "text/plain": [
       "  0%|          | 0/104444 [00:00<?, ?it/s]"
      ]
     },
     "metadata": {},
     "output_type": "display_data"
    },
    {
     "name": "stdout",
     "output_type": "stream",
     "text": [
      "sux max line length 511\n"
     ]
    },
    {
     "data": {
      "application/vnd.jupyter.widget-view+json": {
       "model_id": "f1fbb92e581c45dcb4a9e444c8d3bb4a",
       "version_major": 2,
       "version_minor": 0
      },
      "text/plain": [
       "  0%|          | 0/32259 [00:00<?, ?it/s]"
      ]
     },
     "metadata": {},
     "output_type": "display_data"
    },
    {
     "name": "stdout",
     "output_type": "stream",
     "text": [
      "akk max line length 522\n",
      "553291 sux needs translation\n",
      "293029 akk needs translation\n"
     ]
    }
   ],
   "source": [
    "def get_need_translations(src_lang, encoding=\"ascii\", tgt_lang=\"en\"):\n",
    "    srcs = set()\n",
    "\n",
    "    pub_ids, transliterated_cdli_index, transliterated_oracc_index = all_transliterated_pubs[src_lang]\n",
    "    max_line_length = 0\n",
    "\n",
    "    for pub_id in tqdm(pub_ids):\n",
    "        corpus = \"cdli\" if pub_id in transliterated_cdli_index else \"oracc\"\n",
    "        if corpus == \"cdli\":\n",
    "            pub = transliterated_cdli_index[pub_id]\n",
    "        else:\n",
    "            # print(pub_id, \"in oracc\")\n",
    "            pub = transliterated_oracc_index[pub_id]\n",
    "        for a in pub.text_areas:\n",
    "            if (corpus == \"cdli\") and len(a.lines) > 0 and len(a.paragraphs) == 0:\n",
    "                a.lines_to_paragraphs(src_lang, tgt_lang)\n",
    "            paras = a.paragraphs_to_lines(max_line_length=512)\n",
    "            for p in paras:\n",
    "                for si,ei,line in p:\n",
    "                    if len(line) > max_line_length:\n",
    "                        max_line_length = len(line)\n",
    "                    srcs.add(line)\n",
    "    print(src_lang, \"max line length\", max_line_length)\n",
    "    return srcs\n",
    "needs_translation = {     \n",
    "    \"sux\": get_need_translations(\"sux\"),\n",
    "    \"akk\": get_need_translations(\"akk\"),\n",
    "}\n",
    "print(len(needs_translation[\"sux\"]), \"sux needs translation\")\n",
    "print(len(needs_translation[\"akk\"]), \"akk needs translation\")\n"
   ]
  },
  {
   "cell_type": "code",
   "execution_count": 31,
   "id": "c7b88abd",
   "metadata": {},
   "outputs": [
    {
     "data": {
      "text/plain": [
       "['[x x x mu]-kin-nu# {m}s,il-la-a{*}-[a x x x]',\n",
       " '_2(u) [n] u4 iti_ e-bir5#-tin',\n",
       " '_{gesz#}szudun#_ an-szar2 sza2 is,-lu-u e-mid-su-nu-ti _{lu2}gar-kur-mesz {lu2}til-gid2-mesz_ szi-kin _szu-min_-ia',\n",
       " 'szi2-bu-ti2-ni / ni-di2-in _igi_ sza-lim-esz18-dar _igi_ en-um-a-szur _igi_ a-szur-ma-lik',\n",
       " '1(u)? _lu2-mesz_ sza _{gesz}szukur_ i-na-as,#-s,a#-ru-szu',\n",
       " '5(u) _lim ansze-kur-ra-mesz_ dan-nu-ti s,i-mit-ti# [ni-ri ...]',\n",
       " '_be g_ÍR ka-pí-ìs, ina 15 ZÉ BÙR _szub_',\n",
       " '[...] la i-sze9-em-me-e 1(u) _gin2 ku3-babbar_ asz-szum a-bi#-ka x [(x)] _ku_? szu-bi-lam ub-ba# [x x x x (x) (x)]-lam',\n",
       " 'A {disz}na-x#-_su_-{d}_en-lil2-la2_',\n",
       " '_igi_ {m}{d}30—_i igi_ {m}_iti-kin_-a-a']"
      ]
     },
     "execution_count": 31,
     "metadata": {},
     "output_type": "execute_result"
    }
   ],
   "source": [
    "list(needs_translation[\"akk\"])[:10]"
   ]
  },
  {
   "cell_type": "code",
   "execution_count": 90,
   "id": "dacd9569",
   "metadata": {},
   "outputs": [
    {
     "name": "stdout",
     "output_type": "stream",
     "text": [
      "846,320 to translate\n"
     ]
    },
    {
     "data": {
      "application/vnd.jupyter.widget-view+json": {
       "model_id": "d71c3cf0d53a40d9a5b3cb939929fa00",
       "version_major": 2,
       "version_minor": 0
      },
      "text/plain": [
       "  0%|          | 0/553291 [00:00<?, ?it/s]"
      ]
     },
     "metadata": {},
     "output_type": "display_data"
    },
    {
     "data": {
      "application/vnd.jupyter.widget-view+json": {
       "model_id": "c90567e9769c40bda3bf7f0dc1254edc",
       "version_major": 2,
       "version_minor": 0
      },
      "text/plain": [
       "  0%|          | 0/293029 [00:00<?, ?it/s]"
      ]
     },
     "metadata": {},
     "output_type": "display_data"
    },
    {
     "name": "stdout",
     "output_type": "stream",
     "text": [
      "114,385 left to translate\n"
     ]
    },
    {
     "data": {
      "application/vnd.jupyter.widget-view+json": {
       "model_id": "a7b7c993c88648ca9a3229f18dcaa05c",
       "version_major": 2,
       "version_minor": 0
      },
      "text/plain": [
       "  0%|          | 0/114385 [00:00<?, ?it/s]"
      ]
     },
     "metadata": {},
     "output_type": "display_data"
    }
   ],
   "source": [
    "def get_translations(tgt_lang = \"en\"):\n",
    "    for src_lang in src_langs:\n",
    "        st_key = f\"{src_lang}_to_{tgt_lang}\"\n",
    "        news = new_translations[st_key]\n",
    "        # print(list(olds)[:10])\n",
    "        for src in tqdm(needs_translation[src_lang]):\n",
    "            if src not in news:\n",
    "                yield (src_lang, tgt_lang, src, f\"translate {languages.all_languages[src_lang]} to {languages.all_languages[tgt_lang]}: \" + src)\n",
    "\n",
    "num_need_translate = sum([len(x) for x in needs_translation.values()])\n",
    "print(f\"{num_need_translate:,} to translate\")\n",
    "to_translate = list(get_translations())\n",
    "print(f\"{len(to_translate):,} left to translate\")\n",
    "                \n",
    "def get_translations_gen():\n",
    "    for src_lang, tft_lang, s, q in tqdm(to_translate):\n",
    "        yield q\n",
    "\n",
    "r = pipeline(get_translations_gen())\n",
    "for i, tr in enumerate(r):\n",
    "    src_lang, tft_lang, s, q = to_translate[i]\n",
    "    st_key = f\"{src_lang}_to_{tgt_lang}\"\n",
    "    translations = new_translations[st_key]\n",
    "    t = tr[0]['translation_text']\n",
    "    translations[s] = t\n"
   ]
  },
  {
   "cell_type": "code",
   "execution_count": 91,
   "id": "1c45ef46",
   "metadata": {},
   "outputs": [
    {
     "name": "stdout",
     "output_type": "stream",
     "text": [
      "553291 sux_to_en translations\n",
      "[('kiszib3 ur-{d}iszkur iti diri sze-sag11-ku5 mu {d}szu-{d}suen lugal e2 {d}szara2 umma{ki}-ka mu-du3', 'under seal of Ur-Ikur; extra month: “Harvest,” year: “u-Suen, the king, the house of ara in Umma erected.”'), ('[...] = %a [...] x x [...] [...] _har_-_ku_ he2#-en#-gub#-[gub-bu] = %a [...] lil-la-bi-ib [a-bu-bu]', '... may ... stand there'), ('sza3 mu-kux(_du_) er2 su3-a', 'in the delivery of the red tears;'), ('[...] x [...] [iti szu]-numun-sze3#? [x]-bi 4(u) 4(asz) iti 2(disz)-sze3# szunigin 1(gesz2) 3(u) 4(asz) kasz saga gur#', '... ..., for the month “Sowing,” its ...: 44 gur, for 2 months, total: 94 gur fine beer,'), ('azux2(_zu5_){a}-_du-hub2#_', 'a kind of profession'), ('[x] ninda _ka_-gu7 ba-an-ne2 1(u) du8 [x] ninda bappir3 ba-an-[ne2] 1(u) du8 3(asz@c)#? ninda _ka_-gu7 [ba]-an-ne2 1(u) du8', '... bread ... ... 10 loaves ... bread ... 10 loaves 3? bread ... ... 10 loaves'), ('giri3 ur-{d}gilgamesx(|_bil3-ga-mes_|) dumu al-la', 'via Ur-Gilgamesh, son of Alla;'), ('2(barig@c) bar-kam lu2-x-x sagi [...]', '2 barig barley rations for Lu-..., cupbearer, ...;'), ('sa-al-hub2 _igi szu gan_ nu-sze-ga szu2-a an-sze3 _du_ ki?-tusz? ga2-la nu-dag-ge me nig2-nam-ma da-ga-an-ba szu ti-a', 'The saalhub priestess, whose face is not favourable, whose hand is not favourable to heaven, whose dwelling is not favourable to heaven, whose divine powers are all over the world, whose hand is favourable,'), ('7(asz@c) 2(barig@c) ziz2 gu2-nida ziz2 bala-bi 1(asz@c) 1(barig@c) sa2-du11 e2-nig2-ka-kam ur2-mud', '7 gur 2 barig emmer, its bala-flour, 1 gur 1 barig regular offerings for the Enigka; Urmud;')]\n",
      "293029 akk_to_en translations\n",
      "[('[x x x mu]-kin-nu# {m}s,il-la-a{*}-[a x x x]', '... the setting up of illaya ...'), ('_2(u) [n] u4 iti_ e-bir5#-tin', '20 ..., the day of the month, Ebirtinu;'), ('_{gesz#}szudun#_ an-szar2 sza2 is,-lu-u e-mid-su-nu-ti _{lu2}gar-kur-mesz {lu2}til-gid2-mesz_ szi-kin _szu-min_-ia', 'I imposed upon them the yoke of Ashur, which they had fashioned. The governors and the treasurers, the subjects of my hands,'), ('szi2-bu-ti2-ni / ni-di2-in _igi_ sza-lim-esz18-dar _igi_ en-um-a-szur _igi_ a-szur-ma-lik', 'our fates we gave. Before alim-Itar; before Enum-Aur; before Aur-malik;'), ('1(u)? _lu2-mesz_ sza _{gesz}szukur_ i-na-as,#-s,a#-ru-szu', '10 men of the chariot guard him.'), ('5(u) _lim ansze-kur-ra-mesz_ dan-nu-ti s,i-mit-ti# [ni-ri ...]', '5,000 strong horses, ... the yoke of the king, my lord,'), ('_be g_ÍR ka-pí-ìs, ina 15 ZÉ BÙR _szub_', \"The 'path' is curled. In the right of the gall bladder there is a hole.\"), ('[...] la i-sze9-em-me-e 1(u) _gin2 ku3-babbar_ asz-szum a-bi#-ka x [(x)] _ku_? szu-bi-lam ub-ba# [x x x x (x) (x)]-lam', '... he will not hear. 10 shekels of silver as to your father ... send ... ...'), ('A {disz}na-x#-_su_-{d}_en-lil2-la2_', 'descendant of Na-x-eriba-Enlil'), ('_igi_ {m}{d}30—_i igi_ {m}_iti-kin_-a-a', \"Witness Sin-na'id. Witness Ululayu.\")]\n"
     ]
    }
   ],
   "source": [
    "sample_translations()"
   ]
  },
  {
   "cell_type": "markdown",
   "id": "727c5dec",
   "metadata": {},
   "source": [
    "## Save the Translations"
   ]
  },
  {
   "cell_type": "code",
   "execution_count": 111,
   "id": "e19455b8",
   "metadata": {},
   "outputs": [],
   "source": [
    "def write_translations(f):\n",
    "    f.write(\"{\\n\")\n",
    "    f.write(f\"\\\"model_id\\\":\\\"{model_id}\\\",\\n\")\n",
    "    f.write(f\"\\\"model_revision\\\":\\\"{model_revision}\\\"\")\n",
    "    for st_key in sorted([x for x in new_translations if not x.startswith(\"model_\")]):\n",
    "        f.write(f\",\\n\\\"{st_key}\\\":{{\\n\")\n",
    "        translations = new_translations[st_key]\n",
    "        head = \"\"\n",
    "        for s in sorted(list(translations.keys())):\n",
    "            f.write(head)\n",
    "            f.write(json.dumps(s))\n",
    "            f.write(\": \")\n",
    "            f.write(json.dumps(translations[s]))\n",
    "            head = \",\\n\"\n",
    "        f.write(\"}\")\n",
    "    f.write(\"}\\n\")\n",
    "    \n",
    "# write_translations(sys.stdout)"
   ]
  },
  {
   "cell_type": "code",
   "execution_count": 112,
   "id": "00f5c738",
   "metadata": {},
   "outputs": [],
   "source": [
    "with open(output_json_path, \"wt\") as f:\n",
    "    write_translations(f)"
   ]
  },
  {
   "cell_type": "code",
   "execution_count": null,
   "id": "0da2e4c9",
   "metadata": {},
   "outputs": [],
   "source": []
  },
  {
   "cell_type": "code",
   "execution_count": null,
   "id": "09bb4fad",
   "metadata": {},
   "outputs": [],
   "source": [
    "import zipfile\n",
    "\n",
    "def compress(zip_name, file_to_zip):\n",
    "    if os.path.exists(zip_name):\n",
    "        os.unlink(zip_name)\n",
    "    # Create a new zip file and add files to it\n",
    "    with zipfile.ZipFile(zip_name, 'w', compression=zipfile.ZIP_DEFLATED) as zf:\n",
    "        zf.write(file_to_zip)\n",
    "\n",
    "compress('../data/ml_translations.zip', '../data/ml_translations.json')\n",
    "compress('../data/oracc_pubs.zip', '../data/oracc_pubs.json')"
   ]
  },
  {
   "cell_type": "code",
   "execution_count": null,
   "id": "5f514837",
   "metadata": {},
   "outputs": [],
   "source": [
    "!ls -al ../data"
   ]
  },
  {
   "cell_type": "code",
   "execution_count": 105,
   "id": "99ab2087",
   "metadata": {},
   "outputs": [
    {
     "name": "stdout",
     "output_type": "stream",
     "text": [
      "293029\n",
      "553291\n"
     ]
    }
   ],
   "source": [
    "new_json = json.load(open(output_json_path, \"rt\"))\n",
    "print(len(new_json[\"akk_to_en\"]))\n",
    "print(len(new_json[\"sux_to_en\"]))"
   ]
  },
  {
   "cell_type": "code",
   "execution_count": null,
   "id": "aeb261ff",
   "metadata": {},
   "outputs": [],
   "source": []
  }
 ],
 "metadata": {
  "kernelspec": {
   "display_name": "Python 3 (ipykernel)",
   "language": "python",
   "name": "python3"
  },
  "language_info": {
   "codemirror_mode": {
    "name": "ipython",
    "version": 3
   },
   "file_extension": ".py",
   "mimetype": "text/x-python",
   "name": "python",
   "nbconvert_exporter": "python",
   "pygments_lexer": "ipython3",
   "version": "3.10.4"
  }
 },
 "nbformat": 4,
 "nbformat_minor": 5
}
