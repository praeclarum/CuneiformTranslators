{
 "cells": [
  {
   "attachments": {},
   "cell_type": "markdown",
   "id": "a01459ea",
   "metadata": {},
   "source": [
    "# Make Web Site"
   ]
  },
  {
   "cell_type": "code",
   "execution_count": 1,
   "id": "902bef73",
   "metadata": {},
   "outputs": [],
   "source": [
    "import sys, os, io, datetime\n",
    "import json\n",
    "import random\n",
    "import requests\n",
    "import zipfile\n",
    "import glob\n",
    "import re\n",
    "import shutil\n",
    "import pandas as pd\n",
    "from slugify import slugify\n",
    "from tqdm.notebook import tqdm\n",
    "from html import escape\n",
    "from collections import defaultdict"
   ]
  },
  {
   "cell_type": "code",
   "execution_count": 2,
   "id": "ef6812c9",
   "metadata": {},
   "outputs": [],
   "source": [
    "import corpi\n",
    "import cdli\n",
    "import oracc\n",
    "import languages"
   ]
  },
  {
   "cell_type": "code",
   "execution_count": 3,
   "id": "ba6f8fbf",
   "metadata": {},
   "outputs": [],
   "source": [
    "import importlib"
   ]
  },
  {
   "cell_type": "code",
   "execution_count": 4,
   "id": "acbefe00",
   "metadata": {},
   "outputs": [],
   "source": [
    "pd.set_option(\"display.max_columns\", None)"
   ]
  },
  {
   "cell_type": "code",
   "execution_count": 5,
   "id": "c50f4094",
   "metadata": {},
   "outputs": [],
   "source": [
    "supported_langs = set([\"akk\", \"sux\"])"
   ]
  },
  {
   "cell_type": "code",
   "execution_count": 6,
   "id": "63b1ed21",
   "metadata": {},
   "outputs": [
    {
     "data": {
      "text/plain": [
       "'/Users/fak/Dropbox/Projects/CuneiformTranslators/dist'"
      ]
     },
     "execution_count": 6,
     "metadata": {},
     "output_type": "execute_result"
    }
   ],
   "source": [
    "wwwroot = os.path.abspath(\"../dist\")\n",
    "os.makedirs(wwwroot, exist_ok=True)\n",
    "wwwroot"
   ]
  },
  {
   "attachments": {},
   "cell_type": "markdown",
   "id": "4cb499e5",
   "metadata": {},
   "source": [
    "## CDLI"
   ]
  },
  {
   "cell_type": "code",
   "execution_count": 7,
   "id": "7dc044b7",
   "metadata": {},
   "outputs": [
    {
     "data": {
      "text/plain": [
       "<module 'corpi' from '/Users/fak/Dropbox/Projects/CuneiformTranslators/tools/corpi.py'>"
      ]
     },
     "execution_count": 7,
     "metadata": {},
     "output_type": "execute_result"
    }
   ],
   "source": [
    "importlib.reload(cdli)\n",
    "importlib.reload(oracc)\n",
    "importlib.reload(corpi)"
   ]
  },
  {
   "cell_type": "code",
   "execution_count": 8,
   "id": "05ecf415",
   "metadata": {},
   "outputs": [],
   "source": [
    "cdli_corpus = corpi.CDLI()"
   ]
  },
  {
   "attachments": {},
   "cell_type": "markdown",
   "id": "5bc8c8ae",
   "metadata": {},
   "source": [
    "## ORACC"
   ]
  },
  {
   "cell_type": "code",
   "execution_count": 9,
   "id": "cbfe5bd5",
   "metadata": {},
   "outputs": [],
   "source": [
    "oracc_dir=\"/Volumes/FrankDisk/oracc_zips\"\n",
    "oracc_corpus = corpi.ORACC(oracc_dir=oracc_dir, tqdm=tqdm)"
   ]
  },
  {
   "attachments": {},
   "cell_type": "markdown",
   "id": "3c762667",
   "metadata": {},
   "source": [
    "## Merge"
   ]
  },
  {
   "cell_type": "code",
   "execution_count": 10,
   "id": "a559bc0d",
   "metadata": {},
   "outputs": [
    {
     "name": "stdout",
     "output_type": "stream",
     "text": [
      "Found 134796 unique publications\n"
     ]
    }
   ],
   "source": [
    "all_pubs = dict()\n",
    "for p in oracc_corpus.oracc_pubs.values():\n",
    "    if p.language in supported_langs:\n",
    "        p.corpus = \"oracc\"\n",
    "        all_pubs[p.id] = p\n",
    "for p in cdli_corpus.cdli_pubs.values():\n",
    "    if p.language in supported_langs:\n",
    "        p.corpus = \"cdli\"\n",
    "        all_pubs[p.id] = p\n",
    "print(f\"Found {len(all_pubs)} unique publications\")"
   ]
  },
  {
   "cell_type": "code",
   "execution_count": 11,
   "id": "b2a505f5",
   "metadata": {},
   "outputs": [
    {
     "name": "stdout",
     "output_type": "stream",
     "text": [
      "Found 380 directories\n"
     ]
    }
   ],
   "source": [
    "# Group publications by the first 4 characters of pub.id to create a directory structure\n",
    "all_pubs_by_dir = defaultdict(list)\n",
    "for p in all_pubs.values():\n",
    "    all_pubs_by_dir[p.id[:4].lower()].append(p)\n",
    "print(f\"Found {len(all_pubs_by_dir)} directories\")\n"
   ]
  },
  {
   "attachments": {},
   "cell_type": "markdown",
   "id": "4a42cb4f",
   "metadata": {},
   "source": [
    "## Get the ML Translations"
   ]
  },
  {
   "cell_type": "code",
   "execution_count": 12,
   "id": "b2741947",
   "metadata": {},
   "outputs": [
    {
     "name": "stdout",
     "output_type": "stream",
     "text": [
      "akk_to_en 301778\n",
      "sux_to_en 553296\n"
     ]
    }
   ],
   "source": [
    "translations_zip_path = \"../data/ml_translations.zip\"\n",
    "with open(translations_zip_path, \"rb\") as f:\n",
    "    with zipfile.ZipFile(f) as zf:\n",
    "        json_name = [n for n in zf.namelist() if n.endswith(\".json\")][0]\n",
    "        translations = json.loads(str(zf.read(json_name), \"utf-8\"))\n",
    "for k in translations.keys():\n",
    "    if \"_to_\" in k:\n",
    "        print(k, len(translations[k]))"
   ]
  },
  {
   "cell_type": "code",
   "execution_count": 13,
   "id": "4e9225c3",
   "metadata": {},
   "outputs": [
    {
     "name": "stdout",
     "output_type": "stream",
     "text": [
      "num_transliterations: 134796\n",
      "    num_translations: 14632\n"
     ]
    }
   ],
   "source": [
    "num_transliterations = len(all_pubs)\n",
    "num_translations = len([x for x in all_pubs.values() if x.has_translations()])\n",
    "print(\"num_transliterations:\", num_transliterations)\n",
    "print(\"    num_translations:\", num_translations)"
   ]
  },
  {
   "attachments": {},
   "cell_type": "markdown",
   "id": "2682c03a",
   "metadata": {},
   "source": [
    "## Find Publications we have translations for"
   ]
  },
  {
   "cell_type": "code",
   "execution_count": 39,
   "id": "8a9ba290",
   "metadata": {},
   "outputs": [
    {
     "data": {
      "application/json": {
       "ascii": false,
       "bar_format": null,
       "colour": null,
       "elapsed": 0.018843889236450195,
       "initial": 0,
       "n": 0,
       "ncols": null,
       "nrows": null,
       "postfix": null,
       "prefix": "",
       "rate": null,
       "total": 134796,
       "unit": "it",
       "unit_divisor": 1000,
       "unit_scale": false
      },
      "application/vnd.jupyter.widget-view+json": {
       "model_id": "98ee4cc4649a49bfb7911ab9d9836dc0",
       "version_major": 2,
       "version_minor": 0
      },
      "text/plain": [
       "  0%|          | 0/134796 [00:00<?, ?it/s]"
      ]
     },
     "metadata": {},
     "output_type": "display_data"
    },
    {
     "ename": "Exception",
     "evalue": "pub P334661 has no translation (akk_to_en) for: [ina _szu-2_] LÚ{v}-A—szip-ri-ia ina pa-an _lugal en_-ia [a]-sa-ap-ra-ász-szu _lugal#_ be-lí lisz-al-szú",
     "output_type": "error",
     "traceback": [
      "\u001b[0;31m---------------------------------------------------------------------------\u001b[0m",
      "\u001b[0;31mException\u001b[0m                                 Traceback (most recent call last)",
      "Cell \u001b[0;32mIn[39], line 29\u001b[0m\n\u001b[1;32m     27\u001b[0m                     head \u001b[39m=\u001b[39m \u001b[39m\"\u001b[39m\u001b[39m \u001b[39m\u001b[39m\"\u001b[39m\n\u001b[1;32m     28\u001b[0m                 \u001b[39melse\u001b[39;00m:\n\u001b[0;32m---> 29\u001b[0m                     \u001b[39mraise\u001b[39;00m \u001b[39mException\u001b[39;00m(\u001b[39mf\u001b[39m\u001b[39m\"\u001b[39m\u001b[39mpub \u001b[39m\u001b[39m{\u001b[39;00mpub\u001b[39m.\u001b[39mid\u001b[39m}\u001b[39;00m\u001b[39m has no translation (\u001b[39m\u001b[39m{\u001b[39;00mst_key\u001b[39m}\u001b[39;00m\u001b[39m) for: \u001b[39m\u001b[39m{\u001b[39;00ms\u001b[39m}\u001b[39;00m\u001b[39m\"\u001b[39m)\n\u001b[1;32m     30\u001b[0m                     has_ml_translations \u001b[39m=\u001b[39m \u001b[39mFalse\u001b[39;00m\n\u001b[1;32m     31\u001b[0m pub\u001b[39m.\u001b[39mhas_new_translations \u001b[39m=\u001b[39m has_new_translations\n",
      "\u001b[0;31mException\u001b[0m: pub P334661 has no translation (akk_to_en) for: [ina _szu-2_] LÚ{v}-A—szip-ri-ia ina pa-an _lugal en_-ia [a]-sa-ap-ra-ász-szu _lugal#_ be-lí lisz-al-szú"
     ]
    }
   ],
   "source": [
    "tgt_lang = \"en\"\n",
    "\n",
    "translated_pubs = []\n",
    "\n",
    "for pub in tqdm(list(all_pubs.values())):\n",
    "    has_new_translations = False\n",
    "    has_ml_translations = True\n",
    "    has_lines = False\n",
    "    st_key = f\"{pub.language}_to_{tgt_lang}\"\n",
    "    if st_key not in translations:\n",
    "        continue\n",
    "    st_translations = translations[st_key]\n",
    "    for a in pub.text_areas:\n",
    "        if pub.corpus == \"cdli\" and len(a.lines) > 0 and len(a.paragraphs) == 0:\n",
    "            a.lines_to_paragraphs(pub.language, tgt_lang)\n",
    "        paras = a.paragraphs_to_lines()\n",
    "        for i, plines in enumerate(paras):\n",
    "            p = a.paragraphs[i]\n",
    "            p.languages[\"ml_\"+tgt_lang] = \"\"\n",
    "            head = \"\"\n",
    "            for si,ei,s in plines:\n",
    "                if len(s) > 1:\n",
    "                    has_lines = True\n",
    "                    has_new_translations = has_new_translations or (tgt_lang not in p.languages)\n",
    "                    if s in st_translations:\n",
    "                        p.languages[\"ml_\"+tgt_lang] += head + st_translations[s]\n",
    "                        head = \" \"\n",
    "                    else:\n",
    "                        raise Exception(f\"pub {pub.id} has no translation ({st_key}) for: {s}\")\n",
    "                        has_ml_translations = False\n",
    "    pub.has_new_translations = has_new_translations\n",
    "    pub.has_ml_translations = has_ml_translations\n",
    "    if has_ml_translations and has_lines:\n",
    "        translated_pubs.append(pub)\n",
    "    \n",
    "newly_translated_pubs = [x for x in translated_pubs if x.has_new_translations]\n",
    "print(len(translated_pubs), \"ml translated_pubs\")\n",
    "print(len(newly_translated_pubs), \"newly_translated_pubs\")"
   ]
  },
  {
   "cell_type": "code",
   "execution_count": 15,
   "id": "9b2c5356",
   "metadata": {},
   "outputs": [
    {
     "data": {
      "text/plain": [
       "(99420, 'sux')"
      ]
     },
     "execution_count": 15,
     "metadata": {},
     "output_type": "execute_result"
    }
   ],
   "source": [
    "len([x for x in translated_pubs if x.language == \"sux\"]), \"sux\""
   ]
  },
  {
   "cell_type": "code",
   "execution_count": 16,
   "id": "81004c3a",
   "metadata": {},
   "outputs": [
    {
     "data": {
      "text/plain": [
       "Publication('P519714', 'akk', [TextArea('object stele', [], []), TextArea('surface a', [], []), TextArea(\"column 1'\", [TextLine(\"1'.\", '[...] ($ blank space $)', {}), TextLine(\"2'.\", '[...] x', {}), TextLine(\"3'.\", '[...] x', {}), TextLine(\"4'.\", '[...] x', {}), TextLine(\"5'.\", '[...] x', {})], [TextParagraph(0, 5, {'ml_en': 'No translation possible'})]), TextArea(\"column 2'\", [TextLine(\"1'.\", 'x [...]', {}), TextLine(\"2'.\", 'x [...]', {}), TextLine(\"3'.\", 'i-[...]', {}), TextLine(\"4'.\", '{d}[...]', {}), TextLine(\"5'.\", 'x [...]', {}), TextLine(\"6'.\", '[...]', {})], [TextParagraph(0, 6, {'ml_en': '... ... ... ... the god ... ... ... ...'})])])"
      ]
     },
     "execution_count": 16,
     "metadata": {},
     "output_type": "execute_result"
    }
   ],
   "source": [
    "newly_translated_pubs[0]"
   ]
  },
  {
   "attachments": {},
   "cell_type": "markdown",
   "id": "f3ce1738",
   "metadata": {},
   "source": [
    "## Data Dimensions"
   ]
  },
  {
   "cell_type": "code",
   "execution_count": 17,
   "id": "9f2d4d13",
   "metadata": {},
   "outputs": [],
   "source": [
    "browser_dimensions = [\n",
    "#     (\"new\", lambda p: [\"new\" if p.has_new_translations else \"old\"]),\n",
    "#     (\"language\", lambda p: [p.language]),\n",
    "    (\"object_type\", lambda p: [cdli.get_object_type(p.object_type)]),\n",
    "    (\"genre\", lambda p: cdli.get_genres(p.genre)),\n",
    "    (\"period\", lambda p: [cdli.period_slug_from_period[x] for x in cdli.get_periods(p.period)]),\n",
    "]"
   ]
  },
  {
   "attachments": {},
   "cell_type": "markdown",
   "id": "ec4f988c",
   "metadata": {},
   "source": [
    "## HTML Components"
   ]
  },
  {
   "attachments": {},
   "cell_type": "markdown",
   "id": "8cdf4c54",
   "metadata": {},
   "source": [
    "## HTML Pages"
   ]
  },
  {
   "cell_type": "code",
   "execution_count": 18,
   "id": "8db67ff5",
   "metadata": {},
   "outputs": [],
   "source": [
    "def get_file_path(site_path):\n",
    "    return f\"{wwwroot}{site_path}\"\n",
    "\n",
    "def get_page_file_path(site_path):\n",
    "    return f\"{get_file_path(site_path)}.html\"\n",
    "    "
   ]
  },
  {
   "cell_type": "code",
   "execution_count": 19,
   "id": "ba8f429e",
   "metadata": {},
   "outputs": [],
   "source": [
    "def header(title, f):\n",
    "    f.write(f\"<DOCTYPE html>\\n\")\n",
    "    f.write(f\"<html>\\n<head>\\n\")\n",
    "    f.write(f\"<meta charset='utf-8'>\\n\")\n",
    "    f.write(f\"<title>{escape(title)}</title>\\n\")\n",
    "    f.write(f\"<meta name='viewport' content='width=device-width, initial-scale=1'>\\n\")\n",
    "    f.write(f\"<link rel='stylesheet' href='/main.css'>\\n\")\n",
    "    f.write(f\"</head>\\n\")\n",
    "    f.write(f\"<body>\\n<div class='content'><h1 id='page-title'>{escape(title)}</h1>\\n\")\n",
    "    \n",
    "def footer(f, script=None):\n",
    "    f.write(f\"</div>\\n\")\n",
    "    f.write(f\"<footer>\\n\")\n",
    "    f.write(f\"<p class='otitle'>ML Translations by <a href=\\\"https://huggingface.co/praeclarum/cuneiform\\\">praeclarum/cuneiform</a></p>\\n\")\n",
    "    f.write(f\"</footer>\\n\")\n",
    "    f.write(f\"<script src='/main.js'></script>\\n\")\n",
    "    if script is not None:\n",
    "        f.write(f\"<script>{script}</script>\\n\")\n",
    "    f.write(f\"</body>\\n</html>\")"
   ]
  },
  {
   "cell_type": "code",
   "execution_count": 20,
   "id": "bb66f0eb",
   "metadata": {},
   "outputs": [],
   "source": [
    "def start_page(path, title):\n",
    "    file_path = get_page_file_path(path)\n",
    "    file_dir = os.path.dirname(file_path)\n",
    "    os.makedirs(file_dir, exist_ok=True)\n",
    "    f = open(file_path, \"wt\")\n",
    "#     print(f\"Writing {path} at {file_path}\")\n",
    "    header(title, f)\n",
    "    return f\n",
    "\n",
    "def end_page(f):\n",
    "    footer(f)"
   ]
  },
  {
   "attachments": {},
   "cell_type": "markdown",
   "id": "59744f1f",
   "metadata": {},
   "source": [
    "### Publication Index Pages"
   ]
  },
  {
   "cell_type": "code",
   "execution_count": 21,
   "id": "6b8a546a",
   "metadata": {},
   "outputs": [],
   "source": [
    "data_links = [\n",
    "    (\"Oracc - Open Richly Annotated Cuneiform Corpus\", \"http://oracc.museum.upenn.edu\"),\n",
    "    (\"CDLI - Cuneiform Digital Library Initiative\", \"https://cdli.ucla.edu\"),\n",
    "    (\"ETCSL - Electronic Text Corpus of Sumerian Literature\", \"https://etcsl.orinst.ox.ac.uk\"),\n",
    "]"
   ]
  },
  {
   "cell_type": "code",
   "execution_count": 22,
   "id": "cfc8f984",
   "metadata": {},
   "outputs": [],
   "source": [
    "language_sort = {\n",
    "    \"akk\": 0,\n",
    "#     \"akkts\": 1,\n",
    "#     \"elx\": 2,\n",
    "#     \"elxts\": 3,\n",
    "    \"sux\": 4,\n",
    "#     \"suxts\": 5,\n",
    "    \"ml_en\": 100,\n",
    "    \"en\": 1000,\n",
    "#     \"fr\": 1001,\n",
    "}\n",
    "\n",
    "bad_translators = {\"uncertain\", \"NaN\", \"no translation\", \"\", \"check\"}"
   ]
  },
  {
   "cell_type": "code",
   "execution_count": 23,
   "id": "109c8207",
   "metadata": {},
   "outputs": [],
   "source": [
    "def paragraph_lines_to_html(a, paragraphs, text_lines):\n",
    "    html = []\n",
    "    for pi, plines in enumerate(paragraphs):\n",
    "        p = a.paragraphs[pi]\n",
    "        tag = p.tag\n",
    "        html.append(f\"<{tag}>\")\n",
    "        for line_start_index, line_end_index, text in plines:\n",
    "            for i in range(line_start_index, line_end_index):\n",
    "                if i >= len(text_lines):\n",
    "                    continue\n",
    "                html.append(f\"<span class='line line-{i}'>{escape(text_lines[i])}</span>\\n\")\n",
    "        html.append(f\"</{tag}>\\n\")\n",
    "    return \"\".join(html)\n",
    "\n",
    "def paragraphs_to_html(a, paragraphs, lang):\n",
    "    html = []\n",
    "    for pi, plines in enumerate(paragraphs):\n",
    "        p = a.paragraphs[pi]\n",
    "        tag = p.tag\n",
    "        html.append(f\"<{tag}>\")\n",
    "        line_index = plines[0][0] if len(plines) > 0 else 0\n",
    "        html.append(f\"<span class='line line-{line_index}'>{escape(p.languages[lang])}</span>\\n\")\n",
    "        html.append(f\"</{tag}>\\n\")\n",
    "    return \"\".join(html)\n",
    "\n",
    "def title_case(str):\n",
    "    if len(str) == 0:\n",
    "        return str\n",
    "    if len(str) == 1:\n",
    "        return str.upper()\n",
    "    return str[0].upper() + str[1:]\n",
    "\n",
    "def output_pub(p, f):\n",
    "    f.write(f\"<h1 class='otitle'>{p.id}: {' and '.join(cdli.get_genres(p.genre))} {cdli.get_object_type(p.object_type)}</h1>\\n\")\n",
    "    src_a = \"\"\n",
    "    if p.corpus == \"cdli\":\n",
    "        src_a = f\"<a href='https://cdli.ucla.edu/search/archival_view.php?ObjectID={p.id}'>CDLI</a>\"\n",
    "    elif p.corpus == \"oracc\":\n",
    "        src_a = f\"<a href='{p.src_url}'>Oracc</a>\"\n",
    "    f.write(f\"<p class='otitle'>{p.period} {src_a}</p>\\n\")\n",
    "    areas_with_paras = [x for x in p.text_areas if len(x.lines) > 0 and len(x.paragraphs) > 0 and len(x.lines[0].text) > 0]\n",
    "    for a in areas_with_paras:\n",
    "        f.write(f\"<section class='textarea'>\\n\")\n",
    "        if len(areas_with_paras) > 1:\n",
    "            f.write(f\"<h1>{escape(title_case(a.name))}</h1>\\n\")\n",
    "        f.write(f\"<div class='translations-container'>\\n\")\n",
    "        paragraphs = a.paragraphs_to_lines()\n",
    "        texts = {p.language: paragraph_lines_to_html(a, paragraphs, [l.text for l in a.lines])}\n",
    "        langs = set()\n",
    "        for para in a.paragraphs:\n",
    "            for lang in para.languages:\n",
    "                if lang in language_sort:\n",
    "                    langs.add(lang)\n",
    "        for lang in langs:\n",
    "            texts[lang] = paragraphs_to_html(a, paragraphs, lang)\n",
    "        langs.add(p.language)\n",
    "#             f.write(f\"<p><pre>{escape(repr(paragraphs))}</pre></p> \")\n",
    "#             if \"akkts\" in langs and \"akk\" in langs:\n",
    "#                 langs.remove(\"akk\")\n",
    "#             if \"suxts\" in langs and \"sux\" in langs:\n",
    "#                 langs.remove(\"sux\")\n",
    "        langs = sorted(list(langs), key=lambda x:language_sort[x])\n",
    "        for lang in langs:\n",
    "            f.write(f\"<div class='lang-{lang} text'>\\n\")\n",
    "            translator = \"ML Translation\" if lang.startswith(\"ml_\") else (languages.all_languages[lang])\n",
    "            if lang == tgt_lang:\n",
    "                if p.translation_source is not None and p.translation_source not in bad_translators:\n",
    "                    translator = escape(p.translation_source)\n",
    "                else:\n",
    "                    translator = \"Unknown\"\n",
    "            f.write(f\"<div class='langid'>{translator}</div>\\n\")\n",
    "            f.write(texts[lang])\n",
    "            f.write(f\"</div>\\n\")\n",
    "        f.write(f\"</div></section>\\n\")"
   ]
  },
  {
   "cell_type": "code",
   "execution_count": 24,
   "id": "2e67923b",
   "metadata": {},
   "outputs": [
    {
     "data": {
      "application/json": {
       "ascii": false,
       "bar_format": null,
       "colour": null,
       "elapsed": 0.007931947708129883,
       "initial": 0,
       "n": 0,
       "ncols": null,
       "nrows": null,
       "postfix": null,
       "prefix": "",
       "rate": null,
       "total": 380,
       "unit": "it",
       "unit_divisor": 1000,
       "unit_scale": false
      },
      "application/vnd.jupyter.widget-view+json": {
       "model_id": "c50aeadf68484d4ea8336bb7fe16c4ce",
       "version_major": 2,
       "version_minor": 0
      },
      "text/plain": [
       "  0%|          | 0/380 [00:00<?, ?it/s]"
      ]
     },
     "metadata": {},
     "output_type": "display_data"
    }
   ],
   "source": [
    "for pdir in tqdm(sorted(list(all_pubs_by_dir.keys()))):\n",
    "    pubs = sorted(all_pubs_by_dir[pdir], key=lambda p:p.id)\n",
    "    with start_page(f\"/p/{pdir}\", pdir) as f:\n",
    "        for p in pubs:\n",
    "            f.write(f\"<section id='{p.id}' class='pub'>\\n\")\n",
    "            output_pub(p, f)\n",
    "            f.write(f\"</section>\\n\")\n",
    "        end_page(f)"
   ]
  },
  {
   "cell_type": "code",
   "execution_count": null,
   "id": "f1ed5050",
   "metadata": {},
   "outputs": [],
   "source": []
  },
  {
   "cell_type": "code",
   "execution_count": null,
   "id": "fa1f48c5",
   "metadata": {},
   "outputs": [],
   "source": []
  },
  {
   "cell_type": "code",
   "execution_count": 25,
   "id": "f1d6dac7",
   "metadata": {},
   "outputs": [],
   "source": [
    "def output_browser(path, pubs, ignore_dims, f):\n",
    "    next_pages = []\n",
    "    if len(pubs) == 0:\n",
    "        return next_pages\n",
    "    f.write(f\"<section>\\n\")\n",
    "    for dname, dselect in browser_dimensions:\n",
    "        if dname in ignore_dims:\n",
    "            continue\n",
    "        vgroups = defaultdict(lambda: [])\n",
    "        for p in pubs:\n",
    "            for v in dselect(p):\n",
    "                vgroups[v].append(p)\n",
    "        if len(vgroups) < 2:\n",
    "            continue\n",
    "        f.write(f\"<h1>{escape(dname)}</h1>\\n\")    \n",
    "        for gv in vgroups.keys():\n",
    "            gpubs = vgroups[gv]\n",
    "            if len(gpubs) > 0:\n",
    "                next_pages.append((dname, gv, gpubs))\n",
    "                f.write(f\"<a href='{path}/{gv}/'>{len(gpubs):,} {escape(gv)}</a>\\n\")\n",
    "    f.write(f\"</section>\\n\")\n",
    "    f.write(f\"<section>\\n\")\n",
    "    max_on_page = 200\n",
    "    if len(pubs) <= max_on_page or len(next_pages) == 0:\n",
    "        for p in pubs:\n",
    "            output_pub(p, f)        \n",
    "    else:\n",
    "        f.write(f\"<p>{len(pubs):,} publications. Narrow the list to less than {max_on_page:,} by choosing links above.</p>\\n\")\n",
    "    f.write(f\"</section>\\n\")\n",
    "    return next_pages\n",
    "\n",
    "def output_browser_page(path, dim_value, pubs, ignore_dims):\n",
    "    with start_page(path + \"/index\", f\"{len(pubs)} {escape(dim_value)}\") as f:\n",
    "        next_pages = output_browser(path, pubs, ignore_dims, f)\n",
    "        end_page(f)\n",
    "    for gk, gv, gpubs in next_pages:\n",
    "        ignores = set(ignore_dims)\n",
    "        ignores.add(gk)\n",
    "        output_browser_page(f\"{path}/{gv}\", gv, gpubs, ignores)\n"
   ]
  },
  {
   "cell_type": "code",
   "execution_count": 26,
   "id": "fe126897",
   "metadata": {},
   "outputs": [],
   "source": [
    "os.makedirs(f\"{wwwroot}/fonts\", exist_ok=True)\n",
    "for font in glob.glob(\"../fonts/*.woff\"):\n",
    "    shutil.copy2(font, f\"{wwwroot}/fonts/{os.path.basename(font)}\")"
   ]
  },
  {
   "cell_type": "code",
   "execution_count": 27,
   "id": "11643981",
   "metadata": {},
   "outputs": [
    {
     "data": {
      "text/plain": [
       "{'akk': 'Akkadian',\n",
       " 'sux': 'Sumerian',\n",
       " 'qpn': 'Proper Nouns',\n",
       " 'arc': 'Aramaic',\n",
       " 'elx': 'Elamite',\n",
       " 'grc': 'Greek',\n",
       " 'peo': 'Old Persian',\n",
       " 'ug': 'Ugaritic',\n",
       " 'xur': 'Urartian'}"
      ]
     },
     "execution_count": 27,
     "metadata": {},
     "output_type": "execute_result"
    }
   ],
   "source": [
    "languages.old_languages"
   ]
  },
  {
   "cell_type": "code",
   "execution_count": 28,
   "id": "f22c3608",
   "metadata": {},
   "outputs": [
    {
     "data": {
      "text/plain": [
       "'𒆠 𒈾lu5𒋫 𒌨nigar{𒃻} szu 𒁀𒋾 iti maszda3gu7 𒈬 us2𒊓 𒆠masz{𒆠} 𒁀hul'"
      ]
     },
     "execution_count": 28,
     "metadata": {},
     "output_type": "execute_result"
    }
   ],
   "source": [
    "languages.cuneiform_text_to_unicode(\"ki na-lu5-ta ur-nigar{gar} szu ba-ti iti masz-da3-gu7 mu us2-sa ki-masz{ki} ba-hul\", \"sux\")"
   ]
  },
  {
   "cell_type": "code",
   "execution_count": 29,
   "id": "5b9b85f6",
   "metadata": {},
   "outputs": [
    {
     "data": {
      "text/plain": [
       "'iti'"
      ]
     },
     "execution_count": 29,
     "metadata": {},
     "output_type": "execute_result"
    }
   ],
   "source": [
    "languages.cuneiform_text_to_unicode(\"iti\", \"sux\")"
   ]
  },
  {
   "cell_type": "code",
   "execution_count": 30,
   "id": "52fbff9a",
   "metadata": {},
   "outputs": [],
   "source": [
    "#!rm -r /Users/fak/Dropbox/Projects/CuneiformTranslators/dist"
   ]
  },
  {
   "cell_type": "code",
   "execution_count": 31,
   "id": "0574a949",
   "metadata": {},
   "outputs": [],
   "source": [
    "with start_page(\"/404\", \"Not Found\") as f:\n",
    "    f.write(f\"<p>The page you are looking for is not here.</p>\\n\")\n",
    "    footer(f)\n"
   ]
  },
  {
   "cell_type": "code",
   "execution_count": 32,
   "id": "3a60486b",
   "metadata": {},
   "outputs": [
    {
     "data": {
      "text/plain": [
       "'/Users/fak/Dropbox/Projects/CuneiformTranslators/dist/main.js'"
      ]
     },
     "execution_count": 32,
     "metadata": {},
     "output_type": "execute_result"
    }
   ],
   "source": [
    "shutil.copy(\"../web/translator.html\", f\"{wwwroot}/translator.html\")\n",
    "shutil.copy(\"../web/main.css\", f\"{wwwroot}/main.css\")\n",
    "shutil.copy(\"../web/main.js\", f\"{wwwroot}/main.js\")"
   ]
  },
  {
   "cell_type": "code",
   "execution_count": 33,
   "id": "50fcb7cd",
   "metadata": {},
   "outputs": [],
   "source": [
    "with start_page(\"/browse\", \"Browse\") as f:\n",
    "    f.write(f\"<div id='browser'></div>\\n\")\n",
    "    script = \"\"\"\n",
    "    // get the q query parameter\n",
    "    const q = new URLSearchParams(window.location.search).get('q');\n",
    "    if (q) {\n",
    "    document.title = 'Browse ' + q;\n",
    "    document.getElementById('page-title').innerText = 'Browse ' + q;\n",
    "    (async function() { await createPublicationBrowserAsync(document.getElementById('browser'), '/i/'+q+'.json'); })();\n",
    "    }\"\"\"\n",
    "    footer(f, script=script)\n",
    "\n"
   ]
  },
  {
   "cell_type": "code",
   "execution_count": null,
   "id": "b71e94c1",
   "metadata": {},
   "outputs": [],
   "source": []
  },
  {
   "cell_type": "code",
   "execution_count": 34,
   "id": "b54ec692",
   "metadata": {
    "scrolled": false
   },
   "outputs": [
    {
     "name": "stdout",
     "output_type": "stream",
     "text": [
      "Writing /\n"
     ]
    },
    {
     "data": {
      "application/json": {
       "ascii": false,
       "bar_format": null,
       "colour": null,
       "elapsed": 0.007376194000244141,
       "initial": 0,
       "n": 0,
       "ncols": null,
       "nrows": null,
       "postfix": null,
       "prefix": "",
       "rate": null,
       "total": 64,
       "unit": "it",
       "unit_divisor": 1000,
       "unit_scale": false
      },
      "application/vnd.jupyter.widget-view+json": {
       "model_id": "b616e9bdccca4a448be101ae361c5347",
       "version_major": 2,
       "version_minor": 0
      },
      "text/plain": [
       "  0%|          | 0/64 [00:00<?, ?it/s]"
      ]
     },
     "metadata": {},
     "output_type": "display_data"
    },
    {
     "name": "stdout",
     "output_type": "stream",
     "text": [
      "../dist/akk\n",
      "../dist/omen\n",
      "../dist/other-genre\n",
      "../dist/tablet\n",
      "../dist/administrative record\n",
      "../dist/uruk-iii\n",
      "../dist/index.html\n",
      "../dist/lexical\n",
      "../dist/uncertain\n",
      "../dist/parthian\n",
      "../dist/browse.html\n",
      "../dist/hellenistic\n",
      "../dist/ur-iii\n",
      "../dist/barrel\n",
      "../dist/private-votive\n",
      "../dist/old-akkadian\n",
      "../dist/prism\n",
      "../dist/404.html\n",
      "../dist/cone\n",
      "../dist/ed-i-ii\n",
      "../dist/letter\n",
      "../dist/other-period\n",
      "../dist/neo-elamite\n",
      "../dist/main.css\n",
      "../dist/early-neo-babylonian\n",
      "../dist/old-babylonian\n",
      "../dist/ed-iiib\n",
      "../dist/seal\n",
      "../dist/vase\n",
      "../dist/other-object\n",
      "../dist/neo-babylonian\n",
      "../dist/astronomical\n",
      "../dist/early-old-babylonian\n",
      "../dist/bulla\n",
      "../dist/neo-assyrian\n",
      "../dist/old-assyrian\n",
      "../dist/main.js\n",
      "../dist/historical\n",
      "../dist/envelope\n",
      "../dist/achaemenid\n",
      "../dist/ebla\n",
      "../dist/sux\n",
      "../dist/translator.html\n",
      "../dist/administrative\n",
      "../dist/middle-assyrian\n",
      "../dist/uruk-iv\n",
      "../dist/brick\n",
      "../dist/seleucid\n",
      "../dist/medical\n",
      "../dist/vessel\n",
      "../dist/lentil\n",
      "../dist/sealing\n",
      "../dist/ritual\n",
      "../dist/royal-monumental\n",
      "../dist/mathematical\n",
      "../dist/prayer-incantation\n",
      "../dist/fake\n",
      "../dist/middle-babylonian\n",
      "../dist/lagash-ii\n",
      "../dist/legal\n",
      "../dist/middle-hittite\n",
      "../dist/fonts\n",
      "../dist/school\n",
      "../dist/cylinder\n",
      "../dist/tag\n",
      "../dist/middle-elamite\n",
      "../dist/block\n",
      "../dist/p\n",
      "../dist/literary\n",
      "../dist/scientific\n",
      "../dist/ed-iiia\n"
     ]
    }
   ],
   "source": [
    "importlib.reload(cdli)\n",
    "print(\"Writing /\")\n",
    "with start_page(\"/index\", \"AI Cuneiform Translation Corpus\") as f:\n",
    "    f.write(f\"<p>The Largest Online Corpus of Translated Cuneiform Texts</p>\\n\")\n",
    "    # f.write(f\"<a href='/translator'>Online Translator!</a>\")\n",
    "#     pubs = [p for p in output_pubs if p.id>393000 and p.id<394000]\n",
    "    by_lang = defaultdict(lambda: [])\n",
    "    for p in all_pubs.values():\n",
    "        by_lang[p.language].append(p)\n",
    "    next_pages = []\n",
    "    f.write(f\"<nav>\\n\")\n",
    "    f.write(f\"<ul>\\n\")\n",
    "    f.write(f\"<li>{len(all_pubs):,} publications</li>\\n\")\n",
    "    for lang in sorted(list(by_lang.keys())):\n",
    "        gpubs = by_lang[lang]\n",
    "        # f.write(f\"<li><a href='browse.html?q={lang}'>{len(gpubs):,} {escape(lang)}</a></li>\\n\")\n",
    "        f.write(f\"<li><a href='/{lang}/'>{len(gpubs):,} {escape(lang)}</a></li>\\n\")\n",
    "        next_pages.append((\"language\", lang, gpubs))\n",
    "    f.write(f\"</nav>\\n\")\n",
    "    next_pages.extend(output_browser(\"\", list(all_pubs.values()), \"\", f))\n",
    "    footer(f)\n",
    "    \n",
    "for gk, gv, gpubs in tqdm(next_pages):\n",
    "    output_browser_page(f\"/{gv}\", gv, gpubs, set([gk]))\n",
    "    pass\n",
    "    \n",
    "for f in glob.glob(\"../dist/*\"):\n",
    "    print(f)"
   ]
  },
  {
   "cell_type": "code",
   "execution_count": null,
   "id": "2de62125",
   "metadata": {},
   "outputs": [],
   "source": []
  },
  {
   "cell_type": "code",
   "execution_count": null,
   "id": "ad953753",
   "metadata": {},
   "outputs": [],
   "source": []
  },
  {
   "cell_type": "code",
   "execution_count": null,
   "id": "0cd7b02b",
   "metadata": {},
   "outputs": [],
   "source": []
  },
  {
   "cell_type": "code",
   "execution_count": null,
   "id": "a4af7efe",
   "metadata": {},
   "outputs": [],
   "source": []
  },
  {
   "cell_type": "code",
   "execution_count": null,
   "id": "bad79482",
   "metadata": {},
   "outputs": [],
   "source": []
  },
  {
   "cell_type": "code",
   "execution_count": null,
   "id": "3411758e",
   "metadata": {},
   "outputs": [],
   "source": []
  },
  {
   "cell_type": "code",
   "execution_count": null,
   "id": "29fe8d60",
   "metadata": {},
   "outputs": [],
   "source": []
  }
 ],
 "metadata": {
  "kernelspec": {
   "display_name": "Python 3 (ipykernel)",
   "language": "python",
   "name": "python3"
  },
  "language_info": {
   "codemirror_mode": {
    "name": "ipython",
    "version": 3
   },
   "file_extension": ".py",
   "mimetype": "text/x-python",
   "name": "python",
   "nbconvert_exporter": "python",
   "pygments_lexer": "ipython3",
   "version": "3.9.4"
  }
 },
 "nbformat": 4,
 "nbformat_minor": 5
}
